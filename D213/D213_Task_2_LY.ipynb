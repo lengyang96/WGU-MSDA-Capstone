{
 "cells": [
  {
   "cell_type": "markdown",
   "id": "49ea3961-79a2-4989-898d-686618087c4f",
   "metadata": {},
   "source": [
    "# D213: Advanced Data Analytics - Task 2\n",
    "***"
   ]
  },
  {
   "cell_type": "markdown",
   "id": "705242a5-58e1-416e-b5f1-08dd8311091c",
   "metadata": {
    "tags": []
   },
   "source": [
    "### By: Leng Yang\n",
    "### Student ID: 012298452\n",
    "### Date: October 18, 2024\n",
    "***\n",
    "<br>\n",
    "<br>\n",
    "<br>"
   ]
  },
  {
   "cell_type": "markdown",
   "id": "2c36dae8-93df-4293-b7b2-8e075205a6ab",
   "metadata": {
    "tags": []
   },
   "source": [
    "## Table of Contents\n",
    "* [A1. Research Question](#A1)\n",
    "* [A2. Objectives or Goals](#A2)\n",
    "* [A3. Prescribed Network](#A3)\n",
    "* [B1. Data Exploration](#B1)\n",
    "* [B2. Tokenization](#B2)\n",
    "* [B3. Padding Process](#B3)\n",
    "* [B4. Categories of Sentiment](#B4)\n",
    "* [B5. Steps to Prepare the Data](#B5)\n",
    "* [B6. Prepared Data Set](#B6)\n",
    "* [C1. Model Summary](#C1)\n",
    "* [C2. Network Architecture](#C2)\n",
    "* [C3. Hyperparameters](#C3)\n",
    "* [D1. Stopping Criteria](#D1)\n",
    "* [D2. Fitness](#D2)\n",
    "* [D3. Training Process](#D3)\n",
    "* [D4. Predictive Accuracy](#D4)\n",
    "* [E. Code](#E)\n",
    "* [F. Functionality](#F)\n",
    "* [G. Recommendations](#G)\n",
    "* [H. Reporting](#H)\n",
    "* [I. Sources for Third-Party Code](#I)\n",
    "* [J. Sources](#J)"
   ]
  },
  {
   "cell_type": "markdown",
   "id": "61042f26-3898-49a6-abe4-bda0253af217",
   "metadata": {},
   "source": [
    "<BR>"
   ]
  },
  {
   "cell_type": "markdown",
   "id": "83e0172b-1094-40bd-92e2-b4c9aa573b63",
   "metadata": {},
   "source": [
    "<BR>"
   ]
  },
  {
   "cell_type": "markdown",
   "id": "d816ef21-c261-490b-a3b8-b60695f53bbe",
   "metadata": {},
   "source": [
    "<BR>"
   ]
  },
  {
   "cell_type": "markdown",
   "id": "cd4bb750-3078-403b-9f04-29024a67e285",
   "metadata": {},
   "source": [
    "<BR>"
   ]
  },
  {
   "cell_type": "markdown",
   "id": "cd6526b9-0917-49ba-8007-46aa8e8675db",
   "metadata": {
    "tags": []
   },
   "source": [
    "## A1. Research Question <a class=\"anchor\" id=\"A1\"></a>"
   ]
  },
  {
   "cell_type": "markdown",
   "id": "1deaf2d5-ce45-4476-b2c1-9de07a10ba6e",
   "metadata": {},
   "source": [
    "Can sentiment analysis be used on previous Amazon product reviews to predict positive or negative user opinions on products and services?"
   ]
  },
  {
   "cell_type": "markdown",
   "id": "eefc3226-d9c1-497a-bd1d-22dbe3873e2a",
   "metadata": {},
   "source": [
    "<BR>"
   ]
  },
  {
   "cell_type": "markdown",
   "id": "41cf42e6-5fa0-4ee5-b8f0-a32e583c8c8c",
   "metadata": {},
   "source": [
    "## A2. Objectives or Goals <a class=\"anchor\" id=\"A2\"></a>"
   ]
  },
  {
   "cell_type": "markdown",
   "id": "b57db112-2f23-4481-81fc-57ee66c30239",
   "metadata": {},
   "source": [
    "This analysis uses a sentiment analysis technique to look at previous user reviews of Amazon products and predict future or unseen reviews as positive or negative. Since this is a classification problem, the aim is to generate a model with high predictive accuracy. This analysis would create an automated process to label reviews and thus would increase the speed at which the company can understand how its products are valued. With such information, the company can appropriately deal with any concerns."
   ]
  },
  {
   "cell_type": "markdown",
   "id": "6b65e1d8-2a13-4797-8fa4-f54e0f75eb7d",
   "metadata": {},
   "source": [
    "<BR>"
   ]
  },
  {
   "cell_type": "markdown",
   "id": "5b7a0673-a890-45c6-87da-2819ed027837",
   "metadata": {},
   "source": [
    "## A3. Prescribed Network <a class=\"anchor\" id=\"A3\"></a>"
   ]
  },
  {
   "cell_type": "markdown",
   "id": "54feba93-b025-44a4-854b-a9b16df82688",
   "metadata": {},
   "source": [
    "A type of neural network useful for text classification is a recurrent neural network (RNN). This type of neural network is beneficial as it can capture sequential dependencies in data, such as the semantics that go into language and writing, which is something that more simple neural networks, such as feedforward neural networks, fail to achieve (GeeksforGeeks, 2024)."
   ]
  },
  {
   "cell_type": "markdown",
   "id": "9f6464d7-3aaf-495d-ab80-82429247b316",
   "metadata": {},
   "source": [
    "<BR>"
   ]
  },
  {
   "cell_type": "markdown",
   "id": "8fab6f20-7096-4fdc-808b-1db40d8d9234",
   "metadata": {},
   "source": [
    "## B1. Data Exploration <a class=\"anchor\" id=\"B1\"></a>"
   ]
  },
  {
   "cell_type": "code",
   "execution_count": 19,
   "id": "3327d43f-cd4d-46f5-975a-2537e55ce65e",
   "metadata": {
    "tags": []
   },
   "outputs": [
    {
     "data": {
      "text/html": [
       "<div>\n",
       "<style scoped>\n",
       "    .dataframe tbody tr th:only-of-type {\n",
       "        vertical-align: middle;\n",
       "    }\n",
       "\n",
       "    .dataframe tbody tr th {\n",
       "        vertical-align: top;\n",
       "    }\n",
       "\n",
       "    .dataframe thead th {\n",
       "        text-align: right;\n",
       "    }\n",
       "</style>\n",
       "<table border=\"1\" class=\"dataframe\">\n",
       "  <thead>\n",
       "    <tr style=\"text-align: right;\">\n",
       "      <th></th>\n",
       "      <th>review</th>\n",
       "      <th>label</th>\n",
       "    </tr>\n",
       "  </thead>\n",
       "  <tbody>\n",
       "    <tr>\n",
       "      <th>0</th>\n",
       "      <td>So there is no way for me to plug it in here in the US unless I go by a converter.</td>\n",
       "      <td>0</td>\n",
       "    </tr>\n",
       "    <tr>\n",
       "      <th>1</th>\n",
       "      <td>Good case, Excellent value.</td>\n",
       "      <td>1</td>\n",
       "    </tr>\n",
       "    <tr>\n",
       "      <th>2</th>\n",
       "      <td>Great for the jawbone.</td>\n",
       "      <td>1</td>\n",
       "    </tr>\n",
       "    <tr>\n",
       "      <th>3</th>\n",
       "      <td>Tied to charger for conversations lasting more than 45 minutes.MAJOR PROBLEMS!!</td>\n",
       "      <td>0</td>\n",
       "    </tr>\n",
       "    <tr>\n",
       "      <th>4</th>\n",
       "      <td>The mic is great.</td>\n",
       "      <td>1</td>\n",
       "    </tr>\n",
       "  </tbody>\n",
       "</table>\n",
       "</div>"
      ],
      "text/plain": [
       "                                                                               review  \\\n",
       "0  So there is no way for me to plug it in here in the US unless I go by a converter.   \n",
       "1                                                         Good case, Excellent value.   \n",
       "2                                                              Great for the jawbone.   \n",
       "3     Tied to charger for conversations lasting more than 45 minutes.MAJOR PROBLEMS!!   \n",
       "4                                                                   The mic is great.   \n",
       "\n",
       "   label  \n",
       "0      0  \n",
       "1      1  \n",
       "2      1  \n",
       "3      0  \n",
       "4      1  "
      ]
     },
     "execution_count": 19,
     "metadata": {},
     "output_type": "execute_result"
    }
   ],
   "source": [
    "#Load in common analytical packages\n",
    "import pandas as pd\n",
    "import numpy as np\n",
    "import matplotlib.pyplot as plt\n",
    "\n",
    "import warnings\n",
    "warnings.filterwarnings('ignore')\n",
    "pd.set_option('display.max_colwidth', None)\n",
    "\n",
    "#Read in file into dataframe\n",
    "df = pd.read_csv('./sentiment labelled sentences/amazon_cells_labelled.txt', sep='\\t', header=None, names=['review', 'label'])\n",
    "#Check first five entries\n",
    "df.head()"
   ]
  },
  {
   "cell_type": "code",
   "execution_count": 20,
   "id": "bc307623-fe19-468f-9bcf-fd3ee95f1795",
   "metadata": {
    "tags": []
   },
   "outputs": [
    {
     "name": "stdout",
     "output_type": "stream",
     "text": [
      "<class 'pandas.core.frame.DataFrame'>\n",
      "RangeIndex: 1000 entries, 0 to 999\n",
      "Data columns (total 2 columns):\n",
      " #   Column  Non-Null Count  Dtype \n",
      "---  ------  --------------  ----- \n",
      " 0   review  1000 non-null   object\n",
      " 1   label   1000 non-null   int64 \n",
      "dtypes: int64(1), object(1)\n",
      "memory usage: 15.8+ KB\n"
     ]
    }
   ],
   "source": [
    "#Check dataframe info and any missing values -- none present\n",
    "df.info()"
   ]
  },
  {
   "cell_type": "markdown",
   "id": "c23a8283-846f-4785-bdc9-8a30f829ad95",
   "metadata": {},
   "source": [
    "### Presence of unusual characters (e.g., emojis, non-English characters)\n",
    "\n",
    "A check of the characters present in all reviews was performed. The review contained alphabet letters, both lowercase and uppercase and numbers. Punctuation marks and special characters were also seen, such as: `!`, `\"`, `#`, `%`, `&`, `*`, `+`, `/`, and so on. Below is an output of all characters captured in the reviews."
   ]
  },
  {
   "cell_type": "code",
   "execution_count": 22,
   "id": "0ee202ac-636a-406a-bbe7-fe630cf7f5ca",
   "metadata": {
    "tags": []
   },
   "outputs": [
    {
     "name": "stdout",
     "output_type": "stream",
     "text": [
      "[' ', '!', '\"', '#', '$', '%', '&', \"'\", '(', ')', '*', '+', ',', '-', '.', '/', '0', '1', '2', '3', '4', '5', '6', '7', '8', '9', ':', ';', '?', 'A', 'B', 'C', 'D', 'E', 'F', 'G', 'H', 'I', 'J', 'K', 'L', 'M', 'N', 'O', 'P', 'Q', 'R', 'S', 'T', 'U', 'V', 'W', 'X', 'Y', 'Z', '[', ']', 'a', 'b', 'c', 'd', 'e', 'f', 'g', 'h', 'i', 'j', 'k', 'l', 'm', 'n', 'o', 'p', 'q', 'r', 's', 't', 'u', 'v', 'w', 'x', 'y', 'z']\n"
     ]
    }
   ],
   "source": [
    "#Check for all characters present in reviews\n",
    "char_list = []\n",
    "for review in df.review:\n",
    "    for char in review:\n",
    "        if char not in char_list:\n",
    "            char_list.append(char)\n",
    "char_list.sort()\n",
    "print(char_list)"
   ]
  },
  {
   "cell_type": "markdown",
   "id": "3d11d63f-3423-45ce-9c9e-320a620de914",
   "metadata": {},
   "source": [
    "### Vocabulary size\n",
    "\n",
    "The vocabulary size was determined after the data had been cleaned. This cleaning process involved removing numbers, punctuations, special characters, and extra white space. After that, the natural language toolkit's (`nltk`) `stopwords` module was loaded to remove any words without practical meaning. This was done to reduce the input vector so that the model training process can be completed faster and more efficiently. Once that was complete, the reviews were tokenized, and then the vocabulary size was calculated, which resulted in a size of 1684."
   ]
  },
  {
   "cell_type": "code",
   "execution_count": 25,
   "id": "c3ec4f4f-f24b-47b3-87d0-d918a4395087",
   "metadata": {},
   "outputs": [],
   "source": [
    "#Import packages for cleaning\n",
    "import re\n",
    "from nltk.corpus import stopwords\n",
    "from nltk.tokenize import word_tokenize\n",
    "\n",
    "#Create set of English stop words and empty list to hold tokenized reviews\n",
    "stop_words = set(stopwords.words('english'))\n",
    "reviews_list = []\n",
    "\n",
    "#Removing unusual characters\n",
    "for review in df.review:\n",
    "    #Remove numbers, punctuations, and special characters\n",
    "    review = re.sub('[^a-zA-Z]', ' ', review)\n",
    "    \n",
    "    #Remove single characters\n",
    "    review = re.sub(r\"\\s+[a-zA-Z]\\s+\", ' ', review)\n",
    "    \n",
    "    #Remove extra white space\n",
    "    review = re.sub(r\"\\s+\", ' ', review)\n",
    "    \n",
    "    #Convert to lowercase\n",
    "    review = review.lower()\n",
    "    \n",
    "    #Tokenize review, remove Stop Words from review, and append to reviews list\n",
    "    reviews_list.append([word for word in word_tokenize(review) if word not in stop_words])\n",
    "    \n",
    "#Place transformed and tokenized reviews into dataframe\n",
    "df['tokenized'] = reviews_list"
   ]
  },
  {
   "cell_type": "code",
   "execution_count": 26,
   "id": "a2d4e503-1606-4d2c-af08-757457e3f397",
   "metadata": {},
   "outputs": [
    {
     "data": {
      "text/html": [
       "<div>\n",
       "<style scoped>\n",
       "    .dataframe tbody tr th:only-of-type {\n",
       "        vertical-align: middle;\n",
       "    }\n",
       "\n",
       "    .dataframe tbody tr th {\n",
       "        vertical-align: top;\n",
       "    }\n",
       "\n",
       "    .dataframe thead th {\n",
       "        text-align: right;\n",
       "    }\n",
       "</style>\n",
       "<table border=\"1\" class=\"dataframe\">\n",
       "  <thead>\n",
       "    <tr style=\"text-align: right;\">\n",
       "      <th></th>\n",
       "      <th>review</th>\n",
       "      <th>label</th>\n",
       "      <th>tokenized</th>\n",
       "    </tr>\n",
       "  </thead>\n",
       "  <tbody>\n",
       "    <tr>\n",
       "      <th>0</th>\n",
       "      <td>So there is no way for me to plug it in here in the US unless I go by a converter.</td>\n",
       "      <td>0</td>\n",
       "      <td>[way, plug, us, unless, go, converter]</td>\n",
       "    </tr>\n",
       "    <tr>\n",
       "      <th>1</th>\n",
       "      <td>Good case, Excellent value.</td>\n",
       "      <td>1</td>\n",
       "      <td>[good, case, excellent, value]</td>\n",
       "    </tr>\n",
       "    <tr>\n",
       "      <th>2</th>\n",
       "      <td>Great for the jawbone.</td>\n",
       "      <td>1</td>\n",
       "      <td>[great, jawbone]</td>\n",
       "    </tr>\n",
       "    <tr>\n",
       "      <th>3</th>\n",
       "      <td>Tied to charger for conversations lasting more than 45 minutes.MAJOR PROBLEMS!!</td>\n",
       "      <td>0</td>\n",
       "      <td>[tied, charger, conversations, lasting, minutes, major, problems]</td>\n",
       "    </tr>\n",
       "    <tr>\n",
       "      <th>4</th>\n",
       "      <td>The mic is great.</td>\n",
       "      <td>1</td>\n",
       "      <td>[mic, great]</td>\n",
       "    </tr>\n",
       "  </tbody>\n",
       "</table>\n",
       "</div>"
      ],
      "text/plain": [
       "                                                                               review  \\\n",
       "0  So there is no way for me to plug it in here in the US unless I go by a converter.   \n",
       "1                                                         Good case, Excellent value.   \n",
       "2                                                              Great for the jawbone.   \n",
       "3     Tied to charger for conversations lasting more than 45 minutes.MAJOR PROBLEMS!!   \n",
       "4                                                                   The mic is great.   \n",
       "\n",
       "   label                                                          tokenized  \n",
       "0      0                             [way, plug, us, unless, go, converter]  \n",
       "1      1                                     [good, case, excellent, value]  \n",
       "2      1                                                   [great, jawbone]  \n",
       "3      0  [tied, charger, conversations, lasting, minutes, major, problems]  \n",
       "4      1                                                       [mic, great]  "
      ]
     },
     "execution_count": 26,
     "metadata": {},
     "output_type": "execute_result"
    }
   ],
   "source": [
    "#Display of review vs tokenized review\n",
    "df.head()"
   ]
  },
  {
   "cell_type": "code",
   "execution_count": 27,
   "id": "9cfbdb3d-be41-44db-a2ef-da34d3995ca1",
   "metadata": {},
   "outputs": [
    {
     "data": {
      "text/plain": [
       "1684"
      ]
     },
     "execution_count": 27,
     "metadata": {},
     "output_type": "execute_result"
    }
   ],
   "source": [
    "#Import packages for tokenization\n",
    "import tensorflow as tf\n",
    "from tensorflow.keras.preprocessing.text import Tokenizer\n",
    "\n",
    "#Tokenize data and grab word_index dictionary\n",
    "tokenizer = Tokenizer()\n",
    "tokenizer.fit_on_texts(df.tokenized)\n",
    "word_index = tokenizer.word_index\n",
    "\n",
    "#Vocabulary size\n",
    "vocab_size = len(word_index) + 1\n",
    "vocab_size"
   ]
  },
  {
   "cell_type": "markdown",
   "id": "b6db385b-d33c-42d5-8447-ed6c76ec350f",
   "metadata": {},
   "source": [
    "### Proposed word embedding length\n",
    "\n",
    "Word embeddings represent words in a numerical format, such as in vectors within an n-dimensional space (Barnard, 2024). The word embedding length can be determined by taking the fourth root of the vocabulary size. This was determined to be 6."
   ]
  },
  {
   "cell_type": "code",
   "execution_count": 29,
   "id": "459a159d-ae13-4c9e-ba89-6a3a2ef9348d",
   "metadata": {
    "tags": []
   },
   "outputs": [
    {
     "data": {
      "text/plain": [
       "6"
      ]
     },
     "execution_count": 29,
     "metadata": {},
     "output_type": "execute_result"
    }
   ],
   "source": [
    "embed_length = int(np.sqrt(np.sqrt(vocab_size)))\n",
    "embed_length"
   ]
  },
  {
   "cell_type": "markdown",
   "id": "6362a586-203b-41af-a547-2fe84ac4afcc",
   "metadata": {},
   "source": [
    "### Statistical justification for the chosen maximum sequence length\n",
    "\n",
    "The review with the longest sequence or the most number of words determines the maximum sequence length. Shorter reviews can be padded to account for the difference in lengths."
   ]
  },
  {
   "cell_type": "code",
   "execution_count": 31,
   "id": "af3a168d-9c32-4314-bcd3-473a06087bc7",
   "metadata": {
    "tags": []
   },
   "outputs": [
    {
     "data": {
      "text/plain": [
       "16"
      ]
     },
     "execution_count": 31,
     "metadata": {},
     "output_type": "execute_result"
    }
   ],
   "source": [
    "lengths = []\n",
    "for review in df.tokenized:\n",
    "    lengths.append(len(review))\n",
    "max_length = max(lengths)\n",
    "max_length"
   ]
  },
  {
   "cell_type": "markdown",
   "id": "91a73a63-addc-4760-9820-b92217f016b3",
   "metadata": {},
   "source": [
    "<BR>"
   ]
  },
  {
   "cell_type": "markdown",
   "id": "ec48fb3a-5022-436e-8fa3-79954f21649a",
   "metadata": {},
   "source": [
    "## B2. Tokenization <a class=\"anchor\" id=\"B2\"></a>"
   ]
  },
  {
   "cell_type": "markdown",
   "id": "ca9f3e71-d461-4e10-8b98-93754b93a4e9",
   "metadata": {},
   "source": [
    "The goal of the tokenization process is to separate words into chunks. For instance, in this analysis, the words of each review were divided into items in a list. Alongside this process, a word index that contains each word is generated, which is then used to aid the model during training.\n",
    "\n",
    "As stated, the data was first cleaned before tokenizing, with numbers, punctuations, special characters, and stop words removed. Once this cleaning was done, the reviews were then tokenized. This process is illustrated in `Vocabulary size` under Section B1. Once tokenized, the text was transformed into numerical vectors per the word index dictionary."
   ]
  },
  {
   "cell_type": "code",
   "execution_count": 35,
   "id": "6737483c-7804-4f8e-a20e-b039a4ac7d95",
   "metadata": {
    "tags": []
   },
   "outputs": [],
   "source": [
    "#Convert tokenized data into sequences\n",
    "word_sequence = tokenizer.texts_to_sequences(df.tokenized)"
   ]
  },
  {
   "cell_type": "code",
   "execution_count": 36,
   "id": "dd3534d1-0af1-42ff-a181-bc180b3031b4",
   "metadata": {
    "tags": []
   },
   "outputs": [
    {
     "data": {
      "text/plain": [
       "[128, 80, 428, 313, 149, 681]"
      ]
     },
     "execution_count": 36,
     "metadata": {},
     "output_type": "execute_result"
    }
   ],
   "source": [
    "#Example vectorized sequence\n",
    "word_sequence[0]"
   ]
  },
  {
   "cell_type": "markdown",
   "id": "9a1151d0-c2f7-4e85-ab98-afa4e1896c2d",
   "metadata": {},
   "source": [
    "<BR>"
   ]
  },
  {
   "cell_type": "markdown",
   "id": "4b570151-93c6-4c38-b140-d3030c7aa4e1",
   "metadata": {},
   "source": [
    "## B3. Padding Process <a class=\"anchor\" id=\"B3\"></a>"
   ]
  },
  {
   "cell_type": "markdown",
   "id": "898f6c53-9eb0-4956-be2b-8e6f2009f41a",
   "metadata": {},
   "source": [
    "The padding process involves adding additional units to the vectorized sequences to ensure all sequences are the same length. This process is done as it is required for the model to run correctly. Post-padding was conducted in this analysis, wherein the additional units were added after the numerical sequences. Below is also an example of the first sequence after padding."
   ]
  },
  {
   "cell_type": "code",
   "execution_count": 40,
   "id": "39ea0df9-1725-49e8-8754-87682537c867",
   "metadata": {
    "tags": []
   },
   "outputs": [
    {
     "data": {
      "text/plain": [
       "array([128,  80, 428, 313, 149, 681,   0,   0,   0,   0,   0,   0,   0,\n",
       "         0,   0,   0])"
      ]
     },
     "execution_count": 40,
     "metadata": {},
     "output_type": "execute_result"
    }
   ],
   "source": [
    "#Import package for padding\n",
    "from tensorflow.keras.preprocessing.sequence import pad_sequences\n",
    "\n",
    "#Pad sequences using a 'post' method and print an example\n",
    "padded_sequence = pad_sequences(word_sequence, maxlen=max_length, padding='post')\n",
    "padded_sequence[0]"
   ]
  },
  {
   "cell_type": "markdown",
   "id": "1243db99-cbc3-41d6-8e6d-9b0a91af9f8f",
   "metadata": {},
   "source": [
    "<BR>"
   ]
  },
  {
   "cell_type": "markdown",
   "id": "c5d4f779-4f95-4bf3-976e-ce7badc866ba",
   "metadata": {},
   "source": [
    "## B4. Categories of Sentiment <a class=\"anchor\" id=\"B4\"></a>"
   ]
  },
  {
   "cell_type": "markdown",
   "id": "3f9ce42e-14f4-4459-b708-0a809f58bcc9",
   "metadata": {},
   "source": [
    "There are two categories of sentiment. The labels within the data set are `0` and `1`, which correspond to a negative and positive review, respectively. This also indicates a binary classification problem, as only two categories exist. The final layer will use a `sigmoid` activation function."
   ]
  },
  {
   "cell_type": "markdown",
   "id": "5659034a-53a5-41e5-88bc-548590d0b5c3",
   "metadata": {},
   "source": [
    "<BR>"
   ]
  },
  {
   "cell_type": "markdown",
   "id": "58b25a36-3a75-434b-a3cc-8d2d8aeed7ce",
   "metadata": {},
   "source": [
    "## B5. Steps to Prepare the Data <a class=\"anchor\" id=\"B5\"></a>"
   ]
  },
  {
   "cell_type": "markdown",
   "id": "e54e2811-cd5f-404d-bad7-c030eb1644a3",
   "metadata": {},
   "source": [
    "Below is a list of the steps taken to prepare the data.\n",
    "* The \"amazon_cells_labelled.txt\" file was loaded into a Pandas data frame. From here, a check for missing values was conducted, of which none were found.\n",
    "* The data was briefly explored, looking for any unusual characters.\n",
    "* The data was cleaned, removing unusual characters, such as numbers, punctuations, and other special characters.\n",
    "* All remaining letters were then set to lowercase.\n",
    "* Each review was tokenized, separating the review string into individual words in a list.\n",
    "* Once tokenized, stop words were removed as defined in the natural language toolkit.\n",
    "* The tokenized data was then transformed from texts into sequences with assistance from the word index created during tokenization.\n",
    "* Once sequenced, a padding process was conducted using a 'post' method, filling in additional units after the original sequence to conform all sequences to an equal length.\n",
    "* Lastly, the data was split into training and testing sets using an 80/20 split."
   ]
  },
  {
   "cell_type": "markdown",
   "id": "be57c6f5-6c18-4ca6-aea1-274ce1c05fa2",
   "metadata": {},
   "source": [
    "<BR>"
   ]
  },
  {
   "cell_type": "markdown",
   "id": "a728fb00-87e2-4556-abcc-01a2c94b8aaf",
   "metadata": {},
   "source": [
    "## B6. Prepared Data Set <a class=\"anchor\" id=\"B6\"></a>"
   ]
  },
  {
   "cell_type": "markdown",
   "id": "a1c30a95-e8f7-45f6-9d0a-eaa47f06fe3a",
   "metadata": {},
   "source": [
    "The file names of the training and testing data are listed below.\n",
    "* D213_Task2_X_train.csv\n",
    "* D213_Task2_X_test.csv\n",
    "* D213_Task2_y_train.csv\n",
    "* D213_Task2_y_test.csv"
   ]
  },
  {
   "cell_type": "code",
   "execution_count": 50,
   "id": "078f5c8a-faaf-4151-bf7c-a2f2a49eb959",
   "metadata": {
    "tags": []
   },
   "outputs": [],
   "source": [
    "#Import package to split data\n",
    "from sklearn.model_selection import train_test_split\n",
    "\n",
    "#Split data into train and test sets using 80/20 split\n",
    "X_train, X_test, y_train, y_test = train_test_split(padded_sequence, df.label, test_size=0.2, random_state=10)"
   ]
  },
  {
   "cell_type": "code",
   "execution_count": 51,
   "id": "7535f815-d2e3-4b16-b06f-f2b1472cd743",
   "metadata": {
    "tags": []
   },
   "outputs": [
    {
     "name": "stdout",
     "output_type": "stream",
     "text": [
      "X_train: (800, 16)\n",
      "X_test: (200, 16)\n",
      "y_train: (800,)\n",
      "y_test: (200,)\n"
     ]
    }
   ],
   "source": [
    "#Check shape of sets\n",
    "print('X_train:', X_train.shape)\n",
    "print('X_test:', X_test.shape)\n",
    "print('y_train:', y_train.shape)\n",
    "print('y_test:', y_test.shape)"
   ]
  },
  {
   "cell_type": "code",
   "execution_count": 52,
   "id": "572b9fef-f2bf-40b3-9736-355e3f02f5e9",
   "metadata": {
    "tags": []
   },
   "outputs": [],
   "source": [
    "#Convert to csv files\n",
    "pd.DataFrame(X_train).to_csv('D213_Task2_X_train.csv', index=False)\n",
    "pd.DataFrame(X_test).to_csv('D213_Task2_X_test.csv', index=False)\n",
    "pd.DataFrame(y_train).to_csv('D213_Task2_y_train.csv', index=False)\n",
    "pd.DataFrame(y_test).to_csv('D213_Task2_y_test.csv', index=False)"
   ]
  },
  {
   "cell_type": "markdown",
   "id": "41dbc656-81e6-4958-b144-52031cca43a9",
   "metadata": {},
   "source": [
    "<BR>"
   ]
  },
  {
   "cell_type": "markdown",
   "id": "12f950fe-70d8-4dd3-a619-41493f7caae1",
   "metadata": {},
   "source": [
    "## C1. Model Summary <a class=\"anchor\" id=\"C1\"></a>"
   ]
  },
  {
   "cell_type": "code",
   "execution_count": 55,
   "id": "8bf07ddd-ad0c-42ae-8b9e-2b8eba7866ed",
   "metadata": {
    "tags": []
   },
   "outputs": [
    {
     "data": {
      "text/html": [
       "<pre style=\"white-space:pre;overflow-x:auto;line-height:normal;font-family:Menlo,'DejaVu Sans Mono',consolas,'Courier New',monospace\"><span style=\"font-weight: bold\">Model: \"sequential\"</span>\n",
       "</pre>\n"
      ],
      "text/plain": [
       "\u001b[1mModel: \"sequential\"\u001b[0m\n"
      ]
     },
     "metadata": {},
     "output_type": "display_data"
    },
    {
     "data": {
      "text/html": [
       "<pre style=\"white-space:pre;overflow-x:auto;line-height:normal;font-family:Menlo,'DejaVu Sans Mono',consolas,'Courier New',monospace\">┏━━━━━━━━━━━━━━━━━━━━━━━━━━━━━━━━━┳━━━━━━━━━━━━━━━━━━━━━━━━┳━━━━━━━━━━━━━━━┓\n",
       "┃<span style=\"font-weight: bold\"> Layer (type)                    </span>┃<span style=\"font-weight: bold\"> Output Shape           </span>┃<span style=\"font-weight: bold\">       Param # </span>┃\n",
       "┡━━━━━━━━━━━━━━━━━━━━━━━━━━━━━━━━━╇━━━━━━━━━━━━━━━━━━━━━━━━╇━━━━━━━━━━━━━━━┩\n",
       "│ embedding (<span style=\"color: #0087ff; text-decoration-color: #0087ff\">Embedding</span>)           │ (<span style=\"color: #00d7ff; text-decoration-color: #00d7ff\">None</span>, <span style=\"color: #00af00; text-decoration-color: #00af00\">16</span>, <span style=\"color: #00af00; text-decoration-color: #00af00\">6</span>)          │        <span style=\"color: #00af00; text-decoration-color: #00af00\">10,104</span> │\n",
       "├─────────────────────────────────┼────────────────────────┼───────────────┤\n",
       "│ global_average_pooling1d        │ (<span style=\"color: #00d7ff; text-decoration-color: #00d7ff\">None</span>, <span style=\"color: #00af00; text-decoration-color: #00af00\">6</span>)              │             <span style=\"color: #00af00; text-decoration-color: #00af00\">0</span> │\n",
       "│ (<span style=\"color: #0087ff; text-decoration-color: #0087ff\">GlobalAveragePooling1D</span>)        │                        │               │\n",
       "├─────────────────────────────────┼────────────────────────┼───────────────┤\n",
       "│ dense (<span style=\"color: #0087ff; text-decoration-color: #0087ff\">Dense</span>)                   │ (<span style=\"color: #00d7ff; text-decoration-color: #00d7ff\">None</span>, <span style=\"color: #00af00; text-decoration-color: #00af00\">100</span>)            │           <span style=\"color: #00af00; text-decoration-color: #00af00\">700</span> │\n",
       "├─────────────────────────────────┼────────────────────────┼───────────────┤\n",
       "│ dense_1 (<span style=\"color: #0087ff; text-decoration-color: #0087ff\">Dense</span>)                 │ (<span style=\"color: #00d7ff; text-decoration-color: #00d7ff\">None</span>, <span style=\"color: #00af00; text-decoration-color: #00af00\">100</span>)            │        <span style=\"color: #00af00; text-decoration-color: #00af00\">10,100</span> │\n",
       "├─────────────────────────────────┼────────────────────────┼───────────────┤\n",
       "│ dense_2 (<span style=\"color: #0087ff; text-decoration-color: #0087ff\">Dense</span>)                 │ (<span style=\"color: #00d7ff; text-decoration-color: #00d7ff\">None</span>, <span style=\"color: #00af00; text-decoration-color: #00af00\">1</span>)              │           <span style=\"color: #00af00; text-decoration-color: #00af00\">101</span> │\n",
       "└─────────────────────────────────┴────────────────────────┴───────────────┘\n",
       "</pre>\n"
      ],
      "text/plain": [
       "┏━━━━━━━━━━━━━━━━━━━━━━━━━━━━━━━━━┳━━━━━━━━━━━━━━━━━━━━━━━━┳━━━━━━━━━━━━━━━┓\n",
       "┃\u001b[1m \u001b[0m\u001b[1mLayer (type)                   \u001b[0m\u001b[1m \u001b[0m┃\u001b[1m \u001b[0m\u001b[1mOutput Shape          \u001b[0m\u001b[1m \u001b[0m┃\u001b[1m \u001b[0m\u001b[1m      Param #\u001b[0m\u001b[1m \u001b[0m┃\n",
       "┡━━━━━━━━━━━━━━━━━━━━━━━━━━━━━━━━━╇━━━━━━━━━━━━━━━━━━━━━━━━╇━━━━━━━━━━━━━━━┩\n",
       "│ embedding (\u001b[38;5;33mEmbedding\u001b[0m)           │ (\u001b[38;5;45mNone\u001b[0m, \u001b[38;5;34m16\u001b[0m, \u001b[38;5;34m6\u001b[0m)          │        \u001b[38;5;34m10,104\u001b[0m │\n",
       "├─────────────────────────────────┼────────────────────────┼───────────────┤\n",
       "│ global_average_pooling1d        │ (\u001b[38;5;45mNone\u001b[0m, \u001b[38;5;34m6\u001b[0m)              │             \u001b[38;5;34m0\u001b[0m │\n",
       "│ (\u001b[38;5;33mGlobalAveragePooling1D\u001b[0m)        │                        │               │\n",
       "├─────────────────────────────────┼────────────────────────┼───────────────┤\n",
       "│ dense (\u001b[38;5;33mDense\u001b[0m)                   │ (\u001b[38;5;45mNone\u001b[0m, \u001b[38;5;34m100\u001b[0m)            │           \u001b[38;5;34m700\u001b[0m │\n",
       "├─────────────────────────────────┼────────────────────────┼───────────────┤\n",
       "│ dense_1 (\u001b[38;5;33mDense\u001b[0m)                 │ (\u001b[38;5;45mNone\u001b[0m, \u001b[38;5;34m100\u001b[0m)            │        \u001b[38;5;34m10,100\u001b[0m │\n",
       "├─────────────────────────────────┼────────────────────────┼───────────────┤\n",
       "│ dense_2 (\u001b[38;5;33mDense\u001b[0m)                 │ (\u001b[38;5;45mNone\u001b[0m, \u001b[38;5;34m1\u001b[0m)              │           \u001b[38;5;34m101\u001b[0m │\n",
       "└─────────────────────────────────┴────────────────────────┴───────────────┘\n"
      ]
     },
     "metadata": {},
     "output_type": "display_data"
    },
    {
     "data": {
      "text/html": [
       "<pre style=\"white-space:pre;overflow-x:auto;line-height:normal;font-family:Menlo,'DejaVu Sans Mono',consolas,'Courier New',monospace\"><span style=\"font-weight: bold\"> Total params: </span><span style=\"color: #00af00; text-decoration-color: #00af00\">21,005</span> (82.05 KB)\n",
       "</pre>\n"
      ],
      "text/plain": [
       "\u001b[1m Total params: \u001b[0m\u001b[38;5;34m21,005\u001b[0m (82.05 KB)\n"
      ]
     },
     "metadata": {},
     "output_type": "display_data"
    },
    {
     "data": {
      "text/html": [
       "<pre style=\"white-space:pre;overflow-x:auto;line-height:normal;font-family:Menlo,'DejaVu Sans Mono',consolas,'Courier New',monospace\"><span style=\"font-weight: bold\"> Trainable params: </span><span style=\"color: #00af00; text-decoration-color: #00af00\">21,005</span> (82.05 KB)\n",
       "</pre>\n"
      ],
      "text/plain": [
       "\u001b[1m Trainable params: \u001b[0m\u001b[38;5;34m21,005\u001b[0m (82.05 KB)\n"
      ]
     },
     "metadata": {},
     "output_type": "display_data"
    },
    {
     "data": {
      "text/html": [
       "<pre style=\"white-space:pre;overflow-x:auto;line-height:normal;font-family:Menlo,'DejaVu Sans Mono',consolas,'Courier New',monospace\"><span style=\"font-weight: bold\"> Non-trainable params: </span><span style=\"color: #00af00; text-decoration-color: #00af00\">0</span> (0.00 B)\n",
       "</pre>\n"
      ],
      "text/plain": [
       "\u001b[1m Non-trainable params: \u001b[0m\u001b[38;5;34m0\u001b[0m (0.00 B)\n"
      ]
     },
     "metadata": {},
     "output_type": "display_data"
    }
   ],
   "source": [
    "#Import packages to build model and for model validation\n",
    "import tensorflow\n",
    "from tensorflow.keras import Sequential\n",
    "from tensorflow.keras.layers import Embedding, Dense, GlobalAveragePooling1D\n",
    "from tensorflow.keras.callbacks import EarlyStopping\n",
    "\n",
    "#Add early stopping criteria\n",
    "stopping = EarlyStopping(patience=2)\n",
    "\n",
    "#Build model\n",
    "model = Sequential([\n",
    "    Embedding(vocab_size, embed_length, input_length=max_length, input_shape=(X_train.shape[1],)),\n",
    "    GlobalAveragePooling1D(),\n",
    "    Dense(100, activation='relu'),\n",
    "    Dense(100, activation='relu'),\n",
    "    Dense(1, activation='sigmoid')\n",
    "])\n",
    "\n",
    "#Complie model\n",
    "model.compile(optimizer='adam', loss='binary_crossentropy', metrics=['accuracy'])\n",
    "\n",
    "#Print summary\n",
    "model.summary()"
   ]
  },
  {
   "cell_type": "markdown",
   "id": "38a88b19-ec36-4120-8562-948388d09626",
   "metadata": {},
   "source": [
    "<BR>"
   ]
  },
  {
   "cell_type": "markdown",
   "id": "19f84399-a412-476b-947d-6d2144219c9a",
   "metadata": {},
   "source": [
    "## C2. Network Architecture <a class=\"anchor\" id=\"C2\"></a>"
   ]
  },
  {
   "cell_type": "markdown",
   "id": "87f8e76b-d905-4029-b8f1-ca38ef31d016",
   "metadata": {},
   "source": [
    "The model has five layers with a total of 21,005 parameters. The input layer consists of the `Embedding` layer. The next layer is a flattening layer, `GlobalAveragePooling1D`, used to reshape the inputs. The following hidden layers are composed of two `Dense` layers. The output layer consists of another `Dense` layer."
   ]
  },
  {
   "cell_type": "markdown",
   "id": "5a03c8ad-5fe9-41c7-922f-1cf20777cc55",
   "metadata": {},
   "source": [
    "<BR>"
   ]
  },
  {
   "cell_type": "markdown",
   "id": "f171a7b3-d9dd-4cc8-b28d-61765e9aa52b",
   "metadata": {},
   "source": [
    "## C3. Hyperparameters <a class=\"anchor\" id=\"C3\"></a>"
   ]
  },
  {
   "cell_type": "markdown",
   "id": "2a6d8d5e-f2f4-4fa1-9256-cb24a7331652",
   "metadata": {},
   "source": [
    "The model used two activation function types: `relu` and `sigmoid`. A sigmoid activation function maps inputs into output values between 0 and 1, which closely matches the classification problem of this analysis. The rectified linear unit (ReLU) activation function was used because it is the most common type in hidden layers. Additionally, the ReLU function is more computationally efficient than other activation functions since, due to its functional properties, only a certain number of nodes remain activated after transformation (V7, n.d.).\n",
    "\n",
    "The number of nodes per layer was initially set arbitrarily, and then some experimentation was performed to find the optimal number of nodes. After some testing, increasing the number of nodes in the hidden layer did not significantly increase validation accuracy, so a value of 100 was kept. Additionally, the output contained only one node due to the nature of the classification problem of this analysis.\n",
    "\n",
    "The loss function, `binary_crossentropy`, was chosen because of the nature of the classification problem of this analysis.\n",
    "\n",
    "The `adam` optimizer was chosen due to its popularity in deep learning. Additionally, the optimizer performs relatively well due to its robustness to hyperparameter choices and fast convergence time, as it \"converges faster than traditional gradient descent-based optimizers\" (Vishwakarma, 2024).\n",
    "\n",
    "An early stopping criterion was used to prevent overfitting during model training. The `EarlyStopping` class from Keras was implemented to monitor the validation loss score. It was set with a patience of two so that the training period would end if the score did not further decrease after two additional epochs from the current one.\n",
    "\n",
    "Since this analysis involves a classification problem, the accuracy score was the evaluation metric. This score determines the number of correct predictions over all predictions, with knowledge of correctness using the known labels."
   ]
  },
  {
   "cell_type": "markdown",
   "id": "6b5aafaa-cfeb-4454-b26d-513482419f2f",
   "metadata": {},
   "source": [
    "<BR>"
   ]
  },
  {
   "cell_type": "markdown",
   "id": "59235def-fc95-4de7-8fdf-c1d1b5ed91ac",
   "metadata": {},
   "source": [
    "## D1. Stopping Criteria <a class=\"anchor\" id=\"D1\"></a>"
   ]
  },
  {
   "cell_type": "markdown",
   "id": "6fe48021-84f1-47dc-9cf0-3f35a1584cb5",
   "metadata": {},
   "source": [
    "A stopping criterion is necessary as the model would continue to train all the way to the number of specified epochs without one. This presents a problem because it does not generalize well to unseen data when the model learns too much of the training patterns. This issue is visualized in section D3, where the training loss continues to approach zero while the validation loss stabilizes, hence where overfitting begins.\n",
    "\n",
    "An early stopping criterion was used to prevent overfitting during model training. The `EarlyStopping` class from Keras was implemented to monitor the validation loss score. It was set with a patience of two so that the training period would end if the loss score did not further decrease after two additional epochs from the current one.\n",
    "\n",
    "The final training epoch is captured in section `D3`, where the model was fitted and trained."
   ]
  },
  {
   "cell_type": "markdown",
   "id": "4171c37d-963b-4fd5-af5d-fb67bc6ecab1",
   "metadata": {},
   "source": [
    "<BR>"
   ]
  },
  {
   "cell_type": "markdown",
   "id": "54223339-7588-4491-85e9-cfdc4f302b18",
   "metadata": {
    "tags": []
   },
   "source": [
    "## D2. Fitness <a class=\"anchor\" id=\"D2\"></a>"
   ]
  },
  {
   "cell_type": "markdown",
   "id": "347ffcb5-957a-49e3-b8d0-ac7742229fad",
   "metadata": {},
   "source": [
    "While some overfitting exists in the model, some methods were used to limit it. The first method involved training and tuning the model in an iterative process, beginning with a small neural network and slowly increasing it. The network size reached capacity when adding additional layers, and the number of nodes did not drastically improve validation accuracy and loss, which led to the final neural network in this analysis.\n",
    "\n",
    "Overfitting can be seen in the visualization in section D3 when looking at the loss scores. Overfitting is easily seen where the validation loss begins to taper out. In contrast, the training loss continually approaches zero, indicating the model has learned too much of the training data's patterns while starting to fail to generalize on the validation data, which acted as unseen data to test against during the model training process. To counteract overfitting, an early stopping criterion was put in place. The model would stop its training process when the validation loss scores failed to improve after a couple of epochs."
   ]
  },
  {
   "cell_type": "markdown",
   "id": "99ddee4d-0fbb-42a7-b220-eef10da2e3ee",
   "metadata": {},
   "source": [
    "<BR>"
   ]
  },
  {
   "cell_type": "markdown",
   "id": "bb8a350c-7db8-46c8-808f-2ec49822a815",
   "metadata": {
    "tags": []
   },
   "source": [
    "## D3. Training Model <a class=\"anchor\" id=\"D3\"></a>"
   ]
  },
  {
   "cell_type": "code",
   "execution_count": 67,
   "id": "ced4c89c-3ddf-4751-bb3e-865e8e00173c",
   "metadata": {
    "tags": []
   },
   "outputs": [
    {
     "name": "stdout",
     "output_type": "stream",
     "text": [
      "Epoch 1/20\n",
      "\u001b[1m20/20\u001b[0m \u001b[32m━━━━━━━━━━━━━━━━━━━━\u001b[0m\u001b[37m\u001b[0m \u001b[1m1s\u001b[0m 9ms/step - accuracy: 0.4857 - loss: 0.6934 - val_accuracy: 0.5437 - val_loss: 0.6924\n",
      "Epoch 2/20\n",
      "\u001b[1m20/20\u001b[0m \u001b[32m━━━━━━━━━━━━━━━━━━━━\u001b[0m\u001b[37m\u001b[0m \u001b[1m0s\u001b[0m 2ms/step - accuracy: 0.6198 - loss: 0.6919 - val_accuracy: 0.4563 - val_loss: 0.6929\n",
      "Epoch 3/20\n",
      "\u001b[1m20/20\u001b[0m \u001b[32m━━━━━━━━━━━━━━━━━━━━\u001b[0m\u001b[37m\u001b[0m \u001b[1m0s\u001b[0m 2ms/step - accuracy: 0.5649 - loss: 0.6894 - val_accuracy: 0.6062 - val_loss: 0.6877\n",
      "Epoch 4/20\n",
      "\u001b[1m20/20\u001b[0m \u001b[32m━━━━━━━━━━━━━━━━━━━━\u001b[0m\u001b[37m\u001b[0m \u001b[1m0s\u001b[0m 2ms/step - accuracy: 0.7809 - loss: 0.6731 - val_accuracy: 0.5250 - val_loss: 0.6769\n",
      "Epoch 5/20\n",
      "\u001b[1m20/20\u001b[0m \u001b[32m━━━━━━━━━━━━━━━━━━━━\u001b[0m\u001b[37m\u001b[0m \u001b[1m0s\u001b[0m 2ms/step - accuracy: 0.7956 - loss: 0.6229 - val_accuracy: 0.6625 - val_loss: 0.6352\n",
      "Epoch 6/20\n",
      "\u001b[1m20/20\u001b[0m \u001b[32m━━━━━━━━━━━━━━━━━━━━\u001b[0m\u001b[37m\u001b[0m \u001b[1m0s\u001b[0m 2ms/step - accuracy: 0.8565 - loss: 0.5130 - val_accuracy: 0.7875 - val_loss: 0.5325\n",
      "Epoch 7/20\n",
      "\u001b[1m20/20\u001b[0m \u001b[32m━━━━━━━━━━━━━━━━━━━━\u001b[0m\u001b[37m\u001b[0m \u001b[1m0s\u001b[0m 2ms/step - accuracy: 0.9147 - loss: 0.3634 - val_accuracy: 0.7437 - val_loss: 0.4819\n",
      "Epoch 8/20\n",
      "\u001b[1m20/20\u001b[0m \u001b[32m━━━━━━━━━━━━━━━━━━━━\u001b[0m\u001b[37m\u001b[0m \u001b[1m0s\u001b[0m 2ms/step - accuracy: 0.9484 - loss: 0.2188 - val_accuracy: 0.7937 - val_loss: 0.4289\n",
      "Epoch 9/20\n",
      "\u001b[1m20/20\u001b[0m \u001b[32m━━━━━━━━━━━━━━━━━━━━\u001b[0m\u001b[37m\u001b[0m \u001b[1m0s\u001b[0m 2ms/step - accuracy: 0.9729 - loss: 0.1451 - val_accuracy: 0.7750 - val_loss: 0.4755\n",
      "Epoch 10/20\n",
      "\u001b[1m20/20\u001b[0m \u001b[32m━━━━━━━━━━━━━━━━━━━━\u001b[0m\u001b[37m\u001b[0m \u001b[1m0s\u001b[0m 2ms/step - accuracy: 0.9506 - loss: 0.1308 - val_accuracy: 0.8125 - val_loss: 0.4155\n",
      "Epoch 11/20\n",
      "\u001b[1m20/20\u001b[0m \u001b[32m━━━━━━━━━━━━━━━━━━━━\u001b[0m\u001b[37m\u001b[0m \u001b[1m0s\u001b[0m 3ms/step - accuracy: 0.9901 - loss: 0.0852 - val_accuracy: 0.8188 - val_loss: 0.4158\n",
      "Epoch 12/20\n",
      "\u001b[1m20/20\u001b[0m \u001b[32m━━━━━━━━━━━━━━━━━━━━\u001b[0m\u001b[37m\u001b[0m \u001b[1m0s\u001b[0m 2ms/step - accuracy: 0.9900 - loss: 0.0593 - val_accuracy: 0.8000 - val_loss: 0.4416\n"
     ]
    }
   ],
   "source": [
    "#Fit model\n",
    "history = model.fit(X_train, y_train, epochs=20, validation_split=0.2, callbacks=stopping)"
   ]
  },
  {
   "cell_type": "code",
   "execution_count": 119,
   "id": "6197fa1d-d177-4f8b-8ff6-cf7d93c9d259",
   "metadata": {
    "tags": []
   },
   "outputs": [
    {
     "data": {
      "image/png": "[encoded data removed]",
      "text/plain": [
       "<Figure size 640x480 with 1 Axes>"
      ]
     },
     "metadata": {},
     "output_type": "display_data"
    },
    {
     "data": {
      "image/png": "[encoded data removed]",
      "text/plain": [
       "<Figure size 640x480 with 1 Axes>"
      ]
     },
     "metadata": {},
     "output_type": "display_data"
    },
    {
     "data": {
      "text/plain": [
       "<Figure size 640x480 with 0 Axes>"
      ]
     },
     "metadata": {},
     "output_type": "display_data"
    }
   ],
   "source": [
    "#Define metrics to visualize\n",
    "acc = history.history['accuracy']\n",
    "val_acc = history.history['val_accuracy']\n",
    "loss = history.history['loss']\n",
    "val_loss = history.history['val_loss']\n",
    "epochs=range(1, len(acc)+1)\n",
    "\n",
    "#Accuracy Visualization\n",
    "plt.plot(epochs, acc, 'orange', label='Training Accuracy')\n",
    "plt.plot(epochs, val_acc, 'teal', label='Validation Accuracy')\n",
    "plt.title('Training and Validation Accuracy')\n",
    "plt.xlabel('Epochs')\n",
    "plt.ylabel('Accuracy')\n",
    "plt.legend()\n",
    "plt.grid()\n",
    "plt.figure();\n",
    "\n",
    "#Loss Visualization\n",
    "plt.plot(epochs, loss, 'orange', label='Training Loss')\n",
    "plt.plot(epochs, val_loss, 'teal', label='Validation Loss')\n",
    "plt.title('Training and Validation Loss')\n",
    "plt.xlabel('Epochs')\n",
    "plt.ylabel('Loss')\n",
    "plt.legend()\n",
    "plt.grid()\n",
    "plt.figure();"
   ]
  },
  {
   "cell_type": "markdown",
   "id": "896544fa-0007-4971-a7a4-178b3d1a640d",
   "metadata": {},
   "source": [
    "<BR>"
   ]
  },
  {
   "cell_type": "markdown",
   "id": "408cdce6-eb40-4ea9-9a8e-ebd291b63fd1",
   "metadata": {
    "tags": []
   },
   "source": [
    "## D4. Predictive Accuracy <a class=\"anchor\" id=\"D4\"></a>"
   ]
  },
  {
   "cell_type": "markdown",
   "id": "d2a0c430-e254-4212-ab40-a14798c574ec",
   "metadata": {},
   "source": [
    "The model's training and validation accuracy were 99.0% and 80.0%, respectively. A high training accuracy indicated that the model could learn the inherent patterns of the training data very sufficiently. In comparison, the accuracy of the test set was 76.0%. The test accuracy closely reflects the validation accuracy, indicating that the model can generalize well to unseen data. In conclusion, the model performs very well, given the relatively high predictive accuracy on the test set."
   ]
  },
  {
   "cell_type": "code",
   "execution_count": 123,
   "id": "52974a02-884d-4158-81f5-57c7161d2f70",
   "metadata": {
    "tags": []
   },
   "outputs": [
    {
     "name": "stdout",
     "output_type": "stream",
     "text": [
      "Loss evaluation: 0.53\n",
      "Accuracy evaluation: 0.76\n"
     ]
    }
   ],
   "source": [
    "#Model Evaluation on Test set\n",
    "eval = model.evaluate(X_test, y_test, verbose=0)\n",
    "print(\"Loss evaluation:\", round(eval[0], 2))\n",
    "print(\"Accuracy evaluation:\", round(eval[1], 2))"
   ]
  },
  {
   "cell_type": "markdown",
   "id": "6cd5ffd9-ce47-442e-bc07-a37581fd3bd1",
   "metadata": {},
   "source": [
    "<BR>"
   ]
  },
  {
   "cell_type": "markdown",
   "id": "c277700a-cb7d-4ec1-9dd2-b749a455c4c0",
   "metadata": {},
   "source": [
    "## E. Code <a class=\"anchor\" id=\"E\"></a>"
   ]
  },
  {
   "cell_type": "markdown",
   "id": "9eabeed9-a8b2-44a5-a4c7-e2568bec0c14",
   "metadata": {},
   "source": [
    "The model is saved as an H5 file called \"D213_Task2_Model.h5.\""
   ]
  },
  {
   "cell_type": "code",
   "execution_count": 106,
   "id": "a2fbdf33-a200-4289-b0f2-b174d51a3e27",
   "metadata": {
    "tags": []
   },
   "outputs": [
    {
     "name": "stderr",
     "output_type": "stream",
     "text": [
      "WARNING:absl:You are saving your model as an HDF5 file via `model.save()` or `keras.saving.save_model(model)`. This file format is considered legacy. We recommend using instead the native Keras format, e.g. `model.save('my_model.keras')` or `keras.saving.save_model(model, 'my_model.keras')`. \n"
     ]
    }
   ],
   "source": [
    "#Save model as an h5 file\n",
    "model.save('D213_Task2_Model.h5')"
   ]
  },
  {
   "cell_type": "markdown",
   "id": "4e56eaae-feab-44bd-b078-840b44d908a9",
   "metadata": {},
   "source": [
    "<BR>"
   ]
  },
  {
   "cell_type": "markdown",
   "id": "28dc8242-394e-4ca1-9054-b7814ee06477",
   "metadata": {},
   "source": [
    "## F. Functionality <a class=\"anchor\" id=\"F\"></a>"
   ]
  },
  {
   "cell_type": "markdown",
   "id": "d8c81ff4-a0de-4b38-b2df-d6b84f283c49",
   "metadata": {},
   "source": [
    "The neural network was trained on the sentiments of Amazon customers and their reviews. Of the data set, 80% was used for training, and the other 20% was used for testing the model. This accounted for 800 records used in training and the other 200 for testing. The model was validated during training and further evaluated with the test set. With that, the model was trained to perform predictive analysis on the sentiment of customer reviews, whether positive or negative. The underlying neural network architecture significantly impacted how the model was trained. This was because of the nature of this analysis, which involved a binary classification problem, wherein the layers making up the neural network had to be tuned in a certain way to support the output of a binary result, indicating a positive or negative review."
   ]
  },
  {
   "cell_type": "markdown",
   "id": "b6ebf9f5-726b-4865-bc5f-70c16325e804",
   "metadata": {},
   "source": [
    "<BR>"
   ]
  },
  {
   "cell_type": "markdown",
   "id": "ed12f609-eb79-4898-ae6b-1a574070e1ae",
   "metadata": {},
   "source": [
    "## G. Recommendations <a class=\"anchor\" id=\"G\"></a>"
   ]
  },
  {
   "cell_type": "markdown",
   "id": "184b1932-1d1b-45c2-8887-b8e3f45527a3",
   "metadata": {},
   "source": [
    "The validation and evaluation metrics provided good results, so the model can be acceptably used to predict customer sentiment regarding Amazon products and services. Because the model was trained with this type of data in mind, it would be out of scope to determine sentiment in other industries. Furthermore, while the model works reasonably well, it could constantly be improved with more training data, as the data set was relatively small."
   ]
  },
  {
   "cell_type": "markdown",
   "id": "06dfd57f-d3ef-4a03-83c9-2d58863359d7",
   "metadata": {},
   "source": [
    "<BR>"
   ]
  },
  {
   "cell_type": "markdown",
   "id": "c0124e2f-9d93-4306-b929-934d6b0d8c30",
   "metadata": {},
   "source": [
    "## H. Reporting <a class=\"anchor\" id=\"H\"></a>"
   ]
  },
  {
   "cell_type": "markdown",
   "id": "65c1fc90-0ecd-4c0f-93bf-49be2d855993",
   "metadata": {},
   "source": [
    "The neural network model was developed in a Jupyter Lab and Notebook environment using the Python programming language. Attached is the Jupyter Notebook of the process called \"D213_Task_2_LY.ipynb,\" and also as a PDF called \"D213_Task_2_LY.pdf.\""
   ]
  },
  {
   "cell_type": "markdown",
   "id": "1d7b8c4f-da16-4dd6-80d7-6f0b54845ac4",
   "metadata": {},
   "source": [
    "<BR>"
   ]
  },
  {
   "cell_type": "markdown",
   "id": "23aa9557-cfcd-4668-82ea-7762135b693d",
   "metadata": {},
   "source": [
    "## I. Sources for Third-Party Code <a class=\"anchor\" id=\"I\"></a>"
   ]
  },
  {
   "cell_type": "markdown",
   "id": "dd357824-bc55-452f-9e97-d8725d335fb7",
   "metadata": {},
   "source": [
    "No third-party code was used in this analysis."
   ]
  },
  {
   "cell_type": "markdown",
   "id": "a394ef80-3bc2-4797-a1c5-43616ce49724",
   "metadata": {},
   "source": [
    "<BR>"
   ]
  },
  {
   "cell_type": "markdown",
   "id": "eb63ee48-0c96-4350-904f-8a84ac3106e0",
   "metadata": {},
   "source": [
    "## J. Sources <a class=\"anchor\" id=\"J\"></a>"
   ]
  },
  {
   "cell_type": "markdown",
   "id": "85b4781a-52d6-44b6-bd69-ddde36c7acc1",
   "metadata": {},
   "source": [
    "_Activation functions in neural networks [12 types & use cases]_. V7. (n.d.). https://www.v7labs.com/blog/neural-networks-activation-functions#h3 \n",
    "\n",
    "Barnard, J. (2024, August 9). _What are word embeddings?_. IBM. https://www.ibm.com/topics/word-embeddings#:~:text=What%20Are%20Word%20Embeddings?,analysis%2C%20machine%20translation%20and%20more. \n",
    "\n",
    "GeeksforGeeks. (2024, January 2). _RNN for Text Classifications in NLP_. GeeksforGeeks. https://www.geeksforgeeks.org/rnn-for-text-classifications-in-nlp/ \n",
    "\n",
    "Vishwakarma, N. (2024, October 15). _What is Adam Optimizer?_. Analytics Vidhya. https://www.analyticsvidhya.com/blog/2023/09/what-is-adam-optimizer/#h-advantages-of-using-adam-optimizer "
   ]
  }
 ],
 "metadata": {
  "kernelspec": {
   "display_name": "Python 3 (ipykernel)",
   "language": "python",
   "name": "python3"
  },
  "language_info": {
   "codemirror_mode": {
    "name": "ipython",
    "version": 3
   },
   "file_extension": ".py",
   "mimetype": "text/x-python",
   "name": "python",
   "nbconvert_exporter": "python",
   "pygments_lexer": "ipython3",
   "version": "3.11.9"
  }
 },
 "nbformat": 4,
 "nbformat_minor": 5
}
