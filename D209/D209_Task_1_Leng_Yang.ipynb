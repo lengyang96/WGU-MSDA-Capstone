{
 "cells": [
  {
   "cell_type": "markdown",
   "id": "49ea3961-79a2-4989-898d-686618087c4f",
   "metadata": {},
   "source": [
    "# D209: Data Mining I - Task 1: Classification Analysis\n",
    "***"
   ]
  },
  {
   "cell_type": "markdown",
   "id": "705242a5-58e1-416e-b5f1-08dd8311091c",
   "metadata": {
    "tags": []
   },
   "source": [
    "### By: Leng Yang\n",
    "### Student ID: 012298452\n",
    "### Date: August 27, 2024\n",
    "***\n",
    "<br>\n",
    "<br>\n",
    "<br>"
   ]
  },
  {
   "cell_type": "markdown",
   "id": "2c36dae8-93df-4293-b7b2-8e075205a6ab",
   "metadata": {
    "tags": []
   },
   "source": [
    "## Table of Contents\n",
    "* [A1. Proposal of Question](#A1)\n",
    "* [A2. Defined Goal](#A2)\n",
    "* [B1. Explanation of Classification Method](#B1)\n",
    "* [B2. Summary of Method Assumption](#B2)\n",
    "* [B3. Packages or Libraries List](#B3)\n",
    "* [C1. Data Preprocessing](#C1)\n",
    "* [C2. Data Set Variables](#C2)\n",
    "* [C3. Steps for Analysis](#C3)\n",
    "* [C4. Cleaned Data Set](#C4)\n",
    "* [D1. Splitting the Data](#D1)\n",
    "* [D2. Output and Intermediate Calculations](#D2)\n",
    "* [D3. Code Execution](#D3)\n",
    "* [E1. Accuracy and AUC](#E1)\n",
    "* [E2. Results and Implications](#E2)\n",
    "* [E3. Limitation](#E3)\n",
    "* [E4. Course of Action](#E4)\n",
    "* [F. Panopto Recording](#F)\n",
    "* [G. Sources for Third-Party Code](#G)\n",
    "* [H. Sources](#H)"
   ]
  },
  {
   "cell_type": "markdown",
   "id": "61042f26-3898-49a6-abe4-bda0253af217",
   "metadata": {},
   "source": [
    "<BR>"
   ]
  },
  {
   "cell_type": "markdown",
   "id": "cd6526b9-0917-49ba-8007-46aa8e8675db",
   "metadata": {
    "tags": []
   },
   "source": [
    "## A1. Proposal of Question <a class=\"anchor\" id=\"A1\"></a>"
   ]
  },
  {
   "cell_type": "markdown",
   "id": "e9a95d16-e930-4166-903b-caf7a4584d47",
   "metadata": {},
   "source": [
    "The research question for this paper is: Can hospital readmissions be predicted from patient medical conditions using a k-nearest neighbors (k-NN) classification model?"
   ]
  },
  {
   "cell_type": "markdown",
   "id": "eefc3226-d9c1-497a-bd1d-22dbe3873e2a",
   "metadata": {},
   "source": [
    "<BR>"
   ]
  },
  {
   "cell_type": "markdown",
   "id": "41cf42e6-5fa0-4ee5-b8f0-a32e583c8c8c",
   "metadata": {},
   "source": [
    "## A2. Defined Goal <a class=\"anchor\" id=\"A2\"></a>"
   ]
  },
  {
   "cell_type": "markdown",
   "id": "a2735441-4fd2-49a8-b0f1-c373db2d0649",
   "metadata": {},
   "source": [
    "This analysis uses patient medical conditions and a k-NN method to predict whether patients would be later readmitted to hospitals. Patient care aims to reduce hospital visits, ensuring the best care possible is given on the initial visit. As such, this analysis would assist the business, when accounting for existing medical conditions, in structuring care plans to reduce further readmissions."
   ]
  },
  {
   "cell_type": "markdown",
   "id": "6b65e1d8-2a13-4797-8fa4-f54e0f75eb7d",
   "metadata": {},
   "source": [
    "<BR>"
   ]
  },
  {
   "cell_type": "markdown",
   "id": "8fab6f20-7096-4fdc-808b-1db40d8d9234",
   "metadata": {},
   "source": [
    "## B1. Explanation of Classification Method <a class=\"anchor\" id=\"B1\"></a>"
   ]
  },
  {
   "cell_type": "markdown",
   "id": "243dce76-f9b0-441a-8ac6-ca4d3796104a",
   "metadata": {},
   "source": [
    "The k-NN method labels new data by looking at the nearest, surrounding labeled data in a feature space. The \"k\" in the k-NN method determines how many of the closest neighbors to use as a decision metric and then labels the new data based on the majority of those closest neighbors, like in a majority poll. Additionally, to determine which neighbors are closest, the method calculates the distance between the unlabeled data point and all other data points using a distance metric such as Euclidean distance, which measures a straight line between the points (IBM, 2021). Besides Euclidean distance, other distance metrics, such as Manhattan, Minkowski, Hamming distance, and others, can be used. Different combinations of the number of neighbors and distance metrics can be tested to select the combination that best predicts the unlabeled data. For this analysis a testing set will be used that acts as out-of-sample data. The model will use the data in this set to look at already known and labeled data points and then label the testing data according to how the model was trained. The expected outcome is to have test data classified based on their nearest neighbors with at least a model accuracy of 95%."
   ]
  },
  {
   "cell_type": "markdown",
   "id": "91a73a63-addc-4760-9820-b92217f016b3",
   "metadata": {},
   "source": [
    "<BR>"
   ]
  },
  {
   "cell_type": "markdown",
   "id": "c4a58119-9509-44a8-bc3e-823a0350a12c",
   "metadata": {},
   "source": [
    "## B2. Summary of Method Assumption <a class=\"anchor\" id=\"B2\"></a>"
   ]
  },
  {
   "cell_type": "markdown",
   "id": "115fe3a7-f85d-4028-8be1-eb213aa4e2db",
   "metadata": {},
   "source": [
    "One of the central assumptions of the k-NN method is that the data exists in a feature space that can be measured by distance metrics such as Euclidean or Manhattan distances (Vishalmendekarhere, 2021). This is core to how k-NN functions because the method uses these calculated distances in the existing feature space to label new data based on a select number of nearest labeled data. In other words, labeled data points close to the new data point can be said to be similar, so the new data takes on the same label as those data points. Without this assumption, the k-NN method would fail to function correctly."
   ]
  },
  {
   "cell_type": "markdown",
   "id": "a0427e4f-5dcf-447c-98d7-7189a52b37a6",
   "metadata": {},
   "source": [
    "<BR>"
   ]
  },
  {
   "cell_type": "markdown",
   "id": "f39158d6-e666-4d38-a297-240f7fa90af3",
   "metadata": {},
   "source": [
    "## B3. Packages or Libraries List <a class=\"anchor\" id=\"B3\"></a>"
   ]
  },
  {
   "cell_type": "markdown",
   "id": "c25d4f12-329f-43cc-b42c-98094e0f1577",
   "metadata": {},
   "source": [
    "Listed are the Python packages and libraries used in assistance for this analysis:\n",
    "* Pandas: used to load the data into a tabular dataframe and for data manipulation\n",
    "* NumPy: used for matrix and mathematical calculations\n",
    "* Matplotlib and Seaborn are both used for visualizations\n",
    "* Sklearn provides several libraries that aid significantly in this analysis:\n",
    "    * KNeighborsClassifier is used as the main algorithm and classification model for this analysis \n",
    "    * train_test_split is used to split the data into training and testing sets\n",
    "    * confusion_matrix is used to generate a confusion matrix from the model\n",
    "    * roc_auc_score is used to calculate the area under the curve (AUC) score of the model\n",
    "    * roc_curve is used to plot the receiver operating characteristic (ROC) curve of the model"
   ]
  },
  {
   "cell_type": "code",
   "execution_count": 19,
   "id": "13b56c33-f19f-4d55-9372-32544ec2e437",
   "metadata": {
    "tags": []
   },
   "outputs": [],
   "source": [
    "import pandas as pd\n",
    "import numpy as np\n",
    "import matplotlib.pyplot as plt\n",
    "import seaborn as sns\n",
    "from sklearn.neighbors import KNeighborsClassifier\n",
    "from sklearn.model_selection import train_test_split\n",
    "from sklearn.metrics import confusion_matrix, roc_auc_score, roc_curve\n",
    "\n",
    "import warnings\n",
    "warnings.filterwarnings('ignore')\n",
    "\n",
    "pd.set_option('display.max_columns', None)"
   ]
  },
  {
   "cell_type": "code",
   "execution_count": 20,
   "id": "4916106d-3445-4ce8-a2f7-a7cf0a7d6181",
   "metadata": {
    "tags": []
   },
   "outputs": [
    {
     "name": "stdout",
     "output_type": "stream",
     "text": [
      "python: 3.11.7\n",
      "pandas: 2.1.4\n",
      "numpy: 1.26.4\n"
     ]
    }
   ],
   "source": [
    "#Print working versions\n",
    "from platform import python_version\n",
    "print(\"python:\", python_version())\n",
    "print(\"pandas:\", pd.__version__)\n",
    "print(\"numpy:\", np.__version__)"
   ]
  },
  {
   "cell_type": "markdown",
   "id": "7db07a2d-3a10-4de9-81ba-b53f9c72ded0",
   "metadata": {},
   "source": [
    "<BR>"
   ]
  },
  {
   "cell_type": "markdown",
   "id": "12f950fe-70d8-4dd3-a619-41493f7caae1",
   "metadata": {},
   "source": [
    "## C1. Data Preprocessing <a class=\"anchor\" id=\"C1\"></a>"
   ]
  },
  {
   "cell_type": "markdown",
   "id": "839de624-e277-4e44-91a4-7a89ebb6a1ac",
   "metadata": {},
   "source": [
    "One data preprocessing step will include encoding the categorical predictors of interest. Since k-NN uses distance metrics for calculations, it does not make sense to leave the values of the categorical variables in their natural state, namely as \"Yes/No\" data; as such, text data can't be computed. Instead, this data will be transformed into 1/0s to replace Yes/No's."
   ]
  },
  {
   "cell_type": "markdown",
   "id": "38a88b19-ec36-4120-8562-948388d09626",
   "metadata": {},
   "source": [
    "<BR>"
   ]
  },
  {
   "cell_type": "markdown",
   "id": "19f84399-a412-476b-947d-6d2144219c9a",
   "metadata": {},
   "source": [
    "## C2. Data Set Variables <a class=\"anchor\" id=\"C2\"></a>"
   ]
  },
  {
   "cell_type": "markdown",
   "id": "4fa5f390-ba35-49d9-976b-3e5eb8fb521c",
   "metadata": {},
   "source": [
    "Since this analysis will focus on the medical conditions, all data types are categorical, including the response variable. Listed below are the variables and the data type for completeness.\n",
    "* High blood pressure: Categorical\n",
    "* Stroke: Categorical\n",
    "* Overweight: Categorical\n",
    "* Arthritis: Categorical\n",
    "* Diabetes: Categorical\n",
    "* Hyperlipidemia: Categorical\n",
    "* Back pain: Categorical\n",
    "* Anxiety: Categorical\n",
    "* Allergic rhinitis: Categorical\n",
    "* Reflux esophagitis: Categorical\n",
    "* Asthma: Categorical\n",
    "* Hospital Readmission: Categorical"
   ]
  },
  {
   "cell_type": "markdown",
   "id": "5a03c8ad-5fe9-41c7-922f-1cf20777cc55",
   "metadata": {},
   "source": [
    "<BR>"
   ]
  },
  {
   "cell_type": "markdown",
   "id": "f171a7b3-d9dd-4cc8-b28d-61765e9aa52b",
   "metadata": {},
   "source": [
    "## C3. Steps for Analysis <a class=\"anchor\" id=\"C3\"></a>"
   ]
  },
  {
   "cell_type": "markdown",
   "id": "b2e86b2c-668c-4a9e-b512-d502bd0239fd",
   "metadata": {},
   "source": [
    "The data will first be loaded into a Pandas dataframe, and the column names will be reformatted using snake case for consistency. Afterward, the data will be inspected to ensure no missing values or outliers need to be imputed if required for this analysis. Next, only the relevant data is kept, and all others are dropped, as identified in the section above. Afterwards, the data will be explored.\n",
    "\n",
    "Once data cleaning and exploration are complete, the data can be preprocessed before modeling. The primary preprocessing step will include encoding the values of all variables, which are \"Yes/No\" values, into 1/0's. Once complete, the data set is ready to be used for modeling."
   ]
  },
  {
   "cell_type": "code",
   "execution_count": 30,
   "id": "6507f53f-27e4-4110-8e57-0173f8bd63b7",
   "metadata": {
    "tags": []
   },
   "outputs": [],
   "source": [
    "#Read data file into dataframe\n",
    "df = pd.read_csv('medical_clean.csv')"
   ]
  },
  {
   "cell_type": "code",
   "execution_count": 31,
   "id": "0b57488d-0d95-42e0-b195-e1abe407fcdb",
   "metadata": {
    "tags": []
   },
   "outputs": [
    {
     "data": {
      "text/html": [
       "<div>\n",
       "<style scoped>\n",
       "    .dataframe tbody tr th:only-of-type {\n",
       "        vertical-align: middle;\n",
       "    }\n",
       "\n",
       "    .dataframe tbody tr th {\n",
       "        vertical-align: top;\n",
       "    }\n",
       "\n",
       "    .dataframe thead th {\n",
       "        text-align: right;\n",
       "    }\n",
       "</style>\n",
       "<table border=\"1\" class=\"dataframe\">\n",
       "  <thead>\n",
       "    <tr style=\"text-align: right;\">\n",
       "      <th></th>\n",
       "      <th>case_order</th>\n",
       "      <th>customer_id</th>\n",
       "      <th>interaction</th>\n",
       "      <th>uid</th>\n",
       "      <th>city</th>\n",
       "      <th>state</th>\n",
       "      <th>county</th>\n",
       "      <th>zip</th>\n",
       "      <th>latitude</th>\n",
       "      <th>longitude</th>\n",
       "      <th>population</th>\n",
       "      <th>area</th>\n",
       "      <th>timezone</th>\n",
       "      <th>job</th>\n",
       "      <th>children</th>\n",
       "      <th>age</th>\n",
       "      <th>income</th>\n",
       "      <th>marital</th>\n",
       "      <th>gender</th>\n",
       "      <th>readmission</th>\n",
       "      <th>vit_d_level</th>\n",
       "      <th>doc_visits</th>\n",
       "      <th>full_meals_eaten</th>\n",
       "      <th>vit_d_supp</th>\n",
       "      <th>soft_drink</th>\n",
       "      <th>initial_admin</th>\n",
       "      <th>high_blood</th>\n",
       "      <th>stroke</th>\n",
       "      <th>complication_risk</th>\n",
       "      <th>overweight</th>\n",
       "      <th>arthritis</th>\n",
       "      <th>diabetes</th>\n",
       "      <th>hyperlipidemia</th>\n",
       "      <th>back_pain</th>\n",
       "      <th>anxiety</th>\n",
       "      <th>allergic_rhinitis</th>\n",
       "      <th>reflux_esophagitis</th>\n",
       "      <th>asthma</th>\n",
       "      <th>services</th>\n",
       "      <th>initial_days</th>\n",
       "      <th>total_charge</th>\n",
       "      <th>additional_charges</th>\n",
       "      <th>item_1</th>\n",
       "      <th>item_2</th>\n",
       "      <th>item_3</th>\n",
       "      <th>item_4</th>\n",
       "      <th>item_5</th>\n",
       "      <th>item_6</th>\n",
       "      <th>item_7</th>\n",
       "      <th>item_8</th>\n",
       "    </tr>\n",
       "  </thead>\n",
       "  <tbody>\n",
       "    <tr>\n",
       "      <th>0</th>\n",
       "      <td>1</td>\n",
       "      <td>C412403</td>\n",
       "      <td>8cd49b13-f45a-4b47-a2bd-173ffa932c2f</td>\n",
       "      <td>3a83ddb66e2ae73798bdf1d705dc0932</td>\n",
       "      <td>Eva</td>\n",
       "      <td>AL</td>\n",
       "      <td>Morgan</td>\n",
       "      <td>35621</td>\n",
       "      <td>34.34960</td>\n",
       "      <td>-86.72508</td>\n",
       "      <td>2951</td>\n",
       "      <td>Suburban</td>\n",
       "      <td>America/Chicago</td>\n",
       "      <td>Psychologist, sport and exercise</td>\n",
       "      <td>1</td>\n",
       "      <td>53</td>\n",
       "      <td>86575.93</td>\n",
       "      <td>Divorced</td>\n",
       "      <td>Male</td>\n",
       "      <td>No</td>\n",
       "      <td>19.141466</td>\n",
       "      <td>6</td>\n",
       "      <td>0</td>\n",
       "      <td>0</td>\n",
       "      <td>No</td>\n",
       "      <td>Emergency Admission</td>\n",
       "      <td>Yes</td>\n",
       "      <td>No</td>\n",
       "      <td>Medium</td>\n",
       "      <td>No</td>\n",
       "      <td>Yes</td>\n",
       "      <td>Yes</td>\n",
       "      <td>No</td>\n",
       "      <td>Yes</td>\n",
       "      <td>Yes</td>\n",
       "      <td>Yes</td>\n",
       "      <td>No</td>\n",
       "      <td>Yes</td>\n",
       "      <td>Blood Work</td>\n",
       "      <td>10.585770</td>\n",
       "      <td>3726.702860</td>\n",
       "      <td>17939.403420</td>\n",
       "      <td>3</td>\n",
       "      <td>3</td>\n",
       "      <td>2</td>\n",
       "      <td>2</td>\n",
       "      <td>4</td>\n",
       "      <td>3</td>\n",
       "      <td>3</td>\n",
       "      <td>4</td>\n",
       "    </tr>\n",
       "    <tr>\n",
       "      <th>1</th>\n",
       "      <td>2</td>\n",
       "      <td>Z919181</td>\n",
       "      <td>d2450b70-0337-4406-bdbb-bc1037f1734c</td>\n",
       "      <td>176354c5eef714957d486009feabf195</td>\n",
       "      <td>Marianna</td>\n",
       "      <td>FL</td>\n",
       "      <td>Jackson</td>\n",
       "      <td>32446</td>\n",
       "      <td>30.84513</td>\n",
       "      <td>-85.22907</td>\n",
       "      <td>11303</td>\n",
       "      <td>Urban</td>\n",
       "      <td>America/Chicago</td>\n",
       "      <td>Community development worker</td>\n",
       "      <td>3</td>\n",
       "      <td>51</td>\n",
       "      <td>46805.99</td>\n",
       "      <td>Married</td>\n",
       "      <td>Female</td>\n",
       "      <td>No</td>\n",
       "      <td>18.940352</td>\n",
       "      <td>4</td>\n",
       "      <td>2</td>\n",
       "      <td>1</td>\n",
       "      <td>No</td>\n",
       "      <td>Emergency Admission</td>\n",
       "      <td>Yes</td>\n",
       "      <td>No</td>\n",
       "      <td>High</td>\n",
       "      <td>Yes</td>\n",
       "      <td>No</td>\n",
       "      <td>No</td>\n",
       "      <td>No</td>\n",
       "      <td>No</td>\n",
       "      <td>No</td>\n",
       "      <td>No</td>\n",
       "      <td>Yes</td>\n",
       "      <td>No</td>\n",
       "      <td>Intravenous</td>\n",
       "      <td>15.129562</td>\n",
       "      <td>4193.190458</td>\n",
       "      <td>17612.998120</td>\n",
       "      <td>3</td>\n",
       "      <td>4</td>\n",
       "      <td>3</td>\n",
       "      <td>4</td>\n",
       "      <td>4</td>\n",
       "      <td>4</td>\n",
       "      <td>3</td>\n",
       "      <td>3</td>\n",
       "    </tr>\n",
       "    <tr>\n",
       "      <th>2</th>\n",
       "      <td>3</td>\n",
       "      <td>F995323</td>\n",
       "      <td>a2057123-abf5-4a2c-abad-8ffe33512562</td>\n",
       "      <td>e19a0fa00aeda885b8a436757e889bc9</td>\n",
       "      <td>Sioux Falls</td>\n",
       "      <td>SD</td>\n",
       "      <td>Minnehaha</td>\n",
       "      <td>57110</td>\n",
       "      <td>43.54321</td>\n",
       "      <td>-96.63772</td>\n",
       "      <td>17125</td>\n",
       "      <td>Suburban</td>\n",
       "      <td>America/Chicago</td>\n",
       "      <td>Chief Executive Officer</td>\n",
       "      <td>3</td>\n",
       "      <td>53</td>\n",
       "      <td>14370.14</td>\n",
       "      <td>Widowed</td>\n",
       "      <td>Female</td>\n",
       "      <td>No</td>\n",
       "      <td>18.057507</td>\n",
       "      <td>4</td>\n",
       "      <td>1</td>\n",
       "      <td>0</td>\n",
       "      <td>No</td>\n",
       "      <td>Elective Admission</td>\n",
       "      <td>Yes</td>\n",
       "      <td>No</td>\n",
       "      <td>Medium</td>\n",
       "      <td>Yes</td>\n",
       "      <td>No</td>\n",
       "      <td>Yes</td>\n",
       "      <td>No</td>\n",
       "      <td>No</td>\n",
       "      <td>No</td>\n",
       "      <td>No</td>\n",
       "      <td>No</td>\n",
       "      <td>No</td>\n",
       "      <td>Blood Work</td>\n",
       "      <td>4.772177</td>\n",
       "      <td>2434.234222</td>\n",
       "      <td>17505.192460</td>\n",
       "      <td>2</td>\n",
       "      <td>4</td>\n",
       "      <td>4</td>\n",
       "      <td>4</td>\n",
       "      <td>3</td>\n",
       "      <td>4</td>\n",
       "      <td>3</td>\n",
       "      <td>3</td>\n",
       "    </tr>\n",
       "    <tr>\n",
       "      <th>3</th>\n",
       "      <td>4</td>\n",
       "      <td>A879973</td>\n",
       "      <td>1dec528d-eb34-4079-adce-0d7a40e82205</td>\n",
       "      <td>cd17d7b6d152cb6f23957346d11c3f07</td>\n",
       "      <td>New Richland</td>\n",
       "      <td>MN</td>\n",
       "      <td>Waseca</td>\n",
       "      <td>56072</td>\n",
       "      <td>43.89744</td>\n",
       "      <td>-93.51479</td>\n",
       "      <td>2162</td>\n",
       "      <td>Suburban</td>\n",
       "      <td>America/Chicago</td>\n",
       "      <td>Early years teacher</td>\n",
       "      <td>0</td>\n",
       "      <td>78</td>\n",
       "      <td>39741.49</td>\n",
       "      <td>Married</td>\n",
       "      <td>Male</td>\n",
       "      <td>No</td>\n",
       "      <td>16.576858</td>\n",
       "      <td>4</td>\n",
       "      <td>1</td>\n",
       "      <td>0</td>\n",
       "      <td>No</td>\n",
       "      <td>Elective Admission</td>\n",
       "      <td>No</td>\n",
       "      <td>Yes</td>\n",
       "      <td>Medium</td>\n",
       "      <td>No</td>\n",
       "      <td>Yes</td>\n",
       "      <td>No</td>\n",
       "      <td>No</td>\n",
       "      <td>No</td>\n",
       "      <td>No</td>\n",
       "      <td>No</td>\n",
       "      <td>Yes</td>\n",
       "      <td>Yes</td>\n",
       "      <td>Blood Work</td>\n",
       "      <td>1.714879</td>\n",
       "      <td>2127.830423</td>\n",
       "      <td>12993.437350</td>\n",
       "      <td>3</td>\n",
       "      <td>5</td>\n",
       "      <td>5</td>\n",
       "      <td>3</td>\n",
       "      <td>4</td>\n",
       "      <td>5</td>\n",
       "      <td>5</td>\n",
       "      <td>5</td>\n",
       "    </tr>\n",
       "    <tr>\n",
       "      <th>4</th>\n",
       "      <td>5</td>\n",
       "      <td>C544523</td>\n",
       "      <td>5885f56b-d6da-43a3-8760-83583af94266</td>\n",
       "      <td>d2f0425877b10ed6bb381f3e2579424a</td>\n",
       "      <td>West Point</td>\n",
       "      <td>VA</td>\n",
       "      <td>King William</td>\n",
       "      <td>23181</td>\n",
       "      <td>37.59894</td>\n",
       "      <td>-76.88958</td>\n",
       "      <td>5287</td>\n",
       "      <td>Rural</td>\n",
       "      <td>America/New_York</td>\n",
       "      <td>Health promotion specialist</td>\n",
       "      <td>1</td>\n",
       "      <td>22</td>\n",
       "      <td>1209.56</td>\n",
       "      <td>Widowed</td>\n",
       "      <td>Female</td>\n",
       "      <td>No</td>\n",
       "      <td>17.439069</td>\n",
       "      <td>5</td>\n",
       "      <td>0</td>\n",
       "      <td>2</td>\n",
       "      <td>Yes</td>\n",
       "      <td>Elective Admission</td>\n",
       "      <td>No</td>\n",
       "      <td>No</td>\n",
       "      <td>Low</td>\n",
       "      <td>No</td>\n",
       "      <td>No</td>\n",
       "      <td>No</td>\n",
       "      <td>Yes</td>\n",
       "      <td>No</td>\n",
       "      <td>No</td>\n",
       "      <td>Yes</td>\n",
       "      <td>No</td>\n",
       "      <td>No</td>\n",
       "      <td>CT Scan</td>\n",
       "      <td>1.254807</td>\n",
       "      <td>2113.073274</td>\n",
       "      <td>3716.525786</td>\n",
       "      <td>2</td>\n",
       "      <td>1</td>\n",
       "      <td>3</td>\n",
       "      <td>3</td>\n",
       "      <td>5</td>\n",
       "      <td>3</td>\n",
       "      <td>4</td>\n",
       "      <td>3</td>\n",
       "    </tr>\n",
       "  </tbody>\n",
       "</table>\n",
       "</div>"
      ],
      "text/plain": [
       "   case_order customer_id                           interaction  \\\n",
       "0           1     C412403  8cd49b13-f45a-4b47-a2bd-173ffa932c2f   \n",
       "1           2     Z919181  d2450b70-0337-4406-bdbb-bc1037f1734c   \n",
       "2           3     F995323  a2057123-abf5-4a2c-abad-8ffe33512562   \n",
       "3           4     A879973  1dec528d-eb34-4079-adce-0d7a40e82205   \n",
       "4           5     C544523  5885f56b-d6da-43a3-8760-83583af94266   \n",
       "\n",
       "                                uid          city state        county    zip  \\\n",
       "0  3a83ddb66e2ae73798bdf1d705dc0932           Eva    AL        Morgan  35621   \n",
       "1  176354c5eef714957d486009feabf195      Marianna    FL       Jackson  32446   \n",
       "2  e19a0fa00aeda885b8a436757e889bc9   Sioux Falls    SD     Minnehaha  57110   \n",
       "3  cd17d7b6d152cb6f23957346d11c3f07  New Richland    MN        Waseca  56072   \n",
       "4  d2f0425877b10ed6bb381f3e2579424a    West Point    VA  King William  23181   \n",
       "\n",
       "   latitude  longitude  population      area          timezone  \\\n",
       "0  34.34960  -86.72508        2951  Suburban   America/Chicago   \n",
       "1  30.84513  -85.22907       11303     Urban   America/Chicago   \n",
       "2  43.54321  -96.63772       17125  Suburban   America/Chicago   \n",
       "3  43.89744  -93.51479        2162  Suburban   America/Chicago   \n",
       "4  37.59894  -76.88958        5287     Rural  America/New_York   \n",
       "\n",
       "                                job  children  age    income   marital  \\\n",
       "0  Psychologist, sport and exercise         1   53  86575.93  Divorced   \n",
       "1      Community development worker         3   51  46805.99   Married   \n",
       "2           Chief Executive Officer         3   53  14370.14   Widowed   \n",
       "3               Early years teacher         0   78  39741.49   Married   \n",
       "4       Health promotion specialist         1   22   1209.56   Widowed   \n",
       "\n",
       "   gender readmission  vit_d_level  doc_visits  full_meals_eaten  vit_d_supp  \\\n",
       "0    Male          No    19.141466           6                 0           0   \n",
       "1  Female          No    18.940352           4                 2           1   \n",
       "2  Female          No    18.057507           4                 1           0   \n",
       "3    Male          No    16.576858           4                 1           0   \n",
       "4  Female          No    17.439069           5                 0           2   \n",
       "\n",
       "  soft_drink        initial_admin high_blood stroke complication_risk  \\\n",
       "0         No  Emergency Admission        Yes     No            Medium   \n",
       "1         No  Emergency Admission        Yes     No              High   \n",
       "2         No   Elective Admission        Yes     No            Medium   \n",
       "3         No   Elective Admission         No    Yes            Medium   \n",
       "4        Yes   Elective Admission         No     No               Low   \n",
       "\n",
       "  overweight arthritis diabetes hyperlipidemia back_pain anxiety  \\\n",
       "0         No       Yes      Yes             No       Yes     Yes   \n",
       "1        Yes        No       No             No        No      No   \n",
       "2        Yes        No      Yes             No        No      No   \n",
       "3         No       Yes       No             No        No      No   \n",
       "4         No        No       No            Yes        No      No   \n",
       "\n",
       "  allergic_rhinitis reflux_esophagitis asthma     services  initial_days  \\\n",
       "0               Yes                 No    Yes   Blood Work     10.585770   \n",
       "1                No                Yes     No  Intravenous     15.129562   \n",
       "2                No                 No     No   Blood Work      4.772177   \n",
       "3                No                Yes    Yes   Blood Work      1.714879   \n",
       "4               Yes                 No     No      CT Scan      1.254807   \n",
       "\n",
       "   total_charge  additional_charges  item_1  item_2  item_3  item_4  item_5  \\\n",
       "0   3726.702860        17939.403420       3       3       2       2       4   \n",
       "1   4193.190458        17612.998120       3       4       3       4       4   \n",
       "2   2434.234222        17505.192460       2       4       4       4       3   \n",
       "3   2127.830423        12993.437350       3       5       5       3       4   \n",
       "4   2113.073274         3716.525786       2       1       3       3       5   \n",
       "\n",
       "   item_6  item_7  item_8  \n",
       "0       3       3       4  \n",
       "1       4       3       3  \n",
       "2       4       3       3  \n",
       "3       5       5       5  \n",
       "4       3       4       3  "
      ]
     },
     "execution_count": 31,
     "metadata": {},
     "output_type": "execute_result"
    }
   ],
   "source": [
    "# Standardize column names using snake_case and re-express names for comprehensiveness (Yang, 2024).\n",
    "col_names = ['case_order', 'customer_id', 'interaction', 'uid', 'city', 'state', 'county', 'zip', 'latitude', 'longitude',\n",
    "             'population', 'area', 'timezone', 'job', 'children', 'age', 'income', 'marital', 'gender', 'readmission', \n",
    "             'vit_d_level', 'doc_visits', 'full_meals_eaten', 'vit_d_supp', 'soft_drink', 'initial_admin', 'high_blood', 'stroke', 'complication_risk', 'overweight',\n",
    "             'arthritis', 'diabetes', 'hyperlipidemia', 'back_pain', 'anxiety', 'allergic_rhinitis', 'reflux_esophagitis', 'asthma', 'services', 'initial_days', \n",
    "             'total_charge', 'additional_charges', 'item_1', 'item_2', 'item_3', 'item_4', 'item_5', 'item_6', 'item_7', 'item_8']\n",
    "df.columns = col_names\n",
    "df.head()"
   ]
  },
  {
   "cell_type": "code",
   "execution_count": 32,
   "id": "95aadaaf-ac5e-40c2-8ef6-055fd5f72522",
   "metadata": {
    "tags": []
   },
   "outputs": [
    {
     "name": "stdout",
     "output_type": "stream",
     "text": [
      "<class 'pandas.core.frame.DataFrame'>\n",
      "RangeIndex: 10000 entries, 0 to 9999\n",
      "Data columns (total 50 columns):\n",
      " #   Column              Non-Null Count  Dtype  \n",
      "---  ------              --------------  -----  \n",
      " 0   case_order          10000 non-null  int64  \n",
      " 1   customer_id         10000 non-null  object \n",
      " 2   interaction         10000 non-null  object \n",
      " 3   uid                 10000 non-null  object \n",
      " 4   city                10000 non-null  object \n",
      " 5   state               10000 non-null  object \n",
      " 6   county              10000 non-null  object \n",
      " 7   zip                 10000 non-null  int64  \n",
      " 8   latitude            10000 non-null  float64\n",
      " 9   longitude           10000 non-null  float64\n",
      " 10  population          10000 non-null  int64  \n",
      " 11  area                10000 non-null  object \n",
      " 12  timezone            10000 non-null  object \n",
      " 13  job                 10000 non-null  object \n",
      " 14  children            10000 non-null  int64  \n",
      " 15  age                 10000 non-null  int64  \n",
      " 16  income              10000 non-null  float64\n",
      " 17  marital             10000 non-null  object \n",
      " 18  gender              10000 non-null  object \n",
      " 19  readmission         10000 non-null  object \n",
      " 20  vit_d_level         10000 non-null  float64\n",
      " 21  doc_visits          10000 non-null  int64  \n",
      " 22  full_meals_eaten    10000 non-null  int64  \n",
      " 23  vit_d_supp          10000 non-null  int64  \n",
      " 24  soft_drink          10000 non-null  object \n",
      " 25  initial_admin       10000 non-null  object \n",
      " 26  high_blood          10000 non-null  object \n",
      " 27  stroke              10000 non-null  object \n",
      " 28  complication_risk   10000 non-null  object \n",
      " 29  overweight          10000 non-null  object \n",
      " 30  arthritis           10000 non-null  object \n",
      " 31  diabetes            10000 non-null  object \n",
      " 32  hyperlipidemia      10000 non-null  object \n",
      " 33  back_pain           10000 non-null  object \n",
      " 34  anxiety             10000 non-null  object \n",
      " 35  allergic_rhinitis   10000 non-null  object \n",
      " 36  reflux_esophagitis  10000 non-null  object \n",
      " 37  asthma              10000 non-null  object \n",
      " 38  services            10000 non-null  object \n",
      " 39  initial_days        10000 non-null  float64\n",
      " 40  total_charge        10000 non-null  float64\n",
      " 41  additional_charges  10000 non-null  float64\n",
      " 42  item_1              10000 non-null  int64  \n",
      " 43  item_2              10000 non-null  int64  \n",
      " 44  item_3              10000 non-null  int64  \n",
      " 45  item_4              10000 non-null  int64  \n",
      " 46  item_5              10000 non-null  int64  \n",
      " 47  item_6              10000 non-null  int64  \n",
      " 48  item_7              10000 non-null  int64  \n",
      " 49  item_8              10000 non-null  int64  \n",
      "dtypes: float64(7), int64(16), object(27)\n",
      "memory usage: 3.8+ MB\n"
     ]
    }
   ],
   "source": [
    "#Check for missing values and initial data types\n",
    "df.info()"
   ]
  },
  {
   "cell_type": "code",
   "execution_count": 33,
   "id": "160e1c97-80b4-46ad-ba1f-09e0dbf7bc24",
   "metadata": {
    "tags": []
   },
   "outputs": [
    {
     "data": {
      "text/html": [
       "<div>\n",
       "<style scoped>\n",
       "    .dataframe tbody tr th:only-of-type {\n",
       "        vertical-align: middle;\n",
       "    }\n",
       "\n",
       "    .dataframe tbody tr th {\n",
       "        vertical-align: top;\n",
       "    }\n",
       "\n",
       "    .dataframe thead th {\n",
       "        text-align: right;\n",
       "    }\n",
       "</style>\n",
       "<table border=\"1\" class=\"dataframe\">\n",
       "  <thead>\n",
       "    <tr style=\"text-align: right;\">\n",
       "      <th></th>\n",
       "      <th>high_blood</th>\n",
       "      <th>stroke</th>\n",
       "      <th>overweight</th>\n",
       "      <th>arthritis</th>\n",
       "      <th>diabetes</th>\n",
       "      <th>hyperlipidemia</th>\n",
       "      <th>back_pain</th>\n",
       "      <th>anxiety</th>\n",
       "      <th>allergic_rhinitis</th>\n",
       "      <th>reflux_esophagitis</th>\n",
       "      <th>asthma</th>\n",
       "      <th>readmission</th>\n",
       "    </tr>\n",
       "  </thead>\n",
       "  <tbody>\n",
       "    <tr>\n",
       "      <th>0</th>\n",
       "      <td>Yes</td>\n",
       "      <td>No</td>\n",
       "      <td>No</td>\n",
       "      <td>Yes</td>\n",
       "      <td>Yes</td>\n",
       "      <td>No</td>\n",
       "      <td>Yes</td>\n",
       "      <td>Yes</td>\n",
       "      <td>Yes</td>\n",
       "      <td>No</td>\n",
       "      <td>Yes</td>\n",
       "      <td>No</td>\n",
       "    </tr>\n",
       "    <tr>\n",
       "      <th>1</th>\n",
       "      <td>Yes</td>\n",
       "      <td>No</td>\n",
       "      <td>Yes</td>\n",
       "      <td>No</td>\n",
       "      <td>No</td>\n",
       "      <td>No</td>\n",
       "      <td>No</td>\n",
       "      <td>No</td>\n",
       "      <td>No</td>\n",
       "      <td>Yes</td>\n",
       "      <td>No</td>\n",
       "      <td>No</td>\n",
       "    </tr>\n",
       "    <tr>\n",
       "      <th>2</th>\n",
       "      <td>Yes</td>\n",
       "      <td>No</td>\n",
       "      <td>Yes</td>\n",
       "      <td>No</td>\n",
       "      <td>Yes</td>\n",
       "      <td>No</td>\n",
       "      <td>No</td>\n",
       "      <td>No</td>\n",
       "      <td>No</td>\n",
       "      <td>No</td>\n",
       "      <td>No</td>\n",
       "      <td>No</td>\n",
       "    </tr>\n",
       "    <tr>\n",
       "      <th>3</th>\n",
       "      <td>No</td>\n",
       "      <td>Yes</td>\n",
       "      <td>No</td>\n",
       "      <td>Yes</td>\n",
       "      <td>No</td>\n",
       "      <td>No</td>\n",
       "      <td>No</td>\n",
       "      <td>No</td>\n",
       "      <td>No</td>\n",
       "      <td>Yes</td>\n",
       "      <td>Yes</td>\n",
       "      <td>No</td>\n",
       "    </tr>\n",
       "    <tr>\n",
       "      <th>4</th>\n",
       "      <td>No</td>\n",
       "      <td>No</td>\n",
       "      <td>No</td>\n",
       "      <td>No</td>\n",
       "      <td>No</td>\n",
       "      <td>Yes</td>\n",
       "      <td>No</td>\n",
       "      <td>No</td>\n",
       "      <td>Yes</td>\n",
       "      <td>No</td>\n",
       "      <td>No</td>\n",
       "      <td>No</td>\n",
       "    </tr>\n",
       "  </tbody>\n",
       "</table>\n",
       "</div>"
      ],
      "text/plain": [
       "  high_blood stroke overweight arthritis diabetes hyperlipidemia back_pain  \\\n",
       "0        Yes     No         No       Yes      Yes             No       Yes   \n",
       "1        Yes     No        Yes        No       No             No        No   \n",
       "2        Yes     No        Yes        No      Yes             No        No   \n",
       "3         No    Yes         No       Yes       No             No        No   \n",
       "4         No     No         No        No       No            Yes        No   \n",
       "\n",
       "  anxiety allergic_rhinitis reflux_esophagitis asthma readmission  \n",
       "0     Yes               Yes                 No    Yes          No  \n",
       "1      No                No                Yes     No          No  \n",
       "2      No                No                 No     No          No  \n",
       "3      No                No                Yes    Yes          No  \n",
       "4      No               Yes                 No     No          No  "
      ]
     },
     "execution_count": 33,
     "metadata": {},
     "output_type": "execute_result"
    }
   ],
   "source": [
    "#Select for interested variables only\n",
    "df = df[['high_blood','stroke','overweight','arthritis','diabetes','hyperlipidemia','back_pain','anxiety','allergic_rhinitis','reflux_esophagitis','asthma','readmission']]\n",
    "df.head()"
   ]
  },
  {
   "cell_type": "code",
   "execution_count": 34,
   "id": "def1b13a-9b3b-4c4d-af04-61bb20adf0ef",
   "metadata": {
    "tags": []
   },
   "outputs": [
    {
     "data": {
      "text/plain": [
       "high_blood\n",
       "No     5910\n",
       "Yes    4090\n",
       "Name: count, dtype: int64"
      ]
     },
     "execution_count": 34,
     "metadata": {},
     "output_type": "execute_result"
    }
   ],
   "source": [
    "df.high_blood.value_counts()"
   ]
  },
  {
   "cell_type": "code",
   "execution_count": 35,
   "id": "92ef54d7-26dc-46a5-a404-17da09b649c6",
   "metadata": {
    "tags": []
   },
   "outputs": [
    {
     "data": {
      "text/plain": [
       "stroke\n",
       "No     8007\n",
       "Yes    1993\n",
       "Name: count, dtype: int64"
      ]
     },
     "execution_count": 35,
     "metadata": {},
     "output_type": "execute_result"
    }
   ],
   "source": [
    "df.stroke.value_counts()"
   ]
  },
  {
   "cell_type": "code",
   "execution_count": 36,
   "id": "d8839330-7a80-47f1-93d4-82352a8d219b",
   "metadata": {
    "tags": []
   },
   "outputs": [
    {
     "data": {
      "text/plain": [
       "overweight\n",
       "Yes    7094\n",
       "No     2906\n",
       "Name: count, dtype: int64"
      ]
     },
     "execution_count": 36,
     "metadata": {},
     "output_type": "execute_result"
    }
   ],
   "source": [
    "df.overweight.value_counts()"
   ]
  },
  {
   "cell_type": "code",
   "execution_count": 37,
   "id": "6c3a1d65-e656-40f7-aa55-660d7c7cf72d",
   "metadata": {
    "tags": []
   },
   "outputs": [
    {
     "data": {
      "text/plain": [
       "arthritis\n",
       "No     6426\n",
       "Yes    3574\n",
       "Name: count, dtype: int64"
      ]
     },
     "execution_count": 37,
     "metadata": {},
     "output_type": "execute_result"
    }
   ],
   "source": [
    "df.arthritis.value_counts()"
   ]
  },
  {
   "cell_type": "code",
   "execution_count": 38,
   "id": "73e6b5a4-896b-4a7a-be5a-1bcad2e88959",
   "metadata": {
    "tags": []
   },
   "outputs": [
    {
     "data": {
      "text/plain": [
       "diabetes\n",
       "No     7262\n",
       "Yes    2738\n",
       "Name: count, dtype: int64"
      ]
     },
     "execution_count": 38,
     "metadata": {},
     "output_type": "execute_result"
    }
   ],
   "source": [
    "df.diabetes.value_counts()"
   ]
  },
  {
   "cell_type": "code",
   "execution_count": 39,
   "id": "e5ce36f2-05c4-4e5e-9170-dcc5ddf85a55",
   "metadata": {
    "tags": []
   },
   "outputs": [
    {
     "data": {
      "text/plain": [
       "hyperlipidemia\n",
       "No     6628\n",
       "Yes    3372\n",
       "Name: count, dtype: int64"
      ]
     },
     "execution_count": 39,
     "metadata": {},
     "output_type": "execute_result"
    }
   ],
   "source": [
    "df.hyperlipidemia.value_counts()"
   ]
  },
  {
   "cell_type": "code",
   "execution_count": 40,
   "id": "3e0c64bb-9b8d-4d7f-b694-8b73ac6d9e29",
   "metadata": {
    "tags": []
   },
   "outputs": [
    {
     "data": {
      "text/plain": [
       "back_pain\n",
       "No     5886\n",
       "Yes    4114\n",
       "Name: count, dtype: int64"
      ]
     },
     "execution_count": 40,
     "metadata": {},
     "output_type": "execute_result"
    }
   ],
   "source": [
    "df.back_pain.value_counts()"
   ]
  },
  {
   "cell_type": "code",
   "execution_count": 41,
   "id": "2a4f8889-9519-4561-ba03-0877631f9955",
   "metadata": {
    "tags": []
   },
   "outputs": [
    {
     "data": {
      "text/plain": [
       "anxiety\n",
       "No     6785\n",
       "Yes    3215\n",
       "Name: count, dtype: int64"
      ]
     },
     "execution_count": 41,
     "metadata": {},
     "output_type": "execute_result"
    }
   ],
   "source": [
    "df.anxiety.value_counts()"
   ]
  },
  {
   "cell_type": "code",
   "execution_count": 42,
   "id": "afbb9316-38d1-4a3b-b5bd-5fa39e14f0eb",
   "metadata": {
    "tags": []
   },
   "outputs": [
    {
     "data": {
      "text/plain": [
       "allergic_rhinitis\n",
       "No     6059\n",
       "Yes    3941\n",
       "Name: count, dtype: int64"
      ]
     },
     "execution_count": 42,
     "metadata": {},
     "output_type": "execute_result"
    }
   ],
   "source": [
    "df.allergic_rhinitis.value_counts()"
   ]
  },
  {
   "cell_type": "code",
   "execution_count": 43,
   "id": "7c1ab851-f351-422b-88fd-8d72fb6697be",
   "metadata": {
    "tags": []
   },
   "outputs": [
    {
     "data": {
      "text/plain": [
       "reflux_esophagitis\n",
       "No     5865\n",
       "Yes    4135\n",
       "Name: count, dtype: int64"
      ]
     },
     "execution_count": 43,
     "metadata": {},
     "output_type": "execute_result"
    }
   ],
   "source": [
    "df.reflux_esophagitis.value_counts()"
   ]
  },
  {
   "cell_type": "code",
   "execution_count": 44,
   "id": "aaaabf54-cc32-4b84-a4c1-4e19a095bf4d",
   "metadata": {
    "tags": []
   },
   "outputs": [
    {
     "data": {
      "text/plain": [
       "asthma\n",
       "No     7107\n",
       "Yes    2893\n",
       "Name: count, dtype: int64"
      ]
     },
     "execution_count": 44,
     "metadata": {},
     "output_type": "execute_result"
    }
   ],
   "source": [
    "df.asthma.value_counts()"
   ]
  },
  {
   "cell_type": "code",
   "execution_count": 45,
   "id": "3eb5fb4e-6f9c-4642-8951-ad372dc241b3",
   "metadata": {
    "tags": []
   },
   "outputs": [
    {
     "data": {
      "text/plain": [
       "readmission\n",
       "No     6331\n",
       "Yes    3669\n",
       "Name: count, dtype: int64"
      ]
     },
     "execution_count": 45,
     "metadata": {},
     "output_type": "execute_result"
    }
   ],
   "source": [
    "df.readmission.value_counts()"
   ]
  },
  {
   "cell_type": "code",
   "execution_count": 46,
   "id": "d4e768d1-431d-47db-91fa-78426dec4215",
   "metadata": {
    "tags": []
   },
   "outputs": [
    {
     "data": {
      "text/html": [
       "<div>\n",
       "<style scoped>\n",
       "    .dataframe tbody tr th:only-of-type {\n",
       "        vertical-align: middle;\n",
       "    }\n",
       "\n",
       "    .dataframe tbody tr th {\n",
       "        vertical-align: top;\n",
       "    }\n",
       "\n",
       "    .dataframe thead th {\n",
       "        text-align: right;\n",
       "    }\n",
       "</style>\n",
       "<table border=\"1\" class=\"dataframe\">\n",
       "  <thead>\n",
       "    <tr style=\"text-align: right;\">\n",
       "      <th></th>\n",
       "      <th>high_blood</th>\n",
       "      <th>stroke</th>\n",
       "      <th>overweight</th>\n",
       "      <th>arthritis</th>\n",
       "      <th>diabetes</th>\n",
       "      <th>hyperlipidemia</th>\n",
       "      <th>back_pain</th>\n",
       "      <th>anxiety</th>\n",
       "      <th>allergic_rhinitis</th>\n",
       "      <th>reflux_esophagitis</th>\n",
       "      <th>asthma</th>\n",
       "      <th>readmission</th>\n",
       "    </tr>\n",
       "  </thead>\n",
       "  <tbody>\n",
       "    <tr>\n",
       "      <th>0</th>\n",
       "      <td>1</td>\n",
       "      <td>0</td>\n",
       "      <td>0</td>\n",
       "      <td>1</td>\n",
       "      <td>1</td>\n",
       "      <td>0</td>\n",
       "      <td>1</td>\n",
       "      <td>1</td>\n",
       "      <td>1</td>\n",
       "      <td>0</td>\n",
       "      <td>1</td>\n",
       "      <td>0</td>\n",
       "    </tr>\n",
       "    <tr>\n",
       "      <th>1</th>\n",
       "      <td>1</td>\n",
       "      <td>0</td>\n",
       "      <td>1</td>\n",
       "      <td>0</td>\n",
       "      <td>0</td>\n",
       "      <td>0</td>\n",
       "      <td>0</td>\n",
       "      <td>0</td>\n",
       "      <td>0</td>\n",
       "      <td>1</td>\n",
       "      <td>0</td>\n",
       "      <td>0</td>\n",
       "    </tr>\n",
       "    <tr>\n",
       "      <th>2</th>\n",
       "      <td>1</td>\n",
       "      <td>0</td>\n",
       "      <td>1</td>\n",
       "      <td>0</td>\n",
       "      <td>1</td>\n",
       "      <td>0</td>\n",
       "      <td>0</td>\n",
       "      <td>0</td>\n",
       "      <td>0</td>\n",
       "      <td>0</td>\n",
       "      <td>0</td>\n",
       "      <td>0</td>\n",
       "    </tr>\n",
       "    <tr>\n",
       "      <th>3</th>\n",
       "      <td>0</td>\n",
       "      <td>1</td>\n",
       "      <td>0</td>\n",
       "      <td>1</td>\n",
       "      <td>0</td>\n",
       "      <td>0</td>\n",
       "      <td>0</td>\n",
       "      <td>0</td>\n",
       "      <td>0</td>\n",
       "      <td>1</td>\n",
       "      <td>1</td>\n",
       "      <td>0</td>\n",
       "    </tr>\n",
       "    <tr>\n",
       "      <th>4</th>\n",
       "      <td>0</td>\n",
       "      <td>0</td>\n",
       "      <td>0</td>\n",
       "      <td>0</td>\n",
       "      <td>0</td>\n",
       "      <td>1</td>\n",
       "      <td>0</td>\n",
       "      <td>0</td>\n",
       "      <td>1</td>\n",
       "      <td>0</td>\n",
       "      <td>0</td>\n",
       "      <td>0</td>\n",
       "    </tr>\n",
       "  </tbody>\n",
       "</table>\n",
       "</div>"
      ],
      "text/plain": [
       "   high_blood  stroke  overweight  arthritis  diabetes  hyperlipidemia  \\\n",
       "0           1       0           0          1         1               0   \n",
       "1           1       0           1          0         0               0   \n",
       "2           1       0           1          0         1               0   \n",
       "3           0       1           0          1         0               0   \n",
       "4           0       0           0          0         0               1   \n",
       "\n",
       "   back_pain  anxiety  allergic_rhinitis  reflux_esophagitis  asthma  \\\n",
       "0          1        1                  1                   0       1   \n",
       "1          0        0                  0                   1       0   \n",
       "2          0        0                  0                   0       0   \n",
       "3          0        0                  0                   1       1   \n",
       "4          0        0                  1                   0       0   \n",
       "\n",
       "   readmission  \n",
       "0            0  \n",
       "1            0  \n",
       "2            0  \n",
       "3            0  \n",
       "4            0  "
      ]
     },
     "execution_count": 46,
     "metadata": {},
     "output_type": "execute_result"
    }
   ],
   "source": [
    "#Encoding values to 1/0's\n",
    "df.replace({'Yes':1, 'No':0}, inplace=True)\n",
    "df.head()"
   ]
  },
  {
   "cell_type": "markdown",
   "id": "6b5aafaa-cfeb-4454-b26d-513482419f2f",
   "metadata": {},
   "source": [
    "<BR>"
   ]
  },
  {
   "cell_type": "markdown",
   "id": "2f78f0cc-6084-428a-b92e-001f25684a9d",
   "metadata": {},
   "source": [
    "## C4. Cleaned Data Set <a class=\"anchor\" id=\"C4\"></a>"
   ]
  },
  {
   "cell_type": "markdown",
   "id": "38fbdcda-6f4f-4701-aa2d-f11e4d450b6f",
   "metadata": {},
   "source": [
    "Attached to the submission is the cleaned data set, named \"D209_Task1_Data.csv.\""
   ]
  },
  {
   "cell_type": "code",
   "execution_count": 50,
   "id": "d0146507-161d-483b-b66d-43d9a3053069",
   "metadata": {
    "tags": []
   },
   "outputs": [],
   "source": [
    "#Generate csv file of prepared data set\n",
    "df.to_csv('D209_Task1_Data.csv', index=False)"
   ]
  },
  {
   "cell_type": "markdown",
   "id": "ce13fe64-ad43-48ec-9d00-5b9a01eda705",
   "metadata": {},
   "source": [
    "<BR>"
   ]
  },
  {
   "cell_type": "markdown",
   "id": "59235def-fc95-4de7-8fdf-c1d1b5ed91ac",
   "metadata": {},
   "source": [
    "## D1. Splitting the Data <a class=\"anchor\" id=\"D1\"></a>"
   ]
  },
  {
   "cell_type": "markdown",
   "id": "b6062142-3dd1-439c-ba6a-36df362b46ea",
   "metadata": {},
   "source": [
    "The prepared data set will be partitioned into an 80/20 split, where 80% of the data will be used for training and the other 20% for testing purposes. Additionally, the response data will be stratified during the split to include an even representation in both sets. Also attached are the train and test set data."
   ]
  },
  {
   "cell_type": "code",
   "execution_count": 54,
   "id": "2082bc6d-92cb-4690-aabf-9834bc10d234",
   "metadata": {
    "tags": []
   },
   "outputs": [],
   "source": [
    "#Set X and y\n",
    "X = df.drop('readmission', axis=1)\n",
    "y = df.readmission\n",
    "#Use 80/20 split and stratify y. Also set random state for reproducibility.\n",
    "X_train, X_test, y_train, y_test = train_test_split(X, y, train_size=0.8, test_size=0.2, stratify=y, random_state=69)"
   ]
  },
  {
   "cell_type": "code",
   "execution_count": 55,
   "id": "fc914cdf-9ea1-4fb7-9e8b-2261724b5440",
   "metadata": {
    "tags": []
   },
   "outputs": [],
   "source": [
    "#Generate train and test files\n",
    "med_train = pd.concat([X_train, y_train], axis=1)\n",
    "med_test = pd.concat([X_test, y_test], axis=1)\n",
    "\n",
    "med_train.to_csv('D209_Task1_Train.csv', index=False)\n",
    "med_test.to_csv('D209_Task1_Test.csv', index=False)"
   ]
  },
  {
   "cell_type": "markdown",
   "id": "4171c37d-963b-4fd5-af5d-fb67bc6ecab1",
   "metadata": {},
   "source": [
    "<BR>"
   ]
  },
  {
   "cell_type": "markdown",
   "id": "54223339-7588-4491-85e9-cfdc4f302b18",
   "metadata": {},
   "source": [
    "## D2. Output and Intermediate Calculations <a class=\"anchor\" id=\"D2\"></a>"
   ]
  },
  {
   "cell_type": "markdown",
   "id": "37d3fcb5-7a3c-4c66-a933-9cb87f265144",
   "metadata": {},
   "source": [
    "The number of neighbors used in the k-NN model sets the decision boundary for labeling unseen data, so a proper \"k\" value must be selected. Many techniques are used to determine the optimal number of neighbors, but the one used here is simple. K was decided using the square root of N observations (Bohara, 2023). Since the model is fitted on 80% of the data used for training, this proportion was used for the calculation. Taking the square root of 80% of the data, or 8000 observations, results in a value of about 89. This value represented the number of neighbors used in the model. As of this writing, the model uses default hyperparameters of uniform weights and the Minkowski distance metric.\n",
    "\n",
    "From the confusion matrix output, there were 1261 true negatives, one true positive, 733 false negatives, and five false positives. This resulted in about 1262 out of 2000 correct predictions, or a testing accuracy of 63.1%. The Receiver Operating Characteristic (ROC) curve was also plotted to represent a visual of the model's performance. An ideal curve represents one where the curve is as close to the top left of the graph as possible, whereas a curve close to the dotted line indicates poor performance (GeeksforGeeks, 2024). The curve on top of the dotted line indicates that the model performs very poorly. This implication can be further evaluated by taking the area under the curve (AUC). The AUC score was calculated to be 0.49, indicating that the model performs no better than random guessing (GeeksforGeeks, 2024)."
   ]
  },
  {
   "cell_type": "code",
   "execution_count": 59,
   "id": "30eaa60a-f379-48c8-a8b4-138b8496cba5",
   "metadata": {
    "tags": []
   },
   "outputs": [
    {
     "data": {
      "text/plain": [
       "89.44271909999159"
      ]
     },
     "execution_count": 59,
     "metadata": {},
     "output_type": "execute_result"
    }
   ],
   "source": [
    "#Determine k-value to use for n_neighbors\n",
    "np.sqrt(8000)"
   ]
  },
  {
   "cell_type": "code",
   "execution_count": 60,
   "id": "3424526a-9182-43a4-8859-e651e2286326",
   "metadata": {
    "tags": []
   },
   "outputs": [
    {
     "data": {
      "text/html": [
       "<style>#sk-container-id-1 {color: black;background-color: white;}#sk-container-id-1 pre{padding: 0;}#sk-container-id-1 div.sk-toggleable {background-color: white;}#sk-container-id-1 label.sk-toggleable__label {cursor: pointer;display: block;width: 100%;margin-bottom: 0;padding: 0.3em;box-sizing: border-box;text-align: center;}#sk-container-id-1 label.sk-toggleable__label-arrow:before {content: \"▸\";float: left;margin-right: 0.25em;color: #696969;}#sk-container-id-1 label.sk-toggleable__label-arrow:hover:before {color: black;}#sk-container-id-1 div.sk-estimator:hover label.sk-toggleable__label-arrow:before {color: black;}#sk-container-id-1 div.sk-toggleable__content {max-height: 0;max-width: 0;overflow: hidden;text-align: left;background-color: #f0f8ff;}#sk-container-id-1 div.sk-toggleable__content pre {margin: 0.2em;color: black;border-radius: 0.25em;background-color: #f0f8ff;}#sk-container-id-1 input.sk-toggleable__control:checked~div.sk-toggleable__content {max-height: 200px;max-width: 100%;overflow: auto;}#sk-container-id-1 input.sk-toggleable__control:checked~label.sk-toggleable__label-arrow:before {content: \"▾\";}#sk-container-id-1 div.sk-estimator input.sk-toggleable__control:checked~label.sk-toggleable__label {background-color: #d4ebff;}#sk-container-id-1 div.sk-label input.sk-toggleable__control:checked~label.sk-toggleable__label {background-color: #d4ebff;}#sk-container-id-1 input.sk-hidden--visually {border: 0;clip: rect(1px 1px 1px 1px);clip: rect(1px, 1px, 1px, 1px);height: 1px;margin: -1px;overflow: hidden;padding: 0;position: absolute;width: 1px;}#sk-container-id-1 div.sk-estimator {font-family: monospace;background-color: #f0f8ff;border: 1px dotted black;border-radius: 0.25em;box-sizing: border-box;margin-bottom: 0.5em;}#sk-container-id-1 div.sk-estimator:hover {background-color: #d4ebff;}#sk-container-id-1 div.sk-parallel-item::after {content: \"\";width: 100%;border-bottom: 1px solid gray;flex-grow: 1;}#sk-container-id-1 div.sk-label:hover label.sk-toggleable__label {background-color: #d4ebff;}#sk-container-id-1 div.sk-serial::before {content: \"\";position: absolute;border-left: 1px solid gray;box-sizing: border-box;top: 0;bottom: 0;left: 50%;z-index: 0;}#sk-container-id-1 div.sk-serial {display: flex;flex-direction: column;align-items: center;background-color: white;padding-right: 0.2em;padding-left: 0.2em;position: relative;}#sk-container-id-1 div.sk-item {position: relative;z-index: 1;}#sk-container-id-1 div.sk-parallel {display: flex;align-items: stretch;justify-content: center;background-color: white;position: relative;}#sk-container-id-1 div.sk-item::before, #sk-container-id-1 div.sk-parallel-item::before {content: \"\";position: absolute;border-left: 1px solid gray;box-sizing: border-box;top: 0;bottom: 0;left: 50%;z-index: -1;}#sk-container-id-1 div.sk-parallel-item {display: flex;flex-direction: column;z-index: 1;position: relative;background-color: white;}#sk-container-id-1 div.sk-parallel-item:first-child::after {align-self: flex-end;width: 50%;}#sk-container-id-1 div.sk-parallel-item:last-child::after {align-self: flex-start;width: 50%;}#sk-container-id-1 div.sk-parallel-item:only-child::after {width: 0;}#sk-container-id-1 div.sk-dashed-wrapped {border: 1px dashed gray;margin: 0 0.4em 0.5em 0.4em;box-sizing: border-box;padding-bottom: 0.4em;background-color: white;}#sk-container-id-1 div.sk-label label {font-family: monospace;font-weight: bold;display: inline-block;line-height: 1.2em;}#sk-container-id-1 div.sk-label-container {text-align: center;}#sk-container-id-1 div.sk-container {/* jupyter's `normalize.less` sets `[hidden] { display: none; }` but bootstrap.min.css set `[hidden] { display: none !important; }` so we also need the `!important` here to be able to override the default hidden behavior on the sphinx rendered scikit-learn.org. See: https://github.com/scikit-learn/scikit-learn/issues/21755 */display: inline-block !important;position: relative;}#sk-container-id-1 div.sk-text-repr-fallback {display: none;}</style><div id=\"sk-container-id-1\" class=\"sk-top-container\"><div class=\"sk-text-repr-fallback\"><pre>KNeighborsClassifier(n_neighbors=89)</pre><b>In a Jupyter environment, please rerun this cell to show the HTML representation or trust the notebook. <br />On GitHub, the HTML representation is unable to render, please try loading this page with nbviewer.org.</b></div><div class=\"sk-container\" hidden><div class=\"sk-item\"><div class=\"sk-estimator sk-toggleable\"><input class=\"sk-toggleable__control sk-hidden--visually\" id=\"sk-estimator-id-1\" type=\"checkbox\" checked><label for=\"sk-estimator-id-1\" class=\"sk-toggleable__label sk-toggleable__label-arrow\">KNeighborsClassifier</label><div class=\"sk-toggleable__content\"><pre>KNeighborsClassifier(n_neighbors=89)</pre></div></div></div></div></div>"
      ],
      "text/plain": [
       "KNeighborsClassifier(n_neighbors=89)"
      ]
     },
     "execution_count": 60,
     "metadata": {},
     "output_type": "execute_result"
    }
   ],
   "source": [
    "#Instantiate and train the model\n",
    "knn = KNeighborsClassifier(n_neighbors=89)\n",
    "knn.fit(X_train, y_train)"
   ]
  },
  {
   "cell_type": "code",
   "execution_count": 61,
   "id": "d19a9d82-e19d-42ea-a803-5bbbf5a6a6cb",
   "metadata": {
    "tags": []
   },
   "outputs": [
    {
     "name": "stdout",
     "output_type": "stream",
     "text": [
      "Confusion Matrix\n",
      "[[1261    5]\n",
      " [ 733    1]]\n",
      "Training Accuracy Score: 0.633125\n",
      "Testing Accuracy Score: 0.631\n",
      "Area Under the Curve(AUC) score: 0.4931901631864182\n"
     ]
    },
    {
     "data": {
      "image/png": "[encoded data removed]",
      "text/plain": [
       "<Figure size 640x480 with 1 Axes>"
      ]
     },
     "metadata": {},
     "output_type": "display_data"
    }
   ],
   "source": [
    "#Confusion Matrix\n",
    "y_pred = knn.predict(X_test)\n",
    "print('Confusion Matrix')\n",
    "print(confusion_matrix(y_test, y_pred))\n",
    "\n",
    "#Calculate Training and Testing Accuracy\n",
    "print('Training Accuracy Score:', knn.score(X_train, y_train))\n",
    "print('Testing Accuracy Score:', knn.score(X_test, y_test))\n",
    "\n",
    "#Calculate AUC score\n",
    "y_pred_proba = knn.predict_proba(X_test)[:, 1]\n",
    "auc_score = roc_auc_score(y_test, y_pred_proba)\n",
    "print('Area Under the Curve(AUC) score:', auc_score)\n",
    "\n",
    "#Generate ROC Curve (GeeksforGeeks, 2024).\n",
    "# Calculate ROC curve\n",
    "fpr, tpr, thresholds = roc_curve(y_test, y_pred_proba) \n",
    "# Plot the ROC curve\n",
    "plt.figure()  \n",
    "plt.plot(fpr, tpr, label='ROC curve (area = %0.2f)' % auc_score)\n",
    "plt.plot([0, 1], [0, 1], 'k--', label='No Skill')\n",
    "plt.xlim([0.0, 1.0])\n",
    "plt.ylim([0.0, 1.05])\n",
    "plt.xlabel('False Positive Rate')\n",
    "plt.ylabel('True Positive Rate')\n",
    "plt.title('ROC Curve for Hospital Readmission Classification')\n",
    "plt.legend()\n",
    "plt.show()"
   ]
  },
  {
   "cell_type": "markdown",
   "id": "e1f54c0f-3299-4390-9344-4f684cacc030",
   "metadata": {},
   "source": [
    "<BR>"
   ]
  },
  {
   "cell_type": "markdown",
   "id": "9282789d-8ab4-4729-b8b8-e2e718766cec",
   "metadata": {},
   "source": [
    "## D3. Code Execution <a class=\"anchor\" id=\"D3\"></a>"
   ]
  },
  {
   "cell_type": "markdown",
   "id": "9950dee9-bfef-4230-96df-ac370cefba01",
   "metadata": {},
   "source": [
    "A copy of the code is submitted alongside the report, named \"D209_Task_1_Leng_Yang.ipynb.\""
   ]
  },
  {
   "cell_type": "markdown",
   "id": "f59ffe24-fa83-4232-9d4e-55583ec76035",
   "metadata": {},
   "source": [
    "<BR>"
   ]
  },
  {
   "cell_type": "markdown",
   "id": "c277700a-cb7d-4ec1-9dd2-b749a455c4c0",
   "metadata": {},
   "source": [
    "## E1. Accuracy and AUC <a class=\"anchor\" id=\"E1\"></a>"
   ]
  },
  {
   "cell_type": "markdown",
   "id": "a54ecd3a-ede6-4231-8974-03937e6a1a85",
   "metadata": {},
   "source": [
    "The accuracy can be described as all correct predictions over the total number of predictions. As previously calculated, the model had a testing accuracy of about 63.1%. Additionally, the training accuracy was also calculated to determine if there was any overfitting. The training accuracy was 63.3%, slightly higher than the testing accuracy. Both accuracies being similar indicates that there was likely no overfitting involved.\n",
    "\n",
    "Furthermore, the precision of predicting hospital readmissions can also be looked at. The precision measures how often a model's positive predictions are correct. Precision can be calculated by looking at the true positives over all predicted positive values. In this case, the precision is 1 out of 6, or 16.6%. With such a poor precision score, the model cannot reliably predict readmitted patients.\n",
    "\n",
    "The area under the curve (AUC) score provides insight into a classification model's performance, with a score of 0.5 indicating a model as good as random guessing and a score of 1 indicating perfect classification ability (GeeksforGeeks, 2024). Earlier calculations resulted in an AUC score of about 0.49. This result suggests that the model performs rather poorly. It could be said that the model's predictions are as good as random guesses."
   ]
  },
  {
   "cell_type": "markdown",
   "id": "4e56eaae-feab-44bd-b078-840b44d908a9",
   "metadata": {},
   "source": [
    "<BR>"
   ]
  },
  {
   "cell_type": "markdown",
   "id": "28dc8242-394e-4ca1-9054-b7814ee06477",
   "metadata": {},
   "source": [
    "## E2. Results and Implications <a class=\"anchor\" id=\"E2\"></a>"
   ]
  },
  {
   "cell_type": "markdown",
   "id": "269dd673-c15e-4a46-b085-d5233c26b9be",
   "metadata": {},
   "source": [
    "This analysis aimed to reliably predict patient readmissions using existing medical conditions and a k-NN classification model. It was expected that the model would reliably label new data with an accuracy of 95%. This resulted in a testing accuracy of 63.1%, much lower than expected. As such, the model could not reliably predict readmissions based on medical conditions alone. This could implicate that other factors in the dataset may influence hospital readmissions as well. Given a calculated AUC score of 0.49, the model is as good as random chance, thus making for an unreliable one.\n",
    "\n",
    "Given the model's current poor performance, it could be further improved. Since no hyperparameter tuning was performed in this analysis, such tuning could improve model performance. Cross-validation could be used to determine the combination of hyperparameters that produce the highest model accuracy."
   ]
  },
  {
   "cell_type": "markdown",
   "id": "b6ebf9f5-726b-4865-bc5f-70c16325e804",
   "metadata": {},
   "source": [
    "<BR>"
   ]
  },
  {
   "cell_type": "markdown",
   "id": "ed12f609-eb79-4898-ae6b-1a574070e1ae",
   "metadata": {},
   "source": [
    "## E3. Limitation <a class=\"anchor\" id=\"E3\"></a>"
   ]
  },
  {
   "cell_type": "markdown",
   "id": "30120d09-aa8e-405a-94c3-dc646a579d77",
   "metadata": {},
   "source": [
    "One of the more prominent limitations in this analysis involves the imbalance in hospital readmission rates. Of all observations in the data, only about 36.7% of patients were readmitted. This imbalance may have led the model to mislabel the less common readmission class. This can be further implicated by the confusion matrix results of the testing set, where there were 733 false negatives and only one true positive. Most predictions were wrongly classified as no readmission when there was readmission."
   ]
  },
  {
   "cell_type": "markdown",
   "id": "06dfd57f-d3ef-4a03-83c9-2d58863359d7",
   "metadata": {},
   "source": [
    "<BR>"
   ]
  },
  {
   "cell_type": "markdown",
   "id": "00dd5fd8-d327-45b8-8624-cd6677521ef7",
   "metadata": {},
   "source": [
    "## E4. Course of Action <a class=\"anchor\" id=\"E4\"></a>"
   ]
  },
  {
   "cell_type": "markdown",
   "id": "c948db51-dd96-4641-8c79-152555398144",
   "metadata": {},
   "source": [
    "Based on the results of this analysis, with poor accuracy and AUC scores, this k-NN classification model should not be used to predict whether new patients are at risk of hospital readmission. This could indicate that patient medical conditions alone are insufficient to determine readmissions. Thus, using another technique instead to select predictors that would significantly impact readmission rates would be recommended. Additionally, cross-validation techniques should be employed for hyperparameter tuning to choose the combination that yields the best score and for a better estimate of model evaluation, as a single use of a train-test-split method can produce a high-variance estimate of model accuracy."
   ]
  },
  {
   "cell_type": "markdown",
   "id": "ff1e4a9c-2c15-4ca2-9a91-e7c5e459633d",
   "metadata": {},
   "source": [
    "<BR>"
   ]
  },
  {
   "cell_type": "markdown",
   "id": "c0124e2f-9d93-4306-b929-934d6b0d8c30",
   "metadata": {},
   "source": [
    "## F. Panopto Recording <a class=\"anchor\" id=\"F\"></a>"
   ]
  },
  {
   "cell_type": "markdown",
   "id": "5fcea2cb-6da1-4645-b842-880c8b287854",
   "metadata": {},
   "source": [
    "A recording is submitted alongside the report and can also be found at: https://wgu.hosted.panopto.com/Panopto/Pages/Viewer.aspx?id=6f40077e-711d-41e0-b178-b1d90105d61e"
   ]
  },
  {
   "cell_type": "markdown",
   "id": "1d7b8c4f-da16-4dd6-80d7-6f0b54845ac4",
   "metadata": {},
   "source": [
    "<BR>"
   ]
  },
  {
   "cell_type": "markdown",
   "id": "23aa9557-cfcd-4668-82ea-7762135b693d",
   "metadata": {},
   "source": [
    "## G. Sources for Third-Party Code <a class=\"anchor\" id=\"G\"></a>"
   ]
  },
  {
   "cell_type": "markdown",
   "id": "438d0db1-5bbf-4d9b-aa8d-9626bf25843f",
   "metadata": {},
   "source": [
    "GeeksforGeeks. (2024, March 8). _How to plot ROC curve in Python_. GeeksforGeeks. https://www.geeksforgeeks.org/how-to-plot-roc-curve-in-python/ \n",
    "\n",
    "Yang, L. (2024). _D206 PA Leng Yang Code_. [Unpublished assignment submitted for D206]. Western Governors Univeristy."
   ]
  },
  {
   "cell_type": "markdown",
   "id": "a394ef80-3bc2-4797-a1c5-43616ce49724",
   "metadata": {},
   "source": [
    "<BR>"
   ]
  },
  {
   "cell_type": "markdown",
   "id": "eb63ee48-0c96-4350-904f-8a84ac3106e0",
   "metadata": {},
   "source": [
    "## H. Sources <a class=\"anchor\" id=\"H\"></a>"
   ]
  },
  {
   "cell_type": "markdown",
   "id": "6756e848-26c2-424a-843f-5a13086ad354",
   "metadata": {},
   "source": [
    "Bohara, R. K. (2023, October 29). _How to find the optimal value of K in Knn?_. Medium. https://medium.com/@rkbohara097/how-to-find-the-optimal-value-of-k-in-knn-2d5177430f2a \n",
    "\n",
    "GeeksforGeeks. (2024, March 8). _How to plot ROC curve in Python_. GeeksforGeeks. https://www.geeksforgeeks.org/how-to-plot-roc-curve-in-python/ \n",
    "\n",
    "_What is the K-nearest neighbors algorithm?_. IBM. (2021, October 4). https://www.ibm.com/topics/knn \n",
    "\n",
    "Vishalmendekarhere. (2021, January 22). _It’s all about Assumptions, Pros & Cons_. Medium. https://medium.com/swlh/its-all-about-assumptions-pros-cons-497783cfed2d "
   ]
  }
 ],
 "metadata": {
  "kernelspec": {
   "display_name": "Python 3 (ipykernel)",
   "language": "python",
   "name": "python3"
  },
  "language_info": {
   "codemirror_mode": {
    "name": "ipython",
    "version": 3
   },
   "file_extension": ".py",
   "mimetype": "text/x-python",
   "name": "python",
   "nbconvert_exporter": "python",
   "pygments_lexer": "ipython3",
   "version": "3.11.9"
  }
 },
 "nbformat": 4,
 "nbformat_minor": 5
}
