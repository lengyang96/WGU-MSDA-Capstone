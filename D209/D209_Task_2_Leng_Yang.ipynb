{
 "cells": [
  {
   "cell_type": "markdown",
   "id": "49ea3961-79a2-4989-898d-686618087c4f",
   "metadata": {},
   "source": [
    "# D209: Data Mining I - Task 2: Predictive Analysis\n",
    "***"
   ]
  },
  {
   "cell_type": "markdown",
   "id": "705242a5-58e1-416e-b5f1-08dd8311091c",
   "metadata": {
    "tags": []
   },
   "source": [
    "### By: Leng Yang\n",
    "### Student ID: 012298452\n",
    "### Date: August 30, 2024\n",
    "***\n",
    "<br>\n",
    "<br>\n",
    "<br>"
   ]
  },
  {
   "cell_type": "markdown",
   "id": "2c36dae8-93df-4293-b7b2-8e075205a6ab",
   "metadata": {
    "tags": []
   },
   "source": [
    "## Table of Contents\n",
    "* [A1. Proposal of Question](#A1)\n",
    "* [A2. Defined Goal](#A2)\n",
    "* [B1. Explanation of Prediction](#B1)\n",
    "* [B2. Summary of Method Assumption](#B2)\n",
    "* [B3. Packages or Libraries List](#B3)\n",
    "* [C1. Data Preprocessing](#C1)\n",
    "* [C2. Data Set Variables](#C2)\n",
    "* [C3. Steps for Analysis](#C3)\n",
    "* [C4. Cleaned Data Set](#C4)\n",
    "* [D1. Splitting the Data](#D1)\n",
    "* [D2. Output and Intermediate Calculations](#D2)\n",
    "* [D3. Code Execution](#D3)\n",
    "* [E1. Accuracy and MSE](#E1)\n",
    "* [E2. Results and Implications](#E2)\n",
    "* [E3. Limitation](#E3)\n",
    "* [E4. Course of Action](#E4)\n",
    "* [F. Panopto Recording](#F)\n",
    "* [G. Sources for Third-Party Code](#G)\n",
    "* [H. Sources](#H)"
   ]
  },
  {
   "cell_type": "markdown",
   "id": "61042f26-3898-49a6-abe4-bda0253af217",
   "metadata": {},
   "source": [
    "<BR>"
   ]
  },
  {
   "cell_type": "markdown",
   "id": "cd6526b9-0917-49ba-8007-46aa8e8675db",
   "metadata": {
    "tags": []
   },
   "source": [
    "## A1. Proposal of Question <a class=\"anchor\" id=\"A1\"></a>"
   ]
  },
  {
   "cell_type": "markdown",
   "id": "fde6a2f9-133f-458f-97c4-075c0cae61ad",
   "metadata": {},
   "source": [
    "The research question for this paper is: can a decision tree model be used to estimate the length of an initial hospital stay?"
   ]
  },
  {
   "cell_type": "markdown",
   "id": "eefc3226-d9c1-497a-bd1d-22dbe3873e2a",
   "metadata": {},
   "source": [
    "<BR>"
   ]
  },
  {
   "cell_type": "markdown",
   "id": "41cf42e6-5fa0-4ee5-b8f0-a32e583c8c8c",
   "metadata": {},
   "source": [
    "## A2. Defined Goal <a class=\"anchor\" id=\"A2\"></a>"
   ]
  },
  {
   "cell_type": "markdown",
   "id": "a10250c0-e6cd-42d4-9d4a-fadefa13667c",
   "metadata": {},
   "source": [
    "My analysis aims to estimate the length of an initial hospital stay using significant patient factors from a medical data set. This analysis is relevant as hospitals continually struggle with patient capacity and staffing needs. Hospitals constantly need help with patient capacity as each serves vast communities. This issue is more prevalent in a post-Covid era, where more patients are being hospitalized due to severe symptoms requiring hospital admittance. Additionally, staffing issues continue as healthcare providers leave the profession due to long working hours and burnout. Determining factors that lead to the length of an initial hospital stay may give better insight as it may assist hospital systems in planning around such circumstances as patient capacity, staffing shortages, and others."
   ]
  },
  {
   "cell_type": "markdown",
   "id": "6b65e1d8-2a13-4797-8fa4-f54e0f75eb7d",
   "metadata": {},
   "source": [
    "<BR>"
   ]
  },
  {
   "cell_type": "markdown",
   "id": "8fab6f20-7096-4fdc-808b-1db40d8d9234",
   "metadata": {},
   "source": [
    "## B1. Explanation of Prediction <a class=\"anchor\" id=\"B1\"></a>"
   ]
  },
  {
   "cell_type": "markdown",
   "id": "243dce76-f9b0-441a-8ac6-ca4d3796104a",
   "metadata": {},
   "source": [
    "A decision tree model works well for this analysis as it can work with categorical and numerical data and aims to predict a continuous outcome. Additionally, it is robust to outliers, which can lead to better use of the original data, although data preparation still needs to occur to ensure no outstanding errors exist. This model can be considered a tree in terms of how it is structured. It starts with a root node and then continually splits into decision nodes based on certain conditions. This splitting continues until a leaf node is reached, which acts as the outcome and is determined based on a stopping criterion. This model imitates a tree containing a root, branches, and leaves. In the case of this analysis, the root is all the data and features that will be looked at. The model will then continually split the data until a stopping criterion is met and results are produced. An outcome of this analysis includes producing a decision tree regression model that can make predictions with minimal standard errors. This outcome would help the business in resource management and other things."
   ]
  },
  {
   "cell_type": "markdown",
   "id": "91a73a63-addc-4760-9820-b92217f016b3",
   "metadata": {},
   "source": [
    "<BR>"
   ]
  },
  {
   "cell_type": "markdown",
   "id": "c4a58119-9509-44a8-bc3e-823a0350a12c",
   "metadata": {},
   "source": [
    "## B2. Summary of Method Assumption <a class=\"anchor\" id=\"B2\"></a>"
   ]
  },
  {
   "cell_type": "markdown",
   "id": "115fe3a7-f85d-4028-8be1-eb213aa4e2db",
   "metadata": {},
   "source": [
    "One of the primary assumptions of the decision tree model is that it doesn't make any assumptions about the training data or the prediction residuals (Abhigyan, 2021). Some examples include the distribution of the data and independence amongst variables. In terms of data distribution, for instance, there are no requirements for the data to be normally distributed, so the model can work with skewed data and data that contains outliers. Additionally, some models, such as a linear regression model, assume no multicollinearity amongst variables, but this is not the case for decision tree models."
   ]
  },
  {
   "cell_type": "markdown",
   "id": "a0427e4f-5dcf-447c-98d7-7189a52b37a6",
   "metadata": {},
   "source": [
    "<BR>"
   ]
  },
  {
   "cell_type": "markdown",
   "id": "f39158d6-e666-4d38-a297-240f7fa90af3",
   "metadata": {},
   "source": [
    "## B3. Packages or Libraries List <a class=\"anchor\" id=\"B3\"></a>"
   ]
  },
  {
   "cell_type": "markdown",
   "id": "2ea672c8-2020-4256-844c-0b98d801f134",
   "metadata": {},
   "source": [
    "Listed are the Python packages and libraries used in assistance for this analysis:\n",
    "* Pandas: used to load the data into a tabular dataframe and for data manipulation\n",
    "* NumPy: used for matrix and mathematical calculations\n",
    "* Matplotlib and Seaborn are both used for visualizations\n",
    "* Sklearn provides several libraries that aid significantly in this analysis:\n",
    "    * DecisionTreeRegressor is used as the main algorithm and regression model for this analysis \n",
    "    * train_test_split is used to split the data into training and testing sets\n",
    "    * GridSearchCV is used for hyperparameter tuning of the model\n",
    "    * r2_score is used to calculate the $R^{2}$ of the model and used for model evaluation\n",
    "    * mean_squared_error is used to calculate the mean squared error of the model and used for model evaluation"
   ]
  },
  {
   "cell_type": "code",
   "execution_count": 19,
   "id": "9bd9e215-6cbe-4a74-8571-bfa744b9c1ae",
   "metadata": {
    "tags": []
   },
   "outputs": [],
   "source": [
    "import pandas as pd\n",
    "import numpy as np\n",
    "import matplotlib.pyplot as plt\n",
    "import seaborn as sns\n",
    "from sklearn.tree import DecisionTreeRegressor\n",
    "from sklearn.model_selection import train_test_split, GridSearchCV\n",
    "from sklearn.metrics import r2_score, mean_squared_error\n",
    "\n",
    "import warnings\n",
    "warnings.filterwarnings('ignore')\n",
    "\n",
    "pd.set_option('display.max_columns', None)"
   ]
  },
  {
   "cell_type": "code",
   "execution_count": 20,
   "id": "3ef2c95e-ad2c-48a2-8a5d-d89f4665126d",
   "metadata": {
    "tags": []
   },
   "outputs": [
    {
     "name": "stdout",
     "output_type": "stream",
     "text": [
      "python: 3.11.7\n",
      "pandas: 2.1.4\n",
      "numpy: 1.26.4\n"
     ]
    }
   ],
   "source": [
    "#Print working versions\n",
    "from platform import python_version\n",
    "print(\"python:\", python_version())\n",
    "print(\"pandas:\", pd.__version__)\n",
    "print(\"numpy:\", np.__version__)"
   ]
  },
  {
   "cell_type": "markdown",
   "id": "7db07a2d-3a10-4de9-81ba-b53f9c72ded0",
   "metadata": {},
   "source": [
    "<BR>"
   ]
  },
  {
   "cell_type": "markdown",
   "id": "12f950fe-70d8-4dd3-a619-41493f7caae1",
   "metadata": {},
   "source": [
    "## C1. Data Preprocessing <a class=\"anchor\" id=\"C1\"></a>"
   ]
  },
  {
   "cell_type": "markdown",
   "id": "839de624-e277-4e44-91a4-7a89ebb6a1ac",
   "metadata": {},
   "source": [
    "One of the primary data preprocessing steps will include encoding the categorical variables that will be used as predictors into numerical values. This includes encoding categorical variables with \"Yes/No\" values into 1/0's. Additionally, categorical variables with more than two levels will be dummy encoded. This will ensure that these variables will be inputted appropriately into the model. As the model can work with features of different scales, no normalization or standardization of the data needs to be performed."
   ]
  },
  {
   "cell_type": "markdown",
   "id": "38a88b19-ec36-4120-8562-948388d09626",
   "metadata": {},
   "source": [
    "<BR>"
   ]
  },
  {
   "cell_type": "markdown",
   "id": "19f84399-a412-476b-947d-6d2144219c9a",
   "metadata": {},
   "source": [
    "## C2. Data Set Variables <a class=\"anchor\" id=\"C2\"></a>"
   ]
  },
  {
   "cell_type": "markdown",
   "id": "4fa5f390-ba35-49d9-976b-3e5eb8fb521c",
   "metadata": {},
   "source": [
    "The variables selected for this analysis are from my prior analysis in D208, where statistically significant variables were determined (Yang, 2024). Below is a list of the variables and their respective data types.\n",
    "* Initial Days Hospitalized: Numeric\n",
    "* Total charge: Numeric\n",
    "* Initial admission: Categorical\n",
    "* Complication risk: Categorical\n",
    "* High blood pressure: Categorical\n",
    "* Arthritis: Categorical\n",
    "* Diabetes: Categorical\n",
    "* Hyperlipidemia: Categorical\n",
    "* Back pain: Categorical"
   ]
  },
  {
   "cell_type": "markdown",
   "id": "5a03c8ad-5fe9-41c7-922f-1cf20777cc55",
   "metadata": {},
   "source": [
    "<BR>"
   ]
  },
  {
   "cell_type": "markdown",
   "id": "f171a7b3-d9dd-4cc8-b28d-61765e9aa52b",
   "metadata": {},
   "source": [
    "## C3. Steps for Analysis <a class=\"anchor\" id=\"C3\"></a>"
   ]
  },
  {
   "cell_type": "markdown",
   "id": "fe43ae1a-594b-4897-a766-74da03edd245",
   "metadata": {},
   "source": [
    "The data was first loaded into a Pandas dataframe, and then the column names were reformatted using snake case for consistency. Afterward, checks were performed to look for any missing values or outliers. Upon checking, there were no missing values. Outliers were kept as they were within a reasonable range. Once cleaning was complete, only the relevant variables were kept, and the data was briefly explored to get a sense of the structure.\n",
    "\n",
    "After data cleaning and exploration were complete, the data was preprocessed before modeling. Categorical predictors with \"Yes/No\" values were encoded to 1/0. Categorical variables with more than two levels, such as `initial admission` and `complication risk`, were dummy encoded to represent all available levels."
   ]
  },
  {
   "cell_type": "code",
   "execution_count": 30,
   "id": "c32e4fed-2a6f-4d72-828c-ddcf2a2ab303",
   "metadata": {
    "tags": []
   },
   "outputs": [],
   "source": [
    "#Read data file into dataframe\n",
    "df = pd.read_csv('medical_clean.csv')"
   ]
  },
  {
   "cell_type": "code",
   "execution_count": 31,
   "id": "24d514f6-b0db-4501-899c-196e24de20dd",
   "metadata": {
    "tags": []
   },
   "outputs": [
    {
     "data": {
      "text/html": [
       "<div>\n",
       "<style scoped>\n",
       "    .dataframe tbody tr th:only-of-type {\n",
       "        vertical-align: middle;\n",
       "    }\n",
       "\n",
       "    .dataframe tbody tr th {\n",
       "        vertical-align: top;\n",
       "    }\n",
       "\n",
       "    .dataframe thead th {\n",
       "        text-align: right;\n",
       "    }\n",
       "</style>\n",
       "<table border=\"1\" class=\"dataframe\">\n",
       "  <thead>\n",
       "    <tr style=\"text-align: right;\">\n",
       "      <th></th>\n",
       "      <th>case_order</th>\n",
       "      <th>customer_id</th>\n",
       "      <th>interaction</th>\n",
       "      <th>uid</th>\n",
       "      <th>city</th>\n",
       "      <th>state</th>\n",
       "      <th>county</th>\n",
       "      <th>zip</th>\n",
       "      <th>latitude</th>\n",
       "      <th>longitude</th>\n",
       "      <th>population</th>\n",
       "      <th>area</th>\n",
       "      <th>timezone</th>\n",
       "      <th>job</th>\n",
       "      <th>children</th>\n",
       "      <th>age</th>\n",
       "      <th>income</th>\n",
       "      <th>marital</th>\n",
       "      <th>gender</th>\n",
       "      <th>readmission</th>\n",
       "      <th>vit_d_level</th>\n",
       "      <th>doc_visits</th>\n",
       "      <th>full_meals_eaten</th>\n",
       "      <th>vit_d_supp</th>\n",
       "      <th>soft_drink</th>\n",
       "      <th>initial_admin</th>\n",
       "      <th>high_blood</th>\n",
       "      <th>stroke</th>\n",
       "      <th>complication_risk</th>\n",
       "      <th>overweight</th>\n",
       "      <th>arthritis</th>\n",
       "      <th>diabetes</th>\n",
       "      <th>hyperlipidemia</th>\n",
       "      <th>back_pain</th>\n",
       "      <th>anxiety</th>\n",
       "      <th>allergic_rhinitis</th>\n",
       "      <th>reflux_esophagitis</th>\n",
       "      <th>asthma</th>\n",
       "      <th>services</th>\n",
       "      <th>initial_days</th>\n",
       "      <th>total_charge</th>\n",
       "      <th>additional_charges</th>\n",
       "      <th>item_1</th>\n",
       "      <th>item_2</th>\n",
       "      <th>item_3</th>\n",
       "      <th>item_4</th>\n",
       "      <th>item_5</th>\n",
       "      <th>item_6</th>\n",
       "      <th>item_7</th>\n",
       "      <th>item_8</th>\n",
       "    </tr>\n",
       "  </thead>\n",
       "  <tbody>\n",
       "    <tr>\n",
       "      <th>0</th>\n",
       "      <td>1</td>\n",
       "      <td>C412403</td>\n",
       "      <td>8cd49b13-f45a-4b47-a2bd-173ffa932c2f</td>\n",
       "      <td>3a83ddb66e2ae73798bdf1d705dc0932</td>\n",
       "      <td>Eva</td>\n",
       "      <td>AL</td>\n",
       "      <td>Morgan</td>\n",
       "      <td>35621</td>\n",
       "      <td>34.34960</td>\n",
       "      <td>-86.72508</td>\n",
       "      <td>2951</td>\n",
       "      <td>Suburban</td>\n",
       "      <td>America/Chicago</td>\n",
       "      <td>Psychologist, sport and exercise</td>\n",
       "      <td>1</td>\n",
       "      <td>53</td>\n",
       "      <td>86575.93</td>\n",
       "      <td>Divorced</td>\n",
       "      <td>Male</td>\n",
       "      <td>No</td>\n",
       "      <td>19.141466</td>\n",
       "      <td>6</td>\n",
       "      <td>0</td>\n",
       "      <td>0</td>\n",
       "      <td>No</td>\n",
       "      <td>Emergency Admission</td>\n",
       "      <td>Yes</td>\n",
       "      <td>No</td>\n",
       "      <td>Medium</td>\n",
       "      <td>No</td>\n",
       "      <td>Yes</td>\n",
       "      <td>Yes</td>\n",
       "      <td>No</td>\n",
       "      <td>Yes</td>\n",
       "      <td>Yes</td>\n",
       "      <td>Yes</td>\n",
       "      <td>No</td>\n",
       "      <td>Yes</td>\n",
       "      <td>Blood Work</td>\n",
       "      <td>10.585770</td>\n",
       "      <td>3726.702860</td>\n",
       "      <td>17939.403420</td>\n",
       "      <td>3</td>\n",
       "      <td>3</td>\n",
       "      <td>2</td>\n",
       "      <td>2</td>\n",
       "      <td>4</td>\n",
       "      <td>3</td>\n",
       "      <td>3</td>\n",
       "      <td>4</td>\n",
       "    </tr>\n",
       "    <tr>\n",
       "      <th>1</th>\n",
       "      <td>2</td>\n",
       "      <td>Z919181</td>\n",
       "      <td>d2450b70-0337-4406-bdbb-bc1037f1734c</td>\n",
       "      <td>176354c5eef714957d486009feabf195</td>\n",
       "      <td>Marianna</td>\n",
       "      <td>FL</td>\n",
       "      <td>Jackson</td>\n",
       "      <td>32446</td>\n",
       "      <td>30.84513</td>\n",
       "      <td>-85.22907</td>\n",
       "      <td>11303</td>\n",
       "      <td>Urban</td>\n",
       "      <td>America/Chicago</td>\n",
       "      <td>Community development worker</td>\n",
       "      <td>3</td>\n",
       "      <td>51</td>\n",
       "      <td>46805.99</td>\n",
       "      <td>Married</td>\n",
       "      <td>Female</td>\n",
       "      <td>No</td>\n",
       "      <td>18.940352</td>\n",
       "      <td>4</td>\n",
       "      <td>2</td>\n",
       "      <td>1</td>\n",
       "      <td>No</td>\n",
       "      <td>Emergency Admission</td>\n",
       "      <td>Yes</td>\n",
       "      <td>No</td>\n",
       "      <td>High</td>\n",
       "      <td>Yes</td>\n",
       "      <td>No</td>\n",
       "      <td>No</td>\n",
       "      <td>No</td>\n",
       "      <td>No</td>\n",
       "      <td>No</td>\n",
       "      <td>No</td>\n",
       "      <td>Yes</td>\n",
       "      <td>No</td>\n",
       "      <td>Intravenous</td>\n",
       "      <td>15.129562</td>\n",
       "      <td>4193.190458</td>\n",
       "      <td>17612.998120</td>\n",
       "      <td>3</td>\n",
       "      <td>4</td>\n",
       "      <td>3</td>\n",
       "      <td>4</td>\n",
       "      <td>4</td>\n",
       "      <td>4</td>\n",
       "      <td>3</td>\n",
       "      <td>3</td>\n",
       "    </tr>\n",
       "    <tr>\n",
       "      <th>2</th>\n",
       "      <td>3</td>\n",
       "      <td>F995323</td>\n",
       "      <td>a2057123-abf5-4a2c-abad-8ffe33512562</td>\n",
       "      <td>e19a0fa00aeda885b8a436757e889bc9</td>\n",
       "      <td>Sioux Falls</td>\n",
       "      <td>SD</td>\n",
       "      <td>Minnehaha</td>\n",
       "      <td>57110</td>\n",
       "      <td>43.54321</td>\n",
       "      <td>-96.63772</td>\n",
       "      <td>17125</td>\n",
       "      <td>Suburban</td>\n",
       "      <td>America/Chicago</td>\n",
       "      <td>Chief Executive Officer</td>\n",
       "      <td>3</td>\n",
       "      <td>53</td>\n",
       "      <td>14370.14</td>\n",
       "      <td>Widowed</td>\n",
       "      <td>Female</td>\n",
       "      <td>No</td>\n",
       "      <td>18.057507</td>\n",
       "      <td>4</td>\n",
       "      <td>1</td>\n",
       "      <td>0</td>\n",
       "      <td>No</td>\n",
       "      <td>Elective Admission</td>\n",
       "      <td>Yes</td>\n",
       "      <td>No</td>\n",
       "      <td>Medium</td>\n",
       "      <td>Yes</td>\n",
       "      <td>No</td>\n",
       "      <td>Yes</td>\n",
       "      <td>No</td>\n",
       "      <td>No</td>\n",
       "      <td>No</td>\n",
       "      <td>No</td>\n",
       "      <td>No</td>\n",
       "      <td>No</td>\n",
       "      <td>Blood Work</td>\n",
       "      <td>4.772177</td>\n",
       "      <td>2434.234222</td>\n",
       "      <td>17505.192460</td>\n",
       "      <td>2</td>\n",
       "      <td>4</td>\n",
       "      <td>4</td>\n",
       "      <td>4</td>\n",
       "      <td>3</td>\n",
       "      <td>4</td>\n",
       "      <td>3</td>\n",
       "      <td>3</td>\n",
       "    </tr>\n",
       "    <tr>\n",
       "      <th>3</th>\n",
       "      <td>4</td>\n",
       "      <td>A879973</td>\n",
       "      <td>1dec528d-eb34-4079-adce-0d7a40e82205</td>\n",
       "      <td>cd17d7b6d152cb6f23957346d11c3f07</td>\n",
       "      <td>New Richland</td>\n",
       "      <td>MN</td>\n",
       "      <td>Waseca</td>\n",
       "      <td>56072</td>\n",
       "      <td>43.89744</td>\n",
       "      <td>-93.51479</td>\n",
       "      <td>2162</td>\n",
       "      <td>Suburban</td>\n",
       "      <td>America/Chicago</td>\n",
       "      <td>Early years teacher</td>\n",
       "      <td>0</td>\n",
       "      <td>78</td>\n",
       "      <td>39741.49</td>\n",
       "      <td>Married</td>\n",
       "      <td>Male</td>\n",
       "      <td>No</td>\n",
       "      <td>16.576858</td>\n",
       "      <td>4</td>\n",
       "      <td>1</td>\n",
       "      <td>0</td>\n",
       "      <td>No</td>\n",
       "      <td>Elective Admission</td>\n",
       "      <td>No</td>\n",
       "      <td>Yes</td>\n",
       "      <td>Medium</td>\n",
       "      <td>No</td>\n",
       "      <td>Yes</td>\n",
       "      <td>No</td>\n",
       "      <td>No</td>\n",
       "      <td>No</td>\n",
       "      <td>No</td>\n",
       "      <td>No</td>\n",
       "      <td>Yes</td>\n",
       "      <td>Yes</td>\n",
       "      <td>Blood Work</td>\n",
       "      <td>1.714879</td>\n",
       "      <td>2127.830423</td>\n",
       "      <td>12993.437350</td>\n",
       "      <td>3</td>\n",
       "      <td>5</td>\n",
       "      <td>5</td>\n",
       "      <td>3</td>\n",
       "      <td>4</td>\n",
       "      <td>5</td>\n",
       "      <td>5</td>\n",
       "      <td>5</td>\n",
       "    </tr>\n",
       "    <tr>\n",
       "      <th>4</th>\n",
       "      <td>5</td>\n",
       "      <td>C544523</td>\n",
       "      <td>5885f56b-d6da-43a3-8760-83583af94266</td>\n",
       "      <td>d2f0425877b10ed6bb381f3e2579424a</td>\n",
       "      <td>West Point</td>\n",
       "      <td>VA</td>\n",
       "      <td>King William</td>\n",
       "      <td>23181</td>\n",
       "      <td>37.59894</td>\n",
       "      <td>-76.88958</td>\n",
       "      <td>5287</td>\n",
       "      <td>Rural</td>\n",
       "      <td>America/New_York</td>\n",
       "      <td>Health promotion specialist</td>\n",
       "      <td>1</td>\n",
       "      <td>22</td>\n",
       "      <td>1209.56</td>\n",
       "      <td>Widowed</td>\n",
       "      <td>Female</td>\n",
       "      <td>No</td>\n",
       "      <td>17.439069</td>\n",
       "      <td>5</td>\n",
       "      <td>0</td>\n",
       "      <td>2</td>\n",
       "      <td>Yes</td>\n",
       "      <td>Elective Admission</td>\n",
       "      <td>No</td>\n",
       "      <td>No</td>\n",
       "      <td>Low</td>\n",
       "      <td>No</td>\n",
       "      <td>No</td>\n",
       "      <td>No</td>\n",
       "      <td>Yes</td>\n",
       "      <td>No</td>\n",
       "      <td>No</td>\n",
       "      <td>Yes</td>\n",
       "      <td>No</td>\n",
       "      <td>No</td>\n",
       "      <td>CT Scan</td>\n",
       "      <td>1.254807</td>\n",
       "      <td>2113.073274</td>\n",
       "      <td>3716.525786</td>\n",
       "      <td>2</td>\n",
       "      <td>1</td>\n",
       "      <td>3</td>\n",
       "      <td>3</td>\n",
       "      <td>5</td>\n",
       "      <td>3</td>\n",
       "      <td>4</td>\n",
       "      <td>3</td>\n",
       "    </tr>\n",
       "  </tbody>\n",
       "</table>\n",
       "</div>"
      ],
      "text/plain": [
       "   case_order customer_id                           interaction  \\\n",
       "0           1     C412403  8cd49b13-f45a-4b47-a2bd-173ffa932c2f   \n",
       "1           2     Z919181  d2450b70-0337-4406-bdbb-bc1037f1734c   \n",
       "2           3     F995323  a2057123-abf5-4a2c-abad-8ffe33512562   \n",
       "3           4     A879973  1dec528d-eb34-4079-adce-0d7a40e82205   \n",
       "4           5     C544523  5885f56b-d6da-43a3-8760-83583af94266   \n",
       "\n",
       "                                uid          city state        county    zip  \\\n",
       "0  3a83ddb66e2ae73798bdf1d705dc0932           Eva    AL        Morgan  35621   \n",
       "1  176354c5eef714957d486009feabf195      Marianna    FL       Jackson  32446   \n",
       "2  e19a0fa00aeda885b8a436757e889bc9   Sioux Falls    SD     Minnehaha  57110   \n",
       "3  cd17d7b6d152cb6f23957346d11c3f07  New Richland    MN        Waseca  56072   \n",
       "4  d2f0425877b10ed6bb381f3e2579424a    West Point    VA  King William  23181   \n",
       "\n",
       "   latitude  longitude  population      area          timezone  \\\n",
       "0  34.34960  -86.72508        2951  Suburban   America/Chicago   \n",
       "1  30.84513  -85.22907       11303     Urban   America/Chicago   \n",
       "2  43.54321  -96.63772       17125  Suburban   America/Chicago   \n",
       "3  43.89744  -93.51479        2162  Suburban   America/Chicago   \n",
       "4  37.59894  -76.88958        5287     Rural  America/New_York   \n",
       "\n",
       "                                job  children  age    income   marital  \\\n",
       "0  Psychologist, sport and exercise         1   53  86575.93  Divorced   \n",
       "1      Community development worker         3   51  46805.99   Married   \n",
       "2           Chief Executive Officer         3   53  14370.14   Widowed   \n",
       "3               Early years teacher         0   78  39741.49   Married   \n",
       "4       Health promotion specialist         1   22   1209.56   Widowed   \n",
       "\n",
       "   gender readmission  vit_d_level  doc_visits  full_meals_eaten  vit_d_supp  \\\n",
       "0    Male          No    19.141466           6                 0           0   \n",
       "1  Female          No    18.940352           4                 2           1   \n",
       "2  Female          No    18.057507           4                 1           0   \n",
       "3    Male          No    16.576858           4                 1           0   \n",
       "4  Female          No    17.439069           5                 0           2   \n",
       "\n",
       "  soft_drink        initial_admin high_blood stroke complication_risk  \\\n",
       "0         No  Emergency Admission        Yes     No            Medium   \n",
       "1         No  Emergency Admission        Yes     No              High   \n",
       "2         No   Elective Admission        Yes     No            Medium   \n",
       "3         No   Elective Admission         No    Yes            Medium   \n",
       "4        Yes   Elective Admission         No     No               Low   \n",
       "\n",
       "  overweight arthritis diabetes hyperlipidemia back_pain anxiety  \\\n",
       "0         No       Yes      Yes             No       Yes     Yes   \n",
       "1        Yes        No       No             No        No      No   \n",
       "2        Yes        No      Yes             No        No      No   \n",
       "3         No       Yes       No             No        No      No   \n",
       "4         No        No       No            Yes        No      No   \n",
       "\n",
       "  allergic_rhinitis reflux_esophagitis asthma     services  initial_days  \\\n",
       "0               Yes                 No    Yes   Blood Work     10.585770   \n",
       "1                No                Yes     No  Intravenous     15.129562   \n",
       "2                No                 No     No   Blood Work      4.772177   \n",
       "3                No                Yes    Yes   Blood Work      1.714879   \n",
       "4               Yes                 No     No      CT Scan      1.254807   \n",
       "\n",
       "   total_charge  additional_charges  item_1  item_2  item_3  item_4  item_5  \\\n",
       "0   3726.702860        17939.403420       3       3       2       2       4   \n",
       "1   4193.190458        17612.998120       3       4       3       4       4   \n",
       "2   2434.234222        17505.192460       2       4       4       4       3   \n",
       "3   2127.830423        12993.437350       3       5       5       3       4   \n",
       "4   2113.073274         3716.525786       2       1       3       3       5   \n",
       "\n",
       "   item_6  item_7  item_8  \n",
       "0       3       3       4  \n",
       "1       4       3       3  \n",
       "2       4       3       3  \n",
       "3       5       5       5  \n",
       "4       3       4       3  "
      ]
     },
     "execution_count": 31,
     "metadata": {},
     "output_type": "execute_result"
    }
   ],
   "source": [
    "# Standardize column names using snake_case and re-express names for comprehensiveness (Yang, 2024).\n",
    "col_names = ['case_order', 'customer_id', 'interaction', 'uid', 'city', 'state', 'county', 'zip', 'latitude', 'longitude',\n",
    "             'population', 'area', 'timezone', 'job', 'children', 'age', 'income', 'marital', 'gender', 'readmission', \n",
    "             'vit_d_level', 'doc_visits', 'full_meals_eaten', 'vit_d_supp', 'soft_drink', 'initial_admin', 'high_blood', 'stroke', 'complication_risk', 'overweight',\n",
    "             'arthritis', 'diabetes', 'hyperlipidemia', 'back_pain', 'anxiety', 'allergic_rhinitis', 'reflux_esophagitis', 'asthma', 'services', 'initial_days', \n",
    "             'total_charge', 'additional_charges', 'item_1', 'item_2', 'item_3', 'item_4', 'item_5', 'item_6', 'item_7', 'item_8']\n",
    "df.columns = col_names\n",
    "df.head()"
   ]
  },
  {
   "cell_type": "code",
   "execution_count": 32,
   "id": "0f7adffd-20d5-49bd-83ba-40c05333ae53",
   "metadata": {
    "tags": []
   },
   "outputs": [
    {
     "name": "stdout",
     "output_type": "stream",
     "text": [
      "<class 'pandas.core.frame.DataFrame'>\n",
      "RangeIndex: 10000 entries, 0 to 9999\n",
      "Data columns (total 50 columns):\n",
      " #   Column              Non-Null Count  Dtype  \n",
      "---  ------              --------------  -----  \n",
      " 0   case_order          10000 non-null  int64  \n",
      " 1   customer_id         10000 non-null  object \n",
      " 2   interaction         10000 non-null  object \n",
      " 3   uid                 10000 non-null  object \n",
      " 4   city                10000 non-null  object \n",
      " 5   state               10000 non-null  object \n",
      " 6   county              10000 non-null  object \n",
      " 7   zip                 10000 non-null  int64  \n",
      " 8   latitude            10000 non-null  float64\n",
      " 9   longitude           10000 non-null  float64\n",
      " 10  population          10000 non-null  int64  \n",
      " 11  area                10000 non-null  object \n",
      " 12  timezone            10000 non-null  object \n",
      " 13  job                 10000 non-null  object \n",
      " 14  children            10000 non-null  int64  \n",
      " 15  age                 10000 non-null  int64  \n",
      " 16  income              10000 non-null  float64\n",
      " 17  marital             10000 non-null  object \n",
      " 18  gender              10000 non-null  object \n",
      " 19  readmission         10000 non-null  object \n",
      " 20  vit_d_level         10000 non-null  float64\n",
      " 21  doc_visits          10000 non-null  int64  \n",
      " 22  full_meals_eaten    10000 non-null  int64  \n",
      " 23  vit_d_supp          10000 non-null  int64  \n",
      " 24  soft_drink          10000 non-null  object \n",
      " 25  initial_admin       10000 non-null  object \n",
      " 26  high_blood          10000 non-null  object \n",
      " 27  stroke              10000 non-null  object \n",
      " 28  complication_risk   10000 non-null  object \n",
      " 29  overweight          10000 non-null  object \n",
      " 30  arthritis           10000 non-null  object \n",
      " 31  diabetes            10000 non-null  object \n",
      " 32  hyperlipidemia      10000 non-null  object \n",
      " 33  back_pain           10000 non-null  object \n",
      " 34  anxiety             10000 non-null  object \n",
      " 35  allergic_rhinitis   10000 non-null  object \n",
      " 36  reflux_esophagitis  10000 non-null  object \n",
      " 37  asthma              10000 non-null  object \n",
      " 38  services            10000 non-null  object \n",
      " 39  initial_days        10000 non-null  float64\n",
      " 40  total_charge        10000 non-null  float64\n",
      " 41  additional_charges  10000 non-null  float64\n",
      " 42  item_1              10000 non-null  int64  \n",
      " 43  item_2              10000 non-null  int64  \n",
      " 44  item_3              10000 non-null  int64  \n",
      " 45  item_4              10000 non-null  int64  \n",
      " 46  item_5              10000 non-null  int64  \n",
      " 47  item_6              10000 non-null  int64  \n",
      " 48  item_7              10000 non-null  int64  \n",
      " 49  item_8              10000 non-null  int64  \n",
      "dtypes: float64(7), int64(16), object(27)\n",
      "memory usage: 3.8+ MB\n"
     ]
    }
   ],
   "source": [
    "#Check for missing values and initial data types\n",
    "df.info()"
   ]
  },
  {
   "cell_type": "code",
   "execution_count": 33,
   "id": "70f21acd-ea0d-4fd5-ae84-6a38a47c252c",
   "metadata": {
    "tags": []
   },
   "outputs": [
    {
     "data": {
      "text/html": [
       "<div>\n",
       "<style scoped>\n",
       "    .dataframe tbody tr th:only-of-type {\n",
       "        vertical-align: middle;\n",
       "    }\n",
       "\n",
       "    .dataframe tbody tr th {\n",
       "        vertical-align: top;\n",
       "    }\n",
       "\n",
       "    .dataframe thead th {\n",
       "        text-align: right;\n",
       "    }\n",
       "</style>\n",
       "<table border=\"1\" class=\"dataframe\">\n",
       "  <thead>\n",
       "    <tr style=\"text-align: right;\">\n",
       "      <th></th>\n",
       "      <th>case_order</th>\n",
       "      <th>zip</th>\n",
       "      <th>latitude</th>\n",
       "      <th>longitude</th>\n",
       "      <th>population</th>\n",
       "      <th>children</th>\n",
       "      <th>age</th>\n",
       "      <th>income</th>\n",
       "      <th>vit_d_level</th>\n",
       "      <th>doc_visits</th>\n",
       "      <th>full_meals_eaten</th>\n",
       "      <th>vit_d_supp</th>\n",
       "      <th>initial_days</th>\n",
       "      <th>total_charge</th>\n",
       "      <th>additional_charges</th>\n",
       "      <th>item_1</th>\n",
       "      <th>item_2</th>\n",
       "      <th>item_3</th>\n",
       "      <th>item_4</th>\n",
       "      <th>item_5</th>\n",
       "      <th>item_6</th>\n",
       "      <th>item_7</th>\n",
       "      <th>item_8</th>\n",
       "    </tr>\n",
       "  </thead>\n",
       "  <tbody>\n",
       "    <tr>\n",
       "      <th>count</th>\n",
       "      <td>10000.00000</td>\n",
       "      <td>10000.000000</td>\n",
       "      <td>10000.000000</td>\n",
       "      <td>10000.000000</td>\n",
       "      <td>10000.000000</td>\n",
       "      <td>10000.000000</td>\n",
       "      <td>10000.000000</td>\n",
       "      <td>10000.000000</td>\n",
       "      <td>10000.000000</td>\n",
       "      <td>10000.000000</td>\n",
       "      <td>10000.000000</td>\n",
       "      <td>10000.000000</td>\n",
       "      <td>10000.000000</td>\n",
       "      <td>10000.000000</td>\n",
       "      <td>10000.000000</td>\n",
       "      <td>10000.000000</td>\n",
       "      <td>10000.000000</td>\n",
       "      <td>10000.000000</td>\n",
       "      <td>10000.000000</td>\n",
       "      <td>10000.000000</td>\n",
       "      <td>10000.000000</td>\n",
       "      <td>10000.000000</td>\n",
       "      <td>10000.000000</td>\n",
       "    </tr>\n",
       "    <tr>\n",
       "      <th>mean</th>\n",
       "      <td>5000.50000</td>\n",
       "      <td>50159.323900</td>\n",
       "      <td>38.751099</td>\n",
       "      <td>-91.243080</td>\n",
       "      <td>9965.253800</td>\n",
       "      <td>2.097200</td>\n",
       "      <td>53.511700</td>\n",
       "      <td>40490.495160</td>\n",
       "      <td>17.964262</td>\n",
       "      <td>5.012200</td>\n",
       "      <td>1.001400</td>\n",
       "      <td>0.398900</td>\n",
       "      <td>34.455299</td>\n",
       "      <td>5312.172769</td>\n",
       "      <td>12934.528587</td>\n",
       "      <td>3.518800</td>\n",
       "      <td>3.506700</td>\n",
       "      <td>3.511100</td>\n",
       "      <td>3.515100</td>\n",
       "      <td>3.496900</td>\n",
       "      <td>3.522500</td>\n",
       "      <td>3.494000</td>\n",
       "      <td>3.509700</td>\n",
       "    </tr>\n",
       "    <tr>\n",
       "      <th>std</th>\n",
       "      <td>2886.89568</td>\n",
       "      <td>27469.588208</td>\n",
       "      <td>5.403085</td>\n",
       "      <td>15.205998</td>\n",
       "      <td>14824.758614</td>\n",
       "      <td>2.163659</td>\n",
       "      <td>20.638538</td>\n",
       "      <td>28521.153293</td>\n",
       "      <td>2.017231</td>\n",
       "      <td>1.045734</td>\n",
       "      <td>1.008117</td>\n",
       "      <td>0.628505</td>\n",
       "      <td>26.309341</td>\n",
       "      <td>2180.393838</td>\n",
       "      <td>6542.601544</td>\n",
       "      <td>1.031966</td>\n",
       "      <td>1.034825</td>\n",
       "      <td>1.032755</td>\n",
       "      <td>1.036282</td>\n",
       "      <td>1.030192</td>\n",
       "      <td>1.032376</td>\n",
       "      <td>1.021405</td>\n",
       "      <td>1.042312</td>\n",
       "    </tr>\n",
       "    <tr>\n",
       "      <th>min</th>\n",
       "      <td>1.00000</td>\n",
       "      <td>610.000000</td>\n",
       "      <td>17.967190</td>\n",
       "      <td>-174.209700</td>\n",
       "      <td>0.000000</td>\n",
       "      <td>0.000000</td>\n",
       "      <td>18.000000</td>\n",
       "      <td>154.080000</td>\n",
       "      <td>9.806483</td>\n",
       "      <td>1.000000</td>\n",
       "      <td>0.000000</td>\n",
       "      <td>0.000000</td>\n",
       "      <td>1.001981</td>\n",
       "      <td>1938.312067</td>\n",
       "      <td>3125.703000</td>\n",
       "      <td>1.000000</td>\n",
       "      <td>1.000000</td>\n",
       "      <td>1.000000</td>\n",
       "      <td>1.000000</td>\n",
       "      <td>1.000000</td>\n",
       "      <td>1.000000</td>\n",
       "      <td>1.000000</td>\n",
       "      <td>1.000000</td>\n",
       "    </tr>\n",
       "    <tr>\n",
       "      <th>25%</th>\n",
       "      <td>2500.75000</td>\n",
       "      <td>27592.000000</td>\n",
       "      <td>35.255120</td>\n",
       "      <td>-97.352982</td>\n",
       "      <td>694.750000</td>\n",
       "      <td>0.000000</td>\n",
       "      <td>36.000000</td>\n",
       "      <td>19598.775000</td>\n",
       "      <td>16.626439</td>\n",
       "      <td>4.000000</td>\n",
       "      <td>0.000000</td>\n",
       "      <td>0.000000</td>\n",
       "      <td>7.896215</td>\n",
       "      <td>3179.374015</td>\n",
       "      <td>7986.487755</td>\n",
       "      <td>3.000000</td>\n",
       "      <td>3.000000</td>\n",
       "      <td>3.000000</td>\n",
       "      <td>3.000000</td>\n",
       "      <td>3.000000</td>\n",
       "      <td>3.000000</td>\n",
       "      <td>3.000000</td>\n",
       "      <td>3.000000</td>\n",
       "    </tr>\n",
       "    <tr>\n",
       "      <th>50%</th>\n",
       "      <td>5000.50000</td>\n",
       "      <td>50207.000000</td>\n",
       "      <td>39.419355</td>\n",
       "      <td>-88.397230</td>\n",
       "      <td>2769.000000</td>\n",
       "      <td>1.000000</td>\n",
       "      <td>53.000000</td>\n",
       "      <td>33768.420000</td>\n",
       "      <td>17.951122</td>\n",
       "      <td>5.000000</td>\n",
       "      <td>1.000000</td>\n",
       "      <td>0.000000</td>\n",
       "      <td>35.836244</td>\n",
       "      <td>5213.952000</td>\n",
       "      <td>11573.977735</td>\n",
       "      <td>4.000000</td>\n",
       "      <td>3.000000</td>\n",
       "      <td>4.000000</td>\n",
       "      <td>4.000000</td>\n",
       "      <td>3.000000</td>\n",
       "      <td>4.000000</td>\n",
       "      <td>3.000000</td>\n",
       "      <td>3.000000</td>\n",
       "    </tr>\n",
       "    <tr>\n",
       "      <th>75%</th>\n",
       "      <td>7500.25000</td>\n",
       "      <td>72411.750000</td>\n",
       "      <td>42.044175</td>\n",
       "      <td>-80.438050</td>\n",
       "      <td>13945.000000</td>\n",
       "      <td>3.000000</td>\n",
       "      <td>71.000000</td>\n",
       "      <td>54296.402500</td>\n",
       "      <td>19.347963</td>\n",
       "      <td>6.000000</td>\n",
       "      <td>2.000000</td>\n",
       "      <td>1.000000</td>\n",
       "      <td>61.161020</td>\n",
       "      <td>7459.699750</td>\n",
       "      <td>15626.490000</td>\n",
       "      <td>4.000000</td>\n",
       "      <td>4.000000</td>\n",
       "      <td>4.000000</td>\n",
       "      <td>4.000000</td>\n",
       "      <td>4.000000</td>\n",
       "      <td>4.000000</td>\n",
       "      <td>4.000000</td>\n",
       "      <td>4.000000</td>\n",
       "    </tr>\n",
       "    <tr>\n",
       "      <th>max</th>\n",
       "      <td>10000.00000</td>\n",
       "      <td>99929.000000</td>\n",
       "      <td>70.560990</td>\n",
       "      <td>-65.290170</td>\n",
       "      <td>122814.000000</td>\n",
       "      <td>10.000000</td>\n",
       "      <td>89.000000</td>\n",
       "      <td>207249.100000</td>\n",
       "      <td>26.394449</td>\n",
       "      <td>9.000000</td>\n",
       "      <td>7.000000</td>\n",
       "      <td>5.000000</td>\n",
       "      <td>71.981490</td>\n",
       "      <td>9180.728000</td>\n",
       "      <td>30566.070000</td>\n",
       "      <td>8.000000</td>\n",
       "      <td>7.000000</td>\n",
       "      <td>8.000000</td>\n",
       "      <td>7.000000</td>\n",
       "      <td>7.000000</td>\n",
       "      <td>7.000000</td>\n",
       "      <td>7.000000</td>\n",
       "      <td>7.000000</td>\n",
       "    </tr>\n",
       "  </tbody>\n",
       "</table>\n",
       "</div>"
      ],
      "text/plain": [
       "        case_order           zip      latitude     longitude     population  \\\n",
       "count  10000.00000  10000.000000  10000.000000  10000.000000   10000.000000   \n",
       "mean    5000.50000  50159.323900     38.751099    -91.243080    9965.253800   \n",
       "std     2886.89568  27469.588208      5.403085     15.205998   14824.758614   \n",
       "min        1.00000    610.000000     17.967190   -174.209700       0.000000   \n",
       "25%     2500.75000  27592.000000     35.255120    -97.352982     694.750000   \n",
       "50%     5000.50000  50207.000000     39.419355    -88.397230    2769.000000   \n",
       "75%     7500.25000  72411.750000     42.044175    -80.438050   13945.000000   \n",
       "max    10000.00000  99929.000000     70.560990    -65.290170  122814.000000   \n",
       "\n",
       "           children           age         income   vit_d_level    doc_visits  \\\n",
       "count  10000.000000  10000.000000   10000.000000  10000.000000  10000.000000   \n",
       "mean       2.097200     53.511700   40490.495160     17.964262      5.012200   \n",
       "std        2.163659     20.638538   28521.153293      2.017231      1.045734   \n",
       "min        0.000000     18.000000     154.080000      9.806483      1.000000   \n",
       "25%        0.000000     36.000000   19598.775000     16.626439      4.000000   \n",
       "50%        1.000000     53.000000   33768.420000     17.951122      5.000000   \n",
       "75%        3.000000     71.000000   54296.402500     19.347963      6.000000   \n",
       "max       10.000000     89.000000  207249.100000     26.394449      9.000000   \n",
       "\n",
       "       full_meals_eaten    vit_d_supp  initial_days  total_charge  \\\n",
       "count      10000.000000  10000.000000  10000.000000  10000.000000   \n",
       "mean           1.001400      0.398900     34.455299   5312.172769   \n",
       "std            1.008117      0.628505     26.309341   2180.393838   \n",
       "min            0.000000      0.000000      1.001981   1938.312067   \n",
       "25%            0.000000      0.000000      7.896215   3179.374015   \n",
       "50%            1.000000      0.000000     35.836244   5213.952000   \n",
       "75%            2.000000      1.000000     61.161020   7459.699750   \n",
       "max            7.000000      5.000000     71.981490   9180.728000   \n",
       "\n",
       "       additional_charges        item_1        item_2        item_3  \\\n",
       "count        10000.000000  10000.000000  10000.000000  10000.000000   \n",
       "mean         12934.528587      3.518800      3.506700      3.511100   \n",
       "std           6542.601544      1.031966      1.034825      1.032755   \n",
       "min           3125.703000      1.000000      1.000000      1.000000   \n",
       "25%           7986.487755      3.000000      3.000000      3.000000   \n",
       "50%          11573.977735      4.000000      3.000000      4.000000   \n",
       "75%          15626.490000      4.000000      4.000000      4.000000   \n",
       "max          30566.070000      8.000000      7.000000      8.000000   \n",
       "\n",
       "             item_4        item_5        item_6        item_7        item_8  \n",
       "count  10000.000000  10000.000000  10000.000000  10000.000000  10000.000000  \n",
       "mean       3.515100      3.496900      3.522500      3.494000      3.509700  \n",
       "std        1.036282      1.030192      1.032376      1.021405      1.042312  \n",
       "min        1.000000      1.000000      1.000000      1.000000      1.000000  \n",
       "25%        3.000000      3.000000      3.000000      3.000000      3.000000  \n",
       "50%        4.000000      3.000000      4.000000      3.000000      3.000000  \n",
       "75%        4.000000      4.000000      4.000000      4.000000      4.000000  \n",
       "max        7.000000      7.000000      7.000000      7.000000      7.000000  "
      ]
     },
     "execution_count": 33,
     "metadata": {},
     "output_type": "execute_result"
    }
   ],
   "source": [
    "#Look for outliers from statistical measures\n",
    "df.describe()"
   ]
  },
  {
   "cell_type": "code",
   "execution_count": 34,
   "id": "9f7b1d8f-9139-48c5-b1fc-5f7e734c3fb4",
   "metadata": {
    "tags": []
   },
   "outputs": [
    {
     "data": {
      "text/html": [
       "<div>\n",
       "<style scoped>\n",
       "    .dataframe tbody tr th:only-of-type {\n",
       "        vertical-align: middle;\n",
       "    }\n",
       "\n",
       "    .dataframe tbody tr th {\n",
       "        vertical-align: top;\n",
       "    }\n",
       "\n",
       "    .dataframe thead th {\n",
       "        text-align: right;\n",
       "    }\n",
       "</style>\n",
       "<table border=\"1\" class=\"dataframe\">\n",
       "  <thead>\n",
       "    <tr style=\"text-align: right;\">\n",
       "      <th></th>\n",
       "      <th>initial_days</th>\n",
       "      <th>total_charge</th>\n",
       "      <th>initial_admin</th>\n",
       "      <th>complication_risk</th>\n",
       "      <th>high_blood</th>\n",
       "      <th>arthritis</th>\n",
       "      <th>diabetes</th>\n",
       "      <th>hyperlipidemia</th>\n",
       "      <th>back_pain</th>\n",
       "    </tr>\n",
       "  </thead>\n",
       "  <tbody>\n",
       "    <tr>\n",
       "      <th>0</th>\n",
       "      <td>10.585770</td>\n",
       "      <td>3726.702860</td>\n",
       "      <td>Emergency Admission</td>\n",
       "      <td>Medium</td>\n",
       "      <td>Yes</td>\n",
       "      <td>Yes</td>\n",
       "      <td>Yes</td>\n",
       "      <td>No</td>\n",
       "      <td>Yes</td>\n",
       "    </tr>\n",
       "    <tr>\n",
       "      <th>1</th>\n",
       "      <td>15.129562</td>\n",
       "      <td>4193.190458</td>\n",
       "      <td>Emergency Admission</td>\n",
       "      <td>High</td>\n",
       "      <td>Yes</td>\n",
       "      <td>No</td>\n",
       "      <td>No</td>\n",
       "      <td>No</td>\n",
       "      <td>No</td>\n",
       "    </tr>\n",
       "    <tr>\n",
       "      <th>2</th>\n",
       "      <td>4.772177</td>\n",
       "      <td>2434.234222</td>\n",
       "      <td>Elective Admission</td>\n",
       "      <td>Medium</td>\n",
       "      <td>Yes</td>\n",
       "      <td>No</td>\n",
       "      <td>Yes</td>\n",
       "      <td>No</td>\n",
       "      <td>No</td>\n",
       "    </tr>\n",
       "    <tr>\n",
       "      <th>3</th>\n",
       "      <td>1.714879</td>\n",
       "      <td>2127.830423</td>\n",
       "      <td>Elective Admission</td>\n",
       "      <td>Medium</td>\n",
       "      <td>No</td>\n",
       "      <td>Yes</td>\n",
       "      <td>No</td>\n",
       "      <td>No</td>\n",
       "      <td>No</td>\n",
       "    </tr>\n",
       "    <tr>\n",
       "      <th>4</th>\n",
       "      <td>1.254807</td>\n",
       "      <td>2113.073274</td>\n",
       "      <td>Elective Admission</td>\n",
       "      <td>Low</td>\n",
       "      <td>No</td>\n",
       "      <td>No</td>\n",
       "      <td>No</td>\n",
       "      <td>Yes</td>\n",
       "      <td>No</td>\n",
       "    </tr>\n",
       "  </tbody>\n",
       "</table>\n",
       "</div>"
      ],
      "text/plain": [
       "   initial_days  total_charge        initial_admin complication_risk  \\\n",
       "0     10.585770   3726.702860  Emergency Admission            Medium   \n",
       "1     15.129562   4193.190458  Emergency Admission              High   \n",
       "2      4.772177   2434.234222   Elective Admission            Medium   \n",
       "3      1.714879   2127.830423   Elective Admission            Medium   \n",
       "4      1.254807   2113.073274   Elective Admission               Low   \n",
       "\n",
       "  high_blood arthritis diabetes hyperlipidemia back_pain  \n",
       "0        Yes       Yes      Yes             No       Yes  \n",
       "1        Yes        No       No             No        No  \n",
       "2        Yes        No      Yes             No        No  \n",
       "3         No       Yes       No             No        No  \n",
       "4         No        No       No            Yes        No  "
      ]
     },
     "execution_count": 34,
     "metadata": {},
     "output_type": "execute_result"
    }
   ],
   "source": [
    "#Select for interested variables\n",
    "df = df[['initial_days', 'total_charge', 'initial_admin', 'complication_risk', 'high_blood', 'arthritis', 'diabetes', 'hyperlipidemia', 'back_pain']]\n",
    "df.head()"
   ]
  },
  {
   "cell_type": "code",
   "execution_count": 35,
   "id": "4f35e611-0c07-488d-9a13-3109898ca2b8",
   "metadata": {
    "tags": []
   },
   "outputs": [
    {
     "data": {
      "text/html": [
       "<div>\n",
       "<style scoped>\n",
       "    .dataframe tbody tr th:only-of-type {\n",
       "        vertical-align: middle;\n",
       "    }\n",
       "\n",
       "    .dataframe tbody tr th {\n",
       "        vertical-align: top;\n",
       "    }\n",
       "\n",
       "    .dataframe thead th {\n",
       "        text-align: right;\n",
       "    }\n",
       "</style>\n",
       "<table border=\"1\" class=\"dataframe\">\n",
       "  <thead>\n",
       "    <tr style=\"text-align: right;\">\n",
       "      <th></th>\n",
       "      <th>initial_days</th>\n",
       "      <th>total_charge</th>\n",
       "    </tr>\n",
       "  </thead>\n",
       "  <tbody>\n",
       "    <tr>\n",
       "      <th>count</th>\n",
       "      <td>10000.000000</td>\n",
       "      <td>10000.000000</td>\n",
       "    </tr>\n",
       "    <tr>\n",
       "      <th>mean</th>\n",
       "      <td>34.455299</td>\n",
       "      <td>5312.172769</td>\n",
       "    </tr>\n",
       "    <tr>\n",
       "      <th>std</th>\n",
       "      <td>26.309341</td>\n",
       "      <td>2180.393838</td>\n",
       "    </tr>\n",
       "    <tr>\n",
       "      <th>min</th>\n",
       "      <td>1.001981</td>\n",
       "      <td>1938.312067</td>\n",
       "    </tr>\n",
       "    <tr>\n",
       "      <th>25%</th>\n",
       "      <td>7.896215</td>\n",
       "      <td>3179.374015</td>\n",
       "    </tr>\n",
       "    <tr>\n",
       "      <th>50%</th>\n",
       "      <td>35.836244</td>\n",
       "      <td>5213.952000</td>\n",
       "    </tr>\n",
       "    <tr>\n",
       "      <th>75%</th>\n",
       "      <td>61.161020</td>\n",
       "      <td>7459.699750</td>\n",
       "    </tr>\n",
       "    <tr>\n",
       "      <th>max</th>\n",
       "      <td>71.981490</td>\n",
       "      <td>9180.728000</td>\n",
       "    </tr>\n",
       "  </tbody>\n",
       "</table>\n",
       "</div>"
      ],
      "text/plain": [
       "       initial_days  total_charge\n",
       "count  10000.000000  10000.000000\n",
       "mean      34.455299   5312.172769\n",
       "std       26.309341   2180.393838\n",
       "min        1.001981   1938.312067\n",
       "25%        7.896215   3179.374015\n",
       "50%       35.836244   5213.952000\n",
       "75%       61.161020   7459.699750\n",
       "max       71.981490   9180.728000"
      ]
     },
     "execution_count": 35,
     "metadata": {},
     "output_type": "execute_result"
    }
   ],
   "source": [
    "#EDA of numeric variables\n",
    "df.describe()"
   ]
  },
  {
   "cell_type": "code",
   "execution_count": 36,
   "id": "19d43fc3-919c-4bde-b5bf-74bc3cfcd3c1",
   "metadata": {
    "tags": []
   },
   "outputs": [
    {
     "data": {
      "text/plain": [
       "initial_admin\n",
       "Emergency Admission      5060\n",
       "Elective Admission       2504\n",
       "Observation Admission    2436\n",
       "Name: count, dtype: int64"
      ]
     },
     "execution_count": 36,
     "metadata": {},
     "output_type": "execute_result"
    }
   ],
   "source": [
    "#EDA of categorical variables\n",
    "df.initial_admin.value_counts()"
   ]
  },
  {
   "cell_type": "code",
   "execution_count": 37,
   "id": "2cc82de2-6a36-4e68-a858-2c7815bdfe5c",
   "metadata": {
    "tags": []
   },
   "outputs": [
    {
     "data": {
      "text/plain": [
       "complication_risk\n",
       "Medium    4517\n",
       "High      3358\n",
       "Low       2125\n",
       "Name: count, dtype: int64"
      ]
     },
     "execution_count": 37,
     "metadata": {},
     "output_type": "execute_result"
    }
   ],
   "source": [
    "df.complication_risk.value_counts()"
   ]
  },
  {
   "cell_type": "code",
   "execution_count": 38,
   "id": "2c872d42-a0fc-4332-826e-c1fc75d2ef0d",
   "metadata": {
    "tags": []
   },
   "outputs": [
    {
     "data": {
      "text/plain": [
       "high_blood\n",
       "No     5910\n",
       "Yes    4090\n",
       "Name: count, dtype: int64"
      ]
     },
     "execution_count": 38,
     "metadata": {},
     "output_type": "execute_result"
    }
   ],
   "source": [
    "df.high_blood.value_counts()"
   ]
  },
  {
   "cell_type": "code",
   "execution_count": 39,
   "id": "c80cb40d-a5c1-48e8-aeb2-50f77d4007e0",
   "metadata": {
    "tags": []
   },
   "outputs": [
    {
     "data": {
      "text/plain": [
       "arthritis\n",
       "No     6426\n",
       "Yes    3574\n",
       "Name: count, dtype: int64"
      ]
     },
     "execution_count": 39,
     "metadata": {},
     "output_type": "execute_result"
    }
   ],
   "source": [
    "df.arthritis.value_counts()"
   ]
  },
  {
   "cell_type": "code",
   "execution_count": 40,
   "id": "4e4c727e-e44a-4aa0-8c22-3a4665ad5132",
   "metadata": {
    "tags": []
   },
   "outputs": [
    {
     "data": {
      "text/plain": [
       "diabetes\n",
       "No     7262\n",
       "Yes    2738\n",
       "Name: count, dtype: int64"
      ]
     },
     "execution_count": 40,
     "metadata": {},
     "output_type": "execute_result"
    }
   ],
   "source": [
    "df.diabetes.value_counts()"
   ]
  },
  {
   "cell_type": "code",
   "execution_count": 41,
   "id": "56a551d2-aa2c-40da-801d-5c6775d1c5d1",
   "metadata": {
    "tags": []
   },
   "outputs": [
    {
     "data": {
      "text/plain": [
       "hyperlipidemia\n",
       "No     6628\n",
       "Yes    3372\n",
       "Name: count, dtype: int64"
      ]
     },
     "execution_count": 41,
     "metadata": {},
     "output_type": "execute_result"
    }
   ],
   "source": [
    "df.hyperlipidemia.value_counts()"
   ]
  },
  {
   "cell_type": "code",
   "execution_count": 42,
   "id": "38c20c89-934e-4f14-b2ad-7bcb9032f5f4",
   "metadata": {
    "tags": []
   },
   "outputs": [
    {
     "data": {
      "text/plain": [
       "back_pain\n",
       "No     5886\n",
       "Yes    4114\n",
       "Name: count, dtype: int64"
      ]
     },
     "execution_count": 42,
     "metadata": {},
     "output_type": "execute_result"
    }
   ],
   "source": [
    "df.back_pain.value_counts()"
   ]
  },
  {
   "cell_type": "code",
   "execution_count": 43,
   "id": "602fe3a7-9d73-4402-93c4-bb63d2f2e051",
   "metadata": {
    "tags": []
   },
   "outputs": [
    {
     "data": {
      "text/html": [
       "<div>\n",
       "<style scoped>\n",
       "    .dataframe tbody tr th:only-of-type {\n",
       "        vertical-align: middle;\n",
       "    }\n",
       "\n",
       "    .dataframe tbody tr th {\n",
       "        vertical-align: top;\n",
       "    }\n",
       "\n",
       "    .dataframe thead th {\n",
       "        text-align: right;\n",
       "    }\n",
       "</style>\n",
       "<table border=\"1\" class=\"dataframe\">\n",
       "  <thead>\n",
       "    <tr style=\"text-align: right;\">\n",
       "      <th></th>\n",
       "      <th>initial_days</th>\n",
       "      <th>total_charge</th>\n",
       "      <th>high_blood</th>\n",
       "      <th>arthritis</th>\n",
       "      <th>diabetes</th>\n",
       "      <th>hyperlipidemia</th>\n",
       "      <th>back_pain</th>\n",
       "      <th>initial_admin_elective_admission</th>\n",
       "      <th>initial_admin_emergency_admission</th>\n",
       "      <th>initial_admin_observation_admission</th>\n",
       "      <th>complication_risk_high</th>\n",
       "      <th>complication_risk_low</th>\n",
       "      <th>complication_risk_medium</th>\n",
       "    </tr>\n",
       "  </thead>\n",
       "  <tbody>\n",
       "    <tr>\n",
       "      <th>0</th>\n",
       "      <td>10.585770</td>\n",
       "      <td>3726.702860</td>\n",
       "      <td>1</td>\n",
       "      <td>1</td>\n",
       "      <td>1</td>\n",
       "      <td>0</td>\n",
       "      <td>1</td>\n",
       "      <td>0</td>\n",
       "      <td>1</td>\n",
       "      <td>0</td>\n",
       "      <td>0</td>\n",
       "      <td>0</td>\n",
       "      <td>1</td>\n",
       "    </tr>\n",
       "    <tr>\n",
       "      <th>1</th>\n",
       "      <td>15.129562</td>\n",
       "      <td>4193.190458</td>\n",
       "      <td>1</td>\n",
       "      <td>0</td>\n",
       "      <td>0</td>\n",
       "      <td>0</td>\n",
       "      <td>0</td>\n",
       "      <td>0</td>\n",
       "      <td>1</td>\n",
       "      <td>0</td>\n",
       "      <td>1</td>\n",
       "      <td>0</td>\n",
       "      <td>0</td>\n",
       "    </tr>\n",
       "    <tr>\n",
       "      <th>2</th>\n",
       "      <td>4.772177</td>\n",
       "      <td>2434.234222</td>\n",
       "      <td>1</td>\n",
       "      <td>0</td>\n",
       "      <td>1</td>\n",
       "      <td>0</td>\n",
       "      <td>0</td>\n",
       "      <td>1</td>\n",
       "      <td>0</td>\n",
       "      <td>0</td>\n",
       "      <td>0</td>\n",
       "      <td>0</td>\n",
       "      <td>1</td>\n",
       "    </tr>\n",
       "    <tr>\n",
       "      <th>3</th>\n",
       "      <td>1.714879</td>\n",
       "      <td>2127.830423</td>\n",
       "      <td>0</td>\n",
       "      <td>1</td>\n",
       "      <td>0</td>\n",
       "      <td>0</td>\n",
       "      <td>0</td>\n",
       "      <td>1</td>\n",
       "      <td>0</td>\n",
       "      <td>0</td>\n",
       "      <td>0</td>\n",
       "      <td>0</td>\n",
       "      <td>1</td>\n",
       "    </tr>\n",
       "    <tr>\n",
       "      <th>4</th>\n",
       "      <td>1.254807</td>\n",
       "      <td>2113.073274</td>\n",
       "      <td>0</td>\n",
       "      <td>0</td>\n",
       "      <td>0</td>\n",
       "      <td>1</td>\n",
       "      <td>0</td>\n",
       "      <td>1</td>\n",
       "      <td>0</td>\n",
       "      <td>0</td>\n",
       "      <td>0</td>\n",
       "      <td>1</td>\n",
       "      <td>0</td>\n",
       "    </tr>\n",
       "  </tbody>\n",
       "</table>\n",
       "</div>"
      ],
      "text/plain": [
       "   initial_days  total_charge  high_blood  arthritis  diabetes  \\\n",
       "0     10.585770   3726.702860           1          1         1   \n",
       "1     15.129562   4193.190458           1          0         0   \n",
       "2      4.772177   2434.234222           1          0         1   \n",
       "3      1.714879   2127.830423           0          1         0   \n",
       "4      1.254807   2113.073274           0          0         0   \n",
       "\n",
       "   hyperlipidemia  back_pain  initial_admin_elective_admission  \\\n",
       "0               0          1                                 0   \n",
       "1               0          0                                 0   \n",
       "2               0          0                                 1   \n",
       "3               0          0                                 1   \n",
       "4               1          0                                 1   \n",
       "\n",
       "   initial_admin_emergency_admission  initial_admin_observation_admission  \\\n",
       "0                                  1                                    0   \n",
       "1                                  1                                    0   \n",
       "2                                  0                                    0   \n",
       "3                                  0                                    0   \n",
       "4                                  0                                    0   \n",
       "\n",
       "   complication_risk_high  complication_risk_low  complication_risk_medium  \n",
       "0                       0                      0                         1  \n",
       "1                       1                      0                         0  \n",
       "2                       0                      0                         1  \n",
       "3                       0                      0                         1  \n",
       "4                       0                      1                         0  "
      ]
     },
     "execution_count": 43,
     "metadata": {},
     "output_type": "execute_result"
    }
   ],
   "source": [
    "#Generate dummy variables for categoricals with more than two levels and assign 1/0s to True/Yes and False/No responses\n",
    "df = pd.get_dummies(df, columns=['initial_admin', 'complication_risk']).replace({True:1, 'Yes': 1, False:0, 'No':0})\n",
    "#Format column names\n",
    "df.columns = df.columns.str.lower().str.replace(' ', '_')\n",
    "\n",
    "df.head()"
   ]
  },
  {
   "cell_type": "markdown",
   "id": "6b5aafaa-cfeb-4454-b26d-513482419f2f",
   "metadata": {},
   "source": [
    "<BR>"
   ]
  },
  {
   "cell_type": "markdown",
   "id": "2f78f0cc-6084-428a-b92e-001f25684a9d",
   "metadata": {},
   "source": [
    "## C4. Cleaned Data Set <a class=\"anchor\" id=\"C4\"></a>"
   ]
  },
  {
   "cell_type": "markdown",
   "id": "bb727846-d83f-4131-b571-f1f00f7fffaa",
   "metadata": {},
   "source": [
    "Attached to the submission is the cleaned data set, named \"D209_Task2_Data.csv.\""
   ]
  },
  {
   "cell_type": "code",
   "execution_count": 47,
   "id": "5e5527e1-e958-4022-aeca-07b89a79fd87",
   "metadata": {
    "tags": []
   },
   "outputs": [],
   "source": [
    "#Generate csv file of prepared data set\n",
    "df.to_csv('D209_Task2_Data.csv', index=False)"
   ]
  },
  {
   "cell_type": "markdown",
   "id": "ce13fe64-ad43-48ec-9d00-5b9a01eda705",
   "metadata": {},
   "source": [
    "<BR>"
   ]
  },
  {
   "cell_type": "markdown",
   "id": "59235def-fc95-4de7-8fdf-c1d1b5ed91ac",
   "metadata": {},
   "source": [
    "## D1. Splitting the Data <a class=\"anchor\" id=\"D1\"></a>"
   ]
  },
  {
   "cell_type": "markdown",
   "id": "129b7f83-3065-4596-b234-dbbe4dd016e0",
   "metadata": {},
   "source": [
    "The prepared data set will be partitioned into an 80/20 split, where 80% of the data will be used for training and the other 20% for testing purposes. Also attached are the train and test set data."
   ]
  },
  {
   "cell_type": "code",
   "execution_count": 51,
   "id": "c1387a2f-6e02-410d-b0fe-6f2fcf231836",
   "metadata": {
    "tags": []
   },
   "outputs": [],
   "source": [
    "#Set X and y\n",
    "X = df.drop('initial_days', axis=1)\n",
    "y = df.initial_days\n",
    "#Use 80/20 split. Also set random state for reproducibility.\n",
    "X_train, X_test, y_train, y_test = train_test_split(X, y, train_size=0.8, test_size=0.2, random_state=69)"
   ]
  },
  {
   "cell_type": "code",
   "execution_count": 52,
   "id": "75057cdd-ea83-42ba-ae87-9cd4f9575da3",
   "metadata": {
    "tags": []
   },
   "outputs": [],
   "source": [
    "#Generate train and test files\n",
    "med_train = pd.concat([X_train, y_train], axis=1)\n",
    "med_test = pd.concat([X_test, y_test], axis=1)\n",
    "\n",
    "med_train.to_csv('D209_Task2_Train.csv', index=False)\n",
    "med_test.to_csv('D209_Task2_Test.csv', index=False)"
   ]
  },
  {
   "cell_type": "markdown",
   "id": "4171c37d-963b-4fd5-af5d-fb67bc6ecab1",
   "metadata": {},
   "source": [
    "<BR>"
   ]
  },
  {
   "cell_type": "markdown",
   "id": "54223339-7588-4491-85e9-cfdc4f302b18",
   "metadata": {},
   "source": [
    "## D2. Output and Intermediate Calculations <a class=\"anchor\" id=\"D2\"></a>"
   ]
  },
  {
   "cell_type": "markdown",
   "id": "89a4f4ac-9427-4bfd-8170-432724fdeb0c",
   "metadata": {},
   "source": [
    "The decision tree model employed in this analysis builds a model that is tree-like in structure. It contains a root node, which acts like the root or base of a tree. Also included are decision nodes and leaf nodes, which act like the branches and leaves of a tree. The model is built by recursively breaking down the data into smaller subsets until a decision is made, governed by a stopping criterion. This process creates a tree-like structure where the decision nodes contain the branches, and at the end are the leaf nodes, which include the results of the decisions.\n",
    "\n",
    "During the modeling process, hyperparameter tuning was performed to select the best combination of hyperparameters that constitute the model based on a scoring metric. The two hyperparameters tuned were `max_depth` and `min_samples_leaf`, where a range of values for each was explored. The tuning was completed with `GridSearchCV`, using 5-fold cross-validation and a mean squared error (MSE) scoring metric. The best combination of hyperparameters was the one that produced a model with the lowest MSE score. This resulted in the hyperparameters of a `max_depth` of \"None\" and a `min_samples_leaf` of 5.\n",
    "\n",
    "MSE scores were also calculated for both a model containing the default parameters and one containing the best hyperparameters and then compared. Again, lower MSE scores imply a better model as the score represents an error value that is trying to be minimized. Comparing the two MSE scores, 1.71 for the default model and 1.39 for the tuned model, the tuned model can perform better as it produces a smaller error."
   ]
  },
  {
   "cell_type": "code",
   "execution_count": 56,
   "id": "dbf5259a-a69b-4ef0-8ea7-7d6cb004e0bc",
   "metadata": {
    "tags": []
   },
   "outputs": [
    {
     "name": "stdout",
     "output_type": "stream",
     "text": [
      "The best hyperparameters are: {'max_depth': None, 'min_samples_leaf': 5}\n"
     ]
    }
   ],
   "source": [
    "#Hypertuning parameters used for testing\n",
    "param_dict = {'max_depth':[None,2,4,6,8,10], 'min_samples_leaf':[1,2,5,10,50,100]}\n",
    "\n",
    "#Instantiate model with random_state for reproducibility\n",
    "dtr = DecisionTreeRegressor(random_state=69)\n",
    "\n",
    "#Instantiate GridSearchCV object, fit the model, and determine the best hyperparameters\n",
    "grid_dtr = GridSearchCV(estimator=dtr, param_grid=param_dict, cv=5, scoring='neg_mean_squared_error')\n",
    "grid_dtr.fit(X_train, y_train)\n",
    "print(\"The best hyperparameters are:\", grid_dtr.best_params_)"
   ]
  },
  {
   "cell_type": "code",
   "execution_count": 57,
   "id": "282cdde0-ff9b-4f45-97eb-5ff21a21a0e8",
   "metadata": {
    "tags": []
   },
   "outputs": [
    {
     "name": "stdout",
     "output_type": "stream",
     "text": [
      "The MSE of the default model is: 1.7112371728571327\n"
     ]
    }
   ],
   "source": [
    "#Instantiate and fit model with default hyperparameters, then calculate MSE score.\n",
    "dtr = DecisionTreeRegressor(random_state=69)\n",
    "dtr.fit(X_train, y_train)\n",
    "y_pred = dtr.predict(X_test)\n",
    "print('The MSE of the default model is:', mean_squared_error(y_test, y_pred))"
   ]
  },
  {
   "cell_type": "code",
   "execution_count": 107,
   "id": "eafc9dd6-136d-4ca7-9ef0-946e154c951f",
   "metadata": {
    "tags": []
   },
   "outputs": [
    {
     "name": "stdout",
     "output_type": "stream",
     "text": [
      "The MSE of the tuned model is: 1.393993007309578\n",
      "The RMSE of the tuned model is: 1.1806748101444267\n",
      "The R-squared value of the tuned model is: 0.9979969535222221\n"
     ]
    }
   ],
   "source": [
    "#Instantiate and fit model with the best hyperparameters, then calculate metric scores.\n",
    "dtr_best = DecisionTreeRegressor(min_samples_leaf=5, random_state=69)\n",
    "dtr_best.fit(X_train, y_train)\n",
    "y_pred = dtr_best.predict(X_test)\n",
    "#Calculate MSE, RMSE, and R-squared scores for the tuned model\n",
    "print('The MSE of the tuned model is:', mean_squared_error(y_test, y_pred))\n",
    "print('The RMSE of the tuned model is:', np.sqrt(mean_squared_error(y_test, y_pred)))\n",
    "print('The R-squared value of the tuned model is:', r2_score(y_test, y_pred))"
   ]
  },
  {
   "cell_type": "markdown",
   "id": "e1f54c0f-3299-4390-9344-4f684cacc030",
   "metadata": {},
   "source": [
    "<BR>"
   ]
  },
  {
   "cell_type": "markdown",
   "id": "9282789d-8ab4-4729-b8b8-e2e718766cec",
   "metadata": {},
   "source": [
    "## D3. Code Execution <a class=\"anchor\" id=\"D3\"></a>"
   ]
  },
  {
   "cell_type": "markdown",
   "id": "5e355993-7181-4d7f-a1a5-1522071fc314",
   "metadata": {},
   "source": [
    "A copy of the code is submitted alongside the report, named \"D209_Task_2_Leng_Yang.ipynb.\""
   ]
  },
  {
   "cell_type": "markdown",
   "id": "f59ffe24-fa83-4232-9d4e-55583ec76035",
   "metadata": {},
   "source": [
    "<BR>"
   ]
  },
  {
   "cell_type": "markdown",
   "id": "c277700a-cb7d-4ec1-9dd2-b749a455c4c0",
   "metadata": {},
   "source": [
    "## E1. Accuracy and MSE <a class=\"anchor\" id=\"E1\"></a>"
   ]
  },
  {
   "cell_type": "markdown",
   "id": "a54ecd3a-ede6-4231-8974-03937e6a1a85",
   "metadata": {},
   "source": [
    "Mean squared error (MSE) is calculated as the average sum of the residuals' squares. This value can be used as a model evaluation metric to determine how well a model performs. The MSE was calculated to be 1.39. Although MSE is a good starting point, it isn't easy to practically interpret as it is not in the same units as the response variable; in this case, it would be represented as $days^{2}$. Root mean squared error (RMSE), the square root of the MSE, is a better metric for determining the model's accuracy as it _is_ in the same units as the response variable. The RMSE was calculated to be 1.18 days. This result can be interpreted as an average of how many days off were predicted from the actual results. The model is accurate since, on average, predictions are only a bit over a day off.\n",
    "\n",
    "The $R^{2}$ score was also calculated for model evaluation. This metric indicates how well the model fits the data and is easily interpretable. The score ranges from 0 to 1, with higher scores indicating a better model fit. The $R^{2}$ was calculated to be 0.99, which suggests that the model performs exceptionally well."
   ]
  },
  {
   "cell_type": "markdown",
   "id": "4e56eaae-feab-44bd-b078-840b44d908a9",
   "metadata": {},
   "source": [
    "<BR>"
   ]
  },
  {
   "cell_type": "markdown",
   "id": "28dc8242-394e-4ca1-9054-b7814ee06477",
   "metadata": {},
   "source": [
    "## E2. Results and Implications <a class=\"anchor\" id=\"E2\"></a>"
   ]
  },
  {
   "cell_type": "markdown",
   "id": "269dd673-c15e-4a46-b085-d5233c26b9be",
   "metadata": {},
   "source": [
    "A decision tree regression model was used to estimate the length of initial hospitalizations. The developed model had a testing $R^{2}$ of 0.99, MSE of 1.39, and RMSE of 1.18. With a high $R^{2}$ and relatively low MSE and RMSE scores, the model is reliable in its predictive nature. Based on GridSearchCV results, the best hyperparameters were max_depth = None and min_samples_leaf = 5. In a hospital setting, predicting hospitalization lengths to be a day off from the expected results is good as it allows hospitals much better resource planning and utilization.\n",
    "\n",
    "Although the model performs well, it could constantly be improved upon. The model could have its hyperparameters re-tuned, as only two were explored in this analysis. Additionally, the values for tuning were chosen arbitrarily, so gaining a better insight into the hyperparameters may yield better results in the future."
   ]
  },
  {
   "cell_type": "markdown",
   "id": "b6ebf9f5-726b-4865-bc5f-70c16325e804",
   "metadata": {},
   "source": [
    "<BR>"
   ]
  },
  {
   "cell_type": "markdown",
   "id": "ed12f609-eb79-4898-ae6b-1a574070e1ae",
   "metadata": {},
   "source": [
    "## E3. Limitation <a class=\"anchor\" id=\"E3\"></a>"
   ]
  },
  {
   "cell_type": "markdown",
   "id": "30120d09-aa8e-405a-94c3-dc646a579d77",
   "metadata": {},
   "source": [
    "One limitation of using a decision tree model in this analysis is that it suffers from high variance (GeeksforGeeks, 2024). Small changes can cause significant results, such as changes in training data. Such changes could lead to different trees that are produced instead. This also leads to instability and can cause unreliability if the model is ever re-trained on different training data. However, this issue could be circumvented with a Random Forest method, reducing variability and increasing stability."
   ]
  },
  {
   "cell_type": "markdown",
   "id": "06dfd57f-d3ef-4a03-83c9-2d58863359d7",
   "metadata": {},
   "source": [
    "<BR>"
   ]
  },
  {
   "cell_type": "markdown",
   "id": "00dd5fd8-d327-45b8-8624-cd6677521ef7",
   "metadata": {},
   "source": [
    "## E4. Course of Action <a class=\"anchor\" id=\"E4\"></a>"
   ]
  },
  {
   "cell_type": "markdown",
   "id": "c948db51-dd96-4641-8c79-152555398144",
   "metadata": {},
   "source": [
    "Based on the results of this analysis, the model can be used to predict initial hospitalization lengths reliably. However, before that, it is recommended that the model be first validated against other out-of-sample data for completeness. Furthermore, the business should be wary of the limitations of the model. This is important as new data constantly emerges, and models are retrained to maintain efficacy. In this process, the reliability and stability of decision tree models may fall short."
   ]
  },
  {
   "cell_type": "markdown",
   "id": "ff1e4a9c-2c15-4ca2-9a91-e7c5e459633d",
   "metadata": {},
   "source": [
    "<BR>"
   ]
  },
  {
   "cell_type": "markdown",
   "id": "c0124e2f-9d93-4306-b929-934d6b0d8c30",
   "metadata": {},
   "source": [
    "## F. Panopto Recording <a class=\"anchor\" id=\"F\"></a>"
   ]
  },
  {
   "cell_type": "markdown",
   "id": "4fdb02cf-2aa0-4eaa-849c-69fd507da381",
   "metadata": {},
   "source": [
    "A recording is submitted alongside the report and can also be found at: https://wgu.hosted.panopto.com/Panopto/Pages/Viewer.aspx?id=836ac165-43ca-43c6-9c3a-b1dc00f6d08b"
   ]
  },
  {
   "cell_type": "markdown",
   "id": "1d7b8c4f-da16-4dd6-80d7-6f0b54845ac4",
   "metadata": {},
   "source": [
    "<BR>"
   ]
  },
  {
   "cell_type": "markdown",
   "id": "23aa9557-cfcd-4668-82ea-7762135b693d",
   "metadata": {},
   "source": [
    "## G. Sources for Third-Party Code <a class=\"anchor\" id=\"G\"></a>"
   ]
  },
  {
   "cell_type": "markdown",
   "id": "438d0db1-5bbf-4d9b-aa8d-9626bf25843f",
   "metadata": {},
   "source": [
    "Yang, L. (2024). _D208: Predictive Modeling - Performance Assessment - Task 1: Linear Regression Modeling_. [Unpublished assignment submitted for D208]. Western Governors Univeristy."
   ]
  },
  {
   "cell_type": "markdown",
   "id": "a394ef80-3bc2-4797-a1c5-43616ce49724",
   "metadata": {},
   "source": [
    "<BR>"
   ]
  },
  {
   "cell_type": "markdown",
   "id": "eb63ee48-0c96-4350-904f-8a84ac3106e0",
   "metadata": {},
   "source": [
    "## H. Sources <a class=\"anchor\" id=\"H\"></a>"
   ]
  },
  {
   "cell_type": "markdown",
   "id": "6756e848-26c2-424a-843f-5a13086ad354",
   "metadata": {},
   "source": [
    "Abhigyan. (2021, November 8). _Understanding Decision Tree!!_. Medium. https://medium.com/analytics-vidhya/understanding-decision-tree-3591922690a6 \n",
    "\n",
    "GeeksforGeeks. (2024, February 15). _Pros and Cons of Decision Tree Regression in Machine Learning_. https://www.geeksforgeeks.org/pros-and-cons-of-decision-tree-regression-in-machine-learning/ \n",
    "\n",
    "Yang, L. (2024). _D208: Predictive Modeling - Performance Assessment - Task 1: Linear Regression Modeling_. [Unpublished assignment submitted for D208]. Western Governors Univeristy."
   ]
  }
 ],
 "metadata": {
  "kernelspec": {
   "display_name": "Python 3 (ipykernel)",
   "language": "python",
   "name": "python3"
  },
  "language_info": {
   "codemirror_mode": {
    "name": "ipython",
    "version": 3
   },
   "file_extension": ".py",
   "mimetype": "text/x-python",
   "name": "python",
   "nbconvert_exporter": "python",
   "pygments_lexer": "ipython3",
   "version": "3.11.9"
  }
 },
 "nbformat": 4,
 "nbformat_minor": 5
}
