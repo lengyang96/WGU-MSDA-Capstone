{
 "cells": [
  {
   "cell_type": "code",
   "execution_count": 24,
   "id": "1307d236-4be8-4655-adc9-8f9aeccf7ed1",
   "metadata": {
    "tags": []
   },
   "outputs": [],
   "source": [
    "#Import Pandas library\n",
    "import pandas as pd\n",
    "\n",
    "#Load files into dataframes\n",
    "wgu = pd.read_csv('churn_clean.csv')\n",
    "telco = pd.read_csv('telco_churn.csv')\n",
    "\n",
    "#Fill in loaded 'nan' values with 'None' values in accordance with data dictionary\n",
    "wgu.InternetService.fillna('None', inplace=True)\n",
    "\n",
    "#Select for columns apparent in both datasets\n",
    "wgu = wgu[['Customer_id','Gender','Tenure','Phone','Multiple','InternetService','OnlineSecurity','OnlineBackup','DeviceProtection','TechSupport','StreamingTV','StreamingMovies','Contract','PaperlessBilling','PaymentMethod','MonthlyCharge','Churn']]\n",
    "telco = telco.drop(['SeniorCitizen','Partner','Dependents','TotalCharges'], axis=1)\n",
    "\n",
    "#Rename columns for consistency\n",
    "col_names = ['customer_id','gender','tenure','phone_service','multiple_lines','internet_service','online_security','online_backup','device_protection','tech_support','streaming_tv','streaming_movies','contract','paperless_billing','payment_method','monthly_charges','churn']\n",
    "wgu.columns = col_names\n",
    "telco.columns = col_names\n",
    "\n",
    "#Add source column to differentiate data sources\n",
    "wgu.loc[:, 'source'] = 'WGU'\n",
    "telco.loc[:, 'source'] = 'IBM'\n",
    "\n",
    "#Format values for consistency\n",
    "wgu.tenure = round(wgu.tenure).astype('int')\n",
    "wgu.monthly_charges = round(wgu.monthly_charges, 2)\n",
    "wgu.contract.replace('Two Year', 'Two year', inplace=True)\n",
    "telco.multiple_lines.replace('No phone service', 'No', inplace=True)\n",
    "telco.internet_service.replace('No', 'None', inplace=True)\n",
    "telco.internet_service.replace('Fiber optic', 'Fiber Optic', inplace=True)\n",
    "\n",
    "#Combine both datasets\n",
    "merged_churn = pd.concat([wgu, telco], axis=0)"
   ]
  },
  {
   "cell_type": "code",
   "execution_count": 10,
   "id": "0e340516-9bb8-4ff2-9169-8fb3881dc9e4",
   "metadata": {
    "tags": []
   },
   "outputs": [],
   "source": [
    "merged_churn.to_csv('merged_churn.csv', index=None)"
   ]
  },
  {
   "cell_type": "code",
   "execution_count": null,
   "id": "74ee5a35-63a6-4606-a57b-8ab3c40eaa85",
   "metadata": {},
   "outputs": [],
   "source": []
  }
 ],
 "metadata": {
  "kernelspec": {
   "display_name": "Python 3 (ipykernel)",
   "language": "python",
   "name": "python3"
  },
  "language_info": {
   "codemirror_mode": {
    "name": "ipython",
    "version": 3
   },
   "file_extension": ".py",
   "mimetype": "text/x-python",
   "name": "python",
   "nbconvert_exporter": "python",
   "pygments_lexer": "ipython3",
   "version": "3.11.7"
  }
 },
 "nbformat": 4,
 "nbformat_minor": 5
}
