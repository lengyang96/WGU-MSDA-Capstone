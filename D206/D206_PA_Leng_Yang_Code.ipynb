{
 "cells": [
  {
   "cell_type": "code",
   "execution_count": 2,
   "id": "caef10db-fb82-4715-9703-6bdb30beaf99",
   "metadata": {
    "tags": []
   },
   "outputs": [
    {
     "data": {
      "text/plain": [
       "'2.1.4'"
      ]
     },
     "execution_count": 2,
     "metadata": {},
     "output_type": "execute_result"
    }
   ],
   "source": [
    "# Import necessary libraries\n",
    "import pandas as pd\n",
    "import numpy as np\n",
    "import matplotlib.pyplot as plt\n",
    "import seaborn as sns\n",
    "from sklearn.decomposition import PCA\n",
    "\n",
    "# Set to display all columns\n",
    "pd.options.display.max_columns = None\n",
    "\n",
    "# Print working version\n",
    "pd.__version__"
   ]
  },
  {
   "cell_type": "code",
   "execution_count": 4,
   "id": "ba292ac5-2bbe-42ec-9603-f31593e386b5",
   "metadata": {
    "tags": []
   },
   "outputs": [],
   "source": [
    "# Create dataframe and set first column as index as it acts as an index in the original file\n",
    "df = pd.read_csv('medical_raw_data.csv', index_col=0)"
   ]
  },
  {
   "cell_type": "code",
   "execution_count": 6,
   "id": "379e8554-f5ac-472a-afd1-be319e53bae5",
   "metadata": {
    "tags": []
   },
   "outputs": [
    {
     "data": {
      "text/html": [
       "<div>\n",
       "<style scoped>\n",
       "    .dataframe tbody tr th:only-of-type {\n",
       "        vertical-align: middle;\n",
       "    }\n",
       "\n",
       "    .dataframe tbody tr th {\n",
       "        vertical-align: top;\n",
       "    }\n",
       "\n",
       "    .dataframe thead th {\n",
       "        text-align: right;\n",
       "    }\n",
       "</style>\n",
       "<table border=\"1\" class=\"dataframe\">\n",
       "  <thead>\n",
       "    <tr style=\"text-align: right;\">\n",
       "      <th></th>\n",
       "      <th>CaseOrder</th>\n",
       "      <th>Customer_id</th>\n",
       "      <th>Interaction</th>\n",
       "      <th>UID</th>\n",
       "      <th>City</th>\n",
       "      <th>State</th>\n",
       "      <th>County</th>\n",
       "      <th>Zip</th>\n",
       "      <th>Lat</th>\n",
       "      <th>Lng</th>\n",
       "      <th>Population</th>\n",
       "      <th>Area</th>\n",
       "      <th>Timezone</th>\n",
       "      <th>Job</th>\n",
       "      <th>Children</th>\n",
       "      <th>Age</th>\n",
       "      <th>Education</th>\n",
       "      <th>Employment</th>\n",
       "      <th>Income</th>\n",
       "      <th>Marital</th>\n",
       "      <th>Gender</th>\n",
       "      <th>ReAdmis</th>\n",
       "      <th>VitD_levels</th>\n",
       "      <th>Doc_visits</th>\n",
       "      <th>Full_meals_eaten</th>\n",
       "      <th>VitD_supp</th>\n",
       "      <th>Soft_drink</th>\n",
       "      <th>Initial_admin</th>\n",
       "      <th>HighBlood</th>\n",
       "      <th>Stroke</th>\n",
       "      <th>Complication_risk</th>\n",
       "      <th>Overweight</th>\n",
       "      <th>Arthritis</th>\n",
       "      <th>Diabetes</th>\n",
       "      <th>Hyperlipidemia</th>\n",
       "      <th>BackPain</th>\n",
       "      <th>Anxiety</th>\n",
       "      <th>Allergic_rhinitis</th>\n",
       "      <th>Reflux_esophagitis</th>\n",
       "      <th>Asthma</th>\n",
       "      <th>Services</th>\n",
       "      <th>Initial_days</th>\n",
       "      <th>TotalCharge</th>\n",
       "      <th>Additional_charges</th>\n",
       "      <th>Item1</th>\n",
       "      <th>Item2</th>\n",
       "      <th>Item3</th>\n",
       "      <th>Item4</th>\n",
       "      <th>Item5</th>\n",
       "      <th>Item6</th>\n",
       "      <th>Item7</th>\n",
       "      <th>Item8</th>\n",
       "    </tr>\n",
       "  </thead>\n",
       "  <tbody>\n",
       "    <tr>\n",
       "      <th>1</th>\n",
       "      <td>1</td>\n",
       "      <td>C412403</td>\n",
       "      <td>8cd49b13-f45a-4b47-a2bd-173ffa932c2f</td>\n",
       "      <td>3a83ddb66e2ae73798bdf1d705dc0932</td>\n",
       "      <td>Eva</td>\n",
       "      <td>AL</td>\n",
       "      <td>Morgan</td>\n",
       "      <td>35621</td>\n",
       "      <td>34.34960</td>\n",
       "      <td>-86.72508</td>\n",
       "      <td>2951</td>\n",
       "      <td>Suburban</td>\n",
       "      <td>America/Chicago</td>\n",
       "      <td>Psychologist, sport and exercise</td>\n",
       "      <td>1.0</td>\n",
       "      <td>53.0</td>\n",
       "      <td>Some College, Less than 1 Year</td>\n",
       "      <td>Full Time</td>\n",
       "      <td>86575.93</td>\n",
       "      <td>Divorced</td>\n",
       "      <td>Male</td>\n",
       "      <td>No</td>\n",
       "      <td>17.802330</td>\n",
       "      <td>6</td>\n",
       "      <td>0</td>\n",
       "      <td>0</td>\n",
       "      <td>NaN</td>\n",
       "      <td>Emergency Admission</td>\n",
       "      <td>Yes</td>\n",
       "      <td>No</td>\n",
       "      <td>Medium</td>\n",
       "      <td>0.0</td>\n",
       "      <td>Yes</td>\n",
       "      <td>Yes</td>\n",
       "      <td>No</td>\n",
       "      <td>Yes</td>\n",
       "      <td>1.0</td>\n",
       "      <td>Yes</td>\n",
       "      <td>No</td>\n",
       "      <td>Yes</td>\n",
       "      <td>Blood Work</td>\n",
       "      <td>10.585770</td>\n",
       "      <td>3191.048774</td>\n",
       "      <td>17939.403420</td>\n",
       "      <td>3</td>\n",
       "      <td>3</td>\n",
       "      <td>2</td>\n",
       "      <td>2</td>\n",
       "      <td>4</td>\n",
       "      <td>3</td>\n",
       "      <td>3</td>\n",
       "      <td>4</td>\n",
       "    </tr>\n",
       "    <tr>\n",
       "      <th>2</th>\n",
       "      <td>2</td>\n",
       "      <td>Z919181</td>\n",
       "      <td>d2450b70-0337-4406-bdbb-bc1037f1734c</td>\n",
       "      <td>176354c5eef714957d486009feabf195</td>\n",
       "      <td>Marianna</td>\n",
       "      <td>FL</td>\n",
       "      <td>Jackson</td>\n",
       "      <td>32446</td>\n",
       "      <td>30.84513</td>\n",
       "      <td>-85.22907</td>\n",
       "      <td>11303</td>\n",
       "      <td>Urban</td>\n",
       "      <td>America/Chicago</td>\n",
       "      <td>Community development worker</td>\n",
       "      <td>3.0</td>\n",
       "      <td>51.0</td>\n",
       "      <td>Some College, 1 or More Years, No Degree</td>\n",
       "      <td>Full Time</td>\n",
       "      <td>46805.99</td>\n",
       "      <td>Married</td>\n",
       "      <td>Female</td>\n",
       "      <td>No</td>\n",
       "      <td>18.994640</td>\n",
       "      <td>4</td>\n",
       "      <td>2</td>\n",
       "      <td>1</td>\n",
       "      <td>No</td>\n",
       "      <td>Emergency Admission</td>\n",
       "      <td>Yes</td>\n",
       "      <td>No</td>\n",
       "      <td>High</td>\n",
       "      <td>1.0</td>\n",
       "      <td>No</td>\n",
       "      <td>No</td>\n",
       "      <td>No</td>\n",
       "      <td>No</td>\n",
       "      <td>NaN</td>\n",
       "      <td>No</td>\n",
       "      <td>Yes</td>\n",
       "      <td>No</td>\n",
       "      <td>Intravenous</td>\n",
       "      <td>15.129562</td>\n",
       "      <td>4214.905346</td>\n",
       "      <td>17612.998120</td>\n",
       "      <td>3</td>\n",
       "      <td>4</td>\n",
       "      <td>3</td>\n",
       "      <td>4</td>\n",
       "      <td>4</td>\n",
       "      <td>4</td>\n",
       "      <td>3</td>\n",
       "      <td>3</td>\n",
       "    </tr>\n",
       "    <tr>\n",
       "      <th>3</th>\n",
       "      <td>3</td>\n",
       "      <td>F995323</td>\n",
       "      <td>a2057123-abf5-4a2c-abad-8ffe33512562</td>\n",
       "      <td>e19a0fa00aeda885b8a436757e889bc9</td>\n",
       "      <td>Sioux Falls</td>\n",
       "      <td>SD</td>\n",
       "      <td>Minnehaha</td>\n",
       "      <td>57110</td>\n",
       "      <td>43.54321</td>\n",
       "      <td>-96.63772</td>\n",
       "      <td>17125</td>\n",
       "      <td>Suburban</td>\n",
       "      <td>America/Chicago</td>\n",
       "      <td>Chief Executive Officer</td>\n",
       "      <td>3.0</td>\n",
       "      <td>53.0</td>\n",
       "      <td>Some College, 1 or More Years, No Degree</td>\n",
       "      <td>Retired</td>\n",
       "      <td>14370.14</td>\n",
       "      <td>Widowed</td>\n",
       "      <td>Female</td>\n",
       "      <td>No</td>\n",
       "      <td>17.415889</td>\n",
       "      <td>4</td>\n",
       "      <td>1</td>\n",
       "      <td>0</td>\n",
       "      <td>No</td>\n",
       "      <td>Elective Admission</td>\n",
       "      <td>Yes</td>\n",
       "      <td>No</td>\n",
       "      <td>Medium</td>\n",
       "      <td>1.0</td>\n",
       "      <td>No</td>\n",
       "      <td>Yes</td>\n",
       "      <td>No</td>\n",
       "      <td>No</td>\n",
       "      <td>NaN</td>\n",
       "      <td>No</td>\n",
       "      <td>No</td>\n",
       "      <td>No</td>\n",
       "      <td>Blood Work</td>\n",
       "      <td>4.772177</td>\n",
       "      <td>2177.586768</td>\n",
       "      <td>17505.192460</td>\n",
       "      <td>2</td>\n",
       "      <td>4</td>\n",
       "      <td>4</td>\n",
       "      <td>4</td>\n",
       "      <td>3</td>\n",
       "      <td>4</td>\n",
       "      <td>3</td>\n",
       "      <td>3</td>\n",
       "    </tr>\n",
       "    <tr>\n",
       "      <th>4</th>\n",
       "      <td>4</td>\n",
       "      <td>A879973</td>\n",
       "      <td>1dec528d-eb34-4079-adce-0d7a40e82205</td>\n",
       "      <td>cd17d7b6d152cb6f23957346d11c3f07</td>\n",
       "      <td>New Richland</td>\n",
       "      <td>MN</td>\n",
       "      <td>Waseca</td>\n",
       "      <td>56072</td>\n",
       "      <td>43.89744</td>\n",
       "      <td>-93.51479</td>\n",
       "      <td>2162</td>\n",
       "      <td>Suburban</td>\n",
       "      <td>America/Chicago</td>\n",
       "      <td>Early years teacher</td>\n",
       "      <td>0.0</td>\n",
       "      <td>78.0</td>\n",
       "      <td>GED or Alternative Credential</td>\n",
       "      <td>Retired</td>\n",
       "      <td>39741.49</td>\n",
       "      <td>Married</td>\n",
       "      <td>Male</td>\n",
       "      <td>No</td>\n",
       "      <td>17.420079</td>\n",
       "      <td>4</td>\n",
       "      <td>1</td>\n",
       "      <td>0</td>\n",
       "      <td>No</td>\n",
       "      <td>Elective Admission</td>\n",
       "      <td>No</td>\n",
       "      <td>Yes</td>\n",
       "      <td>Medium</td>\n",
       "      <td>0.0</td>\n",
       "      <td>Yes</td>\n",
       "      <td>No</td>\n",
       "      <td>No</td>\n",
       "      <td>No</td>\n",
       "      <td>NaN</td>\n",
       "      <td>No</td>\n",
       "      <td>Yes</td>\n",
       "      <td>Yes</td>\n",
       "      <td>Blood Work</td>\n",
       "      <td>1.714879</td>\n",
       "      <td>2465.118965</td>\n",
       "      <td>12993.437350</td>\n",
       "      <td>3</td>\n",
       "      <td>5</td>\n",
       "      <td>5</td>\n",
       "      <td>3</td>\n",
       "      <td>4</td>\n",
       "      <td>5</td>\n",
       "      <td>5</td>\n",
       "      <td>5</td>\n",
       "    </tr>\n",
       "    <tr>\n",
       "      <th>5</th>\n",
       "      <td>5</td>\n",
       "      <td>C544523</td>\n",
       "      <td>5885f56b-d6da-43a3-8760-83583af94266</td>\n",
       "      <td>d2f0425877b10ed6bb381f3e2579424a</td>\n",
       "      <td>West Point</td>\n",
       "      <td>VA</td>\n",
       "      <td>King William</td>\n",
       "      <td>23181</td>\n",
       "      <td>37.59894</td>\n",
       "      <td>-76.88958</td>\n",
       "      <td>5287</td>\n",
       "      <td>Rural</td>\n",
       "      <td>America/New_York</td>\n",
       "      <td>Health promotion specialist</td>\n",
       "      <td>NaN</td>\n",
       "      <td>22.0</td>\n",
       "      <td>Regular High School Diploma</td>\n",
       "      <td>Full Time</td>\n",
       "      <td>1209.56</td>\n",
       "      <td>Widowed</td>\n",
       "      <td>Female</td>\n",
       "      <td>No</td>\n",
       "      <td>16.870524</td>\n",
       "      <td>5</td>\n",
       "      <td>0</td>\n",
       "      <td>2</td>\n",
       "      <td>Yes</td>\n",
       "      <td>Elective Admission</td>\n",
       "      <td>No</td>\n",
       "      <td>No</td>\n",
       "      <td>Low</td>\n",
       "      <td>0.0</td>\n",
       "      <td>No</td>\n",
       "      <td>No</td>\n",
       "      <td>Yes</td>\n",
       "      <td>No</td>\n",
       "      <td>0.0</td>\n",
       "      <td>Yes</td>\n",
       "      <td>No</td>\n",
       "      <td>No</td>\n",
       "      <td>CT Scan</td>\n",
       "      <td>1.254807</td>\n",
       "      <td>1885.655137</td>\n",
       "      <td>3716.525786</td>\n",
       "      <td>2</td>\n",
       "      <td>1</td>\n",
       "      <td>3</td>\n",
       "      <td>3</td>\n",
       "      <td>5</td>\n",
       "      <td>3</td>\n",
       "      <td>4</td>\n",
       "      <td>3</td>\n",
       "    </tr>\n",
       "  </tbody>\n",
       "</table>\n",
       "</div>"
      ],
      "text/plain": [
       "   CaseOrder Customer_id                           Interaction  \\\n",
       "1          1     C412403  8cd49b13-f45a-4b47-a2bd-173ffa932c2f   \n",
       "2          2     Z919181  d2450b70-0337-4406-bdbb-bc1037f1734c   \n",
       "3          3     F995323  a2057123-abf5-4a2c-abad-8ffe33512562   \n",
       "4          4     A879973  1dec528d-eb34-4079-adce-0d7a40e82205   \n",
       "5          5     C544523  5885f56b-d6da-43a3-8760-83583af94266   \n",
       "\n",
       "                                UID          City State        County    Zip  \\\n",
       "1  3a83ddb66e2ae73798bdf1d705dc0932           Eva    AL        Morgan  35621   \n",
       "2  176354c5eef714957d486009feabf195      Marianna    FL       Jackson  32446   \n",
       "3  e19a0fa00aeda885b8a436757e889bc9   Sioux Falls    SD     Minnehaha  57110   \n",
       "4  cd17d7b6d152cb6f23957346d11c3f07  New Richland    MN        Waseca  56072   \n",
       "5  d2f0425877b10ed6bb381f3e2579424a    West Point    VA  King William  23181   \n",
       "\n",
       "        Lat       Lng  Population      Area          Timezone  \\\n",
       "1  34.34960 -86.72508        2951  Suburban   America/Chicago   \n",
       "2  30.84513 -85.22907       11303     Urban   America/Chicago   \n",
       "3  43.54321 -96.63772       17125  Suburban   America/Chicago   \n",
       "4  43.89744 -93.51479        2162  Suburban   America/Chicago   \n",
       "5  37.59894 -76.88958        5287     Rural  America/New_York   \n",
       "\n",
       "                                Job  Children   Age  \\\n",
       "1  Psychologist, sport and exercise       1.0  53.0   \n",
       "2      Community development worker       3.0  51.0   \n",
       "3           Chief Executive Officer       3.0  53.0   \n",
       "4               Early years teacher       0.0  78.0   \n",
       "5       Health promotion specialist       NaN  22.0   \n",
       "\n",
       "                                  Education Employment    Income   Marital  \\\n",
       "1            Some College, Less than 1 Year  Full Time  86575.93  Divorced   \n",
       "2  Some College, 1 or More Years, No Degree  Full Time  46805.99   Married   \n",
       "3  Some College, 1 or More Years, No Degree    Retired  14370.14   Widowed   \n",
       "4             GED or Alternative Credential    Retired  39741.49   Married   \n",
       "5               Regular High School Diploma  Full Time   1209.56   Widowed   \n",
       "\n",
       "   Gender ReAdmis  VitD_levels  Doc_visits  Full_meals_eaten  VitD_supp  \\\n",
       "1    Male      No    17.802330           6                 0          0   \n",
       "2  Female      No    18.994640           4                 2          1   \n",
       "3  Female      No    17.415889           4                 1          0   \n",
       "4    Male      No    17.420079           4                 1          0   \n",
       "5  Female      No    16.870524           5                 0          2   \n",
       "\n",
       "  Soft_drink        Initial_admin HighBlood Stroke Complication_risk  \\\n",
       "1        NaN  Emergency Admission       Yes     No            Medium   \n",
       "2         No  Emergency Admission       Yes     No              High   \n",
       "3         No   Elective Admission       Yes     No            Medium   \n",
       "4         No   Elective Admission        No    Yes            Medium   \n",
       "5        Yes   Elective Admission        No     No               Low   \n",
       "\n",
       "   Overweight Arthritis Diabetes Hyperlipidemia BackPain  Anxiety  \\\n",
       "1         0.0       Yes      Yes             No      Yes      1.0   \n",
       "2         1.0        No       No             No       No      NaN   \n",
       "3         1.0        No      Yes             No       No      NaN   \n",
       "4         0.0       Yes       No             No       No      NaN   \n",
       "5         0.0        No       No            Yes       No      0.0   \n",
       "\n",
       "  Allergic_rhinitis Reflux_esophagitis Asthma     Services  Initial_days  \\\n",
       "1               Yes                 No    Yes   Blood Work     10.585770   \n",
       "2                No                Yes     No  Intravenous     15.129562   \n",
       "3                No                 No     No   Blood Work      4.772177   \n",
       "4                No                Yes    Yes   Blood Work      1.714879   \n",
       "5               Yes                 No     No      CT Scan      1.254807   \n",
       "\n",
       "   TotalCharge  Additional_charges  Item1  Item2  Item3  Item4  Item5  Item6  \\\n",
       "1  3191.048774        17939.403420      3      3      2      2      4      3   \n",
       "2  4214.905346        17612.998120      3      4      3      4      4      4   \n",
       "3  2177.586768        17505.192460      2      4      4      4      3      4   \n",
       "4  2465.118965        12993.437350      3      5      5      3      4      5   \n",
       "5  1885.655137         3716.525786      2      1      3      3      5      3   \n",
       "\n",
       "   Item7  Item8  \n",
       "1      3      4  \n",
       "2      3      3  \n",
       "3      3      3  \n",
       "4      5      5  \n",
       "5      4      3  "
      ]
     },
     "execution_count": 6,
     "metadata": {},
     "output_type": "execute_result"
    }
   ],
   "source": [
    "df.head()"
   ]
  },
  {
   "cell_type": "code",
   "execution_count": 8,
   "id": "5621bb73-2fd8-49f1-a165-44463e45b058",
   "metadata": {
    "tags": []
   },
   "outputs": [
    {
     "data": {
      "text/html": [
       "<div>\n",
       "<style scoped>\n",
       "    .dataframe tbody tr th:only-of-type {\n",
       "        vertical-align: middle;\n",
       "    }\n",
       "\n",
       "    .dataframe tbody tr th {\n",
       "        vertical-align: top;\n",
       "    }\n",
       "\n",
       "    .dataframe thead th {\n",
       "        text-align: right;\n",
       "    }\n",
       "</style>\n",
       "<table border=\"1\" class=\"dataframe\">\n",
       "  <thead>\n",
       "    <tr style=\"text-align: right;\">\n",
       "      <th></th>\n",
       "      <th>case_order</th>\n",
       "      <th>customer_id</th>\n",
       "      <th>interaction</th>\n",
       "      <th>uid</th>\n",
       "      <th>city</th>\n",
       "      <th>state</th>\n",
       "      <th>county</th>\n",
       "      <th>zip</th>\n",
       "      <th>latitude</th>\n",
       "      <th>longitude</th>\n",
       "      <th>population</th>\n",
       "      <th>area</th>\n",
       "      <th>timezone</th>\n",
       "      <th>job</th>\n",
       "      <th>children</th>\n",
       "      <th>age</th>\n",
       "      <th>education</th>\n",
       "      <th>employment</th>\n",
       "      <th>income</th>\n",
       "      <th>marital</th>\n",
       "      <th>gender</th>\n",
       "      <th>readmission</th>\n",
       "      <th>vit_d_level</th>\n",
       "      <th>doc_visits</th>\n",
       "      <th>full_meals_eaten</th>\n",
       "      <th>vit_d_supp</th>\n",
       "      <th>soft_drink</th>\n",
       "      <th>initial_admin</th>\n",
       "      <th>high_blood</th>\n",
       "      <th>stroke</th>\n",
       "      <th>complication_risk</th>\n",
       "      <th>overweight</th>\n",
       "      <th>arthritis</th>\n",
       "      <th>diabetes</th>\n",
       "      <th>hyperlipidemia</th>\n",
       "      <th>back_pain</th>\n",
       "      <th>anxiety</th>\n",
       "      <th>allergic_rhinitis</th>\n",
       "      <th>reflux_esophagitis</th>\n",
       "      <th>asthma</th>\n",
       "      <th>services</th>\n",
       "      <th>initial_days</th>\n",
       "      <th>total_charge</th>\n",
       "      <th>additional_charges</th>\n",
       "      <th>item_1</th>\n",
       "      <th>item_2</th>\n",
       "      <th>item_3</th>\n",
       "      <th>item_4</th>\n",
       "      <th>item_5</th>\n",
       "      <th>item_6</th>\n",
       "      <th>item_7</th>\n",
       "      <th>item_8</th>\n",
       "    </tr>\n",
       "  </thead>\n",
       "  <tbody>\n",
       "    <tr>\n",
       "      <th>1</th>\n",
       "      <td>1</td>\n",
       "      <td>C412403</td>\n",
       "      <td>8cd49b13-f45a-4b47-a2bd-173ffa932c2f</td>\n",
       "      <td>3a83ddb66e2ae73798bdf1d705dc0932</td>\n",
       "      <td>Eva</td>\n",
       "      <td>AL</td>\n",
       "      <td>Morgan</td>\n",
       "      <td>35621</td>\n",
       "      <td>34.34960</td>\n",
       "      <td>-86.72508</td>\n",
       "      <td>2951</td>\n",
       "      <td>Suburban</td>\n",
       "      <td>America/Chicago</td>\n",
       "      <td>Psychologist, sport and exercise</td>\n",
       "      <td>1.0</td>\n",
       "      <td>53.0</td>\n",
       "      <td>Some College, Less than 1 Year</td>\n",
       "      <td>Full Time</td>\n",
       "      <td>86575.93</td>\n",
       "      <td>Divorced</td>\n",
       "      <td>Male</td>\n",
       "      <td>No</td>\n",
       "      <td>17.802330</td>\n",
       "      <td>6</td>\n",
       "      <td>0</td>\n",
       "      <td>0</td>\n",
       "      <td>NaN</td>\n",
       "      <td>Emergency Admission</td>\n",
       "      <td>Yes</td>\n",
       "      <td>No</td>\n",
       "      <td>Medium</td>\n",
       "      <td>0.0</td>\n",
       "      <td>Yes</td>\n",
       "      <td>Yes</td>\n",
       "      <td>No</td>\n",
       "      <td>Yes</td>\n",
       "      <td>1.0</td>\n",
       "      <td>Yes</td>\n",
       "      <td>No</td>\n",
       "      <td>Yes</td>\n",
       "      <td>Blood Work</td>\n",
       "      <td>10.585770</td>\n",
       "      <td>3191.048774</td>\n",
       "      <td>17939.403420</td>\n",
       "      <td>3</td>\n",
       "      <td>3</td>\n",
       "      <td>2</td>\n",
       "      <td>2</td>\n",
       "      <td>4</td>\n",
       "      <td>3</td>\n",
       "      <td>3</td>\n",
       "      <td>4</td>\n",
       "    </tr>\n",
       "    <tr>\n",
       "      <th>2</th>\n",
       "      <td>2</td>\n",
       "      <td>Z919181</td>\n",
       "      <td>d2450b70-0337-4406-bdbb-bc1037f1734c</td>\n",
       "      <td>176354c5eef714957d486009feabf195</td>\n",
       "      <td>Marianna</td>\n",
       "      <td>FL</td>\n",
       "      <td>Jackson</td>\n",
       "      <td>32446</td>\n",
       "      <td>30.84513</td>\n",
       "      <td>-85.22907</td>\n",
       "      <td>11303</td>\n",
       "      <td>Urban</td>\n",
       "      <td>America/Chicago</td>\n",
       "      <td>Community development worker</td>\n",
       "      <td>3.0</td>\n",
       "      <td>51.0</td>\n",
       "      <td>Some College, 1 or More Years, No Degree</td>\n",
       "      <td>Full Time</td>\n",
       "      <td>46805.99</td>\n",
       "      <td>Married</td>\n",
       "      <td>Female</td>\n",
       "      <td>No</td>\n",
       "      <td>18.994640</td>\n",
       "      <td>4</td>\n",
       "      <td>2</td>\n",
       "      <td>1</td>\n",
       "      <td>No</td>\n",
       "      <td>Emergency Admission</td>\n",
       "      <td>Yes</td>\n",
       "      <td>No</td>\n",
       "      <td>High</td>\n",
       "      <td>1.0</td>\n",
       "      <td>No</td>\n",
       "      <td>No</td>\n",
       "      <td>No</td>\n",
       "      <td>No</td>\n",
       "      <td>NaN</td>\n",
       "      <td>No</td>\n",
       "      <td>Yes</td>\n",
       "      <td>No</td>\n",
       "      <td>Intravenous</td>\n",
       "      <td>15.129562</td>\n",
       "      <td>4214.905346</td>\n",
       "      <td>17612.998120</td>\n",
       "      <td>3</td>\n",
       "      <td>4</td>\n",
       "      <td>3</td>\n",
       "      <td>4</td>\n",
       "      <td>4</td>\n",
       "      <td>4</td>\n",
       "      <td>3</td>\n",
       "      <td>3</td>\n",
       "    </tr>\n",
       "    <tr>\n",
       "      <th>3</th>\n",
       "      <td>3</td>\n",
       "      <td>F995323</td>\n",
       "      <td>a2057123-abf5-4a2c-abad-8ffe33512562</td>\n",
       "      <td>e19a0fa00aeda885b8a436757e889bc9</td>\n",
       "      <td>Sioux Falls</td>\n",
       "      <td>SD</td>\n",
       "      <td>Minnehaha</td>\n",
       "      <td>57110</td>\n",
       "      <td>43.54321</td>\n",
       "      <td>-96.63772</td>\n",
       "      <td>17125</td>\n",
       "      <td>Suburban</td>\n",
       "      <td>America/Chicago</td>\n",
       "      <td>Chief Executive Officer</td>\n",
       "      <td>3.0</td>\n",
       "      <td>53.0</td>\n",
       "      <td>Some College, 1 or More Years, No Degree</td>\n",
       "      <td>Retired</td>\n",
       "      <td>14370.14</td>\n",
       "      <td>Widowed</td>\n",
       "      <td>Female</td>\n",
       "      <td>No</td>\n",
       "      <td>17.415889</td>\n",
       "      <td>4</td>\n",
       "      <td>1</td>\n",
       "      <td>0</td>\n",
       "      <td>No</td>\n",
       "      <td>Elective Admission</td>\n",
       "      <td>Yes</td>\n",
       "      <td>No</td>\n",
       "      <td>Medium</td>\n",
       "      <td>1.0</td>\n",
       "      <td>No</td>\n",
       "      <td>Yes</td>\n",
       "      <td>No</td>\n",
       "      <td>No</td>\n",
       "      <td>NaN</td>\n",
       "      <td>No</td>\n",
       "      <td>No</td>\n",
       "      <td>No</td>\n",
       "      <td>Blood Work</td>\n",
       "      <td>4.772177</td>\n",
       "      <td>2177.586768</td>\n",
       "      <td>17505.192460</td>\n",
       "      <td>2</td>\n",
       "      <td>4</td>\n",
       "      <td>4</td>\n",
       "      <td>4</td>\n",
       "      <td>3</td>\n",
       "      <td>4</td>\n",
       "      <td>3</td>\n",
       "      <td>3</td>\n",
       "    </tr>\n",
       "    <tr>\n",
       "      <th>4</th>\n",
       "      <td>4</td>\n",
       "      <td>A879973</td>\n",
       "      <td>1dec528d-eb34-4079-adce-0d7a40e82205</td>\n",
       "      <td>cd17d7b6d152cb6f23957346d11c3f07</td>\n",
       "      <td>New Richland</td>\n",
       "      <td>MN</td>\n",
       "      <td>Waseca</td>\n",
       "      <td>56072</td>\n",
       "      <td>43.89744</td>\n",
       "      <td>-93.51479</td>\n",
       "      <td>2162</td>\n",
       "      <td>Suburban</td>\n",
       "      <td>America/Chicago</td>\n",
       "      <td>Early years teacher</td>\n",
       "      <td>0.0</td>\n",
       "      <td>78.0</td>\n",
       "      <td>GED or Alternative Credential</td>\n",
       "      <td>Retired</td>\n",
       "      <td>39741.49</td>\n",
       "      <td>Married</td>\n",
       "      <td>Male</td>\n",
       "      <td>No</td>\n",
       "      <td>17.420079</td>\n",
       "      <td>4</td>\n",
       "      <td>1</td>\n",
       "      <td>0</td>\n",
       "      <td>No</td>\n",
       "      <td>Elective Admission</td>\n",
       "      <td>No</td>\n",
       "      <td>Yes</td>\n",
       "      <td>Medium</td>\n",
       "      <td>0.0</td>\n",
       "      <td>Yes</td>\n",
       "      <td>No</td>\n",
       "      <td>No</td>\n",
       "      <td>No</td>\n",
       "      <td>NaN</td>\n",
       "      <td>No</td>\n",
       "      <td>Yes</td>\n",
       "      <td>Yes</td>\n",
       "      <td>Blood Work</td>\n",
       "      <td>1.714879</td>\n",
       "      <td>2465.118965</td>\n",
       "      <td>12993.437350</td>\n",
       "      <td>3</td>\n",
       "      <td>5</td>\n",
       "      <td>5</td>\n",
       "      <td>3</td>\n",
       "      <td>4</td>\n",
       "      <td>5</td>\n",
       "      <td>5</td>\n",
       "      <td>5</td>\n",
       "    </tr>\n",
       "    <tr>\n",
       "      <th>5</th>\n",
       "      <td>5</td>\n",
       "      <td>C544523</td>\n",
       "      <td>5885f56b-d6da-43a3-8760-83583af94266</td>\n",
       "      <td>d2f0425877b10ed6bb381f3e2579424a</td>\n",
       "      <td>West Point</td>\n",
       "      <td>VA</td>\n",
       "      <td>King William</td>\n",
       "      <td>23181</td>\n",
       "      <td>37.59894</td>\n",
       "      <td>-76.88958</td>\n",
       "      <td>5287</td>\n",
       "      <td>Rural</td>\n",
       "      <td>America/New_York</td>\n",
       "      <td>Health promotion specialist</td>\n",
       "      <td>NaN</td>\n",
       "      <td>22.0</td>\n",
       "      <td>Regular High School Diploma</td>\n",
       "      <td>Full Time</td>\n",
       "      <td>1209.56</td>\n",
       "      <td>Widowed</td>\n",
       "      <td>Female</td>\n",
       "      <td>No</td>\n",
       "      <td>16.870524</td>\n",
       "      <td>5</td>\n",
       "      <td>0</td>\n",
       "      <td>2</td>\n",
       "      <td>Yes</td>\n",
       "      <td>Elective Admission</td>\n",
       "      <td>No</td>\n",
       "      <td>No</td>\n",
       "      <td>Low</td>\n",
       "      <td>0.0</td>\n",
       "      <td>No</td>\n",
       "      <td>No</td>\n",
       "      <td>Yes</td>\n",
       "      <td>No</td>\n",
       "      <td>0.0</td>\n",
       "      <td>Yes</td>\n",
       "      <td>No</td>\n",
       "      <td>No</td>\n",
       "      <td>CT Scan</td>\n",
       "      <td>1.254807</td>\n",
       "      <td>1885.655137</td>\n",
       "      <td>3716.525786</td>\n",
       "      <td>2</td>\n",
       "      <td>1</td>\n",
       "      <td>3</td>\n",
       "      <td>3</td>\n",
       "      <td>5</td>\n",
       "      <td>3</td>\n",
       "      <td>4</td>\n",
       "      <td>3</td>\n",
       "    </tr>\n",
       "  </tbody>\n",
       "</table>\n",
       "</div>"
      ],
      "text/plain": [
       "   case_order customer_id                           interaction  \\\n",
       "1           1     C412403  8cd49b13-f45a-4b47-a2bd-173ffa932c2f   \n",
       "2           2     Z919181  d2450b70-0337-4406-bdbb-bc1037f1734c   \n",
       "3           3     F995323  a2057123-abf5-4a2c-abad-8ffe33512562   \n",
       "4           4     A879973  1dec528d-eb34-4079-adce-0d7a40e82205   \n",
       "5           5     C544523  5885f56b-d6da-43a3-8760-83583af94266   \n",
       "\n",
       "                                uid          city state        county    zip  \\\n",
       "1  3a83ddb66e2ae73798bdf1d705dc0932           Eva    AL        Morgan  35621   \n",
       "2  176354c5eef714957d486009feabf195      Marianna    FL       Jackson  32446   \n",
       "3  e19a0fa00aeda885b8a436757e889bc9   Sioux Falls    SD     Minnehaha  57110   \n",
       "4  cd17d7b6d152cb6f23957346d11c3f07  New Richland    MN        Waseca  56072   \n",
       "5  d2f0425877b10ed6bb381f3e2579424a    West Point    VA  King William  23181   \n",
       "\n",
       "   latitude  longitude  population      area          timezone  \\\n",
       "1  34.34960  -86.72508        2951  Suburban   America/Chicago   \n",
       "2  30.84513  -85.22907       11303     Urban   America/Chicago   \n",
       "3  43.54321  -96.63772       17125  Suburban   America/Chicago   \n",
       "4  43.89744  -93.51479        2162  Suburban   America/Chicago   \n",
       "5  37.59894  -76.88958        5287     Rural  America/New_York   \n",
       "\n",
       "                                job  children   age  \\\n",
       "1  Psychologist, sport and exercise       1.0  53.0   \n",
       "2      Community development worker       3.0  51.0   \n",
       "3           Chief Executive Officer       3.0  53.0   \n",
       "4               Early years teacher       0.0  78.0   \n",
       "5       Health promotion specialist       NaN  22.0   \n",
       "\n",
       "                                  education employment    income   marital  \\\n",
       "1            Some College, Less than 1 Year  Full Time  86575.93  Divorced   \n",
       "2  Some College, 1 or More Years, No Degree  Full Time  46805.99   Married   \n",
       "3  Some College, 1 or More Years, No Degree    Retired  14370.14   Widowed   \n",
       "4             GED or Alternative Credential    Retired  39741.49   Married   \n",
       "5               Regular High School Diploma  Full Time   1209.56   Widowed   \n",
       "\n",
       "   gender readmission  vit_d_level  doc_visits  full_meals_eaten  vit_d_supp  \\\n",
       "1    Male          No    17.802330           6                 0           0   \n",
       "2  Female          No    18.994640           4                 2           1   \n",
       "3  Female          No    17.415889           4                 1           0   \n",
       "4    Male          No    17.420079           4                 1           0   \n",
       "5  Female          No    16.870524           5                 0           2   \n",
       "\n",
       "  soft_drink        initial_admin high_blood stroke complication_risk  \\\n",
       "1        NaN  Emergency Admission        Yes     No            Medium   \n",
       "2         No  Emergency Admission        Yes     No              High   \n",
       "3         No   Elective Admission        Yes     No            Medium   \n",
       "4         No   Elective Admission         No    Yes            Medium   \n",
       "5        Yes   Elective Admission         No     No               Low   \n",
       "\n",
       "   overweight arthritis diabetes hyperlipidemia back_pain  anxiety  \\\n",
       "1         0.0       Yes      Yes             No       Yes      1.0   \n",
       "2         1.0        No       No             No        No      NaN   \n",
       "3         1.0        No      Yes             No        No      NaN   \n",
       "4         0.0       Yes       No             No        No      NaN   \n",
       "5         0.0        No       No            Yes        No      0.0   \n",
       "\n",
       "  allergic_rhinitis reflux_esophagitis asthma     services  initial_days  \\\n",
       "1               Yes                 No    Yes   Blood Work     10.585770   \n",
       "2                No                Yes     No  Intravenous     15.129562   \n",
       "3                No                 No     No   Blood Work      4.772177   \n",
       "4                No                Yes    Yes   Blood Work      1.714879   \n",
       "5               Yes                 No     No      CT Scan      1.254807   \n",
       "\n",
       "   total_charge  additional_charges  item_1  item_2  item_3  item_4  item_5  \\\n",
       "1   3191.048774        17939.403420       3       3       2       2       4   \n",
       "2   4214.905346        17612.998120       3       4       3       4       4   \n",
       "3   2177.586768        17505.192460       2       4       4       4       3   \n",
       "4   2465.118965        12993.437350       3       5       5       3       4   \n",
       "5   1885.655137         3716.525786       2       1       3       3       5   \n",
       "\n",
       "   item_6  item_7  item_8  \n",
       "1       3       3       4  \n",
       "2       4       3       3  \n",
       "3       4       3       3  \n",
       "4       5       5       5  \n",
       "5       3       4       3  "
      ]
     },
     "execution_count": 8,
     "metadata": {},
     "output_type": "execute_result"
    }
   ],
   "source": [
    "# Standardize column names using snake_case and re-express names for comprehensiveness\n",
    "col_names = ['case_order', 'customer_id', 'interaction', 'uid', 'city', 'state', 'county', 'zip', 'latitude', 'longitude', 'population', 'area', 'timezone', 'job', 'children', 'age', 'education', 'employment', 'income', 'marital', \n",
    "             'gender', 'readmission', 'vit_d_level', 'doc_visits', 'full_meals_eaten', 'vit_d_supp', 'soft_drink', 'initial_admin', 'high_blood', 'stroke', 'complication_risk', 'overweight', 'arthritis', 'diabetes', 'hyperlipidemia',\n",
    "             'back_pain', 'anxiety', 'allergic_rhinitis', 'reflux_esophagitis', 'asthma', 'services', 'initial_days', 'total_charge', 'additional_charges', 'item_1', 'item_2', 'item_3', 'item_4', 'item_5', 'item_6', 'item_7', 'item_8']\n",
    "df.columns = col_names\n",
    "df.head()"
   ]
  },
  {
   "cell_type": "code",
   "execution_count": 10,
   "id": "d963e334-e756-4f72-b1ba-3583b5cc3213",
   "metadata": {
    "tags": []
   },
   "outputs": [
    {
     "name": "stdout",
     "output_type": "stream",
     "text": [
      "<class 'pandas.core.frame.DataFrame'>\n",
      "Index: 10000 entries, 1 to 10000\n",
      "Data columns (total 52 columns):\n",
      " #   Column              Non-Null Count  Dtype  \n",
      "---  ------              --------------  -----  \n",
      " 0   case_order          10000 non-null  int64  \n",
      " 1   customer_id         10000 non-null  object \n",
      " 2   interaction         10000 non-null  object \n",
      " 3   uid                 10000 non-null  object \n",
      " 4   city                10000 non-null  object \n",
      " 5   state               10000 non-null  object \n",
      " 6   county              10000 non-null  object \n",
      " 7   zip                 10000 non-null  int64  \n",
      " 8   latitude            10000 non-null  float64\n",
      " 9   longitude           10000 non-null  float64\n",
      " 10  population          10000 non-null  int64  \n",
      " 11  area                10000 non-null  object \n",
      " 12  timezone            10000 non-null  object \n",
      " 13  job                 10000 non-null  object \n",
      " 14  children            7412 non-null   float64\n",
      " 15  age                 7586 non-null   float64\n",
      " 16  education           10000 non-null  object \n",
      " 17  employment          10000 non-null  object \n",
      " 18  income              7536 non-null   float64\n",
      " 19  marital             10000 non-null  object \n",
      " 20  gender              10000 non-null  object \n",
      " 21  readmission         10000 non-null  object \n",
      " 22  vit_d_level         10000 non-null  float64\n",
      " 23  doc_visits          10000 non-null  int64  \n",
      " 24  full_meals_eaten    10000 non-null  int64  \n",
      " 25  vit_d_supp          10000 non-null  int64  \n",
      " 26  soft_drink          7533 non-null   object \n",
      " 27  initial_admin       10000 non-null  object \n",
      " 28  high_blood          10000 non-null  object \n",
      " 29  stroke              10000 non-null  object \n",
      " 30  complication_risk   10000 non-null  object \n",
      " 31  overweight          9018 non-null   float64\n",
      " 32  arthritis           10000 non-null  object \n",
      " 33  diabetes            10000 non-null  object \n",
      " 34  hyperlipidemia      10000 non-null  object \n",
      " 35  back_pain           10000 non-null  object \n",
      " 36  anxiety             9016 non-null   float64\n",
      " 37  allergic_rhinitis   10000 non-null  object \n",
      " 38  reflux_esophagitis  10000 non-null  object \n",
      " 39  asthma              10000 non-null  object \n",
      " 40  services            10000 non-null  object \n",
      " 41  initial_days        8944 non-null   float64\n",
      " 42  total_charge        10000 non-null  float64\n",
      " 43  additional_charges  10000 non-null  float64\n",
      " 44  item_1              10000 non-null  int64  \n",
      " 45  item_2              10000 non-null  int64  \n",
      " 46  item_3              10000 non-null  int64  \n",
      " 47  item_4              10000 non-null  int64  \n",
      " 48  item_5              10000 non-null  int64  \n",
      " 49  item_6              10000 non-null  int64  \n",
      " 50  item_7              10000 non-null  int64  \n",
      " 51  item_8              10000 non-null  int64  \n",
      "dtypes: float64(11), int64(14), object(27)\n",
      "memory usage: 4.0+ MB\n"
     ]
    }
   ],
   "source": [
    "# View columns, counts, and initial data types\n",
    "df.info()"
   ]
  },
  {
   "cell_type": "code",
   "execution_count": null,
   "id": "74d9c0b6-a4c7-486e-9d18-dd3986e99856",
   "metadata": {},
   "outputs": [],
   "source": []
  },
  {
   "cell_type": "markdown",
   "id": "9a58e92b-c7f3-42e8-9dcb-8fddc67f276c",
   "metadata": {
    "tags": []
   },
   "source": [
    "### Detect Duplicates"
   ]
  },
  {
   "cell_type": "code",
   "execution_count": 12,
   "id": "24344720-0b3f-4168-8097-41cd2aeb17fc",
   "metadata": {
    "tags": []
   },
   "outputs": [
    {
     "name": "stdout",
     "output_type": "stream",
     "text": [
      "Number of unique case orders: 10000\n",
      "Number of unique customer IDs: 10000\n",
      "Number of unique interaction IDs: 10000\n",
      "Number of unique UIDs: 10000\n"
     ]
    }
   ],
   "source": [
    "# Check for duplicate values for variables that should contain unique values\n",
    "print('Number of unique case orders:', df.case_order.nunique())\n",
    "print('Number of unique customer IDs:', df.customer_id.nunique())\n",
    "print('Number of unique interaction IDs:', df.interaction.nunique())\n",
    "print('Number of unique UIDs:', df.uid.nunique())"
   ]
  },
  {
   "cell_type": "code",
   "execution_count": 14,
   "id": "2622a053-0ea3-49d7-8a87-f91bff54f53f",
   "metadata": {
    "tags": []
   },
   "outputs": [
    {
     "data": {
      "text/plain": [
       "False    10000\n",
       "Name: count, dtype: int64"
      ]
     },
     "execution_count": 14,
     "metadata": {},
     "output_type": "execute_result"
    }
   ],
   "source": [
    "# Double check for presence of any duplicated records across the entire data frame\n",
    "df.duplicated().value_counts()"
   ]
  },
  {
   "cell_type": "code",
   "execution_count": null,
   "id": "afe539e7-a24c-40b1-8383-04d72a59fc47",
   "metadata": {},
   "outputs": [],
   "source": []
  },
  {
   "cell_type": "code",
   "execution_count": null,
   "id": "d635f6d6-85c3-431e-9ed5-a4f94463ee28",
   "metadata": {},
   "outputs": [],
   "source": []
  },
  {
   "cell_type": "markdown",
   "id": "a23e9566-a187-4c7d-9603-128713f3d16a",
   "metadata": {
    "tags": []
   },
   "source": [
    "### Detect Missing Values (Quantitative & Qualitative)"
   ]
  },
  {
   "cell_type": "code",
   "execution_count": 16,
   "id": "d9efadbc-bfc6-4391-bad6-8556904e39a1",
   "metadata": {
    "tags": []
   },
   "outputs": [
    {
     "data": {
      "text/plain": [
       "case_order               0\n",
       "customer_id              0\n",
       "interaction              0\n",
       "uid                      0\n",
       "city                     0\n",
       "state                    0\n",
       "county                   0\n",
       "zip                      0\n",
       "latitude                 0\n",
       "longitude                0\n",
       "population               0\n",
       "area                     0\n",
       "timezone                 0\n",
       "job                      0\n",
       "children              2588\n",
       "age                   2414\n",
       "education                0\n",
       "employment               0\n",
       "income                2464\n",
       "marital                  0\n",
       "gender                   0\n",
       "readmission              0\n",
       "vit_d_level              0\n",
       "doc_visits               0\n",
       "full_meals_eaten         0\n",
       "vit_d_supp               0\n",
       "soft_drink            2467\n",
       "initial_admin            0\n",
       "high_blood               0\n",
       "stroke                   0\n",
       "complication_risk        0\n",
       "overweight             982\n",
       "arthritis                0\n",
       "diabetes                 0\n",
       "hyperlipidemia           0\n",
       "back_pain                0\n",
       "anxiety                984\n",
       "allergic_rhinitis        0\n",
       "reflux_esophagitis       0\n",
       "asthma                   0\n",
       "services                 0\n",
       "initial_days          1056\n",
       "total_charge             0\n",
       "additional_charges       0\n",
       "item_1                   0\n",
       "item_2                   0\n",
       "item_3                   0\n",
       "item_4                   0\n",
       "item_5                   0\n",
       "item_6                   0\n",
       "item_7                   0\n",
       "item_8                   0\n",
       "dtype: int64"
      ]
     },
     "execution_count": 16,
     "metadata": {},
     "output_type": "execute_result"
    }
   ],
   "source": [
    "# Sum of counts where N/A values exist for each variable\n",
    "df.isna().sum()"
   ]
  },
  {
   "cell_type": "code",
   "execution_count": null,
   "id": "f73b84a2-80f9-484d-9f76-d825093a6591",
   "metadata": {},
   "outputs": [],
   "source": []
  },
  {
   "cell_type": "code",
   "execution_count": null,
   "id": "68cdde03-26d2-42dd-802d-9c4afdcc8bff",
   "metadata": {},
   "outputs": [],
   "source": []
  },
  {
   "cell_type": "markdown",
   "id": "896a5872-068f-423e-92b3-27c5855c7c1e",
   "metadata": {},
   "source": [
    "### Detect Outliers (Quantitative Variables)"
   ]
  },
  {
   "cell_type": "code",
   "execution_count": 18,
   "id": "18948532-57bb-47e1-aaa2-068e1c9afaaa",
   "metadata": {
    "tags": []
   },
   "outputs": [
    {
     "data": {
      "image/png": "[encoded data removed]",
      "text/plain": [
       "<Figure size 2000x2000 with 11 Axes>"
      ]
     },
     "metadata": {},
     "output_type": "display_data"
    }
   ],
   "source": [
    "# Visualization of outliers of quantitative variables using boxplots\n",
    "fig, axes = plt.subplots(4, 3, figsize=(20,20))\n",
    "\n",
    "sns.boxplot(data=df, x='population', ax=axes[0,0])\n",
    "sns.boxplot(data=df, x='children', ax=axes[0,1])\n",
    "sns.boxplot(data=df, x='age', ax=axes[0,2])\n",
    "sns.boxplot(data=df, x='income', ax=axes[1,0])\n",
    "sns.boxplot(data=df, x='vit_d_level', ax=axes[1,1])\n",
    "sns.boxplot(data=df, x='doc_visits', ax=axes[1,2])\n",
    "sns.boxplot(data=df, x='full_meals_eaten', ax=axes[2,0])\n",
    "sns.boxplot(data=df, x='vit_d_supp', ax=axes[2,1])\n",
    "sns.boxplot(data=df, x='initial_days', ax=axes[2,2])\n",
    "sns.boxplot(data=df, x='total_charge', ax=axes[3,0])\n",
    "sns.boxplot(data=df, x='additional_charges', ax=axes[3,1])\n",
    "\n",
    "fig.delaxes(axes[3,2])"
   ]
  },
  {
   "cell_type": "markdown",
   "id": "765499dc-0237-4cb9-b655-7242983e1ad3",
   "metadata": {
    "tags": []
   },
   "source": [
    "#### Verify count and range of outliers using (Q1 - 1.5 * IQR) or (Q3 + 1.5 * IQR)"
   ]
  },
  {
   "cell_type": "code",
   "execution_count": 20,
   "id": "3f960bf1-1d48-40b9-87d2-6e85374b5e7c",
   "metadata": {},
   "outputs": [
    {
     "data": {
      "text/plain": [
       "9990     33894\n",
       "1071     33906\n",
       "346      33908\n",
       "2213     33927\n",
       "3580     34015\n",
       "         ...  \n",
       "768     105799\n",
       "7687    105799\n",
       "5966    107700\n",
       "3025    122814\n",
       "9663    122814\n",
       "Name: population, Length: 855, dtype: int64"
      ]
     },
     "execution_count": 20,
     "metadata": {},
     "output_type": "execute_result"
    }
   ],
   "source": [
    "# Population outliers\n",
    "df.population[df.population > df.population.quantile(0.75) + (1.5 * (df.population.quantile(0.75) - df.population.quantile(0.25)))].sort_values()"
   ]
  },
  {
   "cell_type": "code",
   "execution_count": 22,
   "id": "603552a1-1ec9-4075-b9dd-16b095ae1d22",
   "metadata": {
    "tags": []
   },
   "outputs": [
    {
     "data": {
      "text/plain": [
       "10000     8.0\n",
       "3836      8.0\n",
       "7661      8.0\n",
       "3933      8.0\n",
       "3947      8.0\n",
       "         ... \n",
       "7648     10.0\n",
       "3880     10.0\n",
       "7301     10.0\n",
       "2122     10.0\n",
       "17       10.0\n",
       "Name: children, Length: 303, dtype: float64"
      ]
     },
     "execution_count": 22,
     "metadata": {},
     "output_type": "execute_result"
    }
   ],
   "source": [
    "# Children outliers\n",
    "df.children[df.children > df.children.quantile(0.75) + (1.5 * (df.children.quantile(0.75) - df.children.quantile(0.25)))].sort_values()"
   ]
  },
  {
   "cell_type": "code",
   "execution_count": 24,
   "id": "d431ddd4-c255-4a53-ba5a-9ce81bd09d38",
   "metadata": {
    "tags": []
   },
   "outputs": [
    {
     "data": {
      "text/plain": [
       "7257    106220.51\n",
       "958     106521.92\n",
       "9597    106592.59\n",
       "4028    106671.88\n",
       "7392    106691.20\n",
       "          ...    \n",
       "1779    197576.18\n",
       "6407    197675.05\n",
       "8599    203774.65\n",
       "842     204542.41\n",
       "8387    207249.13\n",
       "Name: income, Length: 252, dtype: float64"
      ]
     },
     "execution_count": 24,
     "metadata": {},
     "output_type": "execute_result"
    }
   ],
   "source": [
    "# Income outliers\n",
    "df.income[df.income > df.income.quantile(0.75) + (1.5 * (df.income.quantile(0.75) - df.income.quantile(0.25)))].sort_values()"
   ]
  },
  {
   "cell_type": "code",
   "execution_count": 26,
   "id": "1aeb4cc6-8943-4edd-81f8-c0896bdac791",
   "metadata": {
    "tags": []
   },
   "outputs": [
    {
     "data": {
      "text/plain": [
       "1629     9.519012\n",
       "7188     9.553535\n",
       "8141     9.574292\n",
       "5259    10.035593\n",
       "1316    10.296893\n",
       "2584    10.333760\n",
       "9510    10.555264\n",
       "3289    10.681399\n",
       "791     10.792051\n",
       "1542    10.994245\n",
       "6945    11.053855\n",
       "8135    11.156359\n",
       "4827    11.164974\n",
       "5990    11.228023\n",
       "3638    11.325217\n",
       "636     11.335095\n",
       "819     11.346404\n",
       "8099    11.373258\n",
       "4260    11.455544\n",
       "7226    11.457162\n",
       "9425    11.465299\n",
       "9368    11.475791\n",
       "2260    11.489452\n",
       "8492    11.517152\n",
       "6920    11.546516\n",
       "9073    11.593141\n",
       "Name: vit_d_level, dtype: float64"
      ]
     },
     "execution_count": 26,
     "metadata": {},
     "output_type": "execute_result"
    }
   ],
   "source": [
    "# Vitamin D levels lower outliers\n",
    "iqr = df.vit_d_level.quantile(0.75) - df.vit_d_level.quantile(0.25)\n",
    "df.vit_d_level[df.vit_d_level < df.vit_d_level.quantile(0.25) - 1.5 * iqr].sort_values()"
   ]
  },
  {
   "cell_type": "code",
   "execution_count": 28,
   "id": "85f8b3af-37dd-4df3-ac7c-9b5b775057be",
   "metadata": {
    "tags": []
   },
   "outputs": [
    {
     "data": {
      "text/plain": [
       "6717    24.848518\n",
       "468     25.188026\n",
       "65      25.268742\n",
       "23      25.514635\n",
       "92      25.546502\n",
       "          ...    \n",
       "2616    52.156112\n",
       "7231    52.271584\n",
       "7158    52.370764\n",
       "1307    52.757599\n",
       "1964    53.019124\n",
       "Name: vit_d_level, Length: 508, dtype: float64"
      ]
     },
     "execution_count": 28,
     "metadata": {},
     "output_type": "execute_result"
    }
   ],
   "source": [
    "# Vitamin D levels upper outliers\n",
    "df.vit_d_level[df.vit_d_level > df.vit_d_level.quantile(0.75) + 1.5 * iqr].sort_values()"
   ]
  },
  {
   "cell_type": "code",
   "execution_count": 30,
   "id": "4a3d7ea0-3a05-44ae-9fab-d54915ba9c4c",
   "metadata": {
    "tags": []
   },
   "outputs": [
    {
     "data": {
      "text/plain": [
       "1232    6\n",
       "2185    6\n",
       "6069    6\n",
       "7218    6\n",
       "8145    6\n",
       "9987    6\n",
       "959     7\n",
       "4710    7\n",
       "Name: full_meals_eaten, dtype: int64"
      ]
     },
     "execution_count": 30,
     "metadata": {},
     "output_type": "execute_result"
    }
   ],
   "source": [
    "# Full meals eaten outliers\n",
    "df.full_meals_eaten[df.full_meals_eaten > df.full_meals_eaten.quantile(0.75) + (1.5 * (df.full_meals_eaten.quantile(0.75) - df.full_meals_eaten.quantile(0.25)))].sort_values()"
   ]
  },
  {
   "cell_type": "code",
   "execution_count": 32,
   "id": "0b960e69-0dae-4ae7-b8d8-75b2a9de75f0",
   "metadata": {
    "tags": []
   },
   "outputs": [
    {
     "data": {
      "text/plain": [
       "63      3\n",
       "5000    3\n",
       "5045    3\n",
       "5217    3\n",
       "5352    3\n",
       "       ..\n",
       "1343    4\n",
       "9092    4\n",
       "7181    4\n",
       "2534    4\n",
       "3132    5\n",
       "Name: vit_d_supp, Length: 70, dtype: int64"
      ]
     },
     "execution_count": 32,
     "metadata": {},
     "output_type": "execute_result"
    }
   ],
   "source": [
    "# Vitamin D supplement outliers\n",
    "df.vit_d_supp[df.vit_d_supp > df.vit_d_supp.quantile(0.75) + (1.5 * (df.vit_d_supp.quantile(0.75) - df.vit_d_supp.quantile(0.25)))].sort_values()"
   ]
  },
  {
   "cell_type": "code",
   "execution_count": 34,
   "id": "2a6632c3-737f-4bd7-9796-11b32de64cc4",
   "metadata": {
    "tags": []
   },
   "outputs": [
    {
     "data": {
      "text/plain": [
       "1651    14159.65973\n",
       "3832    14161.29725\n",
       "2326    14174.35363\n",
       "1307    14201.93003\n",
       "711     14202.38298\n",
       "           ...     \n",
       "9160    20562.04123\n",
       "5454    20632.44185\n",
       "5245    20647.38602\n",
       "9006    20673.96631\n",
       "8801    21524.22421\n",
       "Name: total_charge, Length: 466, dtype: float64"
      ]
     },
     "execution_count": 34,
     "metadata": {},
     "output_type": "execute_result"
    }
   ],
   "source": [
    "# Total charges outliers\n",
    "df.total_charge[df.total_charge > df.total_charge.quantile(0.75) + (1.5 * (df.total_charge.quantile(0.75) - df.total_charge.quantile(0.25)))].sort_values()"
   ]
  },
  {
   "cell_type": "code",
   "execution_count": 36,
   "id": "fed79d52-7d4b-4ebd-b1d5-016a87edfa80",
   "metadata": {
    "tags": []
   },
   "outputs": [
    {
     "data": {
      "text/plain": [
       "5285    27088.14922\n",
       "7343    27113.91044\n",
       "2106    27116.80933\n",
       "9341    27117.18274\n",
       "7096    27119.73460\n",
       "           ...     \n",
       "486     30087.65094\n",
       "1217    30395.02524\n",
       "5267    30422.53128\n",
       "9035    30466.92973\n",
       "5733    30566.07313\n",
       "Name: additional_charges, Length: 424, dtype: float64"
      ]
     },
     "execution_count": 36,
     "metadata": {},
     "output_type": "execute_result"
    }
   ],
   "source": [
    "# Additional charges outliers\n",
    "df.additional_charges[df.additional_charges > df.additional_charges.quantile(0.75) + (1.5 * (df.additional_charges.quantile(0.75) - df.additional_charges.quantile(0.25)))].sort_values()"
   ]
  },
  {
   "cell_type": "code",
   "execution_count": null,
   "id": "79390442-653d-40d9-adb5-0745867db696",
   "metadata": {},
   "outputs": [],
   "source": []
  },
  {
   "cell_type": "code",
   "execution_count": null,
   "id": "47b5d0ec-2905-4ddc-bc57-535f549894b5",
   "metadata": {},
   "outputs": [],
   "source": []
  },
  {
   "cell_type": "markdown",
   "id": "3e121ff8-c8e9-4ae6-a1b3-ed26f7b2ec69",
   "metadata": {},
   "source": [
    "### Detect Re-expression of Categorical Variables"
   ]
  },
  {
   "cell_type": "markdown",
   "id": "980653e1-5146-41c8-b8e2-b10ad92e068f",
   "metadata": {},
   "source": [
    "#### Verify zip code type for possible re-expression to qualitivate data type"
   ]
  },
  {
   "cell_type": "code",
   "execution_count": 38,
   "id": "7f23c707-990a-4d3b-8ca5-81142fe399a5",
   "metadata": {
    "tags": []
   },
   "outputs": [
    {
     "data": {
      "text/plain": [
       "dtype('int64')"
      ]
     },
     "execution_count": 38,
     "metadata": {},
     "output_type": "execute_result"
    }
   ],
   "source": [
    "df.zip.dtype"
   ]
  },
  {
   "cell_type": "code",
   "execution_count": 40,
   "id": "ec73ec04-41c7-4550-addf-e04bf1c5c27c",
   "metadata": {
    "tags": []
   },
   "outputs": [
    {
     "data": {
      "text/plain": [
       "7946      610\n",
       "1340      617\n",
       "5814      622\n",
       "8933      624\n",
       "1379      631\n",
       "        ...  \n",
       "6199    99918\n",
       "4227    99919\n",
       "8692    99922\n",
       "7063    99925\n",
       "9040    99929\n",
       "Name: zip, Length: 10000, dtype: int64"
      ]
     },
     "execution_count": 40,
     "metadata": {},
     "output_type": "execute_result"
    }
   ],
   "source": [
    "# US Postal Codes should be 5-digits long\n",
    "df.zip.sort_values()"
   ]
  },
  {
   "cell_type": "markdown",
   "id": "03c54886-f3d2-4bc2-95cf-7909473e9c55",
   "metadata": {},
   "source": [
    "#### Verify feasibility to convert data type to categorical based on the counts of the types of responses"
   ]
  },
  {
   "cell_type": "code",
   "execution_count": 42,
   "id": "03f6d35b-c395-404d-b97d-19ec39626b10",
   "metadata": {
    "tags": []
   },
   "outputs": [
    {
     "data": {
      "text/plain": [
       "city\n",
       "Houston             36\n",
       "San Antonio         26\n",
       "Springfield         22\n",
       "New York            21\n",
       "Miami               21\n",
       "                    ..\n",
       "Coyote               1\n",
       "Tiline               1\n",
       "Monon                1\n",
       "Sullivans Island     1\n",
       "Coraopolis           1\n",
       "Name: count, Length: 6072, dtype: int64"
      ]
     },
     "execution_count": 42,
     "metadata": {},
     "output_type": "execute_result"
    }
   ],
   "source": [
    "df.city.value_counts()"
   ]
  },
  {
   "cell_type": "code",
   "execution_count": 44,
   "id": "a72eabce-7719-4a2b-9306-82c25f2ae8f8",
   "metadata": {
    "tags": []
   },
   "outputs": [
    {
     "data": {
      "text/plain": [
       "state\n",
       "TX    553\n",
       "CA    550\n",
       "PA    547\n",
       "NY    514\n",
       "IL    442\n",
       "OH    383\n",
       "MO    328\n",
       "FL    304\n",
       "VA    287\n",
       "IA    276\n",
       "MI    273\n",
       "MN    267\n",
       "NC    254\n",
       "GA    247\n",
       "KS    220\n",
       "WI    214\n",
       "KY    210\n",
       "OK    207\n",
       "WV    207\n",
       "IN    195\n",
       "AL    194\n",
       "TN    194\n",
       "WA    191\n",
       "AR    190\n",
       "NE    185\n",
       "CO    179\n",
       "NJ    176\n",
       "LA    173\n",
       "MA    149\n",
       "MS    134\n",
       "MD    131\n",
       "SC    128\n",
       "SD    123\n",
       "ME    122\n",
       "OR    122\n",
       "MT    112\n",
       "NM    110\n",
       "ID    109\n",
       "ND    108\n",
       "AZ    108\n",
       "CT     80\n",
       "NH     79\n",
       "UT     72\n",
       "AK     70\n",
       "VT     60\n",
       "NV     51\n",
       "WY     51\n",
       "PR     43\n",
       "HI     34\n",
       "DE     17\n",
       "RI     14\n",
       "DC     13\n",
       "Name: count, dtype: int64"
      ]
     },
     "execution_count": 44,
     "metadata": {},
     "output_type": "execute_result"
    }
   ],
   "source": [
    "df.state.value_counts()"
   ]
  },
  {
   "cell_type": "code",
   "execution_count": 46,
   "id": "4663ef9c-f91c-436e-a138-01c40d64917c",
   "metadata": {
    "tags": []
   },
   "outputs": [
    {
     "data": {
      "text/plain": [
       "county\n",
       "Jefferson      118\n",
       "Washington     100\n",
       "Franklin        93\n",
       "Los Angeles     88\n",
       "Montgomery      80\n",
       "              ... \n",
       "Jenkins          1\n",
       "Sully            1\n",
       "Panola           1\n",
       "Kandiyohi        1\n",
       "Sterling         1\n",
       "Name: count, Length: 1607, dtype: int64"
      ]
     },
     "execution_count": 46,
     "metadata": {},
     "output_type": "execute_result"
    }
   ],
   "source": [
    "df.county.value_counts()"
   ]
  },
  {
   "cell_type": "code",
   "execution_count": 48,
   "id": "875b2ffa-5da1-4c98-8d96-44c5908dde53",
   "metadata": {
    "tags": []
   },
   "outputs": [
    {
     "data": {
      "text/plain": [
       "area\n",
       "Rural       3369\n",
       "Suburban    3328\n",
       "Urban       3303\n",
       "Name: count, dtype: int64"
      ]
     },
     "execution_count": 48,
     "metadata": {},
     "output_type": "execute_result"
    }
   ],
   "source": [
    "df.area.value_counts()"
   ]
  },
  {
   "cell_type": "code",
   "execution_count": 50,
   "id": "42db2577-eece-4bf1-957f-55885572682e",
   "metadata": {
    "tags": []
   },
   "outputs": [
    {
     "data": {
      "text/plain": [
       "timezone\n",
       "America/New_York                  3889\n",
       "America/Chicago                   3771\n",
       "America/Los_Angeles                937\n",
       "America/Denver                     612\n",
       "America/Detroit                    262\n",
       "America/Indiana/Indianapolis       151\n",
       "America/Phoenix                    100\n",
       "America/Boise                       86\n",
       "America/Anchorage                   50\n",
       "America/Puerto_Rico                 43\n",
       "Pacific/Honolulu                    34\n",
       "America/Menominee                   14\n",
       "America/Nome                        12\n",
       "America/Indiana/Vincennes            8\n",
       "America/Kentucky/Louisville          6\n",
       "America/Sitka                        6\n",
       "America/Toronto                      5\n",
       "America/Indiana/Marengo              3\n",
       "America/Indiana/Tell_City            3\n",
       "America/North_Dakota/Beulah          2\n",
       "America/Yakutat                      1\n",
       "America/Indiana/Winamac              1\n",
       "America/Indiana/Knox                 1\n",
       "America/North_Dakota/New_Salem       1\n",
       "America/Indiana/Vevay                1\n",
       "America/Adak                         1\n",
       "Name: count, dtype: int64"
      ]
     },
     "execution_count": 50,
     "metadata": {},
     "output_type": "execute_result"
    }
   ],
   "source": [
    "df.timezone.value_counts()"
   ]
  },
  {
   "cell_type": "code",
   "execution_count": 52,
   "id": "71331907-7aec-4995-b0b2-e4a3cb998238",
   "metadata": {
    "tags": []
   },
   "outputs": [
    {
     "data": {
      "text/plain": [
       "job\n",
       "Outdoor activities/education manager     29\n",
       "Exhibition designer                      27\n",
       "Theatre director                         27\n",
       "Scientist, audiological                  26\n",
       "Toxicologist                             25\n",
       "                                         ..\n",
       "Government social research officer        6\n",
       "Phytotherapist                            6\n",
       "Engineer, control and instrumentation     6\n",
       "Public relations account executive        6\n",
       "Licensed conveyancer                      6\n",
       "Name: count, Length: 639, dtype: int64"
      ]
     },
     "execution_count": 52,
     "metadata": {},
     "output_type": "execute_result"
    }
   ],
   "source": [
    "df.job.value_counts()"
   ]
  },
  {
   "cell_type": "code",
   "execution_count": 54,
   "id": "1e27c6b4-3930-432d-85d3-d0637a699d53",
   "metadata": {
    "tags": []
   },
   "outputs": [
    {
     "data": {
      "text/plain": [
       "education\n",
       "Regular High School Diploma                 2444\n",
       "Bachelor's Degree                           1724\n",
       "Some College, 1 or More Years, No Degree    1484\n",
       "9th Grade to 12th Grade, No Diploma          832\n",
       "Associate's Degree                           797\n",
       "Master's Degree                              701\n",
       "Some College, Less than 1 Year               642\n",
       "Nursery School to 8th Grade                  552\n",
       "GED or Alternative Credential                389\n",
       "Professional School Degree                   208\n",
       "No Schooling Completed                       133\n",
       "Doctorate Degree                              94\n",
       "Name: count, dtype: int64"
      ]
     },
     "execution_count": 54,
     "metadata": {},
     "output_type": "execute_result"
    }
   ],
   "source": [
    "df.education.value_counts()"
   ]
  },
  {
   "cell_type": "code",
   "execution_count": 56,
   "id": "e6fcdaeb-2bad-46e8-b491-4b8a4527e5a5",
   "metadata": {
    "tags": []
   },
   "outputs": [
    {
     "data": {
      "text/plain": [
       "employment\n",
       "Full Time     6029\n",
       "Student       1017\n",
       "Part Time      991\n",
       "Unemployed     983\n",
       "Retired        980\n",
       "Name: count, dtype: int64"
      ]
     },
     "execution_count": 56,
     "metadata": {},
     "output_type": "execute_result"
    }
   ],
   "source": [
    "df.employment.value_counts()"
   ]
  },
  {
   "cell_type": "code",
   "execution_count": 58,
   "id": "a1960025-755b-4b8d-8fa3-a2b78a7badaa",
   "metadata": {
    "tags": []
   },
   "outputs": [
    {
     "data": {
      "text/plain": [
       "marital\n",
       "Widowed          2045\n",
       "Married          2023\n",
       "Separated        1987\n",
       "Never Married    1984\n",
       "Divorced         1961\n",
       "Name: count, dtype: int64"
      ]
     },
     "execution_count": 58,
     "metadata": {},
     "output_type": "execute_result"
    }
   ],
   "source": [
    "df.marital.value_counts()"
   ]
  },
  {
   "cell_type": "code",
   "execution_count": 60,
   "id": "143f3af1-2b1b-4f59-bb13-40af9f486002",
   "metadata": {
    "tags": []
   },
   "outputs": [
    {
     "data": {
      "text/plain": [
       "gender\n",
       "Female                  5018\n",
       "Male                    4768\n",
       "Prefer not to answer     214\n",
       "Name: count, dtype: int64"
      ]
     },
     "execution_count": 60,
     "metadata": {},
     "output_type": "execute_result"
    }
   ],
   "source": [
    "df.gender.value_counts()"
   ]
  },
  {
   "cell_type": "code",
   "execution_count": 62,
   "id": "47d665e2-d900-4dc1-b85e-c516167b13fb",
   "metadata": {
    "tags": []
   },
   "outputs": [
    {
     "data": {
      "text/plain": [
       "initial_admin\n",
       "Emergency Admission      5060\n",
       "Elective Admission       2504\n",
       "Observation Admission    2436\n",
       "Name: count, dtype: int64"
      ]
     },
     "execution_count": 62,
     "metadata": {},
     "output_type": "execute_result"
    }
   ],
   "source": [
    "df.initial_admin.value_counts()"
   ]
  },
  {
   "cell_type": "code",
   "execution_count": 64,
   "id": "b44b029e-f59b-47cc-8fd3-216da80899a2",
   "metadata": {
    "tags": []
   },
   "outputs": [
    {
     "data": {
      "text/plain": [
       "complication_risk\n",
       "Medium    4517\n",
       "High      3358\n",
       "Low       2125\n",
       "Name: count, dtype: int64"
      ]
     },
     "execution_count": 64,
     "metadata": {},
     "output_type": "execute_result"
    }
   ],
   "source": [
    "df.complication_risk.value_counts()"
   ]
  },
  {
   "cell_type": "code",
   "execution_count": 66,
   "id": "24dd0158-9820-4f13-8177-a1a34fefe161",
   "metadata": {
    "tags": []
   },
   "outputs": [
    {
     "data": {
      "text/plain": [
       "services\n",
       "Blood Work     5265\n",
       "Intravenous    3130\n",
       "CT Scan        1225\n",
       "MRI             380\n",
       "Name: count, dtype: int64"
      ]
     },
     "execution_count": 66,
     "metadata": {},
     "output_type": "execute_result"
    }
   ],
   "source": [
    "df.services.value_counts()"
   ]
  },
  {
   "cell_type": "markdown",
   "id": "8f716aa1-43aa-4b17-9178-52d6160b8451",
   "metadata": {
    "tags": []
   },
   "source": [
    "#### Verify consistency of Yes/No responses"
   ]
  },
  {
   "cell_type": "code",
   "execution_count": 68,
   "id": "b92d34d2-5524-475f-b1f1-a7fa37dcf1a5",
   "metadata": {
    "tags": []
   },
   "outputs": [
    {
     "data": {
      "text/plain": [
       "readmission\n",
       "No     6331\n",
       "Yes    3669\n",
       "Name: count, dtype: int64"
      ]
     },
     "execution_count": 68,
     "metadata": {},
     "output_type": "execute_result"
    }
   ],
   "source": [
    "df.readmission.value_counts()"
   ]
  },
  {
   "cell_type": "code",
   "execution_count": 70,
   "id": "01b0bbcb-0d7d-4c78-9ac7-d1b24feee8e0",
   "metadata": {
    "tags": []
   },
   "outputs": [
    {
     "data": {
      "text/plain": [
       "soft_drink\n",
       "No     5589\n",
       "Yes    1944\n",
       "Name: count, dtype: int64"
      ]
     },
     "execution_count": 70,
     "metadata": {},
     "output_type": "execute_result"
    }
   ],
   "source": [
    "df.soft_drink.value_counts()"
   ]
  },
  {
   "cell_type": "code",
   "execution_count": 72,
   "id": "9db067ab-7276-432a-96d4-83639fcd8cd3",
   "metadata": {
    "tags": []
   },
   "outputs": [
    {
     "data": {
      "text/plain": [
       "high_blood\n",
       "No     5910\n",
       "Yes    4090\n",
       "Name: count, dtype: int64"
      ]
     },
     "execution_count": 72,
     "metadata": {},
     "output_type": "execute_result"
    }
   ],
   "source": [
    "df.high_blood.value_counts()"
   ]
  },
  {
   "cell_type": "code",
   "execution_count": 74,
   "id": "7c32070d-d693-4380-a97d-f169599505a5",
   "metadata": {
    "tags": []
   },
   "outputs": [
    {
     "data": {
      "text/plain": [
       "stroke\n",
       "No     8007\n",
       "Yes    1993\n",
       "Name: count, dtype: int64"
      ]
     },
     "execution_count": 74,
     "metadata": {},
     "output_type": "execute_result"
    }
   ],
   "source": [
    "df.stroke.value_counts()"
   ]
  },
  {
   "cell_type": "code",
   "execution_count": 76,
   "id": "241c0ed7-ba2f-47af-b3b9-410ab70b5d6a",
   "metadata": {
    "tags": []
   },
   "outputs": [
    {
     "data": {
      "text/plain": [
       "overweight\n",
       "1.0    6395\n",
       "0.0    2623\n",
       "Name: count, dtype: int64"
      ]
     },
     "execution_count": 76,
     "metadata": {},
     "output_type": "execute_result"
    }
   ],
   "source": [
    "df.overweight.value_counts()"
   ]
  },
  {
   "cell_type": "code",
   "execution_count": 78,
   "id": "43d824f1-fda2-499e-a6e5-4908d49e3f6d",
   "metadata": {
    "tags": []
   },
   "outputs": [
    {
     "data": {
      "text/plain": [
       "arthritis\n",
       "No     6426\n",
       "Yes    3574\n",
       "Name: count, dtype: int64"
      ]
     },
     "execution_count": 78,
     "metadata": {},
     "output_type": "execute_result"
    }
   ],
   "source": [
    "df.arthritis.value_counts()"
   ]
  },
  {
   "cell_type": "code",
   "execution_count": 80,
   "id": "c116edc0-745a-4c60-9ede-6b3cd65755a9",
   "metadata": {
    "tags": []
   },
   "outputs": [
    {
     "data": {
      "text/plain": [
       "diabetes\n",
       "No     7262\n",
       "Yes    2738\n",
       "Name: count, dtype: int64"
      ]
     },
     "execution_count": 80,
     "metadata": {},
     "output_type": "execute_result"
    }
   ],
   "source": [
    "df.diabetes.value_counts()"
   ]
  },
  {
   "cell_type": "code",
   "execution_count": 82,
   "id": "4a27eea6-7ea8-457d-a3f1-25f2933672e5",
   "metadata": {
    "tags": []
   },
   "outputs": [
    {
     "data": {
      "text/plain": [
       "hyperlipidemia\n",
       "No     6628\n",
       "Yes    3372\n",
       "Name: count, dtype: int64"
      ]
     },
     "execution_count": 82,
     "metadata": {},
     "output_type": "execute_result"
    }
   ],
   "source": [
    "df.hyperlipidemia.value_counts()"
   ]
  },
  {
   "cell_type": "code",
   "execution_count": 84,
   "id": "d89b93f8-c3e1-47ab-96e3-6f7cf8671627",
   "metadata": {
    "tags": []
   },
   "outputs": [
    {
     "data": {
      "text/plain": [
       "back_pain\n",
       "No     5886\n",
       "Yes    4114\n",
       "Name: count, dtype: int64"
      ]
     },
     "execution_count": 84,
     "metadata": {},
     "output_type": "execute_result"
    }
   ],
   "source": [
    "df.back_pain.value_counts()"
   ]
  },
  {
   "cell_type": "code",
   "execution_count": 86,
   "id": "d2661ffd-4804-42b5-92c4-99bcf9d4ef87",
   "metadata": {
    "tags": []
   },
   "outputs": [
    {
     "data": {
      "text/plain": [
       "anxiety\n",
       "0.0    6110\n",
       "1.0    2906\n",
       "Name: count, dtype: int64"
      ]
     },
     "execution_count": 86,
     "metadata": {},
     "output_type": "execute_result"
    }
   ],
   "source": [
    "df.anxiety.value_counts()"
   ]
  },
  {
   "cell_type": "code",
   "execution_count": 88,
   "id": "37239213-56ee-45e1-a7e8-20aea83f299c",
   "metadata": {
    "tags": []
   },
   "outputs": [
    {
     "data": {
      "text/plain": [
       "allergic_rhinitis\n",
       "No     6059\n",
       "Yes    3941\n",
       "Name: count, dtype: int64"
      ]
     },
     "execution_count": 88,
     "metadata": {},
     "output_type": "execute_result"
    }
   ],
   "source": [
    "df.allergic_rhinitis.value_counts()"
   ]
  },
  {
   "cell_type": "code",
   "execution_count": 90,
   "id": "b89176dd-0289-45cc-914a-c597b304251f",
   "metadata": {
    "tags": []
   },
   "outputs": [
    {
     "data": {
      "text/plain": [
       "reflux_esophagitis\n",
       "No     5865\n",
       "Yes    4135\n",
       "Name: count, dtype: int64"
      ]
     },
     "execution_count": 90,
     "metadata": {},
     "output_type": "execute_result"
    }
   ],
   "source": [
    "df.reflux_esophagitis.value_counts()"
   ]
  },
  {
   "cell_type": "code",
   "execution_count": 92,
   "id": "b52245a9-e016-4630-aed3-9a737a501c9c",
   "metadata": {
    "tags": []
   },
   "outputs": [
    {
     "data": {
      "text/plain": [
       "asthma\n",
       "No     7107\n",
       "Yes    2893\n",
       "Name: count, dtype: int64"
      ]
     },
     "execution_count": 92,
     "metadata": {},
     "output_type": "execute_result"
    }
   ],
   "source": [
    "df.asthma.value_counts()"
   ]
  },
  {
   "cell_type": "markdown",
   "id": "2d3a9361-5e59-4141-b25a-bca8ff8b1269",
   "metadata": {
    "tags": []
   },
   "source": [
    "#### Verify results of survey responses, which can then be re-mapped to an ordered categorical type"
   ]
  },
  {
   "cell_type": "code",
   "execution_count": 94,
   "id": "0094d538-51fd-494d-9236-1d6aa30a04c3",
   "metadata": {
    "tags": []
   },
   "outputs": [
    {
     "data": {
      "text/plain": [
       "item_1\n",
       "4    3455\n",
       "3    3404\n",
       "5    1377\n",
       "2    1315\n",
       "6     225\n",
       "1     213\n",
       "7      10\n",
       "8       1\n",
       "Name: count, dtype: int64"
      ]
     },
     "execution_count": 94,
     "metadata": {},
     "output_type": "execute_result"
    }
   ],
   "source": [
    "df.item_1.value_counts()"
   ]
  },
  {
   "cell_type": "code",
   "execution_count": 96,
   "id": "b5a82f11-6e58-41e0-9eb7-635faa68bd1d",
   "metadata": {
    "tags": []
   },
   "outputs": [
    {
     "data": {
      "text/plain": [
       "item_2\n",
       "3    3439\n",
       "4    3351\n",
       "5    1421\n",
       "2    1360\n",
       "1     213\n",
       "6     204\n",
       "7      12\n",
       "Name: count, dtype: int64"
      ]
     },
     "execution_count": 96,
     "metadata": {},
     "output_type": "execute_result"
    }
   ],
   "source": [
    "df.item_2.value_counts()"
   ]
  },
  {
   "cell_type": "code",
   "execution_count": 98,
   "id": "7a8ad6b5-8908-465f-8ed9-33bfed1036dd",
   "metadata": {
    "tags": []
   },
   "outputs": [
    {
     "data": {
      "text/plain": [
       "item_3\n",
       "4    3464\n",
       "3    3379\n",
       "5    1358\n",
       "2    1356\n",
       "6     220\n",
       "1     211\n",
       "7      11\n",
       "8       1\n",
       "Name: count, dtype: int64"
      ]
     },
     "execution_count": 98,
     "metadata": {},
     "output_type": "execute_result"
    }
   ],
   "source": [
    "df.item_3.value_counts()"
   ]
  },
  {
   "cell_type": "code",
   "execution_count": 100,
   "id": "a28576eb-3833-4ec5-aa7e-a6511ab26ce7",
   "metadata": {
    "tags": []
   },
   "outputs": [
    {
     "data": {
      "text/plain": [
       "item_4\n",
       "3    3422\n",
       "4    3394\n",
       "5    1388\n",
       "2    1346\n",
       "6     231\n",
       "1     207\n",
       "7      12\n",
       "Name: count, dtype: int64"
      ]
     },
     "execution_count": 100,
     "metadata": {},
     "output_type": "execute_result"
    }
   ],
   "source": [
    "df.item_4.value_counts()"
   ]
  },
  {
   "cell_type": "code",
   "execution_count": 102,
   "id": "44818045-84b7-4074-b2e5-f32b759d1a1a",
   "metadata": {
    "tags": []
   },
   "outputs": [
    {
     "data": {
      "text/plain": [
       "item_5\n",
       "4    3446\n",
       "3    3423\n",
       "2    1380\n",
       "5    1308\n",
       "6     219\n",
       "1     211\n",
       "7      13\n",
       "Name: count, dtype: int64"
      ]
     },
     "execution_count": 102,
     "metadata": {},
     "output_type": "execute_result"
    }
   ],
   "source": [
    "df.item_5.value_counts()"
   ]
  },
  {
   "cell_type": "code",
   "execution_count": 104,
   "id": "405179b6-4768-4024-9132-7d905162ca20",
   "metadata": {
    "tags": []
   },
   "outputs": [
    {
     "data": {
      "text/plain": [
       "item_6\n",
       "4    3464\n",
       "3    3371\n",
       "5    1403\n",
       "2    1319\n",
       "6     220\n",
       "1     213\n",
       "7      10\n",
       "Name: count, dtype: int64"
      ]
     },
     "execution_count": 104,
     "metadata": {},
     "output_type": "execute_result"
    }
   ],
   "source": [
    "df.item_6.value_counts()"
   ]
  },
  {
   "cell_type": "code",
   "execution_count": 106,
   "id": "b3cf6457-cf5e-42c0-a33c-df91aa524ed6",
   "metadata": {
    "tags": []
   },
   "outputs": [
    {
     "data": {
      "text/plain": [
       "item_7\n",
       "4    3487\n",
       "3    3456\n",
       "2    1345\n",
       "5    1274\n",
       "1     215\n",
       "6     212\n",
       "7      11\n",
       "Name: count, dtype: int64"
      ]
     },
     "execution_count": 106,
     "metadata": {},
     "output_type": "execute_result"
    }
   ],
   "source": [
    "df.item_7.value_counts()"
   ]
  },
  {
   "cell_type": "code",
   "execution_count": 108,
   "id": "980c5fc9-d009-4652-bfce-b7d0d8b77599",
   "metadata": {
    "tags": []
   },
   "outputs": [
    {
     "data": {
      "text/plain": [
       "item_8\n",
       "3    3401\n",
       "4    3337\n",
       "5    1429\n",
       "2    1391\n",
       "6     221\n",
       "1     209\n",
       "7      12\n",
       "Name: count, dtype: int64"
      ]
     },
     "execution_count": 108,
     "metadata": {},
     "output_type": "execute_result"
    }
   ],
   "source": [
    "df.item_8.value_counts()"
   ]
  },
  {
   "cell_type": "code",
   "execution_count": null,
   "id": "45806d0a-49f1-4ed7-a2f2-6725487aac36",
   "metadata": {},
   "outputs": [],
   "source": []
  },
  {
   "cell_type": "code",
   "execution_count": null,
   "id": "d8ed48ea-6ad2-4a6d-905f-6f715e91b801",
   "metadata": {},
   "outputs": [],
   "source": []
  },
  {
   "cell_type": "markdown",
   "id": "e676d198-b040-42bc-afcf-d40b845f0933",
   "metadata": {
    "tags": []
   },
   "source": [
    "### Treatment of Missing Values"
   ]
  },
  {
   "cell_type": "markdown",
   "id": "a7d4ad94-79cb-488e-a134-a4923029b19d",
   "metadata": {},
   "source": [
    "##### Children"
   ]
  },
  {
   "cell_type": "code",
   "execution_count": 110,
   "id": "2d898ce1-6816-4490-b7e3-6e53427a7d87",
   "metadata": {
    "tags": []
   },
   "outputs": [
    {
     "data": {
      "image/png": "[encoded data removed]",
      "text/plain": [
       "<Figure size 640x480 with 1 Axes>"
      ]
     },
     "metadata": {},
     "output_type": "display_data"
    }
   ],
   "source": [
    "# Visualization of variable to determine imputation method\n",
    "df.children.hist();"
   ]
  },
  {
   "cell_type": "code",
   "execution_count": 112,
   "id": "bd036e46-3d28-4bde-b01b-a86867382f2d",
   "metadata": {},
   "outputs": [
    {
     "data": {
      "image/png": "[encoded data removed]",
      "text/plain": [
       "<Figure size 640x480 with 1 Axes>"
      ]
     },
     "metadata": {},
     "output_type": "display_data"
    }
   ],
   "source": [
    "# Impute via median and verify visually\n",
    "df.children.fillna(df.children.median(), inplace=True)\n",
    "df.children.hist();"
   ]
  },
  {
   "cell_type": "markdown",
   "id": "6db73a63-eda5-4c04-b7d8-533de0c37cee",
   "metadata": {},
   "source": [
    "##### Age"
   ]
  },
  {
   "cell_type": "code",
   "execution_count": 114,
   "id": "caf03f80-0b8f-4370-b34a-73bd81b073ca",
   "metadata": {
    "tags": []
   },
   "outputs": [
    {
     "data": {
      "image/png": "[encoded data removed]",
      "text/plain": [
       "<Figure size 640x480 with 1 Axes>"
      ]
     },
     "metadata": {},
     "output_type": "display_data"
    }
   ],
   "source": [
    "# Visualization of variable to determine imputation method\n",
    "df.age.hist();"
   ]
  },
  {
   "cell_type": "code",
   "execution_count": 116,
   "id": "dab890a0-2423-4bb6-b6aa-9f8f9e3de10c",
   "metadata": {
    "tags": []
   },
   "outputs": [
    {
     "data": {
      "image/png": "[encoded data removed]",
      "text/plain": [
       "<Figure size 640x480 with 1 Axes>"
      ]
     },
     "metadata": {},
     "output_type": "display_data"
    }
   ],
   "source": [
    "# Impute via mean and verify visually\n",
    "df.age.fillna(df.age.mean(), inplace=True)\n",
    "df.age.hist();"
   ]
  },
  {
   "cell_type": "markdown",
   "id": "71fd4149-1fc6-48f7-84db-402537f76471",
   "metadata": {},
   "source": [
    "##### Income"
   ]
  },
  {
   "cell_type": "code",
   "execution_count": 118,
   "id": "569de301-d4ee-477b-83f4-a36d2fb587fd",
   "metadata": {
    "tags": []
   },
   "outputs": [
    {
     "data": {
      "text/plain": [
       "<Axes: >"
      ]
     },
     "execution_count": 118,
     "metadata": {},
     "output_type": "execute_result"
    },
    {
     "data": {
      "image/png": "[encoded data removed]",
      "text/plain": [
       "<Figure size 640x480 with 1 Axes>"
      ]
     },
     "metadata": {},
     "output_type": "display_data"
    }
   ],
   "source": [
    "# Visualization of variable to determine imputation method\n",
    "df.income.hist()"
   ]
  },
  {
   "cell_type": "code",
   "execution_count": 120,
   "id": "c1bec408-d5f2-4f16-bf11-035859ce0989",
   "metadata": {
    "tags": []
   },
   "outputs": [
    {
     "data": {
      "image/png": "[encoded data removed]",
      "text/plain": [
       "<Figure size 640x480 with 1 Axes>"
      ]
     },
     "metadata": {},
     "output_type": "display_data"
    }
   ],
   "source": [
    "# Impute via median and verify visually\n",
    "df.income.fillna(df.income.median(), inplace=True)\n",
    "df.income.hist();"
   ]
  },
  {
   "cell_type": "markdown",
   "id": "23877f3b-c5eb-4e4c-b252-6c82409175cb",
   "metadata": {},
   "source": [
    "##### Initial Days"
   ]
  },
  {
   "cell_type": "code",
   "execution_count": 122,
   "id": "26f56b88-8f48-4c7f-9459-8fa4e5ae10b5",
   "metadata": {
    "tags": []
   },
   "outputs": [
    {
     "data": {
      "text/plain": [
       "<Axes: >"
      ]
     },
     "execution_count": 122,
     "metadata": {},
     "output_type": "execute_result"
    },
    {
     "data": {
      "image/png": "[encoded data removed]",
      "text/plain": [
       "<Figure size 640x480 with 1 Axes>"
      ]
     },
     "metadata": {},
     "output_type": "display_data"
    }
   ],
   "source": [
    "# Visualization of variable to determine imputation method\n",
    "df.initial_days.hist()"
   ]
  },
  {
   "cell_type": "code",
   "execution_count": 124,
   "id": "a181d29a-b161-4c94-b01d-993c6ac187c8",
   "metadata": {
    "tags": []
   },
   "outputs": [
    {
     "data": {
      "text/plain": [
       "<Axes: >"
      ]
     },
     "execution_count": 124,
     "metadata": {},
     "output_type": "execute_result"
    },
    {
     "data": {
      "image/png": "[encoded data removed]",
      "text/plain": [
       "<Figure size 640x480 with 1 Axes>"
      ]
     },
     "metadata": {},
     "output_type": "display_data"
    }
   ],
   "source": [
    "# Impute via median and verify visually\n",
    "df.initial_days.fillna(df.initial_days.median(), inplace=True)\n",
    "df.initial_days.hist()"
   ]
  },
  {
   "cell_type": "markdown",
   "id": "60271916-c124-44a7-bcbb-859051fa8749",
   "metadata": {},
   "source": [
    "##### Categorical Variables: Soft drink, Overweight, and Anxiety"
   ]
  },
  {
   "cell_type": "code",
   "execution_count": 126,
   "id": "77be0cee-e9c2-42ef-80d3-614148088788",
   "metadata": {
    "tags": []
   },
   "outputs": [],
   "source": [
    "# Impute categorical variables via mode\n",
    "df.soft_drink.fillna(df.soft_drink.mode()[0], inplace=True)\n",
    "df.overweight.fillna(df.overweight.mode()[0], inplace=True)\n",
    "df.anxiety.fillna(df.anxiety.mode()[0], inplace=True)"
   ]
  },
  {
   "cell_type": "code",
   "execution_count": 128,
   "id": "de8a0fa5-b6fd-4e56-9db6-53a3f8e688ca",
   "metadata": {
    "tags": []
   },
   "outputs": [
    {
     "name": "stdout",
     "output_type": "stream",
     "text": [
      "soft_drink\n",
      "No     8056\n",
      "Yes    1944\n",
      "Name: count, dtype: int64\n",
      "overweight\n",
      "1.0    7377\n",
      "0.0    2623\n",
      "Name: count, dtype: int64\n",
      "anxiety\n",
      "0.0    7094\n",
      "1.0    2906\n",
      "Name: count, dtype: int64\n"
     ]
    }
   ],
   "source": [
    "# Verify imputation results\n",
    "print(df.soft_drink.value_counts())\n",
    "print(df.overweight.value_counts())\n",
    "print(df.anxiety.value_counts())"
   ]
  },
  {
   "cell_type": "code",
   "execution_count": 130,
   "id": "bcbabae0-71f4-43ee-a815-a839b9681ddd",
   "metadata": {
    "tags": []
   },
   "outputs": [
    {
     "data": {
      "text/plain": [
       "case_order            0\n",
       "customer_id           0\n",
       "interaction           0\n",
       "uid                   0\n",
       "city                  0\n",
       "state                 0\n",
       "county                0\n",
       "zip                   0\n",
       "latitude              0\n",
       "longitude             0\n",
       "population            0\n",
       "area                  0\n",
       "timezone              0\n",
       "job                   0\n",
       "children              0\n",
       "age                   0\n",
       "education             0\n",
       "employment            0\n",
       "income                0\n",
       "marital               0\n",
       "gender                0\n",
       "readmission           0\n",
       "vit_d_level           0\n",
       "doc_visits            0\n",
       "full_meals_eaten      0\n",
       "vit_d_supp            0\n",
       "soft_drink            0\n",
       "initial_admin         0\n",
       "high_blood            0\n",
       "stroke                0\n",
       "complication_risk     0\n",
       "overweight            0\n",
       "arthritis             0\n",
       "diabetes              0\n",
       "hyperlipidemia        0\n",
       "back_pain             0\n",
       "anxiety               0\n",
       "allergic_rhinitis     0\n",
       "reflux_esophagitis    0\n",
       "asthma                0\n",
       "services              0\n",
       "initial_days          0\n",
       "total_charge          0\n",
       "additional_charges    0\n",
       "item_1                0\n",
       "item_2                0\n",
       "item_3                0\n",
       "item_4                0\n",
       "item_5                0\n",
       "item_6                0\n",
       "item_7                0\n",
       "item_8                0\n",
       "dtype: int64"
      ]
     },
     "execution_count": 130,
     "metadata": {},
     "output_type": "execute_result"
    }
   ],
   "source": [
    "# Verify there are no more missing values\n",
    "df.isna().sum()"
   ]
  },
  {
   "cell_type": "code",
   "execution_count": null,
   "id": "457f1512-c9d3-4e7e-988b-378eed7ec624",
   "metadata": {},
   "outputs": [],
   "source": []
  },
  {
   "cell_type": "code",
   "execution_count": null,
   "id": "ab884245-1db9-4250-aca4-f9cf06b0ee5f",
   "metadata": {},
   "outputs": [],
   "source": []
  },
  {
   "cell_type": "markdown",
   "id": "5c70e3e8-3a33-4f55-9b7d-585b57c05b4b",
   "metadata": {},
   "source": [
    "## Treatment of the Re-expression of Categorical Variables"
   ]
  },
  {
   "cell_type": "code",
   "execution_count": 132,
   "id": "c75463ad-087c-46fa-87fd-a7f40c3af8c2",
   "metadata": {
    "tags": []
   },
   "outputs": [],
   "source": [
    "# Format data type from 'object' to 'category' for qualitative variables with relatively few answer types\n",
    "# This is to done for more efficient memory utilization\n",
    "df.state = df.state.astype('category')\n",
    "df.area = df.area.astype('category')\n",
    "df.timezone = df.timezone.astype('category')\n",
    "df.education = df.education.astype('category')\n",
    "df.employment = df.employment.astype('category')\n",
    "df.marital = df.marital.astype('category')\n",
    "df.gender = df.gender.astype('category')\n",
    "df.initial_admin = df.initial_admin.astype('category')\n",
    "df.complication_risk = df.complication_risk.astype('category')\n",
    "df.services = df.services.astype('category')\n",
    "\n",
    "# Re-assign 'gender' column's 'Prefer not to answer' to 'Nonbinary' to match data dictionary\n",
    "df.gender.replace({'Prefer not to answer':'Nonbinary'}, inplace=True)\n",
    "\n",
    "# Format Zip code from integer to string object (quantitative -> qualitative) and forward fill with zeroes\n",
    "df.zip = df.zip.astype('str').str.zfill(5)"
   ]
  },
  {
   "cell_type": "code",
   "execution_count": 134,
   "id": "7f585c91-7eba-4d52-8980-29f3775cfc79",
   "metadata": {
    "tags": []
   },
   "outputs": [],
   "source": [
    "# Format all Yes/No responses to 1/0 ordinal encoding\n",
    "ord_encode = {'Yes':1, 'No':0}\n",
    "\n",
    "df.readmission.replace(ord_encode, inplace=True)\n",
    "df.soft_drink.replace(ord_encode, inplace=True)\n",
    "df.high_blood.replace(ord_encode, inplace=True)\n",
    "df.stroke.replace(ord_encode, inplace=True)\n",
    "df.arthritis.replace(ord_encode, inplace=True)\n",
    "df.diabetes.replace(ord_encode, inplace=True)\n",
    "df.hyperlipidemia.replace(ord_encode, inplace=True)\n",
    "df.back_pain.replace(ord_encode, inplace=True)\n",
    "df.allergic_rhinitis.replace(ord_encode, inplace=True)\n",
    "df.reflux_esophagitis.replace(ord_encode, inplace=True)\n",
    "df.asthma.replace(ord_encode, inplace=True)\n",
    "\n",
    "# Format other categorical variables' date type from 'float' to 'int' for consistency\n",
    "df.overweight = df.overweight.astype('int')\n",
    "df.anxiety = df.anxiety.astype('int')"
   ]
  },
  {
   "cell_type": "code",
   "execution_count": 136,
   "id": "01d6881d-82a7-4016-8929-897ab7297fe9",
   "metadata": {
    "tags": []
   },
   "outputs": [
    {
     "data": {
      "text/plain": [
       "1    3\n",
       "2    3\n",
       "3    2\n",
       "4    3\n",
       "5    2\n",
       "Name: item_1, dtype: category\n",
       "Categories (8, int64): [8 < 7 < 6 < 5 < 4 < 3 < 2 < 1]"
      ]
     },
     "execution_count": 136,
     "metadata": {},
     "output_type": "execute_result"
    }
   ],
   "source": [
    "# Format survey responses to an ordered categorical type utilizing the pandas documentation (Categorical data, n.d.)\n",
    "from pandas.api.types import CategoricalDtype\n",
    "\n",
    "response_order = CategoricalDtype(categories=[8,7,6,5,4,3,2,1], ordered=True)\n",
    "\n",
    "df.item_1 = df.item_1.astype(response_order)\n",
    "df.item_2 = df.item_2.astype(response_order)\n",
    "df.item_3 = df.item_3.astype(response_order)\n",
    "df.item_4 = df.item_4.astype(response_order)\n",
    "df.item_5 = df.item_5.astype(response_order)\n",
    "df.item_6 = df.item_6.astype(response_order)\n",
    "df.item_7 = df.item_7.astype(response_order)\n",
    "df.item_8 = df.item_8.astype(response_order)\n",
    "\n",
    "#Verify ordinal behavior\n",
    "df.item_1.head()"
   ]
  },
  {
   "cell_type": "markdown",
   "id": "2dcbd8be-8567-47a5-8a5a-353b85a75d96",
   "metadata": {
    "tags": []
   },
   "source": [
    "### Other Data Conversions"
   ]
  },
  {
   "cell_type": "code",
   "execution_count": 138,
   "id": "688522b8-2ff7-4eef-835a-570005e5ae17",
   "metadata": {
    "tags": []
   },
   "outputs": [],
   "source": [
    "# Convert children, age, and initial_days variables from 'float' to 'int' as they are discrete in nature\n",
    "df.children = df.children.astype('int')\n",
    "df.age = df.age.astype('int')\n",
    "df.initial_days = df.initial_days.astype('int')\n",
    "\n",
    "#Round down vit_d_level, total_charge, and additional_charges for conciseness\n",
    "df.vit_d_level = df.vit_d_level.round(2)\n",
    "df.total_charge = df.total_charge.round(2)\n",
    "df.additional_charges = df.additional_charges.round(2)"
   ]
  },
  {
   "cell_type": "code",
   "execution_count": 140,
   "id": "9a69c8ce-34bf-4cee-9d68-213bd94213dc",
   "metadata": {},
   "outputs": [
    {
     "data": {
      "text/html": [
       "<div>\n",
       "<style scoped>\n",
       "    .dataframe tbody tr th:only-of-type {\n",
       "        vertical-align: middle;\n",
       "    }\n",
       "\n",
       "    .dataframe tbody tr th {\n",
       "        vertical-align: top;\n",
       "    }\n",
       "\n",
       "    .dataframe thead th {\n",
       "        text-align: right;\n",
       "    }\n",
       "</style>\n",
       "<table border=\"1\" class=\"dataframe\">\n",
       "  <thead>\n",
       "    <tr style=\"text-align: right;\">\n",
       "      <th></th>\n",
       "      <th>case_order</th>\n",
       "      <th>customer_id</th>\n",
       "      <th>interaction</th>\n",
       "      <th>uid</th>\n",
       "      <th>city</th>\n",
       "      <th>state</th>\n",
       "      <th>county</th>\n",
       "      <th>zip</th>\n",
       "      <th>latitude</th>\n",
       "      <th>longitude</th>\n",
       "      <th>population</th>\n",
       "      <th>area</th>\n",
       "      <th>timezone</th>\n",
       "      <th>job</th>\n",
       "      <th>children</th>\n",
       "      <th>age</th>\n",
       "      <th>education</th>\n",
       "      <th>employment</th>\n",
       "      <th>income</th>\n",
       "      <th>marital</th>\n",
       "      <th>gender</th>\n",
       "      <th>readmission</th>\n",
       "      <th>vit_d_level</th>\n",
       "      <th>doc_visits</th>\n",
       "      <th>full_meals_eaten</th>\n",
       "      <th>vit_d_supp</th>\n",
       "      <th>soft_drink</th>\n",
       "      <th>initial_admin</th>\n",
       "      <th>high_blood</th>\n",
       "      <th>stroke</th>\n",
       "      <th>complication_risk</th>\n",
       "      <th>overweight</th>\n",
       "      <th>arthritis</th>\n",
       "      <th>diabetes</th>\n",
       "      <th>hyperlipidemia</th>\n",
       "      <th>back_pain</th>\n",
       "      <th>anxiety</th>\n",
       "      <th>allergic_rhinitis</th>\n",
       "      <th>reflux_esophagitis</th>\n",
       "      <th>asthma</th>\n",
       "      <th>services</th>\n",
       "      <th>initial_days</th>\n",
       "      <th>total_charge</th>\n",
       "      <th>additional_charges</th>\n",
       "      <th>item_1</th>\n",
       "      <th>item_2</th>\n",
       "      <th>item_3</th>\n",
       "      <th>item_4</th>\n",
       "      <th>item_5</th>\n",
       "      <th>item_6</th>\n",
       "      <th>item_7</th>\n",
       "      <th>item_8</th>\n",
       "    </tr>\n",
       "  </thead>\n",
       "  <tbody>\n",
       "    <tr>\n",
       "      <th>1</th>\n",
       "      <td>1</td>\n",
       "      <td>C412403</td>\n",
       "      <td>8cd49b13-f45a-4b47-a2bd-173ffa932c2f</td>\n",
       "      <td>3a83ddb66e2ae73798bdf1d705dc0932</td>\n",
       "      <td>Eva</td>\n",
       "      <td>AL</td>\n",
       "      <td>Morgan</td>\n",
       "      <td>35621</td>\n",
       "      <td>34.34960</td>\n",
       "      <td>-86.72508</td>\n",
       "      <td>2951</td>\n",
       "      <td>Suburban</td>\n",
       "      <td>America/Chicago</td>\n",
       "      <td>Psychologist, sport and exercise</td>\n",
       "      <td>1</td>\n",
       "      <td>53</td>\n",
       "      <td>Some College, Less than 1 Year</td>\n",
       "      <td>Full Time</td>\n",
       "      <td>86575.93</td>\n",
       "      <td>Divorced</td>\n",
       "      <td>Male</td>\n",
       "      <td>0</td>\n",
       "      <td>17.80</td>\n",
       "      <td>6</td>\n",
       "      <td>0</td>\n",
       "      <td>0</td>\n",
       "      <td>0</td>\n",
       "      <td>Emergency Admission</td>\n",
       "      <td>1</td>\n",
       "      <td>0</td>\n",
       "      <td>Medium</td>\n",
       "      <td>0</td>\n",
       "      <td>1</td>\n",
       "      <td>1</td>\n",
       "      <td>0</td>\n",
       "      <td>1</td>\n",
       "      <td>1</td>\n",
       "      <td>1</td>\n",
       "      <td>0</td>\n",
       "      <td>1</td>\n",
       "      <td>Blood Work</td>\n",
       "      <td>10</td>\n",
       "      <td>3191.05</td>\n",
       "      <td>17939.40</td>\n",
       "      <td>3</td>\n",
       "      <td>3</td>\n",
       "      <td>2</td>\n",
       "      <td>2</td>\n",
       "      <td>4</td>\n",
       "      <td>3</td>\n",
       "      <td>3</td>\n",
       "      <td>4</td>\n",
       "    </tr>\n",
       "    <tr>\n",
       "      <th>2</th>\n",
       "      <td>2</td>\n",
       "      <td>Z919181</td>\n",
       "      <td>d2450b70-0337-4406-bdbb-bc1037f1734c</td>\n",
       "      <td>176354c5eef714957d486009feabf195</td>\n",
       "      <td>Marianna</td>\n",
       "      <td>FL</td>\n",
       "      <td>Jackson</td>\n",
       "      <td>32446</td>\n",
       "      <td>30.84513</td>\n",
       "      <td>-85.22907</td>\n",
       "      <td>11303</td>\n",
       "      <td>Urban</td>\n",
       "      <td>America/Chicago</td>\n",
       "      <td>Community development worker</td>\n",
       "      <td>3</td>\n",
       "      <td>51</td>\n",
       "      <td>Some College, 1 or More Years, No Degree</td>\n",
       "      <td>Full Time</td>\n",
       "      <td>46805.99</td>\n",
       "      <td>Married</td>\n",
       "      <td>Female</td>\n",
       "      <td>0</td>\n",
       "      <td>18.99</td>\n",
       "      <td>4</td>\n",
       "      <td>2</td>\n",
       "      <td>1</td>\n",
       "      <td>0</td>\n",
       "      <td>Emergency Admission</td>\n",
       "      <td>1</td>\n",
       "      <td>0</td>\n",
       "      <td>High</td>\n",
       "      <td>1</td>\n",
       "      <td>0</td>\n",
       "      <td>0</td>\n",
       "      <td>0</td>\n",
       "      <td>0</td>\n",
       "      <td>0</td>\n",
       "      <td>0</td>\n",
       "      <td>1</td>\n",
       "      <td>0</td>\n",
       "      <td>Intravenous</td>\n",
       "      <td>15</td>\n",
       "      <td>4214.91</td>\n",
       "      <td>17613.00</td>\n",
       "      <td>3</td>\n",
       "      <td>4</td>\n",
       "      <td>3</td>\n",
       "      <td>4</td>\n",
       "      <td>4</td>\n",
       "      <td>4</td>\n",
       "      <td>3</td>\n",
       "      <td>3</td>\n",
       "    </tr>\n",
       "    <tr>\n",
       "      <th>3</th>\n",
       "      <td>3</td>\n",
       "      <td>F995323</td>\n",
       "      <td>a2057123-abf5-4a2c-abad-8ffe33512562</td>\n",
       "      <td>e19a0fa00aeda885b8a436757e889bc9</td>\n",
       "      <td>Sioux Falls</td>\n",
       "      <td>SD</td>\n",
       "      <td>Minnehaha</td>\n",
       "      <td>57110</td>\n",
       "      <td>43.54321</td>\n",
       "      <td>-96.63772</td>\n",
       "      <td>17125</td>\n",
       "      <td>Suburban</td>\n",
       "      <td>America/Chicago</td>\n",
       "      <td>Chief Executive Officer</td>\n",
       "      <td>3</td>\n",
       "      <td>53</td>\n",
       "      <td>Some College, 1 or More Years, No Degree</td>\n",
       "      <td>Retired</td>\n",
       "      <td>14370.14</td>\n",
       "      <td>Widowed</td>\n",
       "      <td>Female</td>\n",
       "      <td>0</td>\n",
       "      <td>17.42</td>\n",
       "      <td>4</td>\n",
       "      <td>1</td>\n",
       "      <td>0</td>\n",
       "      <td>0</td>\n",
       "      <td>Elective Admission</td>\n",
       "      <td>1</td>\n",
       "      <td>0</td>\n",
       "      <td>Medium</td>\n",
       "      <td>1</td>\n",
       "      <td>0</td>\n",
       "      <td>1</td>\n",
       "      <td>0</td>\n",
       "      <td>0</td>\n",
       "      <td>0</td>\n",
       "      <td>0</td>\n",
       "      <td>0</td>\n",
       "      <td>0</td>\n",
       "      <td>Blood Work</td>\n",
       "      <td>4</td>\n",
       "      <td>2177.59</td>\n",
       "      <td>17505.19</td>\n",
       "      <td>2</td>\n",
       "      <td>4</td>\n",
       "      <td>4</td>\n",
       "      <td>4</td>\n",
       "      <td>3</td>\n",
       "      <td>4</td>\n",
       "      <td>3</td>\n",
       "      <td>3</td>\n",
       "    </tr>\n",
       "    <tr>\n",
       "      <th>4</th>\n",
       "      <td>4</td>\n",
       "      <td>A879973</td>\n",
       "      <td>1dec528d-eb34-4079-adce-0d7a40e82205</td>\n",
       "      <td>cd17d7b6d152cb6f23957346d11c3f07</td>\n",
       "      <td>New Richland</td>\n",
       "      <td>MN</td>\n",
       "      <td>Waseca</td>\n",
       "      <td>56072</td>\n",
       "      <td>43.89744</td>\n",
       "      <td>-93.51479</td>\n",
       "      <td>2162</td>\n",
       "      <td>Suburban</td>\n",
       "      <td>America/Chicago</td>\n",
       "      <td>Early years teacher</td>\n",
       "      <td>0</td>\n",
       "      <td>78</td>\n",
       "      <td>GED or Alternative Credential</td>\n",
       "      <td>Retired</td>\n",
       "      <td>39741.49</td>\n",
       "      <td>Married</td>\n",
       "      <td>Male</td>\n",
       "      <td>0</td>\n",
       "      <td>17.42</td>\n",
       "      <td>4</td>\n",
       "      <td>1</td>\n",
       "      <td>0</td>\n",
       "      <td>0</td>\n",
       "      <td>Elective Admission</td>\n",
       "      <td>0</td>\n",
       "      <td>1</td>\n",
       "      <td>Medium</td>\n",
       "      <td>0</td>\n",
       "      <td>1</td>\n",
       "      <td>0</td>\n",
       "      <td>0</td>\n",
       "      <td>0</td>\n",
       "      <td>0</td>\n",
       "      <td>0</td>\n",
       "      <td>1</td>\n",
       "      <td>1</td>\n",
       "      <td>Blood Work</td>\n",
       "      <td>1</td>\n",
       "      <td>2465.12</td>\n",
       "      <td>12993.44</td>\n",
       "      <td>3</td>\n",
       "      <td>5</td>\n",
       "      <td>5</td>\n",
       "      <td>3</td>\n",
       "      <td>4</td>\n",
       "      <td>5</td>\n",
       "      <td>5</td>\n",
       "      <td>5</td>\n",
       "    </tr>\n",
       "    <tr>\n",
       "      <th>5</th>\n",
       "      <td>5</td>\n",
       "      <td>C544523</td>\n",
       "      <td>5885f56b-d6da-43a3-8760-83583af94266</td>\n",
       "      <td>d2f0425877b10ed6bb381f3e2579424a</td>\n",
       "      <td>West Point</td>\n",
       "      <td>VA</td>\n",
       "      <td>King William</td>\n",
       "      <td>23181</td>\n",
       "      <td>37.59894</td>\n",
       "      <td>-76.88958</td>\n",
       "      <td>5287</td>\n",
       "      <td>Rural</td>\n",
       "      <td>America/New_York</td>\n",
       "      <td>Health promotion specialist</td>\n",
       "      <td>1</td>\n",
       "      <td>22</td>\n",
       "      <td>Regular High School Diploma</td>\n",
       "      <td>Full Time</td>\n",
       "      <td>1209.56</td>\n",
       "      <td>Widowed</td>\n",
       "      <td>Female</td>\n",
       "      <td>0</td>\n",
       "      <td>16.87</td>\n",
       "      <td>5</td>\n",
       "      <td>0</td>\n",
       "      <td>2</td>\n",
       "      <td>1</td>\n",
       "      <td>Elective Admission</td>\n",
       "      <td>0</td>\n",
       "      <td>0</td>\n",
       "      <td>Low</td>\n",
       "      <td>0</td>\n",
       "      <td>0</td>\n",
       "      <td>0</td>\n",
       "      <td>1</td>\n",
       "      <td>0</td>\n",
       "      <td>0</td>\n",
       "      <td>1</td>\n",
       "      <td>0</td>\n",
       "      <td>0</td>\n",
       "      <td>CT Scan</td>\n",
       "      <td>1</td>\n",
       "      <td>1885.66</td>\n",
       "      <td>3716.53</td>\n",
       "      <td>2</td>\n",
       "      <td>1</td>\n",
       "      <td>3</td>\n",
       "      <td>3</td>\n",
       "      <td>5</td>\n",
       "      <td>3</td>\n",
       "      <td>4</td>\n",
       "      <td>3</td>\n",
       "    </tr>\n",
       "  </tbody>\n",
       "</table>\n",
       "</div>"
      ],
      "text/plain": [
       "   case_order customer_id                           interaction  \\\n",
       "1           1     C412403  8cd49b13-f45a-4b47-a2bd-173ffa932c2f   \n",
       "2           2     Z919181  d2450b70-0337-4406-bdbb-bc1037f1734c   \n",
       "3           3     F995323  a2057123-abf5-4a2c-abad-8ffe33512562   \n",
       "4           4     A879973  1dec528d-eb34-4079-adce-0d7a40e82205   \n",
       "5           5     C544523  5885f56b-d6da-43a3-8760-83583af94266   \n",
       "\n",
       "                                uid          city state        county    zip  \\\n",
       "1  3a83ddb66e2ae73798bdf1d705dc0932           Eva    AL        Morgan  35621   \n",
       "2  176354c5eef714957d486009feabf195      Marianna    FL       Jackson  32446   \n",
       "3  e19a0fa00aeda885b8a436757e889bc9   Sioux Falls    SD     Minnehaha  57110   \n",
       "4  cd17d7b6d152cb6f23957346d11c3f07  New Richland    MN        Waseca  56072   \n",
       "5  d2f0425877b10ed6bb381f3e2579424a    West Point    VA  King William  23181   \n",
       "\n",
       "   latitude  longitude  population      area          timezone  \\\n",
       "1  34.34960  -86.72508        2951  Suburban   America/Chicago   \n",
       "2  30.84513  -85.22907       11303     Urban   America/Chicago   \n",
       "3  43.54321  -96.63772       17125  Suburban   America/Chicago   \n",
       "4  43.89744  -93.51479        2162  Suburban   America/Chicago   \n",
       "5  37.59894  -76.88958        5287     Rural  America/New_York   \n",
       "\n",
       "                                job  children  age  \\\n",
       "1  Psychologist, sport and exercise         1   53   \n",
       "2      Community development worker         3   51   \n",
       "3           Chief Executive Officer         3   53   \n",
       "4               Early years teacher         0   78   \n",
       "5       Health promotion specialist         1   22   \n",
       "\n",
       "                                  education employment    income   marital  \\\n",
       "1            Some College, Less than 1 Year  Full Time  86575.93  Divorced   \n",
       "2  Some College, 1 or More Years, No Degree  Full Time  46805.99   Married   \n",
       "3  Some College, 1 or More Years, No Degree    Retired  14370.14   Widowed   \n",
       "4             GED or Alternative Credential    Retired  39741.49   Married   \n",
       "5               Regular High School Diploma  Full Time   1209.56   Widowed   \n",
       "\n",
       "   gender  readmission  vit_d_level  doc_visits  full_meals_eaten  vit_d_supp  \\\n",
       "1    Male            0        17.80           6                 0           0   \n",
       "2  Female            0        18.99           4                 2           1   \n",
       "3  Female            0        17.42           4                 1           0   \n",
       "4    Male            0        17.42           4                 1           0   \n",
       "5  Female            0        16.87           5                 0           2   \n",
       "\n",
       "   soft_drink        initial_admin  high_blood  stroke complication_risk  \\\n",
       "1           0  Emergency Admission           1       0            Medium   \n",
       "2           0  Emergency Admission           1       0              High   \n",
       "3           0   Elective Admission           1       0            Medium   \n",
       "4           0   Elective Admission           0       1            Medium   \n",
       "5           1   Elective Admission           0       0               Low   \n",
       "\n",
       "   overweight  arthritis  diabetes  hyperlipidemia  back_pain  anxiety  \\\n",
       "1           0          1         1               0          1        1   \n",
       "2           1          0         0               0          0        0   \n",
       "3           1          0         1               0          0        0   \n",
       "4           0          1         0               0          0        0   \n",
       "5           0          0         0               1          0        0   \n",
       "\n",
       "   allergic_rhinitis  reflux_esophagitis  asthma     services  initial_days  \\\n",
       "1                  1                   0       1   Blood Work            10   \n",
       "2                  0                   1       0  Intravenous            15   \n",
       "3                  0                   0       0   Blood Work             4   \n",
       "4                  0                   1       1   Blood Work             1   \n",
       "5                  1                   0       0      CT Scan             1   \n",
       "\n",
       "   total_charge  additional_charges item_1 item_2 item_3 item_4 item_5 item_6  \\\n",
       "1       3191.05            17939.40      3      3      2      2      4      3   \n",
       "2       4214.91            17613.00      3      4      3      4      4      4   \n",
       "3       2177.59            17505.19      2      4      4      4      3      4   \n",
       "4       2465.12            12993.44      3      5      5      3      4      5   \n",
       "5       1885.66             3716.53      2      1      3      3      5      3   \n",
       "\n",
       "  item_7 item_8  \n",
       "1      3      4  \n",
       "2      3      3  \n",
       "3      3      3  \n",
       "4      5      5  \n",
       "5      4      3  "
      ]
     },
     "execution_count": 140,
     "metadata": {},
     "output_type": "execute_result"
    }
   ],
   "source": [
    "df.head()"
   ]
  },
  {
   "cell_type": "code",
   "execution_count": null,
   "id": "0c73e7ff-21f9-4024-a98e-62c5d53cae40",
   "metadata": {},
   "outputs": [],
   "source": []
  },
  {
   "cell_type": "markdown",
   "id": "cf3fb00c-6b0d-4c16-9310-4c48c7ecf88e",
   "metadata": {
    "tags": []
   },
   "source": [
    "## Export of Cleaned Data"
   ]
  },
  {
   "cell_type": "code",
   "execution_count": 142,
   "id": "1cd6d805-1807-4d78-8990-1112f731ba6d",
   "metadata": {
    "tags": []
   },
   "outputs": [],
   "source": [
    "df.to_csv('medical_data_clean.csv', index=False)"
   ]
  },
  {
   "cell_type": "code",
   "execution_count": null,
   "id": "325bc1b6-e318-4cb5-878b-9388ac247bfc",
   "metadata": {},
   "outputs": [],
   "source": []
  },
  {
   "cell_type": "code",
   "execution_count": null,
   "id": "c7407374-ace0-4555-99e1-604bce801a65",
   "metadata": {},
   "outputs": [],
   "source": []
  },
  {
   "cell_type": "markdown",
   "id": "1b93625a-b978-420f-a9a7-84cd3440bbce",
   "metadata": {},
   "source": [
    "## PCA"
   ]
  },
  {
   "cell_type": "code",
   "execution_count": 145,
   "id": "4b4d1009-2aef-4170-936c-d773bf43db47",
   "metadata": {},
   "outputs": [
    {
     "data": {
      "text/html": [
       "<div>\n",
       "<style scoped>\n",
       "    .dataframe tbody tr th:only-of-type {\n",
       "        vertical-align: middle;\n",
       "    }\n",
       "\n",
       "    .dataframe tbody tr th {\n",
       "        vertical-align: top;\n",
       "    }\n",
       "\n",
       "    .dataframe thead th {\n",
       "        text-align: right;\n",
       "    }\n",
       "</style>\n",
       "<table border=\"1\" class=\"dataframe\">\n",
       "  <thead>\n",
       "    <tr style=\"text-align: right;\">\n",
       "      <th></th>\n",
       "      <th>PC1</th>\n",
       "      <th>PC2</th>\n",
       "      <th>PC3</th>\n",
       "      <th>PC4</th>\n",
       "      <th>PC5</th>\n",
       "      <th>PC6</th>\n",
       "      <th>PC7</th>\n",
       "      <th>PC8</th>\n",
       "      <th>PC9</th>\n",
       "      <th>PC10</th>\n",
       "      <th>PC11</th>\n",
       "      <th>PC12</th>\n",
       "      <th>PC13</th>\n",
       "    </tr>\n",
       "  </thead>\n",
       "  <tbody>\n",
       "    <tr>\n",
       "      <th>latitude</th>\n",
       "      <td>-0.021816</td>\n",
       "      <td>-0.007802</td>\n",
       "      <td>-0.714178</td>\n",
       "      <td>0.134335</td>\n",
       "      <td>-0.047362</td>\n",
       "      <td>0.028627</td>\n",
       "      <td>-0.040572</td>\n",
       "      <td>-0.051518</td>\n",
       "      <td>-0.020296</td>\n",
       "      <td>-0.044908</td>\n",
       "      <td>0.679228</td>\n",
       "      <td>-0.014996</td>\n",
       "      <td>-0.000444</td>\n",
       "    </tr>\n",
       "    <tr>\n",
       "      <th>longitude</th>\n",
       "      <td>-0.005491</td>\n",
       "      <td>0.017163</td>\n",
       "      <td>0.268879</td>\n",
       "      <td>-0.594250</td>\n",
       "      <td>-0.372219</td>\n",
       "      <td>0.349020</td>\n",
       "      <td>0.342016</td>\n",
       "      <td>-0.124927</td>\n",
       "      <td>0.074395</td>\n",
       "      <td>0.167793</td>\n",
       "      <td>0.384081</td>\n",
       "      <td>0.009547</td>\n",
       "      <td>0.001923</td>\n",
       "    </tr>\n",
       "    <tr>\n",
       "      <th>population</th>\n",
       "      <td>0.025655</td>\n",
       "      <td>-0.025327</td>\n",
       "      <td>0.630966</td>\n",
       "      <td>0.270590</td>\n",
       "      <td>0.216815</td>\n",
       "      <td>-0.198578</td>\n",
       "      <td>-0.219553</td>\n",
       "      <td>0.027726</td>\n",
       "      <td>-0.095582</td>\n",
       "      <td>-0.054244</td>\n",
       "      <td>0.616141</td>\n",
       "      <td>-0.015428</td>\n",
       "      <td>-0.001750</td>\n",
       "    </tr>\n",
       "    <tr>\n",
       "      <th>children</th>\n",
       "      <td>0.004409</td>\n",
       "      <td>0.011019</td>\n",
       "      <td>0.008669</td>\n",
       "      <td>0.278421</td>\n",
       "      <td>0.134188</td>\n",
       "      <td>-0.260110</td>\n",
       "      <td>0.775609</td>\n",
       "      <td>-0.353058</td>\n",
       "      <td>-0.309400</td>\n",
       "      <td>0.120483</td>\n",
       "      <td>-0.007288</td>\n",
       "      <td>-0.008866</td>\n",
       "      <td>-0.002480</td>\n",
       "    </tr>\n",
       "    <tr>\n",
       "      <th>age</th>\n",
       "      <td>0.083037</td>\n",
       "      <td>0.700994</td>\n",
       "      <td>0.008055</td>\n",
       "      <td>0.011392</td>\n",
       "      <td>-0.027283</td>\n",
       "      <td>-0.008940</td>\n",
       "      <td>-0.012370</td>\n",
       "      <td>-0.005248</td>\n",
       "      <td>0.018237</td>\n",
       "      <td>-0.024361</td>\n",
       "      <td>-0.002403</td>\n",
       "      <td>-0.706619</td>\n",
       "      <td>-0.016437</td>\n",
       "    </tr>\n",
       "    <tr>\n",
       "      <th>income</th>\n",
       "      <td>-0.006443</td>\n",
       "      <td>-0.005228</td>\n",
       "      <td>0.045158</td>\n",
       "      <td>0.216920</td>\n",
       "      <td>0.367342</td>\n",
       "      <td>0.469171</td>\n",
       "      <td>0.397426</td>\n",
       "      <td>0.314560</td>\n",
       "      <td>0.459720</td>\n",
       "      <td>-0.353815</td>\n",
       "      <td>0.047931</td>\n",
       "      <td>-0.007420</td>\n",
       "      <td>-0.001039</td>\n",
       "    </tr>\n",
       "    <tr>\n",
       "      <th>vit_d_level</th>\n",
       "      <td>0.539996</td>\n",
       "      <td>-0.052792</td>\n",
       "      <td>-0.057748</td>\n",
       "      <td>-0.273977</td>\n",
       "      <td>0.292117</td>\n",
       "      <td>0.128151</td>\n",
       "      <td>-0.014819</td>\n",
       "      <td>0.061514</td>\n",
       "      <td>-0.420082</td>\n",
       "      <td>-0.219839</td>\n",
       "      <td>0.001713</td>\n",
       "      <td>-0.023015</td>\n",
       "      <td>0.544178</td>\n",
       "    </tr>\n",
       "    <tr>\n",
       "      <th>doc_visits</th>\n",
       "      <td>-0.005437</td>\n",
       "      <td>0.012701</td>\n",
       "      <td>0.013893</td>\n",
       "      <td>0.151075</td>\n",
       "      <td>0.332189</td>\n",
       "      <td>0.531170</td>\n",
       "      <td>-0.261968</td>\n",
       "      <td>-0.641644</td>\n",
       "      <td>0.034057</td>\n",
       "      <td>0.315466</td>\n",
       "      <td>-0.057084</td>\n",
       "      <td>-0.005438</td>\n",
       "      <td>-0.000164</td>\n",
       "    </tr>\n",
       "    <tr>\n",
       "      <th>full_meals_eaten</th>\n",
       "      <td>-0.009350</td>\n",
       "      <td>0.036099</td>\n",
       "      <td>-0.105555</td>\n",
       "      <td>-0.301688</td>\n",
       "      <td>0.534825</td>\n",
       "      <td>-0.238264</td>\n",
       "      <td>0.055532</td>\n",
       "      <td>0.304726</td>\n",
       "      <td>0.199291</td>\n",
       "      <td>0.642560</td>\n",
       "      <td>0.070789</td>\n",
       "      <td>-0.009441</td>\n",
       "      <td>-0.001427</td>\n",
       "    </tr>\n",
       "    <tr>\n",
       "      <th>vit_d_supp</th>\n",
       "      <td>0.033942</td>\n",
       "      <td>0.010549</td>\n",
       "      <td>0.031806</td>\n",
       "      <td>0.384526</td>\n",
       "      <td>-0.248496</td>\n",
       "      <td>0.412834</td>\n",
       "      <td>0.028070</td>\n",
       "      <td>0.490472</td>\n",
       "      <td>-0.422879</td>\n",
       "      <td>0.443907</td>\n",
       "      <td>-0.020640</td>\n",
       "      <td>-0.004861</td>\n",
       "      <td>-0.001445</td>\n",
       "    </tr>\n",
       "    <tr>\n",
       "      <th>initial_days</th>\n",
       "      <td>0.446452</td>\n",
       "      <td>-0.073601</td>\n",
       "      <td>0.033407</td>\n",
       "      <td>0.304930</td>\n",
       "      <td>-0.339119</td>\n",
       "      <td>-0.155643</td>\n",
       "      <td>0.025938</td>\n",
       "      <td>-0.091073</td>\n",
       "      <td>0.530140</td>\n",
       "      <td>0.261369</td>\n",
       "      <td>-0.000843</td>\n",
       "      <td>-0.005790</td>\n",
       "      <td>0.451193</td>\n",
       "    </tr>\n",
       "    <tr>\n",
       "      <th>total_charge</th>\n",
       "      <td>0.701924</td>\n",
       "      <td>-0.078284</td>\n",
       "      <td>-0.023602</td>\n",
       "      <td>-0.019411</td>\n",
       "      <td>0.005940</td>\n",
       "      <td>0.000344</td>\n",
       "      <td>0.003149</td>\n",
       "      <td>-0.011764</td>\n",
       "      <td>0.016101</td>\n",
       "      <td>-0.004205</td>\n",
       "      <td>0.000570</td>\n",
       "      <td>0.021037</td>\n",
       "      <td>-0.706638</td>\n",
       "    </tr>\n",
       "    <tr>\n",
       "      <th>additional_charges</th>\n",
       "      <td>0.083650</td>\n",
       "      <td>0.701109</td>\n",
       "      <td>0.001638</td>\n",
       "      <td>0.027893</td>\n",
       "      <td>0.001568</td>\n",
       "      <td>-0.009092</td>\n",
       "      <td>-0.010191</td>\n",
       "      <td>-0.001061</td>\n",
       "      <td>0.005861</td>\n",
       "      <td>-0.021805</td>\n",
       "      <td>0.021093</td>\n",
       "      <td>0.706295</td>\n",
       "      <td>0.025887</td>\n",
       "    </tr>\n",
       "  </tbody>\n",
       "</table>\n",
       "</div>"
      ],
      "text/plain": [
       "                         PC1       PC2       PC3       PC4       PC5  \\\n",
       "latitude           -0.021816 -0.007802 -0.714178  0.134335 -0.047362   \n",
       "longitude          -0.005491  0.017163  0.268879 -0.594250 -0.372219   \n",
       "population          0.025655 -0.025327  0.630966  0.270590  0.216815   \n",
       "children            0.004409  0.011019  0.008669  0.278421  0.134188   \n",
       "age                 0.083037  0.700994  0.008055  0.011392 -0.027283   \n",
       "income             -0.006443 -0.005228  0.045158  0.216920  0.367342   \n",
       "vit_d_level         0.539996 -0.052792 -0.057748 -0.273977  0.292117   \n",
       "doc_visits         -0.005437  0.012701  0.013893  0.151075  0.332189   \n",
       "full_meals_eaten   -0.009350  0.036099 -0.105555 -0.301688  0.534825   \n",
       "vit_d_supp          0.033942  0.010549  0.031806  0.384526 -0.248496   \n",
       "initial_days        0.446452 -0.073601  0.033407  0.304930 -0.339119   \n",
       "total_charge        0.701924 -0.078284 -0.023602 -0.019411  0.005940   \n",
       "additional_charges  0.083650  0.701109  0.001638  0.027893  0.001568   \n",
       "\n",
       "                         PC6       PC7       PC8       PC9      PC10  \\\n",
       "latitude            0.028627 -0.040572 -0.051518 -0.020296 -0.044908   \n",
       "longitude           0.349020  0.342016 -0.124927  0.074395  0.167793   \n",
       "population         -0.198578 -0.219553  0.027726 -0.095582 -0.054244   \n",
       "children           -0.260110  0.775609 -0.353058 -0.309400  0.120483   \n",
       "age                -0.008940 -0.012370 -0.005248  0.018237 -0.024361   \n",
       "income              0.469171  0.397426  0.314560  0.459720 -0.353815   \n",
       "vit_d_level         0.128151 -0.014819  0.061514 -0.420082 -0.219839   \n",
       "doc_visits          0.531170 -0.261968 -0.641644  0.034057  0.315466   \n",
       "full_meals_eaten   -0.238264  0.055532  0.304726  0.199291  0.642560   \n",
       "vit_d_supp          0.412834  0.028070  0.490472 -0.422879  0.443907   \n",
       "initial_days       -0.155643  0.025938 -0.091073  0.530140  0.261369   \n",
       "total_charge        0.000344  0.003149 -0.011764  0.016101 -0.004205   \n",
       "additional_charges -0.009092 -0.010191 -0.001061  0.005861 -0.021805   \n",
       "\n",
       "                        PC11      PC12      PC13  \n",
       "latitude            0.679228 -0.014996 -0.000444  \n",
       "longitude           0.384081  0.009547  0.001923  \n",
       "population          0.616141 -0.015428 -0.001750  \n",
       "children           -0.007288 -0.008866 -0.002480  \n",
       "age                -0.002403 -0.706619 -0.016437  \n",
       "income              0.047931 -0.007420 -0.001039  \n",
       "vit_d_level         0.001713 -0.023015  0.544178  \n",
       "doc_visits         -0.057084 -0.005438 -0.000164  \n",
       "full_meals_eaten    0.070789 -0.009441 -0.001427  \n",
       "vit_d_supp         -0.020640 -0.004861 -0.001445  \n",
       "initial_days       -0.000843 -0.005790  0.451193  \n",
       "total_charge        0.000570  0.021037 -0.706638  \n",
       "additional_charges  0.021093  0.706295  0.025887  "
      ]
     },
     "execution_count": 145,
     "metadata": {},
     "output_type": "execute_result"
    }
   ],
   "source": [
    "# Framework of code for PCA taken from Dr. Middleton's presentation (Middleton, n.d.)\n",
    "# Select all quantitative variables from the dataframe\n",
    "med = df[['latitude','longitude','population','children','age','income','vit_d_level','doc_visits','full_meals_eaten','vit_d_supp','initial_days','total_charge','additional_charges']]\n",
    "\n",
    "# Normalize dataset\n",
    "med_normalized = (med - med.mean()) / med.std()\n",
    "\n",
    "# Instantiate and run PCA\n",
    "pca = PCA(n_components=med.shape[1])\n",
    "pca.fit(med_normalized)\n",
    "med_pca = pd.DataFrame(pca.transform(med_normalized), columns=['PC1','PC2','PC3','PC4','PC5','PC6','PC7','PC8','PC9','PC10','PC11','PC12','PC13'])\n",
    "\n",
    "# Create PCA Loadings table\n",
    "loadings = pd.DataFrame(pca.components_.T, columns=['PC1','PC2','PC3','PC4','PC5','PC6','PC7','PC8','PC9','PC10','PC11','PC12','PC13'], index=med.columns)\n",
    "loadings"
   ]
  },
  {
   "cell_type": "code",
   "execution_count": 147,
   "id": "7a50c56c-2dc5-4014-a49f-111b607f3822",
   "metadata": {
    "tags": []
   },
   "outputs": [
    {
     "data": {
      "image/png": "[encoded data removed]",
      "text/plain": [
       "<Figure size 640x480 with 1 Axes>"
      ]
     },
     "metadata": {},
     "output_type": "display_data"
    }
   ],
   "source": [
    "# Create eigenvalues\n",
    "cov_matrix = np.dot(med_normalized.T, med_normalized) / med.shape[0]\n",
    "eigenvalues = [np.dot(eigenvector.T, np.dot(cov_matrix, eigenvector)) for eigenvector in pca.components_]\n",
    "\n",
    "# Create scree plot with reference line at eigenvalue = 1 to determine PCs based on Kaiser Rule\n",
    "plt.plot(eigenvalues)\n",
    "plt.xlabel('Number of Components')\n",
    "plt.ylabel('Eigenvalue')\n",
    "plt.axhline(y=1, color='r')\n",
    "plt.show();"
   ]
  },
  {
   "cell_type": "code",
   "execution_count": 149,
   "id": "b59a7949-4e2a-45bd-bcd0-bfe03d301f92",
   "metadata": {
    "tags": []
   },
   "outputs": [
    {
     "data": {
      "text/plain": [
       "[1.951554692655022,\n",
       " 1.6188574898317385,\n",
       " 1.226714659983865,\n",
       " 1.0459205730714516,\n",
       " 1.0243752919774713,\n",
       " 1.0210627742637748,\n",
       " 0.9979286960414497,\n",
       " 0.985496126665525,\n",
       " 0.9782818399708572,\n",
       " 0.9701597590940317,\n",
       " 0.7466662548717078,\n",
       " 0.37810160419090394,\n",
       " 0.05358023738222893]"
      ]
     },
     "execution_count": 149,
     "metadata": {},
     "output_type": "execute_result"
    }
   ],
   "source": [
    "# Print eigenvalues to determine cutoff\n",
    "eigenvalues"
   ]
  },
  {
   "cell_type": "code",
   "execution_count": null,
   "id": "f9747edc-c4e9-41fa-a27c-4c508408cc0c",
   "metadata": {},
   "outputs": [],
   "source": []
  }
 ],
 "metadata": {
  "kernelspec": {
   "display_name": "Python 3 (ipykernel)",
   "language": "python",
   "name": "python3"
  },
  "language_info": {
   "codemirror_mode": {
    "name": "ipython",
    "version": 3
   },
   "file_extension": ".py",
   "mimetype": "text/x-python",
   "name": "python",
   "nbconvert_exporter": "python",
   "pygments_lexer": "ipython3",
   "version": "3.11.9"
  }
 },
 "nbformat": 4,
 "nbformat_minor": 5
}
