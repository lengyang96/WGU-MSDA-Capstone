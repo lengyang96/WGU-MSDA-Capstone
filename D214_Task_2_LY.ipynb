{
 "cells": [
  {
   "cell_type": "markdown",
   "id": "470031dd-6b01-4673-aefd-9be04a7257fa",
   "metadata": {},
   "source": [
    "# D214: Performance Assessment - Task 2\n",
    "***"
   ]
  },
  {
   "cell_type": "markdown",
   "id": "d4d547bf-7ebc-41d9-83f3-b6bf88061e2d",
   "metadata": {
    "jp-MarkdownHeadingCollapsed": true,
    "tags": []
   },
   "source": [
    "### By: Leng Yang\n",
    "### Student ID: 012298452\n",
    "### Date: November 7, 2024\n",
    "***\n",
    "<br>\n",
    "<br>\n",
    "<br>"
   ]
  },
  {
   "cell_type": "markdown",
   "id": "7f4dfd5b-c379-48cf-b09c-3892268fe5c2",
   "metadata": {
    "tags": []
   },
   "source": [
    "## Table of Contents\n",
    "* [A. Research Question](#A)\n",
    "* [B. Data Collection](#B)\n",
    "* [C. Data Extraction and Preparation](#C)\n",
    "* [D. Analysis](#D)\n",
    "* [E. Data Summary and Implications](#E)\n",
    "* [F. Sources](#F)"
   ]
  },
  {
   "cell_type": "markdown",
   "id": "a249aa78-aa71-4769-b386-7a7e6e358fdf",
   "metadata": {},
   "source": [
    "<BR>"
   ]
  },
  {
   "cell_type": "markdown",
   "id": "76763e2b-9558-4ee6-9c52-5323621bf251",
   "metadata": {},
   "source": [
    "<BR>"
   ]
  },
  {
   "cell_type": "markdown",
   "id": "b006b4e7-276a-47c0-a894-a30b2c7e20f8",
   "metadata": {},
   "source": [
    "<BR>"
   ]
  },
  {
   "cell_type": "markdown",
   "id": "a3150093-3973-43f8-91ad-6c8000cdfa38",
   "metadata": {},
   "source": [
    "<BR>"
   ]
  },
  {
   "cell_type": "markdown",
   "id": "31a46dfe-8107-48c7-bedc-abdd2c02be43",
   "metadata": {},
   "source": [
    "<BR>"
   ]
  },
  {
   "cell_type": "markdown",
   "id": "90b03096-1f2f-4e70-b724-e554509386c2",
   "metadata": {},
   "source": [
    "<BR>"
   ]
  },
  {
   "cell_type": "markdown",
   "id": "fc661825-65c6-4a9b-82eb-809e66a074fc",
   "metadata": {},
   "source": [
    "<BR>"
   ]
  },
  {
   "cell_type": "markdown",
   "id": "72c8fbec-349a-4bfa-9213-184eec79e5d5",
   "metadata": {},
   "source": [
    "<BR>"
   ]
  },
  {
   "cell_type": "markdown",
   "id": "04f7bf2b-46ee-4c5f-bcf0-94a2743971c5",
   "metadata": {},
   "source": [
    "<BR>"
   ]
  },
  {
   "cell_type": "markdown",
   "id": "bd164e5e-4717-43a1-9015-7d23ffd539fc",
   "metadata": {},
   "source": [
    "<BR>"
   ]
  },
  {
   "cell_type": "markdown",
   "id": "29afe498-7695-4a3d-8721-134b93933bbd",
   "metadata": {},
   "source": [
    "<BR>"
   ]
  },
  {
   "cell_type": "markdown",
   "id": "0cd3759b-0369-478d-bd9e-2e93d9df5bd1",
   "metadata": {
    "tags": []
   },
   "source": [
    "## A. Research Question <a class=\"anchor\" id=\"A\"></a>"
   ]
  },
  {
   "cell_type": "markdown",
   "id": "740b2104-a66a-4595-b53c-67f8e0016bf6",
   "metadata": {},
   "source": [
    "The research question for this capstone project is \"What attributes significantly influence the sales price of cubic zirconia?\"\n",
    "\n",
    "The justification for this analysis is based on the standards with which gemstones are valued. Initially authored by Robert M. Shipley, the 4Cs of quality are color, clarity, cut, and carat weight (Gemological Institute of America, 2017). These factors set the standard for how modern gemstones are graded and valued. Cubic zirconia, which is a lab-grown diamond simulant made of zirconium dioxide instead of pure carbon, has close similarities to that of a diamond in that both gemstones are colorless and give off a similar shine under light (Antolik, 2022). Given the similarity between these gemstones, evaluating these attributes/factors can further be expanded to explore those of cubic zirconia. Furthermore, understanding how these attributes may influence the overall value of the gemstone also gives better insights into the potential profitability of sales. Further expanding on this notion, this understanding would allow better insights into distinguishing between stones of higher and lower profitability, thus leading to better profit shares.\n",
    "\n",
    "The following are the established null and alternative hypotheses for this analysis:\n",
    "\n",
    "__Null Hypothesis__: There is no significant association between the cubic zirconia attributes and the sales price.\n",
    "\n",
    "__Alternative Hypothesis__: There is a significant association between at least one of the cubic zirconia attributes and the sales price.\n",
    "\n",
    "The null hypothesis assumes no significant association between the gemstone's attributes and the sales price. This suggests that any observed relationship is by chance, with no underlying connections. In contrast, the alternative hypothesis states a significant association between at least one of the gemstone's attributes and the sales price. This suggests that one of the attributes is significantly associated with understanding the sales price."
   ]
  },
  {
   "cell_type": "markdown",
   "id": "5b1e75da-edb9-4028-a286-8a62057d7ca5",
   "metadata": {},
   "source": [
    "<BR>"
   ]
  },
  {
   "cell_type": "markdown",
   "id": "aa63784e-242c-4593-9dea-5efc7db4a1f1",
   "metadata": {
    "tags": []
   },
   "source": [
    "## B. Data Collection <a class=\"anchor\" id=\"B\"></a>"
   ]
  },
  {
   "cell_type": "markdown",
   "id": "ba020e3a-599d-407e-9a39-6facd1214ad5",
   "metadata": {},
   "source": [
    "The data was obtained from Kaggle and is provided by the Co-learning Lounge, a community of learners that provides modified datasets for machine learning and deep learning purposes (Co-learning Lounge, 2021). The dataset contains 26,967 records and 11 variables. Below is a list of the variables and a short description of each.\n",
    "\n",
    "* Record number: serial record number of each gemstone\n",
    "* Carat: carat weight of the cubic zirconia\n",
    "* Cut: cut quality with increasing order from fair, good, very good, premium, to ideal\n",
    "* Color: the color, with D being the best and J the worst\n",
    "* Clarity: refers to the absence of the inclusions and blemishes (In order from Best to Worst, FL = flawless, I3= level 3 inclusions) FL, IF, VVS1, VVS2, VS1, VS2, SI1, SI2, I1, I2, I3)\n",
    "* Depth: the height, as measured from the culet to the table, divided by the average girdle diameter\n",
    "* Table: the width of the cubic zirconia's table, expressed as a percentage of its average diameter\n",
    "* X: length of the cubic zirconia in mm\n",
    "* Y: width of the cubic zirconia in mm\n",
    "* Z: height of the cubic zirconia in mm\n",
    "* Price: the price of the cubic zirconia\n",
    "\n",
    "One advantage of the data collection method is that the data is available in a structured format. The original data file is kept as a CSV file, so it is easy to load it into a tabular format for analysis. In contrast, one of the primary disadvantages is regarding the datasets on Kaggle. As Kaggle hosts open datasets, there is no sure way to verify the integrity of every dataset published on this website. This creates limitations on how reliable some of the datasets are. For this dataset, one limitation is the lack of a detailed background of the data, where there is not much information besides understanding that the author of the data posts datasets primarily for learning purposes. This is an important consideration to keep in mind for this analysis."
   ]
  },
  {
   "cell_type": "markdown",
   "id": "fbfdf7a2-4e04-4738-a08a-c549b3b388d7",
   "metadata": {},
   "source": [
    "<BR>"
   ]
  },
  {
   "cell_type": "markdown",
   "id": "40a37d9f-375e-4e94-ac4c-4fe6fc21444a",
   "metadata": {
    "tags": []
   },
   "source": [
    "## C. Data Extraction and Preparation <a class=\"anchor\" id=\"C\"></a>"
   ]
  },
  {
   "cell_type": "markdown",
   "id": "0807b32d-f25e-450f-abaf-1ff8098050a1",
   "metadata": {},
   "source": [
    "The data was extracted and prepared in a Jupyter Notebook environment using the Python programming language. The primary advantage of using a Jupyter Notebook to develop analysis is the interactivity within the environment. This interactivity allows users to view code and results simultaneously. Additionally, the environment enables code to be broken down into smaller snippets, allowing users to build and test their code in an iterative process. This process is critical in analysis, where data manipulation results must be verified to ensure the proper preparation steps are taken. A disadvantage to Jupyter Notebooks is that variables persist in the background within the environment once created, so users have to be careful as these variables may result in unexpected outcomes. One way to combat this is to restart the kernel/notebook, which resets the entire environment to a clean slate.\n",
    "\n",
    "As stated previously, the data was cleaned and prepared using Python. The primary advantage of Python is that it contains many open-source libraries for data analysis and data science. Two prominent libraries used for the data cleaning and preparation process are Pandas and Sci-kit Learn. The Pandas library can load external data files into a tabular format. This format allows for better data exploration and manipulation, especially during data cleaning. Sci-kit Learn is a library with many uses in data analysis, but for this purpose, it will be used to split the data into training and testing sets. The training dataset will be used to train a model, whereas the testing set will be used to evaluate how well the model performs. A disadvantage of using only a single training and test split is that it can create a high variance estimate of the results. One way to combat this is to utilize cross-validation instead, as it splits the dataset multiple times, thus averaging results based on the number of folds implemented. One primary disadvantage of Python is that it is slower than other programming languages, such as C++ or Java. This performance issue could be critical when dealing with extremely large datasets (PFES, n.d.).\n",
    "\n",
    "The data file was first loaded into a Pandas DataFrame, and the column containing the sequence numbers was dropped due to its redundancy. The columns were then renamed for clarity by the data dictionary. Next, records containing null values were removed, and the data was verified to ensure no remaining null values were present. The descriptive statistics for the numerical variables were looked at, and it was found that there were zero values for the length, width, and height. Records containing these values were dropped as these were deemed logically impossible. Boxplots were used to explore and look for any extreme outliers visually. It was found that there was a singular extreme outlier for the `width` variable, so the record containing this value was dropped. All other outliers seemed reasonable and were kept due to a lack of domain knowledge.\n",
    "\n",
    "Once the data was cleaned, it was prepared before any modeling was performed. The categorical variables were all ordinal, so each was numerically label-encoded in alignment with the data dictionary. Once data preparations were complete, the data was split into training and testing sets using an 80/20 split."
   ]
  },
  {
   "cell_type": "code",
   "execution_count": 10,
   "id": "2cd17369-ad49-464d-8414-4e16bc385be2",
   "metadata": {
    "tags": []
   },
   "outputs": [],
   "source": [
    "#Import libraries used for data cleaning and preparation\n",
    "import pandas as pd\n",
    "import numpy as np\n",
    "from sklearn.model_selection import train_test_split\n",
    "import matplotlib.pyplot as plt\n",
    "%matplotlib inline \n",
    "\n",
    "#Load in data file\n",
    "df = pd.read_csv('cubic_zirconia.csv')\n",
    "\n",
    "#Drop redundant column and rename columns for clarity\n",
    "df.drop('Unnamed: 0', axis=1, inplace=True)\n",
    "df.rename(columns={'x':'length', 'y':'width', 'z':'height'}, inplace=True)"
   ]
  },
  {
   "cell_type": "code",
   "execution_count": 11,
   "id": "5c6df96b-ffd4-43e3-a598-9afb673e7225",
   "metadata": {
    "tags": []
   },
   "outputs": [
    {
     "name": "stdout",
     "output_type": "stream",
     "text": [
      "carat        0\n",
      "cut          0\n",
      "color        0\n",
      "clarity      0\n",
      "depth      697\n",
      "table        0\n",
      "length       0\n",
      "width        0\n",
      "height       0\n",
      "price        0\n",
      "dtype: int64\n"
     ]
    }
   ],
   "source": [
    "#Check and remove null values\n",
    "print(df.isna().sum())\n",
    "df.dropna(inplace=True)"
   ]
  },
  {
   "cell_type": "code",
   "execution_count": 12,
   "id": "46f09aeb-2f5d-4457-a43b-20f4e7c83cce",
   "metadata": {
    "tags": []
   },
   "outputs": [
    {
     "data": {
      "text/plain": [
       "carat      0\n",
       "cut        0\n",
       "color      0\n",
       "clarity    0\n",
       "depth      0\n",
       "table      0\n",
       "length     0\n",
       "width      0\n",
       "height     0\n",
       "price      0\n",
       "dtype: int64"
      ]
     },
     "execution_count": 12,
     "metadata": {},
     "output_type": "execute_result"
    }
   ],
   "source": [
    "#Verify no remaining null values\n",
    "df.isna().sum()"
   ]
  },
  {
   "cell_type": "code",
   "execution_count": 13,
   "id": "919bab9d-d6c1-4174-a389-4a0d7da3799d",
   "metadata": {
    "tags": []
   },
   "outputs": [
    {
     "name": "stdout",
     "output_type": "stream",
     "text": [
      "34\n"
     ]
    }
   ],
   "source": [
    "#Check for and drop any duplicate records\n",
    "print(df.duplicated().sum())\n",
    "df.drop_duplicates(inplace=True)"
   ]
  },
  {
   "cell_type": "code",
   "execution_count": 14,
   "id": "ebbb0366-ce61-4b77-bd67-3f72a7553505",
   "metadata": {},
   "outputs": [
    {
     "data": {
      "text/plain": [
       "0"
      ]
     },
     "execution_count": 14,
     "metadata": {},
     "output_type": "execute_result"
    }
   ],
   "source": [
    "#Verify no duplicates remain\n",
    "df.duplicated().sum()"
   ]
  },
  {
   "cell_type": "code",
   "execution_count": 15,
   "id": "fbe301aa-20d5-42b3-af51-b626589a96e9",
   "metadata": {
    "tags": []
   },
   "outputs": [
    {
     "data": {
      "text/html": [
       "<div>\n",
       "<style scoped>\n",
       "    .dataframe tbody tr th:only-of-type {\n",
       "        vertical-align: middle;\n",
       "    }\n",
       "\n",
       "    .dataframe tbody tr th {\n",
       "        vertical-align: top;\n",
       "    }\n",
       "\n",
       "    .dataframe thead th {\n",
       "        text-align: right;\n",
       "    }\n",
       "</style>\n",
       "<table border=\"1\" class=\"dataframe\">\n",
       "  <thead>\n",
       "    <tr style=\"text-align: right;\">\n",
       "      <th></th>\n",
       "      <th>carat</th>\n",
       "      <th>depth</th>\n",
       "      <th>table</th>\n",
       "      <th>length</th>\n",
       "      <th>width</th>\n",
       "      <th>height</th>\n",
       "      <th>price</th>\n",
       "    </tr>\n",
       "  </thead>\n",
       "  <tbody>\n",
       "    <tr>\n",
       "      <th>count</th>\n",
       "      <td>26236.000000</td>\n",
       "      <td>26236.000000</td>\n",
       "      <td>26236.000000</td>\n",
       "      <td>26236.000000</td>\n",
       "      <td>26236.000000</td>\n",
       "      <td>26236.000000</td>\n",
       "      <td>26236.000000</td>\n",
       "    </tr>\n",
       "    <tr>\n",
       "      <th>mean</th>\n",
       "      <td>0.797620</td>\n",
       "      <td>61.745285</td>\n",
       "      <td>57.455877</td>\n",
       "      <td>5.728646</td>\n",
       "      <td>5.732487</td>\n",
       "      <td>3.536339</td>\n",
       "      <td>3935.926818</td>\n",
       "    </tr>\n",
       "    <tr>\n",
       "      <th>std</th>\n",
       "      <td>0.476691</td>\n",
       "      <td>1.412243</td>\n",
       "      <td>2.230866</td>\n",
       "      <td>1.126332</td>\n",
       "      <td>1.165283</td>\n",
       "      <td>0.698608</td>\n",
       "      <td>4019.809223</td>\n",
       "    </tr>\n",
       "    <tr>\n",
       "      <th>min</th>\n",
       "      <td>0.200000</td>\n",
       "      <td>50.800000</td>\n",
       "      <td>49.000000</td>\n",
       "      <td>0.000000</td>\n",
       "      <td>0.000000</td>\n",
       "      <td>0.000000</td>\n",
       "      <td>326.000000</td>\n",
       "    </tr>\n",
       "    <tr>\n",
       "      <th>25%</th>\n",
       "      <td>0.400000</td>\n",
       "      <td>61.000000</td>\n",
       "      <td>56.000000</td>\n",
       "      <td>4.710000</td>\n",
       "      <td>4.720000</td>\n",
       "      <td>2.900000</td>\n",
       "      <td>945.000000</td>\n",
       "    </tr>\n",
       "    <tr>\n",
       "      <th>50%</th>\n",
       "      <td>0.700000</td>\n",
       "      <td>61.800000</td>\n",
       "      <td>57.000000</td>\n",
       "      <td>5.690000</td>\n",
       "      <td>5.700000</td>\n",
       "      <td>3.520000</td>\n",
       "      <td>2374.000000</td>\n",
       "    </tr>\n",
       "    <tr>\n",
       "      <th>75%</th>\n",
       "      <td>1.050000</td>\n",
       "      <td>62.500000</td>\n",
       "      <td>59.000000</td>\n",
       "      <td>6.540000</td>\n",
       "      <td>6.540000</td>\n",
       "      <td>4.040000</td>\n",
       "      <td>5356.000000</td>\n",
       "    </tr>\n",
       "    <tr>\n",
       "      <th>max</th>\n",
       "      <td>4.500000</td>\n",
       "      <td>73.600000</td>\n",
       "      <td>79.000000</td>\n",
       "      <td>10.230000</td>\n",
       "      <td>58.900000</td>\n",
       "      <td>8.060000</td>\n",
       "      <td>18818.000000</td>\n",
       "    </tr>\n",
       "  </tbody>\n",
       "</table>\n",
       "</div>"
      ],
      "text/plain": [
       "              carat         depth         table        length         width  \\\n",
       "count  26236.000000  26236.000000  26236.000000  26236.000000  26236.000000   \n",
       "mean       0.797620     61.745285     57.455877      5.728646      5.732487   \n",
       "std        0.476691      1.412243      2.230866      1.126332      1.165283   \n",
       "min        0.200000     50.800000     49.000000      0.000000      0.000000   \n",
       "25%        0.400000     61.000000     56.000000      4.710000      4.720000   \n",
       "50%        0.700000     61.800000     57.000000      5.690000      5.700000   \n",
       "75%        1.050000     62.500000     59.000000      6.540000      6.540000   \n",
       "max        4.500000     73.600000     79.000000     10.230000     58.900000   \n",
       "\n",
       "             height         price  \n",
       "count  26236.000000  26236.000000  \n",
       "mean       3.536339   3935.926818  \n",
       "std        0.698608   4019.809223  \n",
       "min        0.000000    326.000000  \n",
       "25%        2.900000    945.000000  \n",
       "50%        3.520000   2374.000000  \n",
       "75%        4.040000   5356.000000  \n",
       "max        8.060000  18818.000000  "
      ]
     },
     "execution_count": 15,
     "metadata": {},
     "output_type": "execute_result"
    }
   ],
   "source": [
    "#Check descriptive statistics of numerical variables\n",
    "df.describe()"
   ]
  },
  {
   "cell_type": "code",
   "execution_count": 16,
   "id": "4aab60e5-56f6-4012-ba79-eff8f2e41650",
   "metadata": {
    "tags": []
   },
   "outputs": [],
   "source": [
    "#Drop values that are contextually physically impossible\n",
    "df = df.drop(df[(df.length == 0) | (df.width == 0) | (df.height == 0)].index)"
   ]
  },
  {
   "cell_type": "code",
   "execution_count": 17,
   "id": "bda7717c-9e2f-47ac-b287-1ad86be4a4af",
   "metadata": {
    "tags": []
   },
   "outputs": [
    {
     "data": {
      "image/png": "[encoded data removed]",
      "text/plain": [
       "<Figure size 640x480 with 1 Axes>"
      ]
     },
     "metadata": {},
     "output_type": "display_data"
    }
   ],
   "source": [
    "#Visually explore for outliers\n",
    "df.boxplot(column=['carat','length','width','height']);"
   ]
  },
  {
   "cell_type": "code",
   "execution_count": 18,
   "id": "3a09e3ad-cb31-4670-95ee-aebf8a8b03ab",
   "metadata": {
    "tags": []
   },
   "outputs": [],
   "source": [
    "#Remove record containing the extreme outlier for the 'width' variable\n",
    "df = df.drop(df[df.width > 50].index)"
   ]
  },
  {
   "cell_type": "code",
   "execution_count": 19,
   "id": "338f2a43-a295-4dd1-9024-dc5ee4e42605",
   "metadata": {
    "tags": []
   },
   "outputs": [
    {
     "data": {
      "image/png": "[encoded data removed]",
      "text/plain": [
       "<Figure size 640x480 with 1 Axes>"
      ]
     },
     "metadata": {},
     "output_type": "display_data"
    }
   ],
   "source": [
    "#Visually explore for outliers\n",
    "df.boxplot(column=['carat','length','width','height']);"
   ]
  },
  {
   "cell_type": "code",
   "execution_count": 20,
   "id": "99cfe26f-25d8-4f48-adc4-f36198082c53",
   "metadata": {
    "tags": []
   },
   "outputs": [
    {
     "data": {
      "image/png": "[encoded data removed]",
      "text/plain": [
       "<Figure size 640x480 with 1 Axes>"
      ]
     },
     "metadata": {},
     "output_type": "display_data"
    }
   ],
   "source": [
    "#Visually explore for outliers\n",
    "df.boxplot(column=['depth','table']);"
   ]
  },
  {
   "cell_type": "code",
   "execution_count": 21,
   "id": "42f5c876-76f3-4f6b-b0a4-8bfd48d4b0f6",
   "metadata": {
    "tags": []
   },
   "outputs": [
    {
     "data": {
      "image/png": "[encoded data removed]",
      "text/plain": [
       "<Figure size 640x480 with 1 Axes>"
      ]
     },
     "metadata": {},
     "output_type": "display_data"
    }
   ],
   "source": [
    "df.boxplot(column='price');"
   ]
  },
  {
   "cell_type": "code",
   "execution_count": 23,
   "id": "ef75b677-12cd-4e34-be7a-4786f389baaf",
   "metadata": {
    "tags": []
   },
   "outputs": [],
   "source": [
    "#Label encode categorical variables due to ordinal nature of each. This is also done so that these inputs can be accepted into the regression model.\n",
    "\n",
    "#Create ordinal labels for each categorical variable based on data dictionary\n",
    "cut_map = {'Fair':1, 'Good':2, 'Very Good':3, 'Premium':4, 'Ideal':5}\n",
    "color_map = {'J':1, 'I':2, 'H':3, 'G':4, 'F':5, 'E':6, 'D':7}\n",
    "clarity_map = {'I3':1, 'I2':2, 'I1':3, 'SI2':4, 'SI1':5, 'VS2':6, 'VS1':7, 'VVS2':8, 'VVS1':9, 'IF':10, 'FL':11}\n",
    "\n",
    "#Label encode categorical variables\n",
    "df.cut = df.cut.map(cut_map)\n",
    "df.color = df.color.map(color_map)\n",
    "df.clarity = df.clarity.map(clarity_map)"
   ]
  },
  {
   "cell_type": "code",
   "execution_count": 24,
   "id": "bbf2dd7f-d7e2-4bd7-9457-5ddfb81f562e",
   "metadata": {
    "tags": []
   },
   "outputs": [
    {
     "data": {
      "text/html": [
       "<div>\n",
       "<style scoped>\n",
       "    .dataframe tbody tr th:only-of-type {\n",
       "        vertical-align: middle;\n",
       "    }\n",
       "\n",
       "    .dataframe tbody tr th {\n",
       "        vertical-align: top;\n",
       "    }\n",
       "\n",
       "    .dataframe thead th {\n",
       "        text-align: right;\n",
       "    }\n",
       "</style>\n",
       "<table border=\"1\" class=\"dataframe\">\n",
       "  <thead>\n",
       "    <tr style=\"text-align: right;\">\n",
       "      <th></th>\n",
       "      <th>carat</th>\n",
       "      <th>cut</th>\n",
       "      <th>color</th>\n",
       "      <th>clarity</th>\n",
       "      <th>depth</th>\n",
       "      <th>table</th>\n",
       "      <th>length</th>\n",
       "      <th>width</th>\n",
       "      <th>height</th>\n",
       "      <th>price</th>\n",
       "    </tr>\n",
       "  </thead>\n",
       "  <tbody>\n",
       "    <tr>\n",
       "      <th>0</th>\n",
       "      <td>0.30</td>\n",
       "      <td>5</td>\n",
       "      <td>6</td>\n",
       "      <td>5</td>\n",
       "      <td>62.1</td>\n",
       "      <td>58.0</td>\n",
       "      <td>4.27</td>\n",
       "      <td>4.29</td>\n",
       "      <td>2.66</td>\n",
       "      <td>499</td>\n",
       "    </tr>\n",
       "    <tr>\n",
       "      <th>1</th>\n",
       "      <td>0.33</td>\n",
       "      <td>4</td>\n",
       "      <td>4</td>\n",
       "      <td>10</td>\n",
       "      <td>60.8</td>\n",
       "      <td>58.0</td>\n",
       "      <td>4.42</td>\n",
       "      <td>4.46</td>\n",
       "      <td>2.70</td>\n",
       "      <td>984</td>\n",
       "    </tr>\n",
       "    <tr>\n",
       "      <th>2</th>\n",
       "      <td>0.90</td>\n",
       "      <td>3</td>\n",
       "      <td>6</td>\n",
       "      <td>8</td>\n",
       "      <td>62.2</td>\n",
       "      <td>60.0</td>\n",
       "      <td>6.04</td>\n",
       "      <td>6.12</td>\n",
       "      <td>3.78</td>\n",
       "      <td>6289</td>\n",
       "    </tr>\n",
       "    <tr>\n",
       "      <th>3</th>\n",
       "      <td>0.42</td>\n",
       "      <td>5</td>\n",
       "      <td>5</td>\n",
       "      <td>7</td>\n",
       "      <td>61.6</td>\n",
       "      <td>56.0</td>\n",
       "      <td>4.82</td>\n",
       "      <td>4.80</td>\n",
       "      <td>2.96</td>\n",
       "      <td>1082</td>\n",
       "    </tr>\n",
       "    <tr>\n",
       "      <th>4</th>\n",
       "      <td>0.31</td>\n",
       "      <td>5</td>\n",
       "      <td>5</td>\n",
       "      <td>9</td>\n",
       "      <td>60.4</td>\n",
       "      <td>59.0</td>\n",
       "      <td>4.35</td>\n",
       "      <td>4.43</td>\n",
       "      <td>2.65</td>\n",
       "      <td>779</td>\n",
       "    </tr>\n",
       "  </tbody>\n",
       "</table>\n",
       "</div>"
      ],
      "text/plain": [
       "   carat  cut  color  clarity  depth  table  length  width  height  price\n",
       "0   0.30    5      6        5   62.1   58.0    4.27   4.29    2.66    499\n",
       "1   0.33    4      4       10   60.8   58.0    4.42   4.46    2.70    984\n",
       "2   0.90    3      6        8   62.2   60.0    6.04   6.12    3.78   6289\n",
       "3   0.42    5      5        7   61.6   56.0    4.82   4.80    2.96   1082\n",
       "4   0.31    5      5        9   60.4   59.0    4.35   4.43    2.65    779"
      ]
     },
     "execution_count": 24,
     "metadata": {},
     "output_type": "execute_result"
    }
   ],
   "source": [
    "#Checking dataset after complete transformations\n",
    "df.head()"
   ]
  },
  {
   "cell_type": "code",
   "execution_count": 25,
   "id": "f6e93f39-1f0d-43ce-89e1-e122ed5dd6b6",
   "metadata": {
    "tags": []
   },
   "outputs": [],
   "source": [
    "#Define X and y parameters\n",
    "X = df.drop('price', axis=1)\n",
    "y = df.price\n",
    "\n",
    "#Split data into training and testing sets using an 80/20 ratio and set random state for reproducibility\n",
    "X_train, X_test, y_train, y_test = train_test_split(X, y, test_size=0.2, random_state=1)"
   ]
  },
  {
   "cell_type": "code",
   "execution_count": 26,
   "id": "c3b21b72-edf9-4ba3-9573-239eaaf93e34",
   "metadata": {
    "tags": []
   },
   "outputs": [
    {
     "name": "stdout",
     "output_type": "stream",
     "text": [
      "(20981, 9)\n",
      "(5246, 9)\n",
      "(20981,)\n",
      "(5246,)\n"
     ]
    }
   ],
   "source": [
    "print(X_train.shape)\n",
    "print(X_test.shape)\n",
    "print(y_train.shape)\n",
    "print(y_test.shape)"
   ]
  },
  {
   "cell_type": "markdown",
   "id": "b7d2e5db-d22d-4c27-bd67-9a950aa20dcc",
   "metadata": {},
   "source": [
    "<BR>"
   ]
  },
  {
   "cell_type": "markdown",
   "id": "28c632f0-eb54-4258-8dfc-c83c0f1c30f4",
   "metadata": {
    "tags": []
   },
   "source": [
    "## D. Analysis <a class=\"anchor\" id=\"D\"></a>"
   ]
  },
  {
   "cell_type": "markdown",
   "id": "3b52f806-292b-47b3-bfc1-bd5ba79d06b6",
   "metadata": {},
   "source": [
    "Multiple linear regression was chosen to analyze the data due to its ease of understanding. This simplicity is an advantage as it allows results to be easily communicated across audiences with different levels of knowledge. One disadvantage to this technique comes from the bias-variance tradeoff that is incurred. Due to the simplicity of the technique, there is low bias but high variance as it makes strong assumptions about the relationship between the independent and dependent variables, in that there is a linear relationship. The high variance of the technique can cause estimates to be further off than other analytical techniques.\n",
    "\n",
    "Some assumptions are to be met when performing linear regression. These include checking for multicollinearity, homoscedasticity of the residuals, and multivariate normality (Bobbitt, 2021). Each feature's variance inflation factor (VIF) was examined to ensure no multicollinearity exists. A VIF is a tool used to detect multicollinearity, and scores of greater than five indicate that variables are highly correlated (The Investopedia Team, 2024). The VIF of each feature was calculated, and through an iterative process, any feature with a score of higher than five was dropped. This process left only two features: carat and color."
   ]
  },
  {
   "cell_type": "code",
   "execution_count": 30,
   "id": "ca7175eb-f790-42a3-b321-8afbba1ed710",
   "metadata": {
    "tags": []
   },
   "outputs": [
    {
     "data": {
      "text/html": [
       "<div>\n",
       "<style scoped>\n",
       "    .dataframe tbody tr th:only-of-type {\n",
       "        vertical-align: middle;\n",
       "    }\n",
       "\n",
       "    .dataframe tbody tr th {\n",
       "        vertical-align: top;\n",
       "    }\n",
       "\n",
       "    .dataframe thead th {\n",
       "        text-align: right;\n",
       "    }\n",
       "</style>\n",
       "<table border=\"1\" class=\"dataframe\">\n",
       "  <thead>\n",
       "    <tr style=\"text-align: right;\">\n",
       "      <th></th>\n",
       "      <th>feature</th>\n",
       "      <th>VIF</th>\n",
       "    </tr>\n",
       "  </thead>\n",
       "  <tbody>\n",
       "    <tr>\n",
       "      <th>0</th>\n",
       "      <td>carat</td>\n",
       "      <td>91.665996</td>\n",
       "    </tr>\n",
       "    <tr>\n",
       "      <th>1</th>\n",
       "      <td>cut</td>\n",
       "      <td>17.962881</td>\n",
       "    </tr>\n",
       "    <tr>\n",
       "      <th>2</th>\n",
       "      <td>color</td>\n",
       "      <td>8.567528</td>\n",
       "    </tr>\n",
       "    <tr>\n",
       "      <th>3</th>\n",
       "      <td>clarity</td>\n",
       "      <td>17.632287</td>\n",
       "    </tr>\n",
       "    <tr>\n",
       "      <th>4</th>\n",
       "      <td>depth</td>\n",
       "      <td>1188.422704</td>\n",
       "    </tr>\n",
       "    <tr>\n",
       "      <th>5</th>\n",
       "      <td>table</td>\n",
       "      <td>847.428654</td>\n",
       "    </tr>\n",
       "    <tr>\n",
       "      <th>6</th>\n",
       "      <td>length</td>\n",
       "      <td>10418.260666</td>\n",
       "    </tr>\n",
       "    <tr>\n",
       "      <th>7</th>\n",
       "      <td>width</td>\n",
       "      <td>9094.225827</td>\n",
       "    </tr>\n",
       "    <tr>\n",
       "      <th>8</th>\n",
       "      <td>height</td>\n",
       "      <td>3743.542276</td>\n",
       "    </tr>\n",
       "  </tbody>\n",
       "</table>\n",
       "</div>"
      ],
      "text/plain": [
       "   feature           VIF\n",
       "0    carat     91.665996\n",
       "1      cut     17.962881\n",
       "2    color      8.567528\n",
       "3  clarity     17.632287\n",
       "4    depth   1188.422704\n",
       "5    table    847.428654\n",
       "6   length  10418.260666\n",
       "7    width   9094.225827\n",
       "8   height   3743.542276"
      ]
     },
     "execution_count": 30,
     "metadata": {},
     "output_type": "execute_result"
    }
   ],
   "source": [
    "#Iinitial look at VIF scores of all variables\n",
    "from statsmodels.stats.outliers_influence import variance_inflation_factor\n",
    "\n",
    "#Calculate VIF scores\n",
    "vif_data = pd.DataFrame()\n",
    "vif_data['feature'] = X_train.columns\n",
    "vif_data['VIF'] = [variance_inflation_factor(X_train.values, i) for i in range(len(X_train.columns))]\n",
    "vif_data"
   ]
  },
  {
   "cell_type": "code",
   "execution_count": 31,
   "id": "f1a9ef5c-d36d-4ed6-94e8-9566f90559be",
   "metadata": {
    "tags": []
   },
   "outputs": [],
   "source": [
    "#Iteratively remove features with high VIF\n",
    "\n",
    "#Define list of features\n",
    "features = X.columns.tolist()\n",
    "\n",
    "while True:\n",
    "    #Create dataframe with features and corresponding VIF scores\n",
    "    vif_data = pd.DataFrame()\n",
    "    vif_data['feature'] = X_train.columns\n",
    "    vif_data['VIF'] = [variance_inflation_factor(X_train.values, i) for i in range(len(X_train.columns))]\n",
    "    max_vif = vif_data[\"VIF\"].max()\n",
    "    \n",
    "    #Break loop when the highest VIF score <= 5\n",
    "    if max_vif <=5:\n",
    "        break\n",
    "        \n",
    "    #Remove feature with the highest VIF score\n",
    "    feature_to_remove = vif_data.loc[vif_data[\"VIF\"].idxmax()][\"feature\"]\n",
    "    features.remove(feature_to_remove)\n",
    "    X_train = X_train[features]"
   ]
  },
  {
   "cell_type": "code",
   "execution_count": 32,
   "id": "579908bc-0d7a-4610-bd20-328aa5737100",
   "metadata": {
    "tags": []
   },
   "outputs": [
    {
     "data": {
      "text/html": [
       "<div>\n",
       "<style scoped>\n",
       "    .dataframe tbody tr th:only-of-type {\n",
       "        vertical-align: middle;\n",
       "    }\n",
       "\n",
       "    .dataframe tbody tr th {\n",
       "        vertical-align: top;\n",
       "    }\n",
       "\n",
       "    .dataframe thead th {\n",
       "        text-align: right;\n",
       "    }\n",
       "</style>\n",
       "<table border=\"1\" class=\"dataframe\">\n",
       "  <thead>\n",
       "    <tr style=\"text-align: right;\">\n",
       "      <th></th>\n",
       "      <th>feature</th>\n",
       "      <th>VIF</th>\n",
       "    </tr>\n",
       "  </thead>\n",
       "  <tbody>\n",
       "    <tr>\n",
       "      <th>0</th>\n",
       "      <td>carat</td>\n",
       "      <td>2.243597</td>\n",
       "    </tr>\n",
       "    <tr>\n",
       "      <th>1</th>\n",
       "      <td>color</td>\n",
       "      <td>2.243597</td>\n",
       "    </tr>\n",
       "  </tbody>\n",
       "</table>\n",
       "</div>"
      ],
      "text/plain": [
       "  feature       VIF\n",
       "0   carat  2.243597\n",
       "1   color  2.243597"
      ]
     },
     "execution_count": 32,
     "metadata": {},
     "output_type": "execute_result"
    }
   ],
   "source": [
    "#Check reduced feature list and VIF scores\n",
    "vif_data"
   ]
  },
  {
   "cell_type": "markdown",
   "id": "d124ea2b-c9b0-4a62-94e8-21c54ad03ef5",
   "metadata": {},
   "source": [
    "<BR>"
   ]
  },
  {
   "cell_type": "markdown",
   "id": "3acb30f1-59fa-4a60-ba87-ae291c3f1d9c",
   "metadata": {},
   "source": [
    "The statsmodels library, which contains some linear regression models, was used as it gives an excellent summary of the results. The summary of the results was printed out after an ordinary least squares regression model was trained on the training data. Afterward, a scatterplot of the fitted values and the residuals was looked at to determine the presence of homoscedasticity. The plot showed the presence of heteroscedasticity due to the cone-line shape of the residuals as the fitted values increased. Furthermore, a Q-Q plot was used to show if the residuals follow a normal distribution, resulting in a completely vertical line and indicating further issues."
   ]
  },
  {
   "cell_type": "code",
   "execution_count": 110,
   "id": "cffc649e-598d-4333-b6e8-99438b43965a",
   "metadata": {
    "tags": []
   },
   "outputs": [
    {
     "data": {
      "text/html": [
       "<table class=\"simpletable\">\n",
       "<caption>OLS Regression Results</caption>\n",
       "<tr>\n",
       "  <th>Dep. Variable:</th>          <td>price</td>      <th>  R-squared:         </th>  <td>   0.860</td>  \n",
       "</tr>\n",
       "<tr>\n",
       "  <th>Model:</th>                   <td>OLS</td>       <th>  Adj. R-squared:    </th>  <td>   0.860</td>  \n",
       "</tr>\n",
       "<tr>\n",
       "  <th>Method:</th>             <td>Least Squares</td>  <th>  F-statistic:       </th>  <td>6.448e+04</td> \n",
       "</tr>\n",
       "<tr>\n",
       "  <th>Date:</th>             <td>Thu, 07 Nov 2024</td> <th>  Prob (F-statistic):</th>   <td>  0.00</td>   \n",
       "</tr>\n",
       "<tr>\n",
       "  <th>Time:</th>                 <td>11:47:45</td>     <th>  Log-Likelihood:    </th> <td>-1.8332e+05</td>\n",
       "</tr>\n",
       "<tr>\n",
       "  <th>No. Observations:</th>      <td> 20981</td>      <th>  AIC:               </th>  <td>3.667e+05</td> \n",
       "</tr>\n",
       "<tr>\n",
       "  <th>Df Residuals:</th>          <td> 20978</td>      <th>  BIC:               </th>  <td>3.667e+05</td> \n",
       "</tr>\n",
       "<tr>\n",
       "  <th>Df Model:</th>              <td>     2</td>      <th>                     </th>      <td> </td>     \n",
       "</tr>\n",
       "<tr>\n",
       "  <th>Covariance Type:</th>      <td>nonrobust</td>    <th>                     </th>      <td> </td>     \n",
       "</tr>\n",
       "</table>\n",
       "<table class=\"simpletable\">\n",
       "<tr>\n",
       "    <td></td>       <th>coef</th>     <th>std err</th>      <th>t</th>      <th>P>|t|</th>  <th>[0.025</th>    <th>0.975]</th>  \n",
       "</tr>\n",
       "<tr>\n",
       "  <th>const</th> <td>-3630.6956</td> <td>   39.245</td> <td>  -92.513</td> <td> 0.000</td> <td>-3707.619</td> <td>-3553.772</td>\n",
       "</tr>\n",
       "<tr>\n",
       "  <th>carat</th> <td> 8069.2836</td> <td>   22.890</td> <td>  352.525</td> <td> 0.000</td> <td> 8024.418</td> <td> 8114.150</td>\n",
       "</tr>\n",
       "<tr>\n",
       "  <th>color</th> <td>  258.9248</td> <td>    6.393</td> <td>   40.501</td> <td> 0.000</td> <td>  246.394</td> <td>  271.456</td>\n",
       "</tr>\n",
       "</table>\n",
       "<table class=\"simpletable\">\n",
       "<tr>\n",
       "  <th>Omnibus:</th>       <td>4666.951</td> <th>  Durbin-Watson:     </th> <td>   2.006</td> \n",
       "</tr>\n",
       "<tr>\n",
       "  <th>Prob(Omnibus):</th>  <td> 0.000</td>  <th>  Jarque-Bera (JB):  </th> <td>47709.327</td>\n",
       "</tr>\n",
       "<tr>\n",
       "  <th>Skew:</th>           <td> 0.777</td>  <th>  Prob(JB):          </th> <td>    0.00</td> \n",
       "</tr>\n",
       "<tr>\n",
       "  <th>Kurtosis:</th>       <td>10.222</td>  <th>  Cond. No.          </th> <td>    20.1</td> \n",
       "</tr>\n",
       "</table><br/><br/>Notes:<br/>[1] Standard Errors assume that the covariance matrix of the errors is correctly specified."
      ],
      "text/latex": [
       "\\begin{center}\n",
       "\\begin{tabular}{lclc}\n",
       "\\toprule\n",
       "\\textbf{Dep. Variable:}    &      price       & \\textbf{  R-squared:         } &      0.860   \\\\\n",
       "\\textbf{Model:}            &       OLS        & \\textbf{  Adj. R-squared:    } &      0.860   \\\\\n",
       "\\textbf{Method:}           &  Least Squares   & \\textbf{  F-statistic:       } &  6.448e+04   \\\\\n",
       "\\textbf{Date:}             & Thu, 07 Nov 2024 & \\textbf{  Prob (F-statistic):} &      0.00    \\\\\n",
       "\\textbf{Time:}             &     11:47:45     & \\textbf{  Log-Likelihood:    } & -1.8332e+05  \\\\\n",
       "\\textbf{No. Observations:} &       20981      & \\textbf{  AIC:               } &  3.667e+05   \\\\\n",
       "\\textbf{Df Residuals:}     &       20978      & \\textbf{  BIC:               } &  3.667e+05   \\\\\n",
       "\\textbf{Df Model:}         &           2      & \\textbf{                     } &              \\\\\n",
       "\\textbf{Covariance Type:}  &    nonrobust     & \\textbf{                     } &              \\\\\n",
       "\\bottomrule\n",
       "\\end{tabular}\n",
       "\\begin{tabular}{lcccccc}\n",
       "               & \\textbf{coef} & \\textbf{std err} & \\textbf{t} & \\textbf{P$> |$t$|$} & \\textbf{[0.025} & \\textbf{0.975]}  \\\\\n",
       "\\midrule\n",
       "\\textbf{const} &   -3630.6956  &       39.245     &   -92.513  &         0.000        &    -3707.619    &    -3553.772     \\\\\n",
       "\\textbf{carat} &    8069.2836  &       22.890     &   352.525  &         0.000        &     8024.418    &     8114.150     \\\\\n",
       "\\textbf{color} &     258.9248  &        6.393     &    40.501  &         0.000        &      246.394    &      271.456     \\\\\n",
       "\\bottomrule\n",
       "\\end{tabular}\n",
       "\\begin{tabular}{lclc}\n",
       "\\textbf{Omnibus:}       & 4666.951 & \\textbf{  Durbin-Watson:     } &     2.006  \\\\\n",
       "\\textbf{Prob(Omnibus):} &   0.000  & \\textbf{  Jarque-Bera (JB):  } & 47709.327  \\\\\n",
       "\\textbf{Skew:}          &   0.777  & \\textbf{  Prob(JB):          } &      0.00  \\\\\n",
       "\\textbf{Kurtosis:}      &  10.222  & \\textbf{  Cond. No.          } &      20.1  \\\\\n",
       "\\bottomrule\n",
       "\\end{tabular}\n",
       "%\\caption{OLS Regression Results}\n",
       "\\end{center}\n",
       "\n",
       "Notes: \\newline\n",
       " [1] Standard Errors assume that the covariance matrix of the errors is correctly specified."
      ],
      "text/plain": [
       "<class 'statsmodels.iolib.summary.Summary'>\n",
       "\"\"\"\n",
       "                            OLS Regression Results                            \n",
       "==============================================================================\n",
       "Dep. Variable:                  price   R-squared:                       0.860\n",
       "Model:                            OLS   Adj. R-squared:                  0.860\n",
       "Method:                 Least Squares   F-statistic:                 6.448e+04\n",
       "Date:                Thu, 07 Nov 2024   Prob (F-statistic):               0.00\n",
       "Time:                        11:47:45   Log-Likelihood:            -1.8332e+05\n",
       "No. Observations:               20981   AIC:                         3.667e+05\n",
       "Df Residuals:                   20978   BIC:                         3.667e+05\n",
       "Df Model:                           2                                         \n",
       "Covariance Type:            nonrobust                                         \n",
       "==============================================================================\n",
       "                 coef    std err          t      P>|t|      [0.025      0.975]\n",
       "------------------------------------------------------------------------------\n",
       "const      -3630.6956     39.245    -92.513      0.000   -3707.619   -3553.772\n",
       "carat       8069.2836     22.890    352.525      0.000    8024.418    8114.150\n",
       "color        258.9248      6.393     40.501      0.000     246.394     271.456\n",
       "==============================================================================\n",
       "Omnibus:                     4666.951   Durbin-Watson:                   2.006\n",
       "Prob(Omnibus):                  0.000   Jarque-Bera (JB):            47709.327\n",
       "Skew:                           0.777   Prob(JB):                         0.00\n",
       "Kurtosis:                      10.222   Cond. No.                         20.1\n",
       "==============================================================================\n",
       "\n",
       "Notes:\n",
       "[1] Standard Errors assume that the covariance matrix of the errors is correctly specified.\n",
       "\"\"\""
      ]
     },
     "execution_count": 110,
     "metadata": {},
     "output_type": "execute_result"
    }
   ],
   "source": [
    "#Import package to run MLR model\n",
    "import statsmodels.api as sm\n",
    "\n",
    "#Add constant to be used as the intercept, then instantiate and fit model\n",
    "X_train = sm.add_constant(X_train)\n",
    "model2 = sm.OLS(y_train, X_train)\n",
    "results2 = model2.fit()\n",
    "results2.summary()"
   ]
  },
  {
   "cell_type": "code",
   "execution_count": 210,
   "id": "b570c48c-dc1f-4510-ac7e-62210d14db34",
   "metadata": {
    "tags": []
   },
   "outputs": [
    {
     "data": {
      "image/png": "[encoded data removed]",
      "text/plain": [
       "<Figure size 640x480 with 1 Axes>"
      ]
     },
     "metadata": {},
     "output_type": "display_data"
    }
   ],
   "source": [
    "#Heteroscedasticity is present due to the cone-like shape present\n",
    "plt.scatter(results2.fittedvalues, results2.resid / results2.resid.std())\n",
    "plt.xlabel('Fitted Values')\n",
    "plt.ylabel('Standardized Residuals');"
   ]
  },
  {
   "cell_type": "code",
   "execution_count": 164,
   "id": "9d31a026-6d51-439a-9db2-bb5ed07d6643",
   "metadata": {
    "tags": []
   },
   "outputs": [
    {
     "data": {
      "image/png": "[encoded data removed]",
      "text/plain": [
       "<Figure size 640x480 with 1 Axes>"
      ]
     },
     "metadata": {},
     "output_type": "display_data"
    }
   ],
   "source": [
    "#Check for multivariate normality of the residuals\n",
    "sm.qqplot(results2.resid, line='45');"
   ]
  },
  {
   "cell_type": "markdown",
   "id": "82c667ab-1120-4678-b4dc-94f921f96a63",
   "metadata": {},
   "source": [
    "<BR>"
   ]
  },
  {
   "cell_type": "markdown",
   "id": "18547200-a694-4aff-9821-51ad3597dfda",
   "metadata": {},
   "source": [
    "Log transformations were performed to combat the issues seen with heteroscedasticity and the lack of multivariate normality. The transformation was performed on both the features and the target. Once complete, a new regression model was trained on the transformed data, and the results were examined. A look at the fitted values and residuals showed better results. The residuals are much better centered, trending towards the assumption of homoscedasticity. Furthermore, the assumption of multivariate normality is better met as the Q-Q plot shows a line that better approximates a normal distribution."
   ]
  },
  {
   "cell_type": "code",
   "execution_count": 124,
   "id": "a475edcc-0ce7-4e4b-ac5f-775b791a506b",
   "metadata": {
    "tags": []
   },
   "outputs": [],
   "source": [
    "#Transform X and y inputs\n",
    "X_train_ln = np.log(X_train)\n",
    "X_train_ln.const = 1\n",
    "y_train_ln = np.log(y_train)"
   ]
  },
  {
   "cell_type": "code",
   "execution_count": 136,
   "id": "395fa616-2222-4cd8-8160-d82e2409f2e9",
   "metadata": {
    "tags": []
   },
   "outputs": [
    {
     "data": {
      "text/html": [
       "<table class=\"simpletable\">\n",
       "<caption>OLS Regression Results</caption>\n",
       "<tr>\n",
       "  <th>Dep. Variable:</th>          <td>price</td>      <th>  R-squared:         </th> <td>   0.946</td> \n",
       "</tr>\n",
       "<tr>\n",
       "  <th>Model:</th>                   <td>OLS</td>       <th>  Adj. R-squared:    </th> <td>   0.946</td> \n",
       "</tr>\n",
       "<tr>\n",
       "  <th>Method:</th>             <td>Least Squares</td>  <th>  F-statistic:       </th> <td>1.825e+05</td>\n",
       "</tr>\n",
       "<tr>\n",
       "  <th>Date:</th>             <td>Thu, 07 Nov 2024</td> <th>  Prob (F-statistic):</th>  <td>  0.00</td>  \n",
       "</tr>\n",
       "<tr>\n",
       "  <th>Time:</th>                 <td>11:53:04</td>     <th>  Log-Likelihood:    </th> <td>  355.26</td> \n",
       "</tr>\n",
       "<tr>\n",
       "  <th>No. Observations:</th>      <td> 20981</td>      <th>  AIC:               </th> <td>  -704.5</td> \n",
       "</tr>\n",
       "<tr>\n",
       "  <th>Df Residuals:</th>          <td> 20978</td>      <th>  BIC:               </th> <td>  -680.7</td> \n",
       "</tr>\n",
       "<tr>\n",
       "  <th>Df Model:</th>              <td>     2</td>      <th>                     </th>     <td> </td>    \n",
       "</tr>\n",
       "<tr>\n",
       "  <th>Covariance Type:</th>      <td>nonrobust</td>    <th>                     </th>     <td> </td>    \n",
       "</tr>\n",
       "</table>\n",
       "<table class=\"simpletable\">\n",
       "<tr>\n",
       "    <td></td>       <th>coef</th>     <th>std err</th>      <th>t</th>      <th>P>|t|</th>  <th>[0.025</th>    <th>0.975]</th>  \n",
       "</tr>\n",
       "<tr>\n",
       "  <th>const</th> <td>    8.1464</td> <td>    0.005</td> <td> 1666.578</td> <td> 0.000</td> <td>    8.137</td> <td>    8.156</td>\n",
       "</tr>\n",
       "<tr>\n",
       "  <th>carat</th> <td>    1.7320</td> <td>    0.003</td> <td>  595.614</td> <td> 0.000</td> <td>    1.726</td> <td>    1.738</td>\n",
       "</tr>\n",
       "<tr>\n",
       "  <th>color</th> <td>    0.2352</td> <td>    0.003</td> <td>   67.790</td> <td> 0.000</td> <td>    0.228</td> <td>    0.242</td>\n",
       "</tr>\n",
       "</table>\n",
       "<table class=\"simpletable\">\n",
       "<tr>\n",
       "  <th>Omnibus:</th>       <td>433.091</td> <th>  Durbin-Watson:     </th> <td>   1.989</td> \n",
       "</tr>\n",
       "<tr>\n",
       "  <th>Prob(Omnibus):</th> <td> 0.000</td>  <th>  Jarque-Bera (JB):  </th> <td> 903.182</td> \n",
       "</tr>\n",
       "<tr>\n",
       "  <th>Skew:</th>          <td>-0.085</td>  <th>  Prob(JB):          </th> <td>7.52e-197</td>\n",
       "</tr>\n",
       "<tr>\n",
       "  <th>Kurtosis:</th>      <td> 4.002</td>  <th>  Cond. No.          </th> <td>    6.48</td> \n",
       "</tr>\n",
       "</table><br/><br/>Notes:<br/>[1] Standard Errors assume that the covariance matrix of the errors is correctly specified."
      ],
      "text/latex": [
       "\\begin{center}\n",
       "\\begin{tabular}{lclc}\n",
       "\\toprule\n",
       "\\textbf{Dep. Variable:}    &      price       & \\textbf{  R-squared:         } &     0.946   \\\\\n",
       "\\textbf{Model:}            &       OLS        & \\textbf{  Adj. R-squared:    } &     0.946   \\\\\n",
       "\\textbf{Method:}           &  Least Squares   & \\textbf{  F-statistic:       } & 1.825e+05   \\\\\n",
       "\\textbf{Date:}             & Thu, 07 Nov 2024 & \\textbf{  Prob (F-statistic):} &     0.00    \\\\\n",
       "\\textbf{Time:}             &     11:53:04     & \\textbf{  Log-Likelihood:    } &    355.26   \\\\\n",
       "\\textbf{No. Observations:} &       20981      & \\textbf{  AIC:               } &    -704.5   \\\\\n",
       "\\textbf{Df Residuals:}     &       20978      & \\textbf{  BIC:               } &    -680.7   \\\\\n",
       "\\textbf{Df Model:}         &           2      & \\textbf{                     } &             \\\\\n",
       "\\textbf{Covariance Type:}  &    nonrobust     & \\textbf{                     } &             \\\\\n",
       "\\bottomrule\n",
       "\\end{tabular}\n",
       "\\begin{tabular}{lcccccc}\n",
       "               & \\textbf{coef} & \\textbf{std err} & \\textbf{t} & \\textbf{P$> |$t$|$} & \\textbf{[0.025} & \\textbf{0.975]}  \\\\\n",
       "\\midrule\n",
       "\\textbf{const} &       8.1464  &        0.005     &  1666.578  &         0.000        &        8.137    &        8.156     \\\\\n",
       "\\textbf{carat} &       1.7320  &        0.003     &   595.614  &         0.000        &        1.726    &        1.738     \\\\\n",
       "\\textbf{color} &       0.2352  &        0.003     &    67.790  &         0.000        &        0.228    &        0.242     \\\\\n",
       "\\bottomrule\n",
       "\\end{tabular}\n",
       "\\begin{tabular}{lclc}\n",
       "\\textbf{Omnibus:}       & 433.091 & \\textbf{  Durbin-Watson:     } &     1.989  \\\\\n",
       "\\textbf{Prob(Omnibus):} &   0.000 & \\textbf{  Jarque-Bera (JB):  } &   903.182  \\\\\n",
       "\\textbf{Skew:}          &  -0.085 & \\textbf{  Prob(JB):          } & 7.52e-197  \\\\\n",
       "\\textbf{Kurtosis:}      &   4.002 & \\textbf{  Cond. No.          } &      6.48  \\\\\n",
       "\\bottomrule\n",
       "\\end{tabular}\n",
       "%\\caption{OLS Regression Results}\n",
       "\\end{center}\n",
       "\n",
       "Notes: \\newline\n",
       " [1] Standard Errors assume that the covariance matrix of the errors is correctly specified."
      ],
      "text/plain": [
       "<class 'statsmodels.iolib.summary.Summary'>\n",
       "\"\"\"\n",
       "                            OLS Regression Results                            \n",
       "==============================================================================\n",
       "Dep. Variable:                  price   R-squared:                       0.946\n",
       "Model:                            OLS   Adj. R-squared:                  0.946\n",
       "Method:                 Least Squares   F-statistic:                 1.825e+05\n",
       "Date:                Thu, 07 Nov 2024   Prob (F-statistic):               0.00\n",
       "Time:                        11:53:04   Log-Likelihood:                 355.26\n",
       "No. Observations:               20981   AIC:                            -704.5\n",
       "Df Residuals:                   20978   BIC:                            -680.7\n",
       "Df Model:                           2                                         \n",
       "Covariance Type:            nonrobust                                         \n",
       "==============================================================================\n",
       "                 coef    std err          t      P>|t|      [0.025      0.975]\n",
       "------------------------------------------------------------------------------\n",
       "const          8.1464      0.005   1666.578      0.000       8.137       8.156\n",
       "carat          1.7320      0.003    595.614      0.000       1.726       1.738\n",
       "color          0.2352      0.003     67.790      0.000       0.228       0.242\n",
       "==============================================================================\n",
       "Omnibus:                      433.091   Durbin-Watson:                   1.989\n",
       "Prob(Omnibus):                  0.000   Jarque-Bera (JB):              903.182\n",
       "Skew:                          -0.085   Prob(JB):                    7.52e-197\n",
       "Kurtosis:                       4.002   Cond. No.                         6.48\n",
       "==============================================================================\n",
       "\n",
       "Notes:\n",
       "[1] Standard Errors assume that the covariance matrix of the errors is correctly specified.\n",
       "\"\"\""
      ]
     },
     "execution_count": 136,
     "metadata": {},
     "output_type": "execute_result"
    }
   ],
   "source": [
    "#Re-run log transformed model\n",
    "model_ln = sm.OLS(y_train_ln, X_train_ln)\n",
    "results_ln = model_ln.fit()\n",
    "results_ln.summary()"
   ]
  },
  {
   "cell_type": "code",
   "execution_count": 208,
   "id": "f487d190-aa4f-4369-a11e-56abb20af1a9",
   "metadata": {
    "tags": []
   },
   "outputs": [
    {
     "data": {
      "image/png": "[encoded data removed]",
      "text/plain": [
       "<Figure size 640x480 with 1 Axes>"
      ]
     },
     "metadata": {},
     "output_type": "display_data"
    }
   ],
   "source": [
    "#Check for homoscedasticity\n",
    "plt.scatter(results_ln.fittedvalues, results_ln.resid / results_ln.resid.std())\n",
    "plt.xlabel('Fitted Values')\n",
    "plt.ylabel('Standardized Residuals');"
   ]
  },
  {
   "cell_type": "code",
   "execution_count": 170,
   "id": "a5b97d69-0083-4e99-a4f5-b5761f0da6e2",
   "metadata": {
    "tags": []
   },
   "outputs": [
    {
     "data": {
      "image/png": "[encoded data removed]",
      "text/plain": [
       "<Figure size 640x480 with 1 Axes>"
      ]
     },
     "metadata": {},
     "output_type": "display_data"
    }
   ],
   "source": [
    "#Check for multivariate normality\n",
    "sm.qqplot(results_ln.resid, line='45');"
   ]
  },
  {
   "cell_type": "markdown",
   "id": "f76eecf2-c627-4fee-809a-df340b96fcda",
   "metadata": {},
   "source": [
    "<BR>"
   ]
  },
  {
   "cell_type": "markdown",
   "id": "56edf8bd-89a6-4742-adfa-49b9846460a3",
   "metadata": {},
   "source": [
    "Lastly, an error metric was examined to determine how well the model performs and can generalize to out-of-sample data. Here, the error metric of interest looked at root mean squared error (RMSE). Per calculations, the RMSE for the training data was 0.2379, and for the testing data, 0.2383. Due to the error values closely mirroring one another, the model can perform well on out-of-sample data."
   ]
  },
  {
   "cell_type": "code",
   "execution_count": 200,
   "id": "1ce1e1d0-8eff-48b5-adaf-01b62005e911",
   "metadata": {
    "tags": []
   },
   "outputs": [
    {
     "data": {
      "text/plain": [
       "0.23790807376076545"
      ]
     },
     "execution_count": 200,
     "metadata": {},
     "output_type": "execute_result"
    }
   ],
   "source": [
    "#Import metric to test\n",
    "from sklearn.metrics import root_mean_squared_error\n",
    "\n",
    "#train rmse\n",
    "yt_pred = results_ln.predict(X_train_ln)\n",
    "root_mean_squared_error(y_train_ln, yt_pred)"
   ]
  },
  {
   "cell_type": "code",
   "execution_count": 202,
   "id": "9671f1b7-2a9c-4f51-bea1-163922c8d73b",
   "metadata": {
    "tags": []
   },
   "outputs": [
    {
     "data": {
      "text/plain": [
       "0.23836043969931253"
      ]
     },
     "execution_count": 202,
     "metadata": {},
     "output_type": "execute_result"
    }
   ],
   "source": [
    "#test rmse\n",
    "X_test_ln = sm.add_constant(X_test)\n",
    "X_test_ln = X_test_ln[X_train_ln.columns]\n",
    "X_test_ln = np.log(X_test_ln)\n",
    "X_test_ln.const = 1\n",
    "y_pred = results_ln.predict(X_test_ln)\n",
    "\n",
    "y_test_ln = np.log(y_test)\n",
    "\n",
    "root_mean_squared_error(y_test_ln, y_pred)"
   ]
  },
  {
   "cell_type": "markdown",
   "id": "78a02096-5c86-49db-9cd6-d72517929626",
   "metadata": {},
   "source": [
    "<BR>"
   ]
  },
  {
   "cell_type": "markdown",
   "id": "d04e6f69-1b9d-49b6-8e6c-6c035530c33c",
   "metadata": {
    "tags": []
   },
   "source": [
    "## E. Data Summary and Implications <a class=\"anchor\" id=\"E\"></a>"
   ]
  },
  {
   "cell_type": "markdown",
   "id": "fa525d8c-62ea-4d80-9f17-b3449cbda5d1",
   "metadata": {},
   "source": [
    "This analysis aimed to determine factors significantly impacting cubic zirconia sales prices. A linear regression model with significant factors was generated through regression analysis. Two of these factors were carat weight and color. These factors were deemed statistically significant as the results from the linear regression model showed that both had p-values of less than .05. Furthermore, the model's significance was also examined. And with the probability of the F-statistic also less than .05, the model is also significant. Therefore, predictions from the model can be trusted so as not to be due to random chance. Additionally, the model's adjusted R-squared of 0.946 indicates a well-performing model that can explain a lot of the variation of the response variable. Below is the linear regression equation.\n",
    "\n",
    "$ln(\\hat{price})=8.15+1.73*ln(\\text{carat weight})+0.24*ln(\\text{color grading})$\n",
    "\n",
    "The coefficients can be interpreted like so (University of Virginia, n.d.):\n",
    "* Keeping everything constant, for every 1% increase in carat weight, the sales price is increased by about 1.73%.\n",
    "* Keeping everything constant, for every 1% increase in the color grade, the sales price is increased by about 0.24%.\n",
    "\n",
    "A limitation of the research involves the analytical technique used, linear regression. Linear regression makes strong assumptions about the linear relationship between the variables, which may not reflect how the variables are perceived. This assumption strongly influences how the model is trained and the predictions that come with it. If underlying relationships are not truly linear, the regression model is not representative and may lead to poor estimates.\n",
    "\n",
    "Based on the results of this analysis, it is recommended that the model can be used for predictive measures. Further testing could be done further to validate its predictive accuracy on other data before deployment. For future dataset studies, instead of focusing on impactful predictors, other studies could instead focus on generating the best predictive model using different techniques such as random forests or regularization techniques like lasso or ridge regression. Another study point would be employing clustering techniques to better understand the characteristics that make up the different groupings."
   ]
  },
  {
   "cell_type": "markdown",
   "id": "1fcb4098-9b97-49c0-9b53-738fe8de346e",
   "metadata": {},
   "source": [
    "<BR>"
   ]
  },
  {
   "cell_type": "markdown",
   "id": "fbe192ea-e838-4e2a-9510-f8e320acc145",
   "metadata": {
    "tags": []
   },
   "source": [
    "## F. Sources <a class=\"anchor\" id=\"F\"></a>"
   ]
  },
  {
   "cell_type": "markdown",
   "id": "ef771006-a63a-413e-82f4-541c099a13f3",
   "metadata": {},
   "source": [
    "Antolik, C. B. (2022, October 18). _Cubic Zirconia Vs. Diamonds_. International Gem Society. https://www.gemsociety.org/article/cubic-zirconia-vs-diamonds/ \n",
    "\n",
    "Bobbitt, Z. (2021, November 16). _The Five Assumptions of Multiple Linear Regression_. Statology. https://www.statology.org/multiple-linear-regression-assumptions/\n",
    "\n",
    "Co-learning Lounge. (2021, January 29). _Gemstone Price Prediction_. Kaggle. https://www.kaggle.com/datasets/colearninglounge/gemstone-price-prediction/data \n",
    "\n",
    "Gemological Institute of America. (2017, October 17). _The History of the 4Cs of Diamond Quality_. GIA 4Cs. https://4cs.gia.edu/en-us/blog/history-4cs-diamond-quality/ \n",
    "\n",
    "PFES. (n.d.). _The Ultimate Guide to Data Analytics Tools: Python, R, and Cloud Platforms_. PFES. https://www.pfes.com/post/ultimate-guide-to-data-analytics-tools-python-r-and-cloud-platforms\n",
    "\n",
    "The Investopedia Team. (2024, June 27). _Variance inflation factor (VIF)_. Investopedia. https://www.investopedia.com/terms/v/variance-inflation-factor.asp\n",
    "\n",
    "University of Virginia. (n.d.). Interpreting Log Transformations in a Linear Model. Interpreting Log Transformations in a Linear Model | UVA Library. https://library.virginia.edu/data/articles/interpreting-log-transformations-in-a-linear-model "
   ]
  }
 ],
 "metadata": {
  "kernelspec": {
   "display_name": "Python 3 (ipykernel)",
   "language": "python",
   "name": "python3"
  },
  "language_info": {
   "codemirror_mode": {
    "name": "ipython",
    "version": 3
   },
   "file_extension": ".py",
   "mimetype": "text/x-python",
   "name": "python",
   "nbconvert_exporter": "python",
   "pygments_lexer": "ipython3",
   "version": "3.11.9"
  }
 },
 "nbformat": 4,
 "nbformat_minor": 5
}
