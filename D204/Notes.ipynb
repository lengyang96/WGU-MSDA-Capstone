{
 "cells": [
  {
   "cell_type": "markdown",
   "id": "8f4a212e-a7c7-4030-8cf0-4dd9a566390e",
   "metadata": {},
   "source": [
    "# Lesson 1: Data Analytics Life Cycle"
   ]
  },
  {
   "cell_type": "markdown",
   "id": "b0df2d95-9c84-4ad7-9d99-1253d999c115",
   "metadata": {},
   "source": [
    "Learning Objectives\n",
    "\n",
    "* Define data analytics,  \n",
    "* Trace the phases of the data analytics life cycle,\n",
    "    * Business Understanding > Data Acquisition > Data Cleaning > Data Exploration > Predictive Modeling > Data Mining/ML > Reporting and Visualization\n",
    "* Summarize the discovery phase of the data analytics life cycle,\n",
    "    * scope project, identify stakeholders and research questions, identify limitations\n",
    "* Summarize the data acquisition phase of the data analytics life cycle,\n",
    "    * data collection/gathering, ETL, web scraping\n",
    "* Summarize the data exploration phase of the data analytics life cycle,\n",
    "    * begin to understand data, central tendency/variance, basic correlations between variables\n",
    "* Summarize the predictive modeling phase of the data analytics life cycle,\n",
    "    * create, validate, evaluate, refine model\n",
    "* Summarize the data mining phase of the data analytics life cycle,\n",
    "    * ML, train/test modeling, clustering, create models that learn and improve (deep learning/AI)\n",
    "* Summarize the representation and reporting phase of the data analytics life cycle,\n",
    "    * data viz, tableau, graphs; present + deploy model\n",
    "* Contextualize each phase within the data analytics life cycle."
   ]
  },
  {
   "cell_type": "markdown",
   "id": "8e95fba5-ef25-4c9e-8782-a87269979d98",
   "metadata": {},
   "source": [
    "**Descriptive Analytics:** Observation -- what happened?  \n",
    "**Diagnostic Analytics:** Explained reason -- why did it happen?  \n",
    "**Predictive Analytics:** Correlation -- what will happen in the future?  \n",
    "**Prescriptive Analytics:** Causal/manipulate -- how can we make it happen? what can we do moving forward?"
   ]
  },
  {
   "cell_type": "markdown",
   "id": "2a698297-5654-44b2-8966-8e0d5881377e",
   "metadata": {},
   "source": [
    "# Lesson 2: Data Analytics Tools and Techniques"
   ]
  },
  {
   "cell_type": "markdown",
   "id": "41ae0f49-c857-46b9-8d2f-b3e062fbbf9f",
   "metadata": {},
   "source": [
    "Learning Objectives\n",
    "\n",
    "* Describe sources of data,\n",
    "    * structured - labled, structured framework\n",
    "    * semi-structured - loosely organized using meta tags (e.g. json, xml, email)\n",
    "    * unstructured - text-heavy info, not organized (e.g. docs, audio, image)\n",
    "* Describe data analytics applications,\n",
    "    * spreadsheets, SQL, Tableau\n",
    "* Compare scripting and programming languages used in data analytics,\n",
    "    * R (data analysis) vs Python (data science, general purpose)\n",
    "* Describe machine learning as a service (MLaaS),\n",
    "    * ML tools offerred as services from cloud computing providers; ML easier/more accessible via software on same cloud servers where data is stored\n",
    "* Summarize mathematical tools used in data science,\n",
    "    * algebra, calculus, statistics\n",
    "* Describe descriptive methods,\n",
    "    * mean, median, mode, central tendency, variance\n",
    "* Describe predictive and prescriptive models,\n",
    "    * predictive - predict what will happen based on known variables (correlation); classification methods (KNN), decision trees, neural networks, regression analysis\n",
    "    * prescriptive - find cause and effect relationships (causation)\n",
    "* Describe trend analysis methods,\n",
    "    * time series analysis - looks for trends in data over time\n",
    "* Describe cluster analysis methods,\n",
    "    * opposite classification -- groupings unknown, attempt to determine if object belongs to any groups, and if so, how many groups exist\n",
    "* Describe classification methods,\n",
    "    * classify items based on various conditions (e.g. KNN classification); identify unknown object among known groups\n",
    "* Describe anomaly detection methods,\n",
    "    * regression, neural networks -- finding outliers\n",
    "* Describe dimensionality reduction and feature selection,\n",
    "    * reduction -- PCA + FA (factor analysis)\n",
    "* Describe tools for delivering actionable insights to human decision-makers, and\n",
    "    * tableau\n",
    "* Describe machine learning and artificial intelligence.\n",
    "    * continual learning based on initial train/test set via constant data pull\n",
    "    * AI - algorithms that learn from data"
   ]
  },
  {
   "cell_type": "markdown",
   "id": "a57adc30-753d-4611-a780-74cfe9d8db37",
   "metadata": {},
   "source": [
    "# Lesson 3: Organizational Needs"
   ]
  },
  {
   "cell_type": "markdown",
   "id": "054517aa-408d-4ed6-9e7d-b77fac62f54e",
   "metadata": {},
   "source": [
    "Learning Objectives\n",
    "\n",
    "* Identify the decisions necessary to initiate a data analytics project,\n",
    "* Delineate clear outcomes and undefined outcomes of potential data analytics projects,\n",
    "* Define clear metrics, deliverables, and value that a data analytics project will provide to an organization,\n",
    "* Compare data types and sources that organizations often have available,\n",
    "* Define specific research questions and hypotheses based on organizational needs and available data, and\n",
    "* Match available data types to the possible analytical approaches they enable."
   ]
  },
  {
   "cell_type": "markdown",
   "id": "7d898501-8ab8-4735-80c7-49a9e116badb",
   "metadata": {},
   "source": [
    "**stakeholder:** individual/group that has an interest in any decision/activity of an organization (e.g. manager, higher execs) -- often gets presented to  \n",
    "**project sponsor:** responsible for identifying project scope/topic + provide access to necessary data  \n",
    "**critical path activities:** tasks that must start + finish on time to ensure project ends on schedule -- MINIMUM time to complete dependent tasks  \n",
    "**iron triangle constraints** - cost, time, quality"
   ]
  },
  {
   "cell_type": "markdown",
   "id": "090b695c-530c-4376-b8da-b91f8d45d041",
   "metadata": {},
   "source": [
    "# Lesson 4: Ethical and Legal Issues"
   ]
  },
  {
   "cell_type": "markdown",
   "id": "3ef18953-8cbc-4b3f-b4ca-c419e4238cb3",
   "metadata": {},
   "source": [
    "Learning Objectives\n",
    "\n",
    "* Summarize the legal frameworks governing data,\n",
    "* Examine fairness issues raised by data analytics projects,\n",
    "* Examine justice issues raised by data analytics projects, and\n",
    "* Examine issues of human and computer agency."
   ]
  },
  {
   "cell_type": "markdown",
   "id": "88450898-5d0c-4387-8c97-a8ce69ece757",
   "metadata": {},
   "source": [
    "**Data privacy:** responsibly collect, use, and store data about people in line with regulations and laws  \n",
    "**Data ethics:** doing the right thing with data  \n",
    "**IRAC**\n",
    "* Issue - state legal issues to be discussed  \n",
    "* Rule - state relevant statutes/case laws  \n",
    "* Application - apply relevant rules  \n",
    "* Conclusion - state most likely conclusions  "
   ]
  },
  {
   "cell_type": "markdown",
   "id": "d18f9c88-f1e3-4190-81f9-bdf67b3b67f8",
   "metadata": {},
   "source": [
    "# Lesson 5: Project Planning/Teamwork and Collaboration"
   ]
  },
  {
   "cell_type": "markdown",
   "id": "60321377-c35c-49ce-8aab-3b12e7877f57",
   "metadata": {},
   "source": [
    "Learning Objectives\n",
    "\n",
    "* Define the roles of analysts in the workplace,\n",
    "* Define the roles of potential partners and stakeholders in data analytics projects,\n",
    "* Summarize the challenge of balancing resources, timelines, and quality in data analytics projects,\n",
    "* Explain the critical path and its relation to project timelines,\n",
    "    * time-critical -- could be the longest which delays project timeline\n",
    "* Estimate timelines for data analytics project deliverables,\n",
    "* Exemplify effective interpersonal communication, and\n",
    "* Describe co-creation approaches and tools."
   ]
  },
  {
   "cell_type": "markdown",
   "id": "4caad1b4-1102-435f-ab30-e38911ae4397",
   "metadata": {},
   "source": []
  }
 ],
 "metadata": {
  "kernelspec": {
   "display_name": "Python 3 (ipykernel)",
   "language": "python",
   "name": "python3"
  },
  "language_info": {
   "codemirror_mode": {
    "name": "ipython",
    "version": 3
   },
   "file_extension": ".py",
   "mimetype": "text/x-python",
   "name": "python",
   "nbconvert_exporter": "python",
   "pygments_lexer": "ipython3",
   "version": "3.11.7"
  }
 },
 "nbformat": 4,
 "nbformat_minor": 5
}
