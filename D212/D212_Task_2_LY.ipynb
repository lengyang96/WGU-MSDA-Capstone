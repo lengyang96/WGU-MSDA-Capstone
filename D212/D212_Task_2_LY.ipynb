{
 "cells": [
  {
   "cell_type": "markdown",
   "id": "49ea3961-79a2-4989-898d-686618087c4f",
   "metadata": {},
   "source": [
    "# D212: Data Mining II - Task 2\n",
    "***"
   ]
  },
  {
   "cell_type": "markdown",
   "id": "705242a5-58e1-416e-b5f1-08dd8311091c",
   "metadata": {
    "tags": []
   },
   "source": [
    "### By: Leng Yang\n",
    "### Student ID: 012298452\n",
    "### Date: October 6, 2024\n",
    "***\n",
    "<br>\n",
    "<br>\n",
    "<br>"
   ]
  },
  {
   "cell_type": "markdown",
   "id": "2c36dae8-93df-4293-b7b2-8e075205a6ab",
   "metadata": {
    "tags": []
   },
   "source": [
    "## Table of Contents\n",
    "* [A1. Proposal of Question](#A1)\n",
    "* [A2. Defined Goal](#A2)\n",
    "* [B1. Explanation of PCA](#B1)\n",
    "* [B2. PCA Assumption](#B2)\n",
    "* [C1. Continuous Data Set Variables](#C1)\n",
    "* [C2. Standardization of Data Set Variables](#C2)\n",
    "* [D1. Principal Components](#D1)\n",
    "* [D2. Identification of the Total Number of Components](#D2)\n",
    "* [D3. Variance of Each Component](#D3)\n",
    "* [D4. Total Variance Captured by Components](#D4)\n",
    "* [D5. Summary of Data Analysis](#D5)\n",
    "* [E. Sources for Third-Party Code](#E)\n",
    "* [F. Sources](#F)"
   ]
  },
  {
   "cell_type": "markdown",
   "id": "61042f26-3898-49a6-abe4-bda0253af217",
   "metadata": {},
   "source": [
    "<BR>"
   ]
  },
  {
   "cell_type": "markdown",
   "id": "bee50eae-0ffb-4510-bf8f-cfcdced0e769",
   "metadata": {},
   "source": [
    "<BR>"
   ]
  },
  {
   "cell_type": "markdown",
   "id": "20b9df50-2cd5-4d0a-8d5a-3fe76ce1abb2",
   "metadata": {},
   "source": [
    "<BR>"
   ]
  },
  {
   "cell_type": "markdown",
   "id": "1faa1268-1c90-4060-86e4-185e5388f000",
   "metadata": {},
   "source": [
    "<BR>"
   ]
  },
  {
   "cell_type": "markdown",
   "id": "3b0a079f-04f8-4df6-870f-e63d59143138",
   "metadata": {},
   "source": [
    "<BR>"
   ]
  },
  {
   "cell_type": "markdown",
   "id": "98ec136e-4b08-4a9c-bb8a-653cb0058b6e",
   "metadata": {},
   "source": [
    "<BR>"
   ]
  },
  {
   "cell_type": "markdown",
   "id": "0f1ea45d-e39b-45a9-aee1-3662d4b83876",
   "metadata": {},
   "source": [
    "<BR>"
   ]
  },
  {
   "cell_type": "markdown",
   "id": "cd6526b9-0917-49ba-8007-46aa8e8675db",
   "metadata": {
    "tags": []
   },
   "source": [
    "## A1. Proposal of Question <a class=\"anchor\" id=\"A1\"></a>"
   ]
  },
  {
   "cell_type": "markdown",
   "id": "e9a95d16-e930-4166-903b-caf7a4584d47",
   "metadata": {},
   "source": [
    "The research question of focus is: Can PCA reduce the dimensionality of the medical data set and thus determine the optimal number of principal components?"
   ]
  },
  {
   "cell_type": "markdown",
   "id": "eefc3226-d9c1-497a-bd1d-22dbe3873e2a",
   "metadata": {},
   "source": [
    "<BR>"
   ]
  },
  {
   "cell_type": "markdown",
   "id": "41cf42e6-5fa0-4ee5-b8f0-a32e583c8c8c",
   "metadata": {},
   "source": [
    "## A2. Defined Goal <a class=\"anchor\" id=\"A2\"></a>"
   ]
  },
  {
   "cell_type": "markdown",
   "id": "a2735441-4fd2-49a8-b0f1-c373db2d0649",
   "metadata": {},
   "source": [
    "This analysis aims to perform Principal Component Analysis (PCA) to reduce the dimensionality of the medical data set. This is relevant as the data set contains over 50 variables, and with so many variables, it would slow down data analysis processes by a considerable amount. Reducing the dimensionality tackles this problem by allowing faster computations during data modeling, thus reducing the time it takes to analyze data while limiting the amount of information lost during the data reduction. While PCA alone doesn't explicitly help to understand patient characteristics, the technique allows for data extraction while minimizing information loss. This extraction could then be used for further data analysis."
   ]
  },
  {
   "cell_type": "markdown",
   "id": "6b65e1d8-2a13-4797-8fa4-f54e0f75eb7d",
   "metadata": {},
   "source": [
    "<BR>"
   ]
  },
  {
   "cell_type": "markdown",
   "id": "8fab6f20-7096-4fdc-808b-1db40d8d9234",
   "metadata": {},
   "source": [
    "## B1. Explanation of PCA <a class=\"anchor\" id=\"B1\"></a>"
   ]
  },
  {
   "cell_type": "markdown",
   "id": "243dce76-f9b0-441a-8ac6-ca4d3796104a",
   "metadata": {},
   "source": [
    "PCA is a method used to reduce the dimensionality of large data sets. The method transforms a large set of variables into a smaller set that still contains most information, minimizing information loss. The method takes the original variables of the data set and organizes them into new variables known as Principal Components or PCs. The number of PCs created matches the number of original variables used for PCA, with each PC containing some information from the original variables, namely as linear combinations of the original variables. Additionally, these PCs are created so that they are uncorrelated with each other, whereby the information contained in each works to maximize the variance of the data. The variance of the data is essential here, as the more significant the variance, the larger the information is captured (Principal Component Analysis (PCA) explained, n.d.).\n",
    "\n",
    "The expected outcome is to use PCA to reduce the dimensionality of the medical data set. After the PCs are created, using the Kaiser method, only the most essential PCs will be selected, thus further reducing the total number of features. The PCs could then be used for further analysis."
   ]
  },
  {
   "cell_type": "markdown",
   "id": "91a73a63-addc-4760-9820-b92217f016b3",
   "metadata": {},
   "source": [
    "<BR>"
   ]
  },
  {
   "cell_type": "markdown",
   "id": "c4a58119-9509-44a8-bc3e-823a0350a12c",
   "metadata": {},
   "source": [
    "## B2. PCA Assumption <a class=\"anchor\" id=\"B2\"></a>"
   ]
  },
  {
   "cell_type": "markdown",
   "id": "115fe3a7-f85d-4028-8be1-eb213aa4e2db",
   "metadata": {},
   "source": [
    "One assumption of PCA is that there is a linear relationship between all of the variables. These linear relationships represent an underlying assumption for PCA because the analysis works based on Pearson correlation coefficients (Principal components analysis (PCA) using SPSS statistics, n.d.)."
   ]
  },
  {
   "cell_type": "markdown",
   "id": "7db07a2d-3a10-4de9-81ba-b53f9c72ded0",
   "metadata": {},
   "source": [
    "<BR>"
   ]
  },
  {
   "cell_type": "markdown",
   "id": "12f950fe-70d8-4dd3-a619-41493f7caae1",
   "metadata": {},
   "source": [
    "## C1. Continuous Data Set Variables <a class=\"anchor\" id=\"C1\"></a>"
   ]
  },
  {
   "cell_type": "markdown",
   "id": "839de624-e277-4e44-91a4-7a89ebb6a1ac",
   "metadata": {},
   "source": [
    "The continuous variables from the data set to be used for analysis are listed below.\n",
    "* Latitude\n",
    "* Longitude\n",
    "* Income\n",
    "* Vitamin D levels\n",
    "* Initial days\n",
    "* Total charges\n",
    "* Additional charges"
   ]
  },
  {
   "cell_type": "markdown",
   "id": "38a88b19-ec36-4120-8562-948388d09626",
   "metadata": {},
   "source": [
    "<BR>"
   ]
  },
  {
   "cell_type": "markdown",
   "id": "19f84399-a412-476b-947d-6d2144219c9a",
   "metadata": {},
   "source": [
    "## C2. Standardization of Data Set Variables <a class=\"anchor\" id=\"C2\"></a>"
   ]
  },
  {
   "cell_type": "markdown",
   "id": "d701e288-1d71-4e8e-8ff2-9142c50be1ec",
   "metadata": {},
   "source": [
    "The cleaned and prepared data set is attached as \"D212_Task2_Data.csv.\""
   ]
  },
  {
   "cell_type": "code",
   "execution_count": 11,
   "id": "c2bde69d-fa49-4faa-9157-3c0bf0e18af6",
   "metadata": {
    "tags": []
   },
   "outputs": [],
   "source": [
    "#Load in necessary libraries and packages\n",
    "import pandas as pd\n",
    "import numpy as np\n",
    "import matplotlib.pyplot as plt\n",
    "import seaborn as sns\n",
    "from sklearn.preprocessing import StandardScaler\n",
    "from sklearn.decomposition import PCA\n",
    "\n",
    "import warnings\n",
    "warnings.filterwarnings('ignore')\n",
    "\n",
    "pd.set_option('display.max_columns', None)"
   ]
  },
  {
   "cell_type": "code",
   "execution_count": 13,
   "id": "ff26c7b0-b6d1-4d16-adb3-f932c42d4ccb",
   "metadata": {
    "tags": []
   },
   "outputs": [],
   "source": [
    "df = pd.read_csv('medical_clean.csv')\n",
    "\n",
    "# Standardize column names using snake_case and re-express names for comprehensiveness\n",
    "col_names = ['case_order', 'customer_id', 'interaction', 'uid', 'city', 'state', 'county', 'zip', 'latitude', 'longitude',\n",
    "             'population', 'area', 'timezone', 'job', 'children', 'age', 'income', 'marital', 'gender', 'readmission', \n",
    "             'vit_d_level', 'doc_visits', 'full_meals_eaten', 'vit_d_supp', 'soft_drink', 'initial_admin', 'high_blood', 'stroke', 'complication_risk', 'overweight',\n",
    "             'arthritis', 'diabetes', 'hyperlipidemia', 'back_pain', 'anxiety', 'allergic_rhinitis', 'reflux_esophagitis', 'asthma', 'services', 'initial_days', \n",
    "             'total_charge', 'additional_charges', 'item_1', 'item_2', 'item_3', 'item_4', 'item_5', 'item_6', 'item_7', 'item_8']\n",
    "df.columns = col_names\n",
    "\n",
    "#Select interested variables and standardize values\n",
    "cnt_df = df[['latitude','longitude','income','vit_d_level','initial_days','total_charge','additional_charges']]\n",
    "\n",
    "scaler = StandardScaler()\n",
    "scaled_df = pd.DataFrame(scaler.fit_transform(cnt_df), columns=cnt_df.columns)\n",
    "\n",
    "#Generate csv file of prepared data set\n",
    "scaled_df.to_csv('D212_Task2_Data.csv', index=False)"
   ]
  },
  {
   "cell_type": "markdown",
   "id": "5a03c8ad-5fe9-41c7-922f-1cf20777cc55",
   "metadata": {},
   "source": [
    "<BR>"
   ]
  },
  {
   "cell_type": "markdown",
   "id": "59235def-fc95-4de7-8fdf-c1d1b5ed91ac",
   "metadata": {},
   "source": [
    "## D1. Principal Components <a class=\"anchor\" id=\"D1\"></a>"
   ]
  },
  {
   "cell_type": "markdown",
   "id": "b6062142-3dd1-439c-ba6a-36df362b46ea",
   "metadata": {},
   "source": [
    "The loading matrix of all the principal components is seen below."
   ]
  },
  {
   "cell_type": "code",
   "execution_count": 15,
   "id": "6cc56d8a-820e-4475-9120-db4e70031e9a",
   "metadata": {
    "tags": []
   },
   "outputs": [
    {
     "data": {
      "text/html": [
       "<div>\n",
       "<style scoped>\n",
       "    .dataframe tbody tr th:only-of-type {\n",
       "        vertical-align: middle;\n",
       "    }\n",
       "\n",
       "    .dataframe tbody tr th {\n",
       "        vertical-align: top;\n",
       "    }\n",
       "\n",
       "    .dataframe thead th {\n",
       "        text-align: right;\n",
       "    }\n",
       "</style>\n",
       "<table border=\"1\" class=\"dataframe\">\n",
       "  <thead>\n",
       "    <tr style=\"text-align: right;\">\n",
       "      <th></th>\n",
       "      <th>PC1</th>\n",
       "      <th>PC2</th>\n",
       "      <th>PC3</th>\n",
       "      <th>PC4</th>\n",
       "      <th>PC5</th>\n",
       "      <th>PC6</th>\n",
       "      <th>PC7</th>\n",
       "    </tr>\n",
       "  </thead>\n",
       "  <tbody>\n",
       "    <tr>\n",
       "      <th>latitude</th>\n",
       "      <td>-0.012385</td>\n",
       "      <td>0.707635</td>\n",
       "      <td>0.012997</td>\n",
       "      <td>-0.008349</td>\n",
       "      <td>-0.093509</td>\n",
       "      <td>0.700082</td>\n",
       "      <td>0.001355</td>\n",
       "    </tr>\n",
       "    <tr>\n",
       "      <th>longitude</th>\n",
       "      <td>-0.011393</td>\n",
       "      <td>-0.698869</td>\n",
       "      <td>-0.109214</td>\n",
       "      <td>-0.088224</td>\n",
       "      <td>-0.112635</td>\n",
       "      <td>0.692138</td>\n",
       "      <td>-0.000174</td>\n",
       "    </tr>\n",
       "    <tr>\n",
       "      <th>income</th>\n",
       "      <td>-0.019039</td>\n",
       "      <td>-0.086107</td>\n",
       "      <td>0.621626</td>\n",
       "      <td>0.392351</td>\n",
       "      <td>0.651181</td>\n",
       "      <td>0.166813</td>\n",
       "      <td>0.001180</td>\n",
       "    </tr>\n",
       "    <tr>\n",
       "      <th>vit_d_level</th>\n",
       "      <td>-0.003094</td>\n",
       "      <td>0.058388</td>\n",
       "      <td>-0.576982</td>\n",
       "      <td>-0.328228</td>\n",
       "      <td>0.744122</td>\n",
       "      <td>0.047118</td>\n",
       "      <td>-0.001440</td>\n",
       "    </tr>\n",
       "    <tr>\n",
       "      <th>initial_days</th>\n",
       "      <td>0.706503</td>\n",
       "      <td>0.000265</td>\n",
       "      <td>0.022866</td>\n",
       "      <td>-0.020951</td>\n",
       "      <td>0.009143</td>\n",
       "      <td>0.014145</td>\n",
       "      <td>-0.706830</td>\n",
       "    </tr>\n",
       "    <tr>\n",
       "      <th>total_charge</th>\n",
       "      <td>0.706831</td>\n",
       "      <td>-0.001082</td>\n",
       "      <td>0.007592</td>\n",
       "      <td>-0.000811</td>\n",
       "      <td>0.009079</td>\n",
       "      <td>0.013292</td>\n",
       "      <td>0.707157</td>\n",
       "    </tr>\n",
       "    <tr>\n",
       "      <th>additional_charges</th>\n",
       "      <td>0.024252</td>\n",
       "      <td>-0.003272</td>\n",
       "      <td>-0.517683</td>\n",
       "      <td>0.854420</td>\n",
       "      <td>-0.025478</td>\n",
       "      <td>0.020168</td>\n",
       "      <td>-0.017759</td>\n",
       "    </tr>\n",
       "  </tbody>\n",
       "</table>\n",
       "</div>"
      ],
      "text/plain": [
       "                         PC1       PC2       PC3       PC4       PC5  \\\n",
       "latitude           -0.012385  0.707635  0.012997 -0.008349 -0.093509   \n",
       "longitude          -0.011393 -0.698869 -0.109214 -0.088224 -0.112635   \n",
       "income             -0.019039 -0.086107  0.621626  0.392351  0.651181   \n",
       "vit_d_level        -0.003094  0.058388 -0.576982 -0.328228  0.744122   \n",
       "initial_days        0.706503  0.000265  0.022866 -0.020951  0.009143   \n",
       "total_charge        0.706831 -0.001082  0.007592 -0.000811  0.009079   \n",
       "additional_charges  0.024252 -0.003272 -0.517683  0.854420 -0.025478   \n",
       "\n",
       "                         PC6       PC7  \n",
       "latitude            0.700082  0.001355  \n",
       "longitude           0.692138 -0.000174  \n",
       "income              0.166813  0.001180  \n",
       "vit_d_level         0.047118 -0.001440  \n",
       "initial_days        0.014145 -0.706830  \n",
       "total_charge        0.013292  0.707157  \n",
       "additional_charges  0.020168 -0.017759  "
      ]
     },
     "execution_count": 15,
     "metadata": {},
     "output_type": "execute_result"
    }
   ],
   "source": [
    "#Instantiate and fit and transform PCA model\n",
    "model = PCA(n_components=scaled_df.shape[1], random_state=42)\n",
    "model.fit_transform(scaled_df)\n",
    "\n",
    "matrix = pd.DataFrame(model.components_.T, columns=['PC1','PC2','PC3','PC4','PC5','PC6','PC7'], index=scaled_df.columns)\n",
    "matrix"
   ]
  },
  {
   "cell_type": "markdown",
   "id": "4171c37d-963b-4fd5-af5d-fb67bc6ecab1",
   "metadata": {},
   "source": [
    "<BR>"
   ]
  },
  {
   "cell_type": "markdown",
   "id": "54223339-7588-4491-85e9-cfdc4f302b18",
   "metadata": {},
   "source": [
    "## D2. Identification of the Total Number of Components <a class=\"anchor\" id=\"D2\"></a>"
   ]
  },
  {
   "cell_type": "markdown",
   "id": "37d3fcb5-7a3c-4c66-a933-9cb87f265144",
   "metadata": {},
   "source": [
    "The eigenvalues are extracted from the model's `explained_variance_` attribute and visualized in a scree plot. Using the Kaiser rule, PCs with eigenvalues greater than one are kept, and anything below is dropped. From the visualization and the list of eigenvalues, the first 3 PCs are kept as they contain eigenvalues of greater than one."
   ]
  },
  {
   "cell_type": "code",
   "execution_count": 24,
   "id": "2c948d11-d0d9-4dbe-b7de-1c2a8d3c7970",
   "metadata": {
    "tags": []
   },
   "outputs": [
    {
     "data": {
      "image/png": "[encoded data removed]",
      "text/plain": [
       "<Figure size 640x480 with 1 Axes>"
      ]
     },
     "metadata": {},
     "output_type": "display_data"
    }
   ],
   "source": [
    "# Extract eigenvalues\n",
    "eigenvalues =  pd.Series(model.explained_variance_, index=range(1,8))\n",
    "\n",
    "# Create scree plot with reference line at eigenvalue = 1 to determine PCs based on Kaiser Rule\n",
    "plt.plot(eigenvalues, marker='o')\n",
    "plt.xlabel('Number of Components')\n",
    "plt.ylabel('Eigenvalue')\n",
    "plt.axhline(y=1, color='r')\n",
    "plt.show();"
   ]
  },
  {
   "cell_type": "code",
   "execution_count": 26,
   "id": "a1cf572c-4dfe-46ae-918c-40d04e7ff70d",
   "metadata": {
    "tags": []
   },
   "outputs": [
    {
     "data": {
      "text/plain": [
       "1    1.989107\n",
       "2    1.113571\n",
       "3    1.020590\n",
       "4    0.992281\n",
       "5    0.989056\n",
       "6    0.884053\n",
       "7    0.012043\n",
       "dtype: float64"
      ]
     },
     "execution_count": 26,
     "metadata": {},
     "output_type": "execute_result"
    }
   ],
   "source": [
    "# Print eigenvalues to determine cutoff\n",
    "eigenvalues"
   ]
  },
  {
   "cell_type": "markdown",
   "id": "99ddee4d-0fbb-42a7-b220-eef10da2e3ee",
   "metadata": {},
   "source": [
    "<BR>"
   ]
  },
  {
   "cell_type": "markdown",
   "id": "c277700a-cb7d-4ec1-9dd2-b749a455c4c0",
   "metadata": {},
   "source": [
    "## D3. Variance of Each Component <a class=\"anchor\" id=\"D3\"></a>"
   ]
  },
  {
   "cell_type": "markdown",
   "id": "a54ecd3a-ede6-4231-8974-03937e6a1a85",
   "metadata": {},
   "source": [
    "Listed are the variance and variance ratios of the significant principal components. The variance ratios are expressed in percentages, such as for PC1, which captures the most variance at 28.41%."
   ]
  },
  {
   "cell_type": "code",
   "execution_count": 28,
   "id": "765c3af9-aea3-41fd-8b74-6ab799e9f253",
   "metadata": {
    "tags": []
   },
   "outputs": [
    {
     "data": {
      "text/plain": [
       "PC1    1.989107\n",
       "PC2    1.113571\n",
       "PC3    1.020590\n",
       "dtype: float64"
      ]
     },
     "execution_count": 28,
     "metadata": {},
     "output_type": "execute_result"
    }
   ],
   "source": [
    "pd.Series(model.explained_variance_[:3], index=['PC1','PC2','PC3'])"
   ]
  },
  {
   "cell_type": "code",
   "execution_count": 30,
   "id": "14af8a53-3bc8-4bd0-80e6-d3f1b7165e42",
   "metadata": {
    "tags": []
   },
   "outputs": [
    {
     "data": {
      "text/plain": [
       "PC1    28.412968\n",
       "PC2    15.906567\n",
       "PC3    14.578394\n",
       "dtype: float64"
      ]
     },
     "execution_count": 30,
     "metadata": {},
     "output_type": "execute_result"
    }
   ],
   "source": [
    "var_ratio = pd.Series(model.explained_variance_ratio_[:3]*100, index=['PC1','PC2','PC3'])\n",
    "var_ratio"
   ]
  },
  {
   "cell_type": "markdown",
   "id": "4e56eaae-feab-44bd-b078-840b44d908a9",
   "metadata": {},
   "source": [
    "<BR>"
   ]
  },
  {
   "cell_type": "markdown",
   "id": "28dc8242-394e-4ca1-9054-b7814ee06477",
   "metadata": {},
   "source": [
    "## D4. Total Variance Captured by Components <a class=\"anchor\" id=\"D4\"></a>"
   ]
  },
  {
   "cell_type": "markdown",
   "id": "269dd673-c15e-4a46-b085-d5233c26b9be",
   "metadata": {},
   "source": [
    "The total variance captured by the first 3 principal components is 58.89%."
   ]
  },
  {
   "cell_type": "code",
   "execution_count": 33,
   "id": "c3ad5bb1-8379-4c03-be40-1c7db41781c2",
   "metadata": {
    "tags": []
   },
   "outputs": [
    {
     "data": {
      "text/plain": [
       "58.89792932999445"
      ]
     },
     "execution_count": 33,
     "metadata": {},
     "output_type": "execute_result"
    }
   ],
   "source": [
    "var_ratio.values.sum()"
   ]
  },
  {
   "cell_type": "markdown",
   "id": "b6ebf9f5-726b-4865-bc5f-70c16325e804",
   "metadata": {},
   "source": [
    "<BR>"
   ]
  },
  {
   "cell_type": "markdown",
   "id": "ed12f609-eb79-4898-ae6b-1a574070e1ae",
   "metadata": {},
   "source": [
    "## D5. Summary of Data Analysis <a class=\"anchor\" id=\"D5\"></a>"
   ]
  },
  {
   "cell_type": "markdown",
   "id": "30120d09-aa8e-405a-94c3-dc646a579d77",
   "metadata": {},
   "source": [
    "The analysis used Principal Component Analysis to reduce the dimensionality of the medical data set. The data set originally contained nine continuous variables used for the analysis. A loading matrix was used to determine each original variable's weights on the principal components.\n",
    "\n",
    "The Kaiser rule was used to determine the more significant principal components, which only kept principal components with eigenvalues of greater than one. The rule was enacted on a scree plot of the eigenvalues and principal components. In the end, the first three principal components were kept. These principal components account for 58.89% of the explained variance of the original data set. These principal components can be used for further data analysis processes such as data modeling."
   ]
  },
  {
   "cell_type": "markdown",
   "id": "06dfd57f-d3ef-4a03-83c9-2d58863359d7",
   "metadata": {},
   "source": [
    "<BR>"
   ]
  },
  {
   "cell_type": "markdown",
   "id": "23aa9557-cfcd-4668-82ea-7762135b693d",
   "metadata": {},
   "source": [
    "## E. Sources for Third-Party Code <a class=\"anchor\" id=\"E\"></a>"
   ]
  },
  {
   "cell_type": "markdown",
   "id": "438d0db1-5bbf-4d9b-aa8d-9626bf25843f",
   "metadata": {},
   "source": [
    "No sources of third-party code were used."
   ]
  },
  {
   "cell_type": "markdown",
   "id": "a394ef80-3bc2-4797-a1c5-43616ce49724",
   "metadata": {},
   "source": [
    "<BR>"
   ]
  },
  {
   "cell_type": "markdown",
   "id": "eb63ee48-0c96-4350-904f-8a84ac3106e0",
   "metadata": {},
   "source": [
    "## F. Sources <a class=\"anchor\" id=\"F\"></a>"
   ]
  },
  {
   "cell_type": "markdown",
   "id": "6756e848-26c2-424a-843f-5a13086ad354",
   "metadata": {},
   "source": [
    "_Principal Component Analysis (PCA) explained_. Built In. (n.d.). https://builtin.com/data-science/step-step-explanation-principal-component-analysis \n",
    "\n",
    "_Principal components analysis (PCA) using SPSS statistics_. How to perform a principal components analysis (PCA) in SPSS Statistics | Laerd Statistics. (n.d.). https://statistics.laerd.com/spss-tutorials/principal-components-analysis-pca-using-spss-statistics.php "
   ]
  }
 ],
 "metadata": {
  "kernelspec": {
   "display_name": "Python 3 (ipykernel)",
   "language": "python",
   "name": "python3"
  },
  "language_info": {
   "codemirror_mode": {
    "name": "ipython",
    "version": 3
   },
   "file_extension": ".py",
   "mimetype": "text/x-python",
   "name": "python",
   "nbconvert_exporter": "python",
   "pygments_lexer": "ipython3",
   "version": "3.11.9"
  }
 },
 "nbformat": 4,
 "nbformat_minor": 5
}
