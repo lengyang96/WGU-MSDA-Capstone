{
 "cells": [
  {
   "cell_type": "markdown",
   "id": "49ea3961-79a2-4989-898d-686618087c4f",
   "metadata": {},
   "source": [
    "# D212: Data Mining II - Task 3\n",
    "***"
   ]
  },
  {
   "cell_type": "markdown",
   "id": "705242a5-58e1-416e-b5f1-08dd8311091c",
   "metadata": {
    "tags": []
   },
   "source": [
    "### By: Leng Yang\n",
    "### Student ID: 012298452\n",
    "### Date: October 8, 2024\n",
    "***\n",
    "<br>\n",
    "<br>\n",
    "<br>"
   ]
  },
  {
   "cell_type": "markdown",
   "id": "2c36dae8-93df-4293-b7b2-8e075205a6ab",
   "metadata": {
    "tags": []
   },
   "source": [
    "## Table of Contents\n",
    "* [A1. Proposal of Question](#A1)\n",
    "* [A2. Defined Goal](#A2)\n",
    "* [B1. Explanation of Market Basket](#B1)\n",
    "* [B2. Transaction Example](#B2)\n",
    "* [B3. Market Basket Assumption](#B3)\n",
    "* [C1. Transforming the Data Set](#C1)\n",
    "* [C2. Code Execution](#C2)\n",
    "* [C3. Association Rules Table](#C3)\n",
    "* [C4. Top Three Rules](#C4)\n",
    "* [D1. Significance of Support, Lift, and Confidence Summary](#D1)\n",
    "* [D2. Practical Significance of Findings](#D2)\n",
    "* [D3. Course of Action](#D3)\n",
    "* [E - E1. Panopto Video of Code/Programs](#E)\n",
    "* [F. Sources for Third-Party Code](#F)\n",
    "* [G. Sources](#G)"
   ]
  },
  {
   "cell_type": "markdown",
   "id": "61042f26-3898-49a6-abe4-bda0253af217",
   "metadata": {},
   "source": [
    "<BR>"
   ]
  },
  {
   "cell_type": "markdown",
   "id": "423f4575-6ffd-4086-9c5a-ea3f65cb6a70",
   "metadata": {},
   "source": [
    "<BR>"
   ]
  },
  {
   "cell_type": "markdown",
   "id": "82824900-3e51-4a20-8239-124c3ae8908c",
   "metadata": {},
   "source": [
    "<BR>"
   ]
  },
  {
   "cell_type": "markdown",
   "id": "b0622df5-e0ec-42f6-bc14-2f9f80021837",
   "metadata": {},
   "source": [
    "<BR>"
   ]
  },
  {
   "cell_type": "markdown",
   "id": "2f66ebab-c6d5-485a-9b3c-7ea3aabe975f",
   "metadata": {},
   "source": [
    "<BR>"
   ]
  },
  {
   "cell_type": "markdown",
   "id": "66a67659-7d40-4797-86b8-edf895850884",
   "metadata": {},
   "source": [
    "<BR>"
   ]
  },
  {
   "cell_type": "markdown",
   "id": "cd6526b9-0917-49ba-8007-46aa8e8675db",
   "metadata": {
    "tags": []
   },
   "source": [
    "## A1. Proposal of Question <a class=\"anchor\" id=\"A1\"></a>"
   ]
  },
  {
   "cell_type": "markdown",
   "id": "e9a95d16-e930-4166-903b-caf7a4584d47",
   "metadata": {},
   "source": [
    "The research question of focus is: Can market basket analysis (MBA) be used to identify typical prescriptions associated with patients?"
   ]
  },
  {
   "cell_type": "markdown",
   "id": "eefc3226-d9c1-497a-bd1d-22dbe3873e2a",
   "metadata": {},
   "source": [
    "<BR>"
   ]
  },
  {
   "cell_type": "markdown",
   "id": "41cf42e6-5fa0-4ee5-b8f0-a32e583c8c8c",
   "metadata": {},
   "source": [
    "## A2. Defined Goal <a class=\"anchor\" id=\"A2\"></a>"
   ]
  },
  {
   "cell_type": "markdown",
   "id": "a2735441-4fd2-49a8-b0f1-c373db2d0649",
   "metadata": {},
   "source": [
    "This analysis aims to utilize market basket analysis to identify medications that are typically prescribed together. The analysis can be used with the data set since it contains transaction data of patient prescriptions. By looking at which medications are frequently prescribed together, we can understand the underlying reasons for those prescriptions."
   ]
  },
  {
   "cell_type": "markdown",
   "id": "6b65e1d8-2a13-4797-8fa4-f54e0f75eb7d",
   "metadata": {},
   "source": [
    "<BR>"
   ]
  },
  {
   "cell_type": "markdown",
   "id": "8fab6f20-7096-4fdc-808b-1db40d8d9234",
   "metadata": {},
   "source": [
    "## B1. Explanation of Market Basket <a class=\"anchor\" id=\"B1\"></a>"
   ]
  },
  {
   "cell_type": "markdown",
   "id": "243dce76-f9b0-441a-8ac6-ca4d3796104a",
   "metadata": {},
   "source": [
    "Market basket analysis is a technique used to analyze transaction data, which determines products frequently bought together. The underlying mechanism works by looking at the items within transactions, or the \"basket,\" and defining rules based on how often certain items are purchased together, resulting in what is known as \"association rules.\" Several statistical measures are also calculated to determine the association rules' usefulness.\n",
    "\n",
    "The expected outcome of this analysis is to determine the top three association rules. These rules will identify which medications are frequently prescribed together."
   ]
  },
  {
   "cell_type": "markdown",
   "id": "91a73a63-addc-4760-9820-b92217f016b3",
   "metadata": {},
   "source": [
    "<BR>"
   ]
  },
  {
   "cell_type": "markdown",
   "id": "c4a58119-9509-44a8-bc3e-823a0350a12c",
   "metadata": {},
   "source": [
    "## B2. Transaction Example <a class=\"anchor\" id=\"B2\"></a>"
   ]
  },
  {
   "cell_type": "markdown",
   "id": "115fe3a7-f85d-4028-8be1-eb213aa4e2db",
   "metadata": {},
   "source": [
    "An example of a transaction from the data set is of a patient with a prescription history with three medications: citalopram, benicar, and amphetamine salt combo xr."
   ]
  },
  {
   "cell_type": "markdown",
   "id": "a0427e4f-5dcf-447c-98d7-7189a52b37a6",
   "metadata": {},
   "source": [
    "<BR>"
   ]
  },
  {
   "cell_type": "markdown",
   "id": "f39158d6-e666-4d38-a297-240f7fa90af3",
   "metadata": {},
   "source": [
    "## B3. Market Basket Assumption <a class=\"anchor\" id=\"B3\"></a>"
   ]
  },
  {
   "cell_type": "markdown",
   "id": "c25d4f12-329f-43cc-b42c-98094e0f1577",
   "metadata": {},
   "source": [
    "One assumption of market basket analysis is that the items in the basket appear to do so in a joint occurrence whereby they complement each other within a transaction. That is to say, purchasing one item will lead to purchasing other items (Tian, 2015)."
   ]
  },
  {
   "cell_type": "markdown",
   "id": "7db07a2d-3a10-4de9-81ba-b53f9c72ded0",
   "metadata": {},
   "source": [
    "<BR>"
   ]
  },
  {
   "cell_type": "markdown",
   "id": "12f950fe-70d8-4dd3-a619-41493f7caae1",
   "metadata": {},
   "source": [
    "## C1. Transforming the Data Set <a class=\"anchor\" id=\"C1\"></a>"
   ]
  },
  {
   "cell_type": "markdown",
   "id": "839de624-e277-4e44-91a4-7a89ebb6a1ac",
   "metadata": {},
   "source": [
    "The cleaned data set is submitted alongside the report as \"D212_Task3_Data.csv.\""
   ]
  },
  {
   "cell_type": "code",
   "execution_count": 28,
   "id": "57a7f4ac-5c3d-4083-90a6-5c7e5b4ef9a6",
   "metadata": {
    "tags": []
   },
   "outputs": [],
   "source": [
    "#Import necessary libraries\n",
    "import pandas as pd\n",
    "import numpy as np\n",
    "from mlxtend.preprocessing import TransactionEncoder\n",
    "from mlxtend.frequent_patterns import apriori, association_rules\n",
    "\n",
    "import warnings\n",
    "warnings.filterwarnings('ignore')"
   ]
  },
  {
   "cell_type": "code",
   "execution_count": 29,
   "id": "7f92997d-a6b9-40aa-baab-0ebd0db11522",
   "metadata": {
    "tags": []
   },
   "outputs": [
    {
     "data": {
      "text/html": [
       "<div>\n",
       "<style scoped>\n",
       "    .dataframe tbody tr th:only-of-type {\n",
       "        vertical-align: middle;\n",
       "    }\n",
       "\n",
       "    .dataframe tbody tr th {\n",
       "        vertical-align: top;\n",
       "    }\n",
       "\n",
       "    .dataframe thead th {\n",
       "        text-align: right;\n",
       "    }\n",
       "</style>\n",
       "<table border=\"1\" class=\"dataframe\">\n",
       "  <thead>\n",
       "    <tr style=\"text-align: right;\">\n",
       "      <th></th>\n",
       "      <th>Presc01</th>\n",
       "      <th>Presc02</th>\n",
       "      <th>Presc03</th>\n",
       "      <th>Presc04</th>\n",
       "      <th>Presc05</th>\n",
       "      <th>Presc06</th>\n",
       "      <th>Presc07</th>\n",
       "      <th>Presc08</th>\n",
       "      <th>Presc09</th>\n",
       "      <th>Presc10</th>\n",
       "      <th>Presc11</th>\n",
       "      <th>Presc12</th>\n",
       "      <th>Presc13</th>\n",
       "      <th>Presc14</th>\n",
       "      <th>Presc15</th>\n",
       "      <th>Presc16</th>\n",
       "      <th>Presc17</th>\n",
       "      <th>Presc18</th>\n",
       "      <th>Presc19</th>\n",
       "      <th>Presc20</th>\n",
       "    </tr>\n",
       "  </thead>\n",
       "  <tbody>\n",
       "    <tr>\n",
       "      <th>0</th>\n",
       "      <td>amlodipine</td>\n",
       "      <td>albuterol aerosol</td>\n",
       "      <td>allopurinol</td>\n",
       "      <td>pantoprazole</td>\n",
       "      <td>lorazepam</td>\n",
       "      <td>omeprazole</td>\n",
       "      <td>mometasone</td>\n",
       "      <td>fluconozole</td>\n",
       "      <td>gabapentin</td>\n",
       "      <td>pravastatin</td>\n",
       "      <td>cialis</td>\n",
       "      <td>losartan</td>\n",
       "      <td>metoprolol succinate XL</td>\n",
       "      <td>sulfamethoxazole</td>\n",
       "      <td>abilify</td>\n",
       "      <td>spironolactone</td>\n",
       "      <td>albuterol HFA</td>\n",
       "      <td>levofloxacin</td>\n",
       "      <td>promethazine</td>\n",
       "      <td>glipizide</td>\n",
       "    </tr>\n",
       "    <tr>\n",
       "      <th>1</th>\n",
       "      <td>citalopram</td>\n",
       "      <td>benicar</td>\n",
       "      <td>amphetamine salt combo xr</td>\n",
       "      <td>NaN</td>\n",
       "      <td>NaN</td>\n",
       "      <td>NaN</td>\n",
       "      <td>NaN</td>\n",
       "      <td>NaN</td>\n",
       "      <td>NaN</td>\n",
       "      <td>NaN</td>\n",
       "      <td>NaN</td>\n",
       "      <td>NaN</td>\n",
       "      <td>NaN</td>\n",
       "      <td>NaN</td>\n",
       "      <td>NaN</td>\n",
       "      <td>NaN</td>\n",
       "      <td>NaN</td>\n",
       "      <td>NaN</td>\n",
       "      <td>NaN</td>\n",
       "      <td>NaN</td>\n",
       "    </tr>\n",
       "    <tr>\n",
       "      <th>2</th>\n",
       "      <td>enalapril</td>\n",
       "      <td>NaN</td>\n",
       "      <td>NaN</td>\n",
       "      <td>NaN</td>\n",
       "      <td>NaN</td>\n",
       "      <td>NaN</td>\n",
       "      <td>NaN</td>\n",
       "      <td>NaN</td>\n",
       "      <td>NaN</td>\n",
       "      <td>NaN</td>\n",
       "      <td>NaN</td>\n",
       "      <td>NaN</td>\n",
       "      <td>NaN</td>\n",
       "      <td>NaN</td>\n",
       "      <td>NaN</td>\n",
       "      <td>NaN</td>\n",
       "      <td>NaN</td>\n",
       "      <td>NaN</td>\n",
       "      <td>NaN</td>\n",
       "      <td>NaN</td>\n",
       "    </tr>\n",
       "    <tr>\n",
       "      <th>3</th>\n",
       "      <td>paroxetine</td>\n",
       "      <td>allopurinol</td>\n",
       "      <td>NaN</td>\n",
       "      <td>NaN</td>\n",
       "      <td>NaN</td>\n",
       "      <td>NaN</td>\n",
       "      <td>NaN</td>\n",
       "      <td>NaN</td>\n",
       "      <td>NaN</td>\n",
       "      <td>NaN</td>\n",
       "      <td>NaN</td>\n",
       "      <td>NaN</td>\n",
       "      <td>NaN</td>\n",
       "      <td>NaN</td>\n",
       "      <td>NaN</td>\n",
       "      <td>NaN</td>\n",
       "      <td>NaN</td>\n",
       "      <td>NaN</td>\n",
       "      <td>NaN</td>\n",
       "      <td>NaN</td>\n",
       "    </tr>\n",
       "    <tr>\n",
       "      <th>4</th>\n",
       "      <td>abilify</td>\n",
       "      <td>atorvastatin</td>\n",
       "      <td>folic acid</td>\n",
       "      <td>naproxen</td>\n",
       "      <td>losartan</td>\n",
       "      <td>NaN</td>\n",
       "      <td>NaN</td>\n",
       "      <td>NaN</td>\n",
       "      <td>NaN</td>\n",
       "      <td>NaN</td>\n",
       "      <td>NaN</td>\n",
       "      <td>NaN</td>\n",
       "      <td>NaN</td>\n",
       "      <td>NaN</td>\n",
       "      <td>NaN</td>\n",
       "      <td>NaN</td>\n",
       "      <td>NaN</td>\n",
       "      <td>NaN</td>\n",
       "      <td>NaN</td>\n",
       "      <td>NaN</td>\n",
       "    </tr>\n",
       "  </tbody>\n",
       "</table>\n",
       "</div>"
      ],
      "text/plain": [
       "      Presc01            Presc02                    Presc03       Presc04  \\\n",
       "0  amlodipine  albuterol aerosol                allopurinol  pantoprazole   \n",
       "1  citalopram            benicar  amphetamine salt combo xr           NaN   \n",
       "2   enalapril                NaN                        NaN           NaN   \n",
       "3  paroxetine        allopurinol                        NaN           NaN   \n",
       "4     abilify       atorvastatin                 folic acid      naproxen   \n",
       "\n",
       "     Presc05     Presc06     Presc07      Presc08     Presc09      Presc10  \\\n",
       "0  lorazepam  omeprazole  mometasone  fluconozole  gabapentin  pravastatin   \n",
       "1        NaN         NaN         NaN          NaN         NaN          NaN   \n",
       "2        NaN         NaN         NaN          NaN         NaN          NaN   \n",
       "3        NaN         NaN         NaN          NaN         NaN          NaN   \n",
       "4   losartan         NaN         NaN          NaN         NaN          NaN   \n",
       "\n",
       "  Presc11   Presc12                  Presc13           Presc14  Presc15  \\\n",
       "0  cialis  losartan  metoprolol succinate XL  sulfamethoxazole  abilify   \n",
       "1     NaN       NaN                      NaN               NaN      NaN   \n",
       "2     NaN       NaN                      NaN               NaN      NaN   \n",
       "3     NaN       NaN                      NaN               NaN      NaN   \n",
       "4     NaN       NaN                      NaN               NaN      NaN   \n",
       "\n",
       "          Presc16        Presc17       Presc18       Presc19    Presc20  \n",
       "0  spironolactone  albuterol HFA  levofloxacin  promethazine  glipizide  \n",
       "1             NaN            NaN           NaN           NaN        NaN  \n",
       "2             NaN            NaN           NaN           NaN        NaN  \n",
       "3             NaN            NaN           NaN           NaN        NaN  \n",
       "4             NaN            NaN           NaN           NaN        NaN  "
      ]
     },
     "execution_count": 29,
     "metadata": {},
     "output_type": "execute_result"
    }
   ],
   "source": [
    "#Load in data and drop all rows containing only NaN values\n",
    "df = pd.read_csv('medical_market_basket.csv')\n",
    "df.dropna(axis=0, how='all', ignore_index=True, inplace=True)\n",
    "df.head()"
   ]
  },
  {
   "cell_type": "code",
   "execution_count": 30,
   "id": "7c71d8ba-31a3-4b48-9b42-4cb7467f6f65",
   "metadata": {
    "tags": []
   },
   "outputs": [],
   "source": [
    "#Create list of lists of items\n",
    "rows = []\n",
    "for i in range(0, 7501):\n",
    "    rows.append([str(df.values[i,j]) for j in range(0,20)])\n",
    "    \n",
    "#Instantiate encoder and fit and transform data and then place into dataframe, dropping column that contains NaN values\n",
    "encoder = TransactionEncoder()\n",
    "te = encoder.fit(rows).transform(rows)\n",
    "items = pd.DataFrame(te, columns=encoder.columns_)\n",
    "items.drop(columns='nan', inplace=True)"
   ]
  },
  {
   "cell_type": "code",
   "execution_count": 31,
   "id": "6bcc97a9-bfae-4528-aba0-2eb38256cb13",
   "metadata": {
    "tags": []
   },
   "outputs": [
    {
     "data": {
      "text/plain": [
       "(7501, 119)"
      ]
     },
     "execution_count": 31,
     "metadata": {},
     "output_type": "execute_result"
    }
   ],
   "source": [
    "#Check final shape of dataframe\n",
    "items.shape"
   ]
  },
  {
   "cell_type": "code",
   "execution_count": 32,
   "id": "33990765-a5c5-462a-8959-c56be3462ed2",
   "metadata": {
    "tags": []
   },
   "outputs": [
    {
     "data": {
      "text/html": [
       "<div>\n",
       "<style scoped>\n",
       "    .dataframe tbody tr th:only-of-type {\n",
       "        vertical-align: middle;\n",
       "    }\n",
       "\n",
       "    .dataframe tbody tr th {\n",
       "        vertical-align: top;\n",
       "    }\n",
       "\n",
       "    .dataframe thead th {\n",
       "        text-align: right;\n",
       "    }\n",
       "</style>\n",
       "<table border=\"1\" class=\"dataframe\">\n",
       "  <thead>\n",
       "    <tr style=\"text-align: right;\">\n",
       "      <th></th>\n",
       "      <th>Duloxetine</th>\n",
       "      <th>Premarin</th>\n",
       "      <th>Yaz</th>\n",
       "      <th>abilify</th>\n",
       "      <th>acetaminophen</th>\n",
       "      <th>actonel</th>\n",
       "      <th>albuterol HFA</th>\n",
       "      <th>albuterol aerosol</th>\n",
       "      <th>alendronate</th>\n",
       "      <th>allopurinol</th>\n",
       "      <th>...</th>\n",
       "      <th>trazodone HCI</th>\n",
       "      <th>triamcinolone Ace topical</th>\n",
       "      <th>triamterene</th>\n",
       "      <th>trimethoprim DS</th>\n",
       "      <th>valaciclovir</th>\n",
       "      <th>valsartan</th>\n",
       "      <th>venlafaxine XR</th>\n",
       "      <th>verapamil SR</th>\n",
       "      <th>viagra</th>\n",
       "      <th>zolpidem</th>\n",
       "    </tr>\n",
       "  </thead>\n",
       "  <tbody>\n",
       "    <tr>\n",
       "      <th>0</th>\n",
       "      <td>False</td>\n",
       "      <td>False</td>\n",
       "      <td>False</td>\n",
       "      <td>True</td>\n",
       "      <td>False</td>\n",
       "      <td>False</td>\n",
       "      <td>True</td>\n",
       "      <td>True</td>\n",
       "      <td>False</td>\n",
       "      <td>True</td>\n",
       "      <td>...</td>\n",
       "      <td>False</td>\n",
       "      <td>False</td>\n",
       "      <td>False</td>\n",
       "      <td>False</td>\n",
       "      <td>False</td>\n",
       "      <td>False</td>\n",
       "      <td>False</td>\n",
       "      <td>False</td>\n",
       "      <td>False</td>\n",
       "      <td>False</td>\n",
       "    </tr>\n",
       "    <tr>\n",
       "      <th>1</th>\n",
       "      <td>False</td>\n",
       "      <td>False</td>\n",
       "      <td>False</td>\n",
       "      <td>False</td>\n",
       "      <td>False</td>\n",
       "      <td>False</td>\n",
       "      <td>False</td>\n",
       "      <td>False</td>\n",
       "      <td>False</td>\n",
       "      <td>False</td>\n",
       "      <td>...</td>\n",
       "      <td>False</td>\n",
       "      <td>False</td>\n",
       "      <td>False</td>\n",
       "      <td>False</td>\n",
       "      <td>False</td>\n",
       "      <td>False</td>\n",
       "      <td>False</td>\n",
       "      <td>False</td>\n",
       "      <td>False</td>\n",
       "      <td>False</td>\n",
       "    </tr>\n",
       "    <tr>\n",
       "      <th>2</th>\n",
       "      <td>False</td>\n",
       "      <td>False</td>\n",
       "      <td>False</td>\n",
       "      <td>False</td>\n",
       "      <td>False</td>\n",
       "      <td>False</td>\n",
       "      <td>False</td>\n",
       "      <td>False</td>\n",
       "      <td>False</td>\n",
       "      <td>False</td>\n",
       "      <td>...</td>\n",
       "      <td>False</td>\n",
       "      <td>False</td>\n",
       "      <td>False</td>\n",
       "      <td>False</td>\n",
       "      <td>False</td>\n",
       "      <td>False</td>\n",
       "      <td>False</td>\n",
       "      <td>False</td>\n",
       "      <td>False</td>\n",
       "      <td>False</td>\n",
       "    </tr>\n",
       "    <tr>\n",
       "      <th>3</th>\n",
       "      <td>False</td>\n",
       "      <td>False</td>\n",
       "      <td>False</td>\n",
       "      <td>False</td>\n",
       "      <td>False</td>\n",
       "      <td>False</td>\n",
       "      <td>False</td>\n",
       "      <td>False</td>\n",
       "      <td>False</td>\n",
       "      <td>True</td>\n",
       "      <td>...</td>\n",
       "      <td>False</td>\n",
       "      <td>False</td>\n",
       "      <td>False</td>\n",
       "      <td>False</td>\n",
       "      <td>False</td>\n",
       "      <td>False</td>\n",
       "      <td>False</td>\n",
       "      <td>False</td>\n",
       "      <td>False</td>\n",
       "      <td>False</td>\n",
       "    </tr>\n",
       "    <tr>\n",
       "      <th>4</th>\n",
       "      <td>False</td>\n",
       "      <td>False</td>\n",
       "      <td>False</td>\n",
       "      <td>True</td>\n",
       "      <td>False</td>\n",
       "      <td>False</td>\n",
       "      <td>False</td>\n",
       "      <td>False</td>\n",
       "      <td>False</td>\n",
       "      <td>False</td>\n",
       "      <td>...</td>\n",
       "      <td>False</td>\n",
       "      <td>False</td>\n",
       "      <td>False</td>\n",
       "      <td>False</td>\n",
       "      <td>False</td>\n",
       "      <td>False</td>\n",
       "      <td>False</td>\n",
       "      <td>False</td>\n",
       "      <td>False</td>\n",
       "      <td>False</td>\n",
       "    </tr>\n",
       "  </tbody>\n",
       "</table>\n",
       "<p>5 rows × 119 columns</p>\n",
       "</div>"
      ],
      "text/plain": [
       "   Duloxetine  Premarin    Yaz  abilify  acetaminophen  actonel  \\\n",
       "0       False     False  False     True          False    False   \n",
       "1       False     False  False    False          False    False   \n",
       "2       False     False  False    False          False    False   \n",
       "3       False     False  False    False          False    False   \n",
       "4       False     False  False     True          False    False   \n",
       "\n",
       "   albuterol HFA  albuterol aerosol  alendronate  allopurinol  ...  \\\n",
       "0           True               True        False         True  ...   \n",
       "1          False              False        False        False  ...   \n",
       "2          False              False        False        False  ...   \n",
       "3          False              False        False         True  ...   \n",
       "4          False              False        False        False  ...   \n",
       "\n",
       "   trazodone HCI  triamcinolone Ace topical  triamterene  trimethoprim DS  \\\n",
       "0          False                      False        False            False   \n",
       "1          False                      False        False            False   \n",
       "2          False                      False        False            False   \n",
       "3          False                      False        False            False   \n",
       "4          False                      False        False            False   \n",
       "\n",
       "   valaciclovir  valsartan  venlafaxine XR  verapamil SR  viagra  zolpidem  \n",
       "0         False      False           False         False   False     False  \n",
       "1         False      False           False         False   False     False  \n",
       "2         False      False           False         False   False     False  \n",
       "3         False      False           False         False   False     False  \n",
       "4         False      False           False         False   False     False  \n",
       "\n",
       "[5 rows x 119 columns]"
      ]
     },
     "execution_count": 32,
     "metadata": {},
     "output_type": "execute_result"
    }
   ],
   "source": [
    "#Preview of items\n",
    "items.head()"
   ]
  },
  {
   "cell_type": "code",
   "execution_count": 33,
   "id": "7d1bb5aa-68c0-478a-82a0-d59c73b93a99",
   "metadata": {
    "tags": []
   },
   "outputs": [],
   "source": [
    "#Export cleaned and prepared data\n",
    "items.to_csv('D212_Task3_Data.csv', index=False)"
   ]
  },
  {
   "cell_type": "markdown",
   "id": "38a88b19-ec36-4120-8562-948388d09626",
   "metadata": {},
   "source": [
    "<BR>"
   ]
  },
  {
   "cell_type": "markdown",
   "id": "19f84399-a412-476b-947d-6d2144219c9a",
   "metadata": {},
   "source": [
    "## C2. Code Execution <a class=\"anchor\" id=\"C2\"></a>"
   ]
  },
  {
   "cell_type": "markdown",
   "id": "4fa5f390-ba35-49d9-976b-3e5eb8fb521c",
   "metadata": {},
   "source": [
    "The Apriori algorithm was used to filter only for itemsets frequently seen out of all possible itemsets. The algorithm used a minimum support value of 0.02, representing itemsets in at least 2% of all transactions, or about 150 of the total 7501 transactions.\n",
    "\n",
    "Once the itemsets table was created, an association rules table was generated using data from that table. The association rules table was generated using 'lift' as a metric, with a minimum threshold of 1.0. Setting this value for the minimum threshold allows for rules that only show a positive association between the antecedent and consequent itemsets, whereby the purchase of the antecedent positively affects the likelihood of the consequent being purchased."
   ]
  },
  {
   "cell_type": "code",
   "execution_count": 37,
   "id": "15440e09-3953-4f6f-a89b-e400a9382c86",
   "metadata": {
    "tags": []
   },
   "outputs": [
    {
     "data": {
      "text/html": [
       "<div>\n",
       "<style scoped>\n",
       "    .dataframe tbody tr th:only-of-type {\n",
       "        vertical-align: middle;\n",
       "    }\n",
       "\n",
       "    .dataframe tbody tr th {\n",
       "        vertical-align: top;\n",
       "    }\n",
       "\n",
       "    .dataframe thead th {\n",
       "        text-align: right;\n",
       "    }\n",
       "</style>\n",
       "<table border=\"1\" class=\"dataframe\">\n",
       "  <thead>\n",
       "    <tr style=\"text-align: right;\">\n",
       "      <th></th>\n",
       "      <th>support</th>\n",
       "      <th>itemsets</th>\n",
       "    </tr>\n",
       "  </thead>\n",
       "  <tbody>\n",
       "    <tr>\n",
       "      <th>0</th>\n",
       "      <td>0.046794</td>\n",
       "      <td>(Premarin)</td>\n",
       "    </tr>\n",
       "    <tr>\n",
       "      <th>1</th>\n",
       "      <td>0.238368</td>\n",
       "      <td>(abilify)</td>\n",
       "    </tr>\n",
       "    <tr>\n",
       "      <th>2</th>\n",
       "      <td>0.020397</td>\n",
       "      <td>(albuterol aerosol)</td>\n",
       "    </tr>\n",
       "    <tr>\n",
       "      <th>3</th>\n",
       "      <td>0.033329</td>\n",
       "      <td>(allopurinol)</td>\n",
       "    </tr>\n",
       "    <tr>\n",
       "      <th>4</th>\n",
       "      <td>0.079323</td>\n",
       "      <td>(alprazolam)</td>\n",
       "    </tr>\n",
       "    <tr>\n",
       "      <th>...</th>\n",
       "      <td>...</td>\n",
       "      <td>...</td>\n",
       "    </tr>\n",
       "    <tr>\n",
       "      <th>98</th>\n",
       "      <td>0.023064</td>\n",
       "      <td>(diazepam, lisinopril)</td>\n",
       "    </tr>\n",
       "    <tr>\n",
       "      <th>99</th>\n",
       "      <td>0.023464</td>\n",
       "      <td>(diazepam, losartan)</td>\n",
       "    </tr>\n",
       "    <tr>\n",
       "      <th>100</th>\n",
       "      <td>0.022930</td>\n",
       "      <td>(diazepam, metoprolol)</td>\n",
       "    </tr>\n",
       "    <tr>\n",
       "      <th>101</th>\n",
       "      <td>0.020131</td>\n",
       "      <td>(glyburide, doxycycline hyclate)</td>\n",
       "    </tr>\n",
       "    <tr>\n",
       "      <th>102</th>\n",
       "      <td>0.028530</td>\n",
       "      <td>(glyburide, losartan)</td>\n",
       "    </tr>\n",
       "  </tbody>\n",
       "</table>\n",
       "<p>103 rows × 2 columns</p>\n",
       "</div>"
      ],
      "text/plain": [
       "      support                          itemsets\n",
       "0    0.046794                        (Premarin)\n",
       "1    0.238368                         (abilify)\n",
       "2    0.020397               (albuterol aerosol)\n",
       "3    0.033329                     (allopurinol)\n",
       "4    0.079323                      (alprazolam)\n",
       "..        ...                               ...\n",
       "98   0.023064            (diazepam, lisinopril)\n",
       "99   0.023464              (diazepam, losartan)\n",
       "100  0.022930            (diazepam, metoprolol)\n",
       "101  0.020131  (glyburide, doxycycline hyclate)\n",
       "102  0.028530             (glyburide, losartan)\n",
       "\n",
       "[103 rows x 2 columns]"
      ]
     },
     "execution_count": 37,
     "metadata": {},
     "output_type": "execute_result"
    }
   ],
   "source": [
    "#Apriori algorithm used to generate only frequent itemsets\n",
    "frequent_itemsets = apriori(items, min_support=0.02, use_colnames=True)\n",
    "frequent_itemsets"
   ]
  },
  {
   "cell_type": "code",
   "execution_count": 38,
   "id": "0d7effa8-ac9b-44dc-af04-07fc43af7f06",
   "metadata": {
    "tags": []
   },
   "outputs": [
    {
     "data": {
      "text/html": [
       "<div>\n",
       "<style scoped>\n",
       "    .dataframe tbody tr th:only-of-type {\n",
       "        vertical-align: middle;\n",
       "    }\n",
       "\n",
       "    .dataframe tbody tr th {\n",
       "        vertical-align: top;\n",
       "    }\n",
       "\n",
       "    .dataframe thead th {\n",
       "        text-align: right;\n",
       "    }\n",
       "</style>\n",
       "<table border=\"1\" class=\"dataframe\">\n",
       "  <thead>\n",
       "    <tr style=\"text-align: right;\">\n",
       "      <th></th>\n",
       "      <th>antecedents</th>\n",
       "      <th>consequents</th>\n",
       "      <th>antecedent support</th>\n",
       "      <th>consequent support</th>\n",
       "      <th>support</th>\n",
       "      <th>confidence</th>\n",
       "      <th>lift</th>\n",
       "      <th>leverage</th>\n",
       "      <th>conviction</th>\n",
       "      <th>zhangs_metric</th>\n",
       "    </tr>\n",
       "  </thead>\n",
       "  <tbody>\n",
       "    <tr>\n",
       "      <th>0</th>\n",
       "      <td>(amlodipine)</td>\n",
       "      <td>(abilify)</td>\n",
       "      <td>0.071457</td>\n",
       "      <td>0.238368</td>\n",
       "      <td>0.023597</td>\n",
       "      <td>0.330224</td>\n",
       "      <td>1.385352</td>\n",
       "      <td>0.006564</td>\n",
       "      <td>1.137144</td>\n",
       "      <td>0.299568</td>\n",
       "    </tr>\n",
       "    <tr>\n",
       "      <th>1</th>\n",
       "      <td>(abilify)</td>\n",
       "      <td>(amlodipine)</td>\n",
       "      <td>0.238368</td>\n",
       "      <td>0.071457</td>\n",
       "      <td>0.023597</td>\n",
       "      <td>0.098993</td>\n",
       "      <td>1.385352</td>\n",
       "      <td>0.006564</td>\n",
       "      <td>1.030562</td>\n",
       "      <td>0.365218</td>\n",
       "    </tr>\n",
       "    <tr>\n",
       "      <th>2</th>\n",
       "      <td>(amphetamine salt combo)</td>\n",
       "      <td>(abilify)</td>\n",
       "      <td>0.068391</td>\n",
       "      <td>0.238368</td>\n",
       "      <td>0.024397</td>\n",
       "      <td>0.356725</td>\n",
       "      <td>1.496530</td>\n",
       "      <td>0.008095</td>\n",
       "      <td>1.183991</td>\n",
       "      <td>0.356144</td>\n",
       "    </tr>\n",
       "    <tr>\n",
       "      <th>3</th>\n",
       "      <td>(abilify)</td>\n",
       "      <td>(amphetamine salt combo)</td>\n",
       "      <td>0.238368</td>\n",
       "      <td>0.068391</td>\n",
       "      <td>0.024397</td>\n",
       "      <td>0.102349</td>\n",
       "      <td>1.496530</td>\n",
       "      <td>0.008095</td>\n",
       "      <td>1.037830</td>\n",
       "      <td>0.435627</td>\n",
       "    </tr>\n",
       "    <tr>\n",
       "      <th>4</th>\n",
       "      <td>(amphetamine salt combo xr)</td>\n",
       "      <td>(abilify)</td>\n",
       "      <td>0.179709</td>\n",
       "      <td>0.238368</td>\n",
       "      <td>0.050927</td>\n",
       "      <td>0.283383</td>\n",
       "      <td>1.188845</td>\n",
       "      <td>0.008090</td>\n",
       "      <td>1.062815</td>\n",
       "      <td>0.193648</td>\n",
       "    </tr>\n",
       "    <tr>\n",
       "      <th>...</th>\n",
       "      <td>...</td>\n",
       "      <td>...</td>\n",
       "      <td>...</td>\n",
       "      <td>...</td>\n",
       "      <td>...</td>\n",
       "      <td>...</td>\n",
       "      <td>...</td>\n",
       "      <td>...</td>\n",
       "      <td>...</td>\n",
       "      <td>...</td>\n",
       "    </tr>\n",
       "    <tr>\n",
       "      <th>89</th>\n",
       "      <td>(metoprolol)</td>\n",
       "      <td>(diazepam)</td>\n",
       "      <td>0.095321</td>\n",
       "      <td>0.163845</td>\n",
       "      <td>0.022930</td>\n",
       "      <td>0.240559</td>\n",
       "      <td>1.468215</td>\n",
       "      <td>0.007312</td>\n",
       "      <td>1.101015</td>\n",
       "      <td>0.352502</td>\n",
       "    </tr>\n",
       "    <tr>\n",
       "      <th>90</th>\n",
       "      <td>(glyburide)</td>\n",
       "      <td>(doxycycline hyclate)</td>\n",
       "      <td>0.170911</td>\n",
       "      <td>0.095054</td>\n",
       "      <td>0.020131</td>\n",
       "      <td>0.117785</td>\n",
       "      <td>1.239135</td>\n",
       "      <td>0.003885</td>\n",
       "      <td>1.025766</td>\n",
       "      <td>0.232768</td>\n",
       "    </tr>\n",
       "    <tr>\n",
       "      <th>91</th>\n",
       "      <td>(doxycycline hyclate)</td>\n",
       "      <td>(glyburide)</td>\n",
       "      <td>0.095054</td>\n",
       "      <td>0.170911</td>\n",
       "      <td>0.020131</td>\n",
       "      <td>0.211781</td>\n",
       "      <td>1.239135</td>\n",
       "      <td>0.003885</td>\n",
       "      <td>1.051852</td>\n",
       "      <td>0.213256</td>\n",
       "    </tr>\n",
       "    <tr>\n",
       "      <th>92</th>\n",
       "      <td>(glyburide)</td>\n",
       "      <td>(losartan)</td>\n",
       "      <td>0.170911</td>\n",
       "      <td>0.132116</td>\n",
       "      <td>0.028530</td>\n",
       "      <td>0.166927</td>\n",
       "      <td>1.263488</td>\n",
       "      <td>0.005950</td>\n",
       "      <td>1.041786</td>\n",
       "      <td>0.251529</td>\n",
       "    </tr>\n",
       "    <tr>\n",
       "      <th>93</th>\n",
       "      <td>(losartan)</td>\n",
       "      <td>(glyburide)</td>\n",
       "      <td>0.132116</td>\n",
       "      <td>0.170911</td>\n",
       "      <td>0.028530</td>\n",
       "      <td>0.215943</td>\n",
       "      <td>1.263488</td>\n",
       "      <td>0.005950</td>\n",
       "      <td>1.057436</td>\n",
       "      <td>0.240286</td>\n",
       "    </tr>\n",
       "  </tbody>\n",
       "</table>\n",
       "<p>94 rows × 10 columns</p>\n",
       "</div>"
      ],
      "text/plain": [
       "                    antecedents               consequents  antecedent support  \\\n",
       "0                  (amlodipine)                 (abilify)            0.071457   \n",
       "1                     (abilify)              (amlodipine)            0.238368   \n",
       "2      (amphetamine salt combo)                 (abilify)            0.068391   \n",
       "3                     (abilify)  (amphetamine salt combo)            0.238368   \n",
       "4   (amphetamine salt combo xr)                 (abilify)            0.179709   \n",
       "..                          ...                       ...                 ...   \n",
       "89                 (metoprolol)                (diazepam)            0.095321   \n",
       "90                  (glyburide)     (doxycycline hyclate)            0.170911   \n",
       "91        (doxycycline hyclate)               (glyburide)            0.095054   \n",
       "92                  (glyburide)                (losartan)            0.170911   \n",
       "93                   (losartan)               (glyburide)            0.132116   \n",
       "\n",
       "    consequent support   support  confidence      lift  leverage  conviction  \\\n",
       "0             0.238368  0.023597    0.330224  1.385352  0.006564    1.137144   \n",
       "1             0.071457  0.023597    0.098993  1.385352  0.006564    1.030562   \n",
       "2             0.238368  0.024397    0.356725  1.496530  0.008095    1.183991   \n",
       "3             0.068391  0.024397    0.102349  1.496530  0.008095    1.037830   \n",
       "4             0.238368  0.050927    0.283383  1.188845  0.008090    1.062815   \n",
       "..                 ...       ...         ...       ...       ...         ...   \n",
       "89            0.163845  0.022930    0.240559  1.468215  0.007312    1.101015   \n",
       "90            0.095054  0.020131    0.117785  1.239135  0.003885    1.025766   \n",
       "91            0.170911  0.020131    0.211781  1.239135  0.003885    1.051852   \n",
       "92            0.132116  0.028530    0.166927  1.263488  0.005950    1.041786   \n",
       "93            0.170911  0.028530    0.215943  1.263488  0.005950    1.057436   \n",
       "\n",
       "    zhangs_metric  \n",
       "0        0.299568  \n",
       "1        0.365218  \n",
       "2        0.356144  \n",
       "3        0.435627  \n",
       "4        0.193648  \n",
       "..            ...  \n",
       "89       0.352502  \n",
       "90       0.232768  \n",
       "91       0.213256  \n",
       "92       0.251529  \n",
       "93       0.240286  \n",
       "\n",
       "[94 rows x 10 columns]"
      ]
     },
     "execution_count": 38,
     "metadata": {},
     "output_type": "execute_result"
    }
   ],
   "source": [
    "# Create association rules using minimum lift metric of 1.0\n",
    "rules = association_rules(frequent_itemsets, metric='lift', min_threshold=1.0)\n",
    "rules"
   ]
  },
  {
   "cell_type": "markdown",
   "id": "5a03c8ad-5fe9-41c7-922f-1cf20777cc55",
   "metadata": {},
   "source": [
    "<BR>"
   ]
  },
  {
   "cell_type": "markdown",
   "id": "f171a7b3-d9dd-4cc8-b28d-61765e9aa52b",
   "metadata": {},
   "source": [
    "## C3. Association Rules Table <a class=\"anchor\" id=\"C3\"></a>"
   ]
  },
  {
   "cell_type": "markdown",
   "id": "b2e86b2c-668c-4a9e-b512-d502bd0239fd",
   "metadata": {},
   "source": [
    "Below is the association rules table containing the appropriate metrics for support, lift and confidence of each rule."
   ]
  },
  {
   "cell_type": "code",
   "execution_count": 42,
   "id": "9665b1d8-387c-4ed8-bf3f-edb64abdba91",
   "metadata": {
    "tags": []
   },
   "outputs": [
    {
     "data": {
      "text/html": [
       "<div>\n",
       "<style scoped>\n",
       "    .dataframe tbody tr th:only-of-type {\n",
       "        vertical-align: middle;\n",
       "    }\n",
       "\n",
       "    .dataframe tbody tr th {\n",
       "        vertical-align: top;\n",
       "    }\n",
       "\n",
       "    .dataframe thead th {\n",
       "        text-align: right;\n",
       "    }\n",
       "</style>\n",
       "<table border=\"1\" class=\"dataframe\">\n",
       "  <thead>\n",
       "    <tr style=\"text-align: right;\">\n",
       "      <th></th>\n",
       "      <th>antecedents</th>\n",
       "      <th>consequents</th>\n",
       "      <th>antecedent support</th>\n",
       "      <th>consequent support</th>\n",
       "      <th>support</th>\n",
       "      <th>confidence</th>\n",
       "      <th>lift</th>\n",
       "      <th>leverage</th>\n",
       "      <th>conviction</th>\n",
       "      <th>zhangs_metric</th>\n",
       "    </tr>\n",
       "  </thead>\n",
       "  <tbody>\n",
       "    <tr>\n",
       "      <th>0</th>\n",
       "      <td>(amlodipine)</td>\n",
       "      <td>(abilify)</td>\n",
       "      <td>0.071457</td>\n",
       "      <td>0.238368</td>\n",
       "      <td>0.023597</td>\n",
       "      <td>0.330224</td>\n",
       "      <td>1.385352</td>\n",
       "      <td>0.006564</td>\n",
       "      <td>1.137144</td>\n",
       "      <td>0.299568</td>\n",
       "    </tr>\n",
       "    <tr>\n",
       "      <th>1</th>\n",
       "      <td>(abilify)</td>\n",
       "      <td>(amlodipine)</td>\n",
       "      <td>0.238368</td>\n",
       "      <td>0.071457</td>\n",
       "      <td>0.023597</td>\n",
       "      <td>0.098993</td>\n",
       "      <td>1.385352</td>\n",
       "      <td>0.006564</td>\n",
       "      <td>1.030562</td>\n",
       "      <td>0.365218</td>\n",
       "    </tr>\n",
       "    <tr>\n",
       "      <th>2</th>\n",
       "      <td>(amphetamine salt combo)</td>\n",
       "      <td>(abilify)</td>\n",
       "      <td>0.068391</td>\n",
       "      <td>0.238368</td>\n",
       "      <td>0.024397</td>\n",
       "      <td>0.356725</td>\n",
       "      <td>1.496530</td>\n",
       "      <td>0.008095</td>\n",
       "      <td>1.183991</td>\n",
       "      <td>0.356144</td>\n",
       "    </tr>\n",
       "    <tr>\n",
       "      <th>3</th>\n",
       "      <td>(abilify)</td>\n",
       "      <td>(amphetamine salt combo)</td>\n",
       "      <td>0.238368</td>\n",
       "      <td>0.068391</td>\n",
       "      <td>0.024397</td>\n",
       "      <td>0.102349</td>\n",
       "      <td>1.496530</td>\n",
       "      <td>0.008095</td>\n",
       "      <td>1.037830</td>\n",
       "      <td>0.435627</td>\n",
       "    </tr>\n",
       "    <tr>\n",
       "      <th>4</th>\n",
       "      <td>(amphetamine salt combo xr)</td>\n",
       "      <td>(abilify)</td>\n",
       "      <td>0.179709</td>\n",
       "      <td>0.238368</td>\n",
       "      <td>0.050927</td>\n",
       "      <td>0.283383</td>\n",
       "      <td>1.188845</td>\n",
       "      <td>0.008090</td>\n",
       "      <td>1.062815</td>\n",
       "      <td>0.193648</td>\n",
       "    </tr>\n",
       "    <tr>\n",
       "      <th>...</th>\n",
       "      <td>...</td>\n",
       "      <td>...</td>\n",
       "      <td>...</td>\n",
       "      <td>...</td>\n",
       "      <td>...</td>\n",
       "      <td>...</td>\n",
       "      <td>...</td>\n",
       "      <td>...</td>\n",
       "      <td>...</td>\n",
       "      <td>...</td>\n",
       "    </tr>\n",
       "    <tr>\n",
       "      <th>89</th>\n",
       "      <td>(metoprolol)</td>\n",
       "      <td>(diazepam)</td>\n",
       "      <td>0.095321</td>\n",
       "      <td>0.163845</td>\n",
       "      <td>0.022930</td>\n",
       "      <td>0.240559</td>\n",
       "      <td>1.468215</td>\n",
       "      <td>0.007312</td>\n",
       "      <td>1.101015</td>\n",
       "      <td>0.352502</td>\n",
       "    </tr>\n",
       "    <tr>\n",
       "      <th>90</th>\n",
       "      <td>(glyburide)</td>\n",
       "      <td>(doxycycline hyclate)</td>\n",
       "      <td>0.170911</td>\n",
       "      <td>0.095054</td>\n",
       "      <td>0.020131</td>\n",
       "      <td>0.117785</td>\n",
       "      <td>1.239135</td>\n",
       "      <td>0.003885</td>\n",
       "      <td>1.025766</td>\n",
       "      <td>0.232768</td>\n",
       "    </tr>\n",
       "    <tr>\n",
       "      <th>91</th>\n",
       "      <td>(doxycycline hyclate)</td>\n",
       "      <td>(glyburide)</td>\n",
       "      <td>0.095054</td>\n",
       "      <td>0.170911</td>\n",
       "      <td>0.020131</td>\n",
       "      <td>0.211781</td>\n",
       "      <td>1.239135</td>\n",
       "      <td>0.003885</td>\n",
       "      <td>1.051852</td>\n",
       "      <td>0.213256</td>\n",
       "    </tr>\n",
       "    <tr>\n",
       "      <th>92</th>\n",
       "      <td>(glyburide)</td>\n",
       "      <td>(losartan)</td>\n",
       "      <td>0.170911</td>\n",
       "      <td>0.132116</td>\n",
       "      <td>0.028530</td>\n",
       "      <td>0.166927</td>\n",
       "      <td>1.263488</td>\n",
       "      <td>0.005950</td>\n",
       "      <td>1.041786</td>\n",
       "      <td>0.251529</td>\n",
       "    </tr>\n",
       "    <tr>\n",
       "      <th>93</th>\n",
       "      <td>(losartan)</td>\n",
       "      <td>(glyburide)</td>\n",
       "      <td>0.132116</td>\n",
       "      <td>0.170911</td>\n",
       "      <td>0.028530</td>\n",
       "      <td>0.215943</td>\n",
       "      <td>1.263488</td>\n",
       "      <td>0.005950</td>\n",
       "      <td>1.057436</td>\n",
       "      <td>0.240286</td>\n",
       "    </tr>\n",
       "  </tbody>\n",
       "</table>\n",
       "<p>94 rows × 10 columns</p>\n",
       "</div>"
      ],
      "text/plain": [
       "                    antecedents               consequents  antecedent support  \\\n",
       "0                  (amlodipine)                 (abilify)            0.071457   \n",
       "1                     (abilify)              (amlodipine)            0.238368   \n",
       "2      (amphetamine salt combo)                 (abilify)            0.068391   \n",
       "3                     (abilify)  (amphetamine salt combo)            0.238368   \n",
       "4   (amphetamine salt combo xr)                 (abilify)            0.179709   \n",
       "..                          ...                       ...                 ...   \n",
       "89                 (metoprolol)                (diazepam)            0.095321   \n",
       "90                  (glyburide)     (doxycycline hyclate)            0.170911   \n",
       "91        (doxycycline hyclate)               (glyburide)            0.095054   \n",
       "92                  (glyburide)                (losartan)            0.170911   \n",
       "93                   (losartan)               (glyburide)            0.132116   \n",
       "\n",
       "    consequent support   support  confidence      lift  leverage  conviction  \\\n",
       "0             0.238368  0.023597    0.330224  1.385352  0.006564    1.137144   \n",
       "1             0.071457  0.023597    0.098993  1.385352  0.006564    1.030562   \n",
       "2             0.238368  0.024397    0.356725  1.496530  0.008095    1.183991   \n",
       "3             0.068391  0.024397    0.102349  1.496530  0.008095    1.037830   \n",
       "4             0.238368  0.050927    0.283383  1.188845  0.008090    1.062815   \n",
       "..                 ...       ...         ...       ...       ...         ...   \n",
       "89            0.163845  0.022930    0.240559  1.468215  0.007312    1.101015   \n",
       "90            0.095054  0.020131    0.117785  1.239135  0.003885    1.025766   \n",
       "91            0.170911  0.020131    0.211781  1.239135  0.003885    1.051852   \n",
       "92            0.132116  0.028530    0.166927  1.263488  0.005950    1.041786   \n",
       "93            0.170911  0.028530    0.215943  1.263488  0.005950    1.057436   \n",
       "\n",
       "    zhangs_metric  \n",
       "0        0.299568  \n",
       "1        0.365218  \n",
       "2        0.356144  \n",
       "3        0.435627  \n",
       "4        0.193648  \n",
       "..            ...  \n",
       "89       0.352502  \n",
       "90       0.232768  \n",
       "91       0.213256  \n",
       "92       0.251529  \n",
       "93       0.240286  \n",
       "\n",
       "[94 rows x 10 columns]"
      ]
     },
     "execution_count": 42,
     "metadata": {},
     "output_type": "execute_result"
    }
   ],
   "source": [
    "# Create association rules using minimum lift metric of 1.0\n",
    "rules"
   ]
  },
  {
   "cell_type": "markdown",
   "id": "6b5aafaa-cfeb-4454-b26d-513482419f2f",
   "metadata": {},
   "source": [
    "<BR>"
   ]
  },
  {
   "cell_type": "markdown",
   "id": "2f78f0cc-6084-428a-b92e-001f25684a9d",
   "metadata": {},
   "source": [
    "## C4. Top Three Rules <a class=\"anchor\" id=\"C4\"></a>"
   ]
  },
  {
   "cell_type": "markdown",
   "id": "38fbdcda-6f4f-4701-aa2d-f11e4d450b6f",
   "metadata": {},
   "source": [
    "The top three rules were determined using 'confidence' as the primary metric—the metric ranges from zero to one, with the latter implying the most confidence. Confidence explains how likely it is to see that the consequent is purchased, given that the antecedent was purchased (Sivek, 2020). With confidence scores of between 0.4 - 0.45,  it is reasonably probable that Abilify will also be prescribed, given the initial prescriptions of metformin, glipizide, or lisinopril. This is further implicated with lift scores of greater than one, thus indicating the items are positively associated with one another."
   ]
  },
  {
   "cell_type": "code",
   "execution_count": 46,
   "id": "d0fd9dc9-128d-4dcb-95a7-526755d9e7e3",
   "metadata": {
    "tags": []
   },
   "outputs": [
    {
     "data": {
      "text/html": [
       "<div>\n",
       "<style scoped>\n",
       "    .dataframe tbody tr th:only-of-type {\n",
       "        vertical-align: middle;\n",
       "    }\n",
       "\n",
       "    .dataframe tbody tr th {\n",
       "        vertical-align: top;\n",
       "    }\n",
       "\n",
       "    .dataframe thead th {\n",
       "        text-align: right;\n",
       "    }\n",
       "</style>\n",
       "<table border=\"1\" class=\"dataframe\">\n",
       "  <thead>\n",
       "    <tr style=\"text-align: right;\">\n",
       "      <th></th>\n",
       "      <th>antecedents</th>\n",
       "      <th>consequents</th>\n",
       "      <th>antecedent support</th>\n",
       "      <th>consequent support</th>\n",
       "      <th>support</th>\n",
       "      <th>confidence</th>\n",
       "      <th>lift</th>\n",
       "      <th>leverage</th>\n",
       "      <th>conviction</th>\n",
       "      <th>zhangs_metric</th>\n",
       "    </tr>\n",
       "  </thead>\n",
       "  <tbody>\n",
       "    <tr>\n",
       "      <th>31</th>\n",
       "      <td>(metformin)</td>\n",
       "      <td>(abilify)</td>\n",
       "      <td>0.050527</td>\n",
       "      <td>0.238368</td>\n",
       "      <td>0.023064</td>\n",
       "      <td>0.456464</td>\n",
       "      <td>1.914955</td>\n",
       "      <td>0.011020</td>\n",
       "      <td>1.401255</td>\n",
       "      <td>0.503221</td>\n",
       "    </tr>\n",
       "    <tr>\n",
       "      <th>25</th>\n",
       "      <td>(glipizide)</td>\n",
       "      <td>(abilify)</td>\n",
       "      <td>0.065858</td>\n",
       "      <td>0.238368</td>\n",
       "      <td>0.027596</td>\n",
       "      <td>0.419028</td>\n",
       "      <td>1.757904</td>\n",
       "      <td>0.011898</td>\n",
       "      <td>1.310962</td>\n",
       "      <td>0.461536</td>\n",
       "    </tr>\n",
       "    <tr>\n",
       "      <th>29</th>\n",
       "      <td>(lisinopril)</td>\n",
       "      <td>(abilify)</td>\n",
       "      <td>0.098254</td>\n",
       "      <td>0.238368</td>\n",
       "      <td>0.040928</td>\n",
       "      <td>0.416554</td>\n",
       "      <td>1.747522</td>\n",
       "      <td>0.017507</td>\n",
       "      <td>1.305401</td>\n",
       "      <td>0.474369</td>\n",
       "    </tr>\n",
       "  </tbody>\n",
       "</table>\n",
       "</div>"
      ],
      "text/plain": [
       "     antecedents consequents  antecedent support  consequent support  \\\n",
       "31   (metformin)   (abilify)            0.050527            0.238368   \n",
       "25   (glipizide)   (abilify)            0.065858            0.238368   \n",
       "29  (lisinopril)   (abilify)            0.098254            0.238368   \n",
       "\n",
       "     support  confidence      lift  leverage  conviction  zhangs_metric  \n",
       "31  0.023064    0.456464  1.914955  0.011020    1.401255       0.503221  \n",
       "25  0.027596    0.419028  1.757904  0.011898    1.310962       0.461536  \n",
       "29  0.040928    0.416554  1.747522  0.017507    1.305401       0.474369  "
      ]
     },
     "execution_count": 46,
     "metadata": {},
     "output_type": "execute_result"
    }
   ],
   "source": [
    "rules.sort_values('confidence', ascending=False).head(3)"
   ]
  },
  {
   "cell_type": "markdown",
   "id": "ce13fe64-ad43-48ec-9d00-5b9a01eda705",
   "metadata": {},
   "source": [
    "<BR>"
   ]
  },
  {
   "cell_type": "markdown",
   "id": "59235def-fc95-4de7-8fdf-c1d1b5ed91ac",
   "metadata": {},
   "source": [
    "## D1. Significance of Support, Lift, and Confidence Summary <a class=\"anchor\" id=\"D1\"></a>"
   ]
  },
  {
   "cell_type": "markdown",
   "id": "b6062142-3dd1-439c-ba6a-36df362b46ea",
   "metadata": {},
   "source": [
    "Support measures how frequently itemsets appear compared to the total number of transactions, represented as a ratio (IUYasik, 2023). The top three rules show that metformin and abilify appear together in 2.3% of transactions, glipizide and abilify in 2.7% of transactions, and lisinopril and abilify in 4.0% of transactions.\n",
    "\n",
    "Lift is a measure used to determine if and how two itemsets are associated beyond what would be expected by chance. Values greater than one indicate a positive association in that the antecedent positively increases the likelihood of the consequent being purchased. Values equal to one indicate no association beyond what would be expected by chance. Lastly, values less than one indicate a negative or weak association, suggesting the antecedent harms the likelihood of the consequent being purchased (IUYasik, 2023). All of the top three rules have lift values of greater than one, indicating that the items are positively associated, thus suggesting that the initial prescriptions increase the likelihood of an abilify prescription.\n",
    "\n",
    "Confidence is a measure of how likely it is seen that the consequent is purchased, given that the antecedent was purchased. The value ranges from zero to one, with the latter implying the most confidence (Sivek, 2020). With confidence scores of between 0.4 - 0.45, it is reasonably probable that Abilify will also be prescribed, given the initial prescriptions of metformin, glipizide, or lisinopril."
   ]
  },
  {
   "cell_type": "markdown",
   "id": "4171c37d-963b-4fd5-af5d-fb67bc6ecab1",
   "metadata": {},
   "source": [
    "<BR>"
   ]
  },
  {
   "cell_type": "markdown",
   "id": "54223339-7588-4491-85e9-cfdc4f302b18",
   "metadata": {},
   "source": [
    "## D2. Practical Significance of Findings <a class=\"anchor\" id=\"D2\"></a>"
   ]
  },
  {
   "cell_type": "markdown",
   "id": "37d3fcb5-7a3c-4c66-a933-9cb87f265144",
   "metadata": {},
   "source": [
    "Although each initial medication and Abilify comprise about 9% of all transactions, the more significant finding involves a prescription containing Abilify, which appears in 24% of transactions. The initial prescriptions include both metformin and glipizide, which are medications used to treat diabetes (Mayo Foundation for Medical Education and Research, 2024), and lisinopril, used for the treatment of high blood pressure (drugs.com, n.d.). The subsequent medication, Abilify, is a medication used in the treatment of mental health disorders such as schizophrenia and bipolar disorder (Cleveland Clinic, 2024). While there are no clear patterns between the antecedent and the consequent prescriptions, the more significant finding of the frequency of Abilify prescriptions is rather striking. This finding could indicate that the patient population may be suffering from a mental health crisis."
   ]
  },
  {
   "cell_type": "markdown",
   "id": "99ddee4d-0fbb-42a7-b220-eef10da2e3ee",
   "metadata": {},
   "source": [
    "<BR>"
   ]
  },
  {
   "cell_type": "markdown",
   "id": "c277700a-cb7d-4ec1-9dd2-b749a455c4c0",
   "metadata": {},
   "source": [
    "## D3. Course of Action <a class=\"anchor\" id=\"D3\"></a>"
   ]
  },
  {
   "cell_type": "markdown",
   "id": "a54ecd3a-ede6-4231-8974-03937e6a1a85",
   "metadata": {},
   "source": [
    "An underlying reason for the pattern of an Abilify prescription after a prescription of metformin, glipizide, or lisinopril is not inherently present at a glance, so further research is suggested in this regard. Furthermore, the number of transactions containing an Abilify prescription could indicate some mental health crisis within the patient population. Further research into the causes of these mental health issues could prove helpful. Additionally, placing more resources into mental health care could also be beneficial."
   ]
  },
  {
   "cell_type": "markdown",
   "id": "4e56eaae-feab-44bd-b078-840b44d908a9",
   "metadata": {},
   "source": [
    "<BR>"
   ]
  },
  {
   "cell_type": "markdown",
   "id": "c0124e2f-9d93-4306-b929-934d6b0d8c30",
   "metadata": {},
   "source": [
    "## E - E1. Panopto Video of Code/Programs <a class=\"anchor\" id=\"E\"></a>"
   ]
  },
  {
   "cell_type": "markdown",
   "id": "5fcea2cb-6da1-4645-b842-880c8b287854",
   "metadata": {},
   "source": [
    "A recording is submitted alongside the report and can also be found at: https://wgu.hosted.panopto.com/Panopto/Pages/Viewer.aspx?id=19e8e9e8-bbc1-4ede-ab21-b20301420c9e"
   ]
  },
  {
   "cell_type": "markdown",
   "id": "1d7b8c4f-da16-4dd6-80d7-6f0b54845ac4",
   "metadata": {},
   "source": [
    "<BR>"
   ]
  },
  {
   "cell_type": "markdown",
   "id": "23aa9557-cfcd-4668-82ea-7762135b693d",
   "metadata": {},
   "source": [
    "## F. Sources for Third-Party Code <a class=\"anchor\" id=\"F\"></a>"
   ]
  },
  {
   "cell_type": "markdown",
   "id": "438d0db1-5bbf-4d9b-aa8d-9626bf25843f",
   "metadata": {},
   "source": [
    "No sources of third-party code were used for this assessment."
   ]
  },
  {
   "cell_type": "markdown",
   "id": "a394ef80-3bc2-4797-a1c5-43616ce49724",
   "metadata": {},
   "source": [
    "<BR>"
   ]
  },
  {
   "cell_type": "markdown",
   "id": "eb63ee48-0c96-4350-904f-8a84ac3106e0",
   "metadata": {},
   "source": [
    "## G. Sources <a class=\"anchor\" id=\"G\"></a>"
   ]
  },
  {
   "cell_type": "markdown",
   "id": "6756e848-26c2-424a-843f-5a13086ad354",
   "metadata": {},
   "source": [
    "Cleveland Clinic. (2024, May 1). _Abilify (Aripiprazole ): Uses & side effects_. Cleveland Clinic. https://my.clevelandclinic.org/health/drugs/19695-aripiprazole-tablets \n",
    "\n",
    "IUYasik. (2023, October 4). _Market basket analysis & apriori algorithm using Zhang’s metric_. Medium. https://medium.com/@iuyasik/market-basket-analysis-apriori-algorithm-using-zhangs-metric-708406fc5dfc#:~:text=Lift%20is%20a%20metric%20that,would%20be%20expected%20by%20chance. \n",
    "\n",
    "_Lisinopril uses, dosage, side effects & warnings_. Drugs.com. (n.d.). https://www.drugs.com/lisinopril.html \n",
    "\n",
    "Mayo Foundation for Medical Education and Research. (2024, October 1). _Glipizide and metformin (oral route) description and brand names_. Mayo Clinic. https://www.mayoclinic.org/drugs-supplements/glipizide-and-metformin-oral-route/description/drg-20061984#:~:text=Glipizide%20and%20Metformin%20combination%20is,excess%20sugar%20for%20later%20use. \n",
    "\n",
    "Sivek, S. C. (2020, November 17). _Market basket analysis 101: Key concepts_. Medium. https://towardsdatascience.com/market-basket-analysis-101-key-concepts-1ddc6876cd00 \n",
    "\n",
    "Tian, H. (2015, September 1). _Market basket analysis_. HUA’S Analysis. https://sarahtianhua.wordpress.com/portfolio/market-basket-analysis/ "
   ]
  }
 ],
 "metadata": {
  "kernelspec": {
   "display_name": "Python 3 (ipykernel)",
   "language": "python",
   "name": "python3"
  },
  "language_info": {
   "codemirror_mode": {
    "name": "ipython",
    "version": 3
   },
   "file_extension": ".py",
   "mimetype": "text/x-python",
   "name": "python",
   "nbconvert_exporter": "python",
   "pygments_lexer": "ipython3",
   "version": "3.11.9"
  }
 },
 "nbformat": 4,
 "nbformat_minor": 5
}
