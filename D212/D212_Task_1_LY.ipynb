{
 "cells": [
  {
   "cell_type": "markdown",
   "id": "49ea3961-79a2-4989-898d-686618087c4f",
   "metadata": {},
   "source": [
    "# D212: Data Mining II - Task 1\n",
    "***"
   ]
  },
  {
   "cell_type": "markdown",
   "id": "705242a5-58e1-416e-b5f1-08dd8311091c",
   "metadata": {
    "tags": []
   },
   "source": [
    "### By: Leng Yang\n",
    "### Student ID: 012298452\n",
    "### Date: October 6, 2024\n",
    "***\n",
    "<br>\n",
    "<br>\n",
    "<br>"
   ]
  },
  {
   "cell_type": "markdown",
   "id": "2c36dae8-93df-4293-b7b2-8e075205a6ab",
   "metadata": {
    "tags": []
   },
   "source": [
    "## Table of Contents\n",
    "* [A1. Proposal of Question](#A1)\n",
    "* [A2. Defined Goal](#A2)\n",
    "* [B1. Explanation of the Clustering Technique](#B1)\n",
    "* [B2. Summary of the Technique Assumption](#B2)\n",
    "* [B3. Packages or Libraries List](#B3)\n",
    "* [C1. Data Preprocessing](#C1)\n",
    "* [C2. Data Set Variables](#C2)\n",
    "* [C3. Steps for Analysis](#C3)\n",
    "* [C4. Cleaned Data Set](#C4)\n",
    "* [D1. Output and Intermediate Calculations](#D1)\n",
    "* [D2. Code Execution](#D2)\n",
    "* [E1. Quality of the Clustering Technique](#E1)\n",
    "* [E2. Results and Implications](#E2)\n",
    "* [E3. Limitation](#E3)\n",
    "* [E4. Course of Action](#E4)\n",
    "* [F - F1. Panopto Video of Code/Programs](#F)\n",
    "* [G. Sources for Third-Party Code](#G)\n",
    "* [H. Sources](#H)"
   ]
  },
  {
   "cell_type": "markdown",
   "id": "61042f26-3898-49a6-abe4-bda0253af217",
   "metadata": {},
   "source": [
    "<BR>"
   ]
  },
  {
   "cell_type": "markdown",
   "id": "83e0172b-1094-40bd-92e2-b4c9aa573b63",
   "metadata": {},
   "source": [
    "<BR>"
   ]
  },
  {
   "cell_type": "markdown",
   "id": "d816ef21-c261-490b-a3b8-b60695f53bbe",
   "metadata": {},
   "source": [
    "<BR>"
   ]
  },
  {
   "cell_type": "markdown",
   "id": "cd4bb750-3078-403b-9f04-29024a67e285",
   "metadata": {},
   "source": [
    "<BR>"
   ]
  },
  {
   "cell_type": "markdown",
   "id": "cd6526b9-0917-49ba-8007-46aa8e8675db",
   "metadata": {
    "tags": []
   },
   "source": [
    "## A1. Proposal of Question <a class=\"anchor\" id=\"A1\"></a>"
   ]
  },
  {
   "cell_type": "markdown",
   "id": "e9a95d16-e930-4166-903b-caf7a4584d47",
   "metadata": {},
   "source": [
    "The question for this report is: can a k-means clustering technique be used to identify meaningful patient groups from the medical dataset?"
   ]
  },
  {
   "cell_type": "markdown",
   "id": "eefc3226-d9c1-497a-bd1d-22dbe3873e2a",
   "metadata": {},
   "source": [
    "<BR>"
   ]
  },
  {
   "cell_type": "markdown",
   "id": "41cf42e6-5fa0-4ee5-b8f0-a32e583c8c8c",
   "metadata": {},
   "source": [
    "## A2. Defined Goal <a class=\"anchor\" id=\"A2\"></a>"
   ]
  },
  {
   "cell_type": "markdown",
   "id": "a2735441-4fd2-49a8-b0f1-c373db2d0649",
   "metadata": {},
   "source": [
    "This analysis aims to identify meaningful patient groups with similar characteristics. These identified groups would aid the hospital staff in developing better care plans as they would provide some prognostic information on incoming patients. As such, this would also allow for better cost management for the hospital as care plans can be tweaked based on data analysis."
   ]
  },
  {
   "cell_type": "markdown",
   "id": "6b65e1d8-2a13-4797-8fa4-f54e0f75eb7d",
   "metadata": {},
   "source": [
    "<BR>"
   ]
  },
  {
   "cell_type": "markdown",
   "id": "8fab6f20-7096-4fdc-808b-1db40d8d9234",
   "metadata": {},
   "source": [
    "## B1. Explanation of the Clustering Technique <a class=\"anchor\" id=\"B1\"></a>"
   ]
  },
  {
   "cell_type": "markdown",
   "id": "243dce76-f9b0-441a-8ac6-ca4d3796104a",
   "metadata": {},
   "source": [
    "The K-means clustering technique is an unsupervised learning technique that groups similar data points into clusters. The user defines the number of clusters based on several factors, as there is no correctly defined number of clusters. The technique works by, first, initializing 'K' points, or cluster centroids, in an n-dimensional space. Each data point is then categorized according to its closest cluster centroid. Lastly, the location of the cluster centroid is re-located based on the data points assigned to that cluster based on some calculated metric. This process is repeated for several iterations until a stopping point is reached, and the clusters are then completely defined (GeeksforGeeks, 2024).\n",
    "\n",
    "With the use of the medical data set, it is expected that patients can be meaningfully grouped into distinct clusters. The meaningfulness of the patient groupings can be determined by looking at the quality of the clusters. The quality can be determined by looking at different metrics, such as the silhouette score."
   ]
  },
  {
   "cell_type": "markdown",
   "id": "91a73a63-addc-4760-9820-b92217f016b3",
   "metadata": {},
   "source": [
    "<BR>"
   ]
  },
  {
   "cell_type": "markdown",
   "id": "c4a58119-9509-44a8-bc3e-823a0350a12c",
   "metadata": {},
   "source": [
    "## B2. Summary of the Technique Assumption <a class=\"anchor\" id=\"B2\"></a>"
   ]
  },
  {
   "cell_type": "markdown",
   "id": "115fe3a7-f85d-4028-8be1-eb213aa4e2db",
   "metadata": {},
   "source": [
    "One assumption of the technique is that the features are of similar variance. The algorithm creates and calculates clusters based on the distance of the data points, so these data points must be of comparable scale to one another, as those that contain large-scale values can influence how the data points are grouped and how the clusters are formed. Because of this assumption, the data would need to be preprocessed to align all values on a similar scale prior to modeling."
   ]
  },
  {
   "cell_type": "markdown",
   "id": "a0427e4f-5dcf-447c-98d7-7189a52b37a6",
   "metadata": {},
   "source": [
    "<BR>"
   ]
  },
  {
   "cell_type": "markdown",
   "id": "f39158d6-e666-4d38-a297-240f7fa90af3",
   "metadata": {},
   "source": [
    "## B3. Packages or Libraries List <a class=\"anchor\" id=\"B3\"></a>"
   ]
  },
  {
   "cell_type": "markdown",
   "id": "c25d4f12-329f-43cc-b42c-98094e0f1577",
   "metadata": {},
   "source": [
    "Listed are the Python packages and libraries used in assistance for this analysis:\n",
    "* Pandas: used to load the data into a tabular dataframe and for data manipulation\n",
    "* NumPy: used for matrix and mathematical calculations\n",
    "* Matplotlib and Seaborn are both used for visualizations\n",
    "* Sklearn provides several libraries that aid significantly in this analysis:\n",
    "    * KMeans is used as the main algorithm for this analysis \n",
    "    * StandardScaler is used for preprocessing the data\n",
    "    * Silhouette score is used as a metric in evaluating the clusters"
   ]
  },
  {
   "cell_type": "code",
   "execution_count": 22,
   "id": "13b56c33-f19f-4d55-9372-32544ec2e437",
   "metadata": {
    "tags": []
   },
   "outputs": [],
   "source": [
    "import pandas as pd\n",
    "import numpy as np\n",
    "import matplotlib.pyplot as plt\n",
    "import seaborn as sns\n",
    "from sklearn.cluster import KMeans\n",
    "from sklearn.preprocessing import StandardScaler\n",
    "from sklearn.metrics import silhouette_score\n",
    "\n",
    "import warnings\n",
    "warnings.filterwarnings('ignore')\n",
    "\n",
    "pd.set_option('display.max_columns', None)"
   ]
  },
  {
   "cell_type": "code",
   "execution_count": 23,
   "id": "4916106d-3445-4ce8-a2f7-a7cf0a7d6181",
   "metadata": {
    "tags": []
   },
   "outputs": [
    {
     "name": "stdout",
     "output_type": "stream",
     "text": [
      "python: 3.11.9\n",
      "pandas: 2.2.2\n",
      "numpy: 1.26.4\n"
     ]
    }
   ],
   "source": [
    "#Print working versions\n",
    "from platform import python_version\n",
    "print(\"python:\", python_version())\n",
    "print(\"pandas:\", pd.__version__)\n",
    "print(\"numpy:\", np.__version__)"
   ]
  },
  {
   "cell_type": "markdown",
   "id": "7db07a2d-3a10-4de9-81ba-b53f9c72ded0",
   "metadata": {},
   "source": [
    "<BR>"
   ]
  },
  {
   "cell_type": "markdown",
   "id": "12f950fe-70d8-4dd3-a619-41493f7caae1",
   "metadata": {},
   "source": [
    "## C1. Data Preprocessing <a class=\"anchor\" id=\"C1\"></a>"
   ]
  },
  {
   "cell_type": "markdown",
   "id": "839de624-e277-4e44-91a4-7a89ebb6a1ac",
   "metadata": {},
   "source": [
    "One goal of the data preprocessing step is to standardize the scale of the features. This is necessary as values of a larger scale can strongly influence how clusters are formed, which may negatively affect analysis results. This preprocessing step will be performed using sklearn's `StandardScaler`. This operation will transform the features into a mean of zero and a standard deviation of one."
   ]
  },
  {
   "cell_type": "markdown",
   "id": "38a88b19-ec36-4120-8562-948388d09626",
   "metadata": {},
   "source": [
    "<BR>"
   ]
  },
  {
   "cell_type": "markdown",
   "id": "19f84399-a412-476b-947d-6d2144219c9a",
   "metadata": {},
   "source": [
    "## C2. Data Set Variables <a class=\"anchor\" id=\"C2\"></a>"
   ]
  },
  {
   "cell_type": "markdown",
   "id": "4fa5f390-ba35-49d9-976b-3e5eb8fb521c",
   "metadata": {},
   "source": [
    "Listed below are the variables and their respective data types to be used for this analysis.\n",
    "* Income: Continuous\n",
    "* Vitamin D levels: Continuous\n",
    "* Initial Days: Continuous\n",
    "* Total charges: Continuous\n",
    "* Additional charges: Continuous"
   ]
  },
  {
   "cell_type": "markdown",
   "id": "5a03c8ad-5fe9-41c7-922f-1cf20777cc55",
   "metadata": {},
   "source": [
    "<BR>"
   ]
  },
  {
   "cell_type": "markdown",
   "id": "f171a7b3-d9dd-4cc8-b28d-61765e9aa52b",
   "metadata": {},
   "source": [
    "## C3. Steps for Analysis <a class=\"anchor\" id=\"C3\"></a>"
   ]
  },
  {
   "cell_type": "markdown",
   "id": "70109d1b-0b74-46db-a75a-f1c3c72bccc0",
   "metadata": {},
   "source": [
    "The data was first loaded into a Pandas data frame, and the column names were reformatted using snake case for consistency. Afterward, the data was inspected to ensure no missing values or outliers needed to be imputed if required for this analysis. Next, only the relevant data is kept, and all others are dropped, as identified in the section above. Afterward, the data statistics were briefly explored.\n",
    "\n",
    "Once data cleaning and exploration were complete, the data was further processed before modeling. The primary preprocessing step included scaling the features into a standard scale using sklearn's `StandardScaler` class."
   ]
  },
  {
   "cell_type": "code",
   "execution_count": 33,
   "id": "af9c4b60-19f1-4421-9714-36f398b115da",
   "metadata": {
    "tags": []
   },
   "outputs": [],
   "source": [
    "df = pd.read_csv('medical_clean.csv', dtype={'Zip':'object'})"
   ]
  },
  {
   "cell_type": "code",
   "execution_count": 34,
   "id": "3a70552f-ab39-4f09-ac4b-245e78f07ddb",
   "metadata": {
    "tags": []
   },
   "outputs": [],
   "source": [
    "# Standardize column names using snake_case and re-express names for comprehensiveness\n",
    "col_names = ['case_order', 'customer_id', 'interaction', 'uid', 'city', 'state', 'county', 'zip', 'latitude', 'longitude',\n",
    "             'population', 'area', 'timezone', 'job', 'children', 'age', 'income', 'marital', 'gender', 'readmission', \n",
    "             'vit_d_level', 'doc_visits', 'full_meals_eaten', 'vit_d_supp', 'soft_drink', 'initial_admin', 'high_blood', 'stroke', 'complication_risk', 'overweight',\n",
    "             'arthritis', 'diabetes', 'hyperlipidemia', 'back_pain', 'anxiety', 'allergic_rhinitis', 'reflux_esophagitis', 'asthma', 'services', 'initial_days', \n",
    "             'total_charge', 'additional_charges', 'item_1', 'item_2', 'item_3', 'item_4', 'item_5', 'item_6', 'item_7', 'item_8']\n",
    "df.columns = col_names"
   ]
  },
  {
   "cell_type": "code",
   "execution_count": 35,
   "id": "0418a30c-c833-4748-9dbf-177b7ae461e5",
   "metadata": {
    "tags": []
   },
   "outputs": [
    {
     "name": "stdout",
     "output_type": "stream",
     "text": [
      "<class 'pandas.core.frame.DataFrame'>\n",
      "RangeIndex: 10000 entries, 0 to 9999\n",
      "Data columns (total 50 columns):\n",
      " #   Column              Non-Null Count  Dtype  \n",
      "---  ------              --------------  -----  \n",
      " 0   case_order          10000 non-null  int64  \n",
      " 1   customer_id         10000 non-null  object \n",
      " 2   interaction         10000 non-null  object \n",
      " 3   uid                 10000 non-null  object \n",
      " 4   city                10000 non-null  object \n",
      " 5   state               10000 non-null  object \n",
      " 6   county              10000 non-null  object \n",
      " 7   zip                 10000 non-null  object \n",
      " 8   latitude            10000 non-null  float64\n",
      " 9   longitude           10000 non-null  float64\n",
      " 10  population          10000 non-null  int64  \n",
      " 11  area                10000 non-null  object \n",
      " 12  timezone            10000 non-null  object \n",
      " 13  job                 10000 non-null  object \n",
      " 14  children            10000 non-null  int64  \n",
      " 15  age                 10000 non-null  int64  \n",
      " 16  income              10000 non-null  float64\n",
      " 17  marital             10000 non-null  object \n",
      " 18  gender              10000 non-null  object \n",
      " 19  readmission         10000 non-null  object \n",
      " 20  vit_d_level         10000 non-null  float64\n",
      " 21  doc_visits          10000 non-null  int64  \n",
      " 22  full_meals_eaten    10000 non-null  int64  \n",
      " 23  vit_d_supp          10000 non-null  int64  \n",
      " 24  soft_drink          10000 non-null  object \n",
      " 25  initial_admin       10000 non-null  object \n",
      " 26  high_blood          10000 non-null  object \n",
      " 27  stroke              10000 non-null  object \n",
      " 28  complication_risk   10000 non-null  object \n",
      " 29  overweight          10000 non-null  object \n",
      " 30  arthritis           10000 non-null  object \n",
      " 31  diabetes            10000 non-null  object \n",
      " 32  hyperlipidemia      10000 non-null  object \n",
      " 33  back_pain           10000 non-null  object \n",
      " 34  anxiety             10000 non-null  object \n",
      " 35  allergic_rhinitis   10000 non-null  object \n",
      " 36  reflux_esophagitis  10000 non-null  object \n",
      " 37  asthma              10000 non-null  object \n",
      " 38  services            10000 non-null  object \n",
      " 39  initial_days        10000 non-null  float64\n",
      " 40  total_charge        10000 non-null  float64\n",
      " 41  additional_charges  10000 non-null  float64\n",
      " 42  item_1              10000 non-null  int64  \n",
      " 43  item_2              10000 non-null  int64  \n",
      " 44  item_3              10000 non-null  int64  \n",
      " 45  item_4              10000 non-null  int64  \n",
      " 46  item_5              10000 non-null  int64  \n",
      " 47  item_6              10000 non-null  int64  \n",
      " 48  item_7              10000 non-null  int64  \n",
      " 49  item_8              10000 non-null  int64  \n",
      "dtypes: float64(7), int64(15), object(28)\n",
      "memory usage: 3.8+ MB\n"
     ]
    }
   ],
   "source": [
    "df.info()"
   ]
  },
  {
   "cell_type": "code",
   "execution_count": 36,
   "id": "b03b9fde-37b3-4ba4-8af8-59f156a35fa3",
   "metadata": {
    "tags": []
   },
   "outputs": [
    {
     "data": {
      "text/html": [
       "<div>\n",
       "<style scoped>\n",
       "    .dataframe tbody tr th:only-of-type {\n",
       "        vertical-align: middle;\n",
       "    }\n",
       "\n",
       "    .dataframe tbody tr th {\n",
       "        vertical-align: top;\n",
       "    }\n",
       "\n",
       "    .dataframe thead th {\n",
       "        text-align: right;\n",
       "    }\n",
       "</style>\n",
       "<table border=\"1\" class=\"dataframe\">\n",
       "  <thead>\n",
       "    <tr style=\"text-align: right;\">\n",
       "      <th></th>\n",
       "      <th>income</th>\n",
       "      <th>vit_d_level</th>\n",
       "      <th>initial_days</th>\n",
       "      <th>total_charge</th>\n",
       "      <th>additional_charges</th>\n",
       "    </tr>\n",
       "  </thead>\n",
       "  <tbody>\n",
       "    <tr>\n",
       "      <th>count</th>\n",
       "      <td>10000.00</td>\n",
       "      <td>10000.00</td>\n",
       "      <td>10000.00</td>\n",
       "      <td>10000.00</td>\n",
       "      <td>10000.00</td>\n",
       "    </tr>\n",
       "    <tr>\n",
       "      <th>mean</th>\n",
       "      <td>40490.50</td>\n",
       "      <td>17.96</td>\n",
       "      <td>34.46</td>\n",
       "      <td>5312.17</td>\n",
       "      <td>12934.53</td>\n",
       "    </tr>\n",
       "    <tr>\n",
       "      <th>std</th>\n",
       "      <td>28521.15</td>\n",
       "      <td>2.02</td>\n",
       "      <td>26.31</td>\n",
       "      <td>2180.39</td>\n",
       "      <td>6542.60</td>\n",
       "    </tr>\n",
       "    <tr>\n",
       "      <th>min</th>\n",
       "      <td>154.08</td>\n",
       "      <td>9.81</td>\n",
       "      <td>1.00</td>\n",
       "      <td>1938.31</td>\n",
       "      <td>3125.70</td>\n",
       "    </tr>\n",
       "    <tr>\n",
       "      <th>25%</th>\n",
       "      <td>19598.78</td>\n",
       "      <td>16.63</td>\n",
       "      <td>7.90</td>\n",
       "      <td>3179.37</td>\n",
       "      <td>7986.49</td>\n",
       "    </tr>\n",
       "    <tr>\n",
       "      <th>50%</th>\n",
       "      <td>33768.42</td>\n",
       "      <td>17.95</td>\n",
       "      <td>35.84</td>\n",
       "      <td>5213.95</td>\n",
       "      <td>11573.98</td>\n",
       "    </tr>\n",
       "    <tr>\n",
       "      <th>75%</th>\n",
       "      <td>54296.40</td>\n",
       "      <td>19.35</td>\n",
       "      <td>61.16</td>\n",
       "      <td>7459.70</td>\n",
       "      <td>15626.49</td>\n",
       "    </tr>\n",
       "    <tr>\n",
       "      <th>max</th>\n",
       "      <td>207249.10</td>\n",
       "      <td>26.39</td>\n",
       "      <td>71.98</td>\n",
       "      <td>9180.73</td>\n",
       "      <td>30566.07</td>\n",
       "    </tr>\n",
       "  </tbody>\n",
       "</table>\n",
       "</div>"
      ],
      "text/plain": [
       "          income  vit_d_level  initial_days  total_charge  additional_charges\n",
       "count   10000.00     10000.00      10000.00      10000.00            10000.00\n",
       "mean    40490.50        17.96         34.46       5312.17            12934.53\n",
       "std     28521.15         2.02         26.31       2180.39             6542.60\n",
       "min       154.08         9.81          1.00       1938.31             3125.70\n",
       "25%     19598.78        16.63          7.90       3179.37             7986.49\n",
       "50%     33768.42        17.95         35.84       5213.95            11573.98\n",
       "75%     54296.40        19.35         61.16       7459.70            15626.49\n",
       "max    207249.10        26.39         71.98       9180.73            30566.07"
      ]
     },
     "execution_count": 36,
     "metadata": {},
     "output_type": "execute_result"
    }
   ],
   "source": [
    "#Select for interested features\n",
    "model_df = df[['income','vit_d_level','initial_days','total_charge','additional_charges']]\n",
    "\n",
    "model_df.describe().round(2)"
   ]
  },
  {
   "cell_type": "code",
   "execution_count": 37,
   "id": "930ba1f3-36c1-4946-b95f-980dc69d73de",
   "metadata": {
    "tags": []
   },
   "outputs": [
    {
     "data": {
      "text/html": [
       "<div>\n",
       "<style scoped>\n",
       "    .dataframe tbody tr th:only-of-type {\n",
       "        vertical-align: middle;\n",
       "    }\n",
       "\n",
       "    .dataframe tbody tr th {\n",
       "        vertical-align: top;\n",
       "    }\n",
       "\n",
       "    .dataframe thead th {\n",
       "        text-align: right;\n",
       "    }\n",
       "</style>\n",
       "<table border=\"1\" class=\"dataframe\">\n",
       "  <thead>\n",
       "    <tr style=\"text-align: right;\">\n",
       "      <th></th>\n",
       "      <th>income</th>\n",
       "      <th>vit_d_level</th>\n",
       "      <th>initial_days</th>\n",
       "      <th>total_charge</th>\n",
       "      <th>additional_charges</th>\n",
       "    </tr>\n",
       "  </thead>\n",
       "  <tbody>\n",
       "    <tr>\n",
       "      <th>count</th>\n",
       "      <td>10000.00</td>\n",
       "      <td>10000.00</td>\n",
       "      <td>10000.00</td>\n",
       "      <td>10000.00</td>\n",
       "      <td>10000.00</td>\n",
       "    </tr>\n",
       "    <tr>\n",
       "      <th>mean</th>\n",
       "      <td>0.00</td>\n",
       "      <td>-0.00</td>\n",
       "      <td>-0.00</td>\n",
       "      <td>0.00</td>\n",
       "      <td>-0.00</td>\n",
       "    </tr>\n",
       "    <tr>\n",
       "      <th>std</th>\n",
       "      <td>1.00</td>\n",
       "      <td>1.00</td>\n",
       "      <td>1.00</td>\n",
       "      <td>1.00</td>\n",
       "      <td>1.00</td>\n",
       "    </tr>\n",
       "    <tr>\n",
       "      <th>min</th>\n",
       "      <td>-1.41</td>\n",
       "      <td>-4.04</td>\n",
       "      <td>-1.27</td>\n",
       "      <td>-1.55</td>\n",
       "      <td>-1.50</td>\n",
       "    </tr>\n",
       "    <tr>\n",
       "      <th>25%</th>\n",
       "      <td>-0.73</td>\n",
       "      <td>-0.66</td>\n",
       "      <td>-1.01</td>\n",
       "      <td>-0.98</td>\n",
       "      <td>-0.76</td>\n",
       "    </tr>\n",
       "    <tr>\n",
       "      <th>50%</th>\n",
       "      <td>-0.24</td>\n",
       "      <td>-0.01</td>\n",
       "      <td>0.05</td>\n",
       "      <td>-0.05</td>\n",
       "      <td>-0.21</td>\n",
       "    </tr>\n",
       "    <tr>\n",
       "      <th>75%</th>\n",
       "      <td>0.48</td>\n",
       "      <td>0.69</td>\n",
       "      <td>1.02</td>\n",
       "      <td>0.98</td>\n",
       "      <td>0.41</td>\n",
       "    </tr>\n",
       "    <tr>\n",
       "      <th>max</th>\n",
       "      <td>5.85</td>\n",
       "      <td>4.18</td>\n",
       "      <td>1.43</td>\n",
       "      <td>1.77</td>\n",
       "      <td>2.70</td>\n",
       "    </tr>\n",
       "  </tbody>\n",
       "</table>\n",
       "</div>"
      ],
      "text/plain": [
       "         income  vit_d_level  initial_days  total_charge  additional_charges\n",
       "count  10000.00     10000.00      10000.00      10000.00            10000.00\n",
       "mean       0.00        -0.00         -0.00          0.00               -0.00\n",
       "std        1.00         1.00          1.00          1.00                1.00\n",
       "min       -1.41        -4.04         -1.27         -1.55               -1.50\n",
       "25%       -0.73        -0.66         -1.01         -0.98               -0.76\n",
       "50%       -0.24        -0.01          0.05         -0.05               -0.21\n",
       "75%        0.48         0.69          1.02          0.98                0.41\n",
       "max        5.85         4.18          1.43          1.77                2.70"
      ]
     },
     "execution_count": 37,
     "metadata": {},
     "output_type": "execute_result"
    }
   ],
   "source": [
    "#Scale selected features and look at descriptive statistics\n",
    "scaler = StandardScaler()\n",
    "scaled_df = pd.DataFrame(scaler.fit_transform(model_df), columns=model_df.columns)\n",
    "scaled_df.describe().round(2)"
   ]
  },
  {
   "cell_type": "markdown",
   "id": "6b5aafaa-cfeb-4454-b26d-513482419f2f",
   "metadata": {},
   "source": [
    "<BR>"
   ]
  },
  {
   "cell_type": "markdown",
   "id": "2f78f0cc-6084-428a-b92e-001f25684a9d",
   "metadata": {},
   "source": [
    "## C4. Cleaned Data Set <a class=\"anchor\" id=\"C4\"></a>"
   ]
  },
  {
   "cell_type": "markdown",
   "id": "38fbdcda-6f4f-4701-aa2d-f11e4d450b6f",
   "metadata": {},
   "source": [
    "Attached to the submission is the cleaned data set, named \"D212_Task1_Data.csv.\""
   ]
  },
  {
   "cell_type": "code",
   "execution_count": 41,
   "id": "d0146507-161d-483b-b66d-43d9a3053069",
   "metadata": {
    "tags": []
   },
   "outputs": [],
   "source": [
    "#Generate csv file of prepared data set\n",
    "scaled_df.to_csv('D212_Task1_Data.csv', index=False)"
   ]
  },
  {
   "cell_type": "markdown",
   "id": "ce13fe64-ad43-48ec-9d00-5b9a01eda705",
   "metadata": {},
   "source": [
    "<BR>"
   ]
  },
  {
   "cell_type": "markdown",
   "id": "59235def-fc95-4de7-8fdf-c1d1b5ed91ac",
   "metadata": {},
   "source": [
    "## D1. Output and Intermediate Calculations <a class=\"anchor\" id=\"D1\"></a>"
   ]
  },
  {
   "cell_type": "markdown",
   "id": "b6062142-3dd1-439c-ba6a-36df362b46ea",
   "metadata": {},
   "source": [
    "Two methods were used to determine the optimal number of clusters. The first method involved looking at the inertia value of each model and deciding the number of clusters based on an elbow decision method. The inertia represents the sum of the squared distances of the samples to their closest cluster centers. It represents how well the model clusters the data set, with lower values indicating tighter clusters. The elbow decision method looks at where there is a point where the inertia would begin to decline slowly. From the visualization, the inertia trended downward almost linearly, so no good stopping point was determined, and another method was employed to assist in decision making.\n",
    "\n",
    "The second method involved looking at the silhouette scores of the models. The silhouette score ranges from -1 to 1, with the latter indicating the best value (Silhouette_score, n.d.). The best silhouette score was one where the model only had two clusters, a score of 0.356. Based on the two visualizations, the optimal number of clusters was two."
   ]
  },
  {
   "cell_type": "code",
   "execution_count": 45,
   "id": "f0bc8d01-f1ef-4ba0-bb43-a6225b1e193c",
   "metadata": {
    "tags": []
   },
   "outputs": [],
   "source": [
    "#Create empty lists for inertia and silhouette scores\n",
    "inertia = []\n",
    "silhouette = []\n",
    "\n",
    "#Loop through 'k' number of clusters to determine optimal cluster (Kamara, n.d.)\n",
    "for k in range(2,9):\n",
    "    model = KMeans(n_clusters=k, random_state=42)\n",
    "    model.fit(scaled_df)\n",
    "    inertia.append(model.inertia_)\n",
    "    silhouette.append(silhouette_score(scaled_df, model.labels_))"
   ]
  },
  {
   "cell_type": "code",
   "execution_count": 46,
   "id": "c8d52514-98d4-48d5-b24d-9601dccbc07c",
   "metadata": {
    "tags": []
   },
   "outputs": [
    {
     "data": {
      "image/png": "[encoded data removed]",
      "text/plain": [
       "<Figure size 640x480 with 1 Axes>"
      ]
     },
     "metadata": {},
     "output_type": "display_data"
    }
   ],
   "source": [
    "#Move the results into a Series object\n",
    "inertia_series = pd.Series(inertia, index=range(2,9))\n",
    "\n",
    "#Visualization of results\n",
    "sns.lineplot(x=inertia_series.index, y=inertia_series, marker='o')\n",
    "plt.title('Inertia of Clusters')\n",
    "plt.xlabel('Number of Clusters (k)')\n",
    "plt.ylabel('Inertia');"
   ]
  },
  {
   "cell_type": "code",
   "execution_count": 47,
   "id": "8f82595b-248d-404f-8263-dcbbe5a5c831",
   "metadata": {
    "tags": []
   },
   "outputs": [
    {
     "data": {
      "image/png": "[encoded data removed]",
      "text/plain": [
       "<Figure size 640x480 with 1 Axes>"
      ]
     },
     "metadata": {},
     "output_type": "display_data"
    }
   ],
   "source": [
    "#Move the results into a Series object\n",
    "silhouette_series = pd.Series(silhouette, index=range(2,9))\n",
    "\n",
    "#Visualization of results\n",
    "sns.lineplot(x=silhouette_series.index, y=silhouette_series, marker='o')\n",
    "plt.title('Silhouette Score of Clusters')\n",
    "plt.xlabel('Number of Clusters (k)')\n",
    "plt.ylabel('Score');"
   ]
  },
  {
   "cell_type": "code",
   "execution_count": 48,
   "id": "41deeb42-d718-48e1-9369-81059de267d0",
   "metadata": {
    "tags": []
   },
   "outputs": [
    {
     "name": "stdout",
     "output_type": "stream",
     "text": [
      "Best silhouette score: 0.35641538029035336\n"
     ]
    }
   ],
   "source": [
    "print('Best silhouette score:', silhouette_series[2])"
   ]
  },
  {
   "cell_type": "code",
   "execution_count": 49,
   "id": "a95cb2f4-140e-42c3-9f89-ab0597dcc07f",
   "metadata": {
    "tags": []
   },
   "outputs": [
    {
     "data": {
      "text/html": [
       "<div>\n",
       "<style scoped>\n",
       "    .dataframe tbody tr th:only-of-type {\n",
       "        vertical-align: middle;\n",
       "    }\n",
       "\n",
       "    .dataframe tbody tr th {\n",
       "        vertical-align: top;\n",
       "    }\n",
       "\n",
       "    .dataframe thead th {\n",
       "        text-align: right;\n",
       "    }\n",
       "</style>\n",
       "<table border=\"1\" class=\"dataframe\">\n",
       "  <thead>\n",
       "    <tr style=\"text-align: right;\">\n",
       "      <th></th>\n",
       "      <th>income</th>\n",
       "      <th>vit_d_level</th>\n",
       "      <th>initial_days</th>\n",
       "      <th>total_charge</th>\n",
       "      <th>additional_charges</th>\n",
       "    </tr>\n",
       "  </thead>\n",
       "  <tbody>\n",
       "    <tr>\n",
       "      <th>0</th>\n",
       "      <td>0.008639</td>\n",
       "      <td>0.006503</td>\n",
       "      <td>-0.958450</td>\n",
       "      <td>-0.946704</td>\n",
       "      <td>-0.005976</td>\n",
       "    </tr>\n",
       "    <tr>\n",
       "      <th>1</th>\n",
       "      <td>-0.008646</td>\n",
       "      <td>-0.006508</td>\n",
       "      <td>0.959217</td>\n",
       "      <td>0.947462</td>\n",
       "      <td>0.005981</td>\n",
       "    </tr>\n",
       "  </tbody>\n",
       "</table>\n",
       "</div>"
      ],
      "text/plain": [
       "     income  vit_d_level  initial_days  total_charge  additional_charges\n",
       "0  0.008639     0.006503     -0.958450     -0.946704           -0.005976\n",
       "1 -0.008646    -0.006508      0.959217      0.947462            0.005981"
      ]
     },
     "execution_count": 49,
     "metadata": {},
     "output_type": "execute_result"
    }
   ],
   "source": [
    "#Final model with optimal clusters\n",
    "model = KMeans(n_clusters=2, random_state=42)\n",
    "model.fit(scaled_df)\n",
    "\n",
    "#Model cluster centroids\n",
    "centroid = pd.DataFrame(model.cluster_centers_, columns=scaled_df.columns)\n",
    "centroid"
   ]
  },
  {
   "cell_type": "markdown",
   "id": "4171c37d-963b-4fd5-af5d-fb67bc6ecab1",
   "metadata": {},
   "source": [
    "<BR>"
   ]
  },
  {
   "cell_type": "markdown",
   "id": "54223339-7588-4491-85e9-cfdc4f302b18",
   "metadata": {},
   "source": [
    "## D2. Code Execution <a class=\"anchor\" id=\"D2\"></a>"
   ]
  },
  {
   "cell_type": "markdown",
   "id": "37d3fcb5-7a3c-4c66-a933-9cb87f265144",
   "metadata": {},
   "source": [
    "A copy of the code is submitted alongside the report, titled \"D212_Task_1_LY.ipynb.\""
   ]
  },
  {
   "cell_type": "markdown",
   "id": "99ddee4d-0fbb-42a7-b220-eef10da2e3ee",
   "metadata": {},
   "source": [
    "<BR>"
   ]
  },
  {
   "cell_type": "markdown",
   "id": "c277700a-cb7d-4ec1-9dd2-b749a455c4c0",
   "metadata": {},
   "source": [
    "## E1. Quality of the Clustering Technique <a class=\"anchor\" id=\"E1\"></a>"
   ]
  },
  {
   "cell_type": "markdown",
   "id": "a54ecd3a-ede6-4231-8974-03937e6a1a85",
   "metadata": {},
   "source": [
    "As previously stated, the silhouette score is one metric to evaluate the model. Again, the score range goes from -1 to 1, with the latter representing the best score. Negative scores indicate misassigned samples to clusters, near zero, indicate overlapping clusters, and higher positive scores indicate well-defined clusters (Silhouette_score, n.d.).\n",
    "\n",
    "The silhouette score of the best model was 0.356. While positive, the score is very much closer to zero than to one, indicating that, while there is some distinct clustering, there may be some overlap happening as well. Regarding the clustering technique, the quality of the clusters can be said to be decent but could be better."
   ]
  },
  {
   "cell_type": "markdown",
   "id": "4e56eaae-feab-44bd-b078-840b44d908a9",
   "metadata": {},
   "source": [
    "<BR>"
   ]
  },
  {
   "cell_type": "markdown",
   "id": "28dc8242-394e-4ca1-9054-b7814ee06477",
   "metadata": {},
   "source": [
    "## E2. Results and Implications <a class=\"anchor\" id=\"E2\"></a>"
   ]
  },
  {
   "cell_type": "markdown",
   "id": "269dd673-c15e-4a46-b085-d5233c26b9be",
   "metadata": {},
   "source": [
    "Based on the analysis results, the best model contained two clusters. Looking at the centroids of the best model produces an interesting finding in that the clusters contain values that are approximately the opposite of each other for every feature. For example, customers in Centroid 0 have a slightly higher income than average and have shorter than average hospital stays on their initial visit, along with lower charges. Patients in Cluster 1 are the opposite, where they lower income than average and have a more extended hospital stay on their initial visit, thus also being charged more.\n",
    "\n",
    "Although the model does yield some results, they should be taken cautiously as the evaluation metric does not rate the model well. With a silhouette score of 0.356, there are indications of clusters overlapping, producing doubts about the model's reliability. The data could be re-modeled with fewer features or another unsupervised technique employed, as the K-means clustering technique does suffer from higher dimensionality (Sharma, 2024)."
   ]
  },
  {
   "cell_type": "markdown",
   "id": "b6ebf9f5-726b-4865-bc5f-70c16325e804",
   "metadata": {},
   "source": [
    "<BR>"
   ]
  },
  {
   "cell_type": "markdown",
   "id": "ed12f609-eb79-4898-ae6b-1a574070e1ae",
   "metadata": {},
   "source": [
    "## E3. Limitation <a class=\"anchor\" id=\"E3\"></a>"
   ]
  },
  {
   "cell_type": "markdown",
   "id": "30120d09-aa8e-405a-94c3-dc646a579d77",
   "metadata": {},
   "source": [
    "One limitation of the analysis is that it is sensitive to outliers and noise. Although the features were scaled and standardized, outliers may persist in the data. Outliers present a limitation as these values can strongly influence how the clusters are formed. One example includes `income`, where values are over five standard deviations from the mean. Additionally, higher dimensional data can present problems as it can generate noise, which opens the opportunity to create clusters that don't necessarily represent the underlying patterns."
   ]
  },
  {
   "cell_type": "markdown",
   "id": "06dfd57f-d3ef-4a03-83c9-2d58863359d7",
   "metadata": {},
   "source": [
    "<BR>"
   ]
  },
  {
   "cell_type": "markdown",
   "id": "00dd5fd8-d327-45b8-8624-cd6677521ef7",
   "metadata": {},
   "source": [
    "## E4. Course of Action <a class=\"anchor\" id=\"E4\"></a>"
   ]
  },
  {
   "cell_type": "markdown",
   "id": "c948db51-dd96-4641-8c79-152555398144",
   "metadata": {},
   "source": [
    "Based on the analysis results, it is recommended that the data be re-modeled, possibly with fewer features, to counteract some of the noise in the data. If all features are to be kept, it is recommended that other unsupervised learning techniques be employed to counteract the dimensionality of the data. Lastly, the results can also be used to gain further insight into the patient population, such as looking at hospital readmissions for each cluster, albeit with some caution on the reliability of the results."
   ]
  },
  {
   "cell_type": "markdown",
   "id": "ff1e4a9c-2c15-4ca2-9a91-e7c5e459633d",
   "metadata": {},
   "source": [
    "<BR>"
   ]
  },
  {
   "cell_type": "markdown",
   "id": "c0124e2f-9d93-4306-b929-934d6b0d8c30",
   "metadata": {},
   "source": [
    "## F - F1. Panopto Video of Code/Programs <a class=\"anchor\" id=\"F\"></a>"
   ]
  },
  {
   "cell_type": "markdown",
   "id": "5fcea2cb-6da1-4645-b842-880c8b287854",
   "metadata": {},
   "source": [
    "A recording is submitted alongside the report and can also be found at: https://wgu.hosted.panopto.com/Panopto/Pages/Viewer.aspx?id=a0774ce7-5588-4eb4-8af3-b201014adb4e"
   ]
  },
  {
   "cell_type": "markdown",
   "id": "1d7b8c4f-da16-4dd6-80d7-6f0b54845ac4",
   "metadata": {},
   "source": [
    "<BR>"
   ]
  },
  {
   "cell_type": "markdown",
   "id": "23aa9557-cfcd-4668-82ea-7762135b693d",
   "metadata": {},
   "source": [
    "## G. Sources for Third-Party Code <a class=\"anchor\" id=\"G\"></a>"
   ]
  },
  {
   "cell_type": "markdown",
   "id": "438d0db1-5bbf-4d9b-aa8d-9626bf25843f",
   "metadata": {},
   "source": [
    "Kamara, K. (n.d.). Evaluating and visualizing the model. https://wgu.hosted.panopto.com/Panopto/Pages/Viewer.aspx?id=9fa8783e-d7d2-4b4d-b06e-b0ee01874bea "
   ]
  },
  {
   "cell_type": "markdown",
   "id": "a394ef80-3bc2-4797-a1c5-43616ce49724",
   "metadata": {},
   "source": [
    "<BR>"
   ]
  },
  {
   "cell_type": "markdown",
   "id": "eb63ee48-0c96-4350-904f-8a84ac3106e0",
   "metadata": {},
   "source": [
    "## H. Sources <a class=\"anchor\" id=\"H\"></a>"
   ]
  },
  {
   "cell_type": "markdown",
   "id": "6756e848-26c2-424a-843f-5a13086ad354",
   "metadata": {},
   "source": [
    "_K means Clustering - Introduction_. GeeksforGeeks. (2024, August 29). https://www.geeksforgeeks.org/k-means-clustering-introduction/ \n",
    "\n",
    "Sharma, N. (2024, April 15). _K-Means Clustering Explained_. neptune.ai. https://neptune.ai/blog/k-means-clustering \n",
    "\n",
    "_Silhouette_score_. scikit. (n.d.). https://scikit-learn.org/1.5/modules/generated/sklearn.metrics.silhouette_score.html "
   ]
  }
 ],
 "metadata": {
  "kernelspec": {
   "display_name": "Python 3 (ipykernel)",
   "language": "python",
   "name": "python3"
  },
  "language_info": {
   "codemirror_mode": {
    "name": "ipython",
    "version": 3
   },
   "file_extension": ".py",
   "mimetype": "text/x-python",
   "name": "python",
   "nbconvert_exporter": "python",
   "pygments_lexer": "ipython3",
   "version": "3.11.9"
  }
 },
 "nbformat": 4,
 "nbformat_minor": 5
}
